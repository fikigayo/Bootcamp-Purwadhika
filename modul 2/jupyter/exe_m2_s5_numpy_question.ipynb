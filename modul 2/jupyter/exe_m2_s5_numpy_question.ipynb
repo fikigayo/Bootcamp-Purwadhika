{
 "cells": [
  {
   "cell_type": "markdown",
   "metadata": {},
   "source": [
    "# Exercise Numpy"
   ]
  },
  {
   "attachments": {},
   "cell_type": "markdown",
   "metadata": {},
   "source": [
    "Jangan di-run all!. Lakukan run satu per satu pada tiap cell."
   ]
  },
  {
   "cell_type": "code",
   "execution_count": 3,
   "metadata": {},
   "outputs": [],
   "source": [
    "import numpy as np"
   ]
  },
  {
   "attachments": {},
   "cell_type": "markdown",
   "metadata": {},
   "source": [
    "<hr>\n",
    "\n",
    "### **Nomor 1**\n",
    "\n",
    "Buatlah sebuah array 1D dengan nama variable myArray yang terdiri dari 36 angka bilangan bulat acak antara 1 dan 100! (Gunakan seed=0)"
   ]
  },
  {
   "cell_type": "code",
   "execution_count": 4,
   "metadata": {},
   "outputs": [
    {
     "data": {
      "text/plain": [
       "array([ 45,  48,  65,  68,  68,  10,  84,  22,  37,  88,  71,  89,  89,\n",
       "        13,  59,  66,  40,  88,  47,  89,  82,  38,  26,  78,  73,  10,\n",
       "        21,  81,  70,  80,  48,  65,  83, 100,  89,  50])"
      ]
     },
     "execution_count": 4,
     "metadata": {},
     "output_type": "execute_result"
    }
   ],
   "source": [
    "np.random.seed(0)\n",
    "myArray = np.random.randint(1, 101, 36)\n",
    "myArray"
   ]
  },
  {
   "attachments": {},
   "cell_type": "markdown",
   "metadata": {},
   "source": [
    "<hr>\n",
    "\n",
    "### **Nomor 2**\n",
    "\n",
    "Ubahlah array tersebut (myArray) menjadi\n",
    "\n",
    "* array 2D dengan ukuran 2 x 18\n",
    "* array 2D dengan ukuran 9 x 4\n",
    "* array 3D dengan ukuran 2 x 6 X 3"
   ]
  },
  {
   "cell_type": "code",
   "execution_count": 5,
   "metadata": {},
   "outputs": [
    {
     "data": {
      "text/plain": [
       "array([[ 45,  48,  65,  68,  68,  10,  84,  22,  37,  88,  71,  89,  89,\n",
       "         13,  59,  66,  40,  88],\n",
       "       [ 47,  89,  82,  38,  26,  78,  73,  10,  21,  81,  70,  80,  48,\n",
       "         65,  83, 100,  89,  50]])"
      ]
     },
     "execution_count": 5,
     "metadata": {},
     "output_type": "execute_result"
    }
   ],
   "source": [
    "myArray.reshape(2,18)"
   ]
  },
  {
   "cell_type": "code",
   "execution_count": 6,
   "metadata": {},
   "outputs": [
    {
     "data": {
      "text/plain": [
       "array([[ 45,  48,  65,  68],\n",
       "       [ 68,  10,  84,  22],\n",
       "       [ 37,  88,  71,  89],\n",
       "       [ 89,  13,  59,  66],\n",
       "       [ 40,  88,  47,  89],\n",
       "       [ 82,  38,  26,  78],\n",
       "       [ 73,  10,  21,  81],\n",
       "       [ 70,  80,  48,  65],\n",
       "       [ 83, 100,  89,  50]])"
      ]
     },
     "execution_count": 6,
     "metadata": {},
     "output_type": "execute_result"
    }
   ],
   "source": [
    "myArray.reshape(9,4)"
   ]
  },
  {
   "cell_type": "code",
   "execution_count": 7,
   "metadata": {},
   "outputs": [
    {
     "data": {
      "text/plain": [
       "array([[[ 45,  48,  65],\n",
       "        [ 68,  68,  10],\n",
       "        [ 84,  22,  37],\n",
       "        [ 88,  71,  89],\n",
       "        [ 89,  13,  59],\n",
       "        [ 66,  40,  88]],\n",
       "\n",
       "       [[ 47,  89,  82],\n",
       "        [ 38,  26,  78],\n",
       "        [ 73,  10,  21],\n",
       "        [ 81,  70,  80],\n",
       "        [ 48,  65,  83],\n",
       "        [100,  89,  50]]])"
      ]
     },
     "execution_count": 7,
     "metadata": {},
     "output_type": "execute_result"
    }
   ],
   "source": [
    "myArray.reshape(2,6,3)"
   ]
  },
  {
   "attachments": {},
   "cell_type": "markdown",
   "metadata": {},
   "source": [
    "<hr>\n",
    "\n",
    "### **Nomor 3**\n",
    "\n",
    "Tentukan\n",
    "\n",
    "* nilai minimum dari array tersebut (myArray)\n",
    "* nilai maximum dari array tersebut (myArray)\n",
    "* posisi dari nilai minimum tersebut\n",
    "* posisi dari nilai maximum tersebut"
   ]
  },
  {
   "cell_type": "code",
   "execution_count": 8,
   "metadata": {},
   "outputs": [
    {
     "data": {
      "text/plain": [
       "10"
      ]
     },
     "execution_count": 8,
     "metadata": {},
     "output_type": "execute_result"
    }
   ],
   "source": [
    "np.min(myArray)\n"
   ]
  },
  {
   "cell_type": "code",
   "execution_count": 9,
   "metadata": {},
   "outputs": [
    {
     "data": {
      "text/plain": [
       "100"
      ]
     },
     "execution_count": 9,
     "metadata": {},
     "output_type": "execute_result"
    }
   ],
   "source": [
    "np.max(myArray)"
   ]
  },
  {
   "cell_type": "code",
   "execution_count": 10,
   "metadata": {},
   "outputs": [
    {
     "data": {
      "text/plain": [
       "5"
      ]
     },
     "execution_count": 10,
     "metadata": {},
     "output_type": "execute_result"
    }
   ],
   "source": [
    "np.argmin(myArray)"
   ]
  },
  {
   "cell_type": "code",
   "execution_count": 11,
   "metadata": {},
   "outputs": [
    {
     "data": {
      "text/plain": [
       "33"
      ]
     },
     "execution_count": 11,
     "metadata": {},
     "output_type": "execute_result"
    }
   ],
   "source": [
    "np.argmax(myArray)"
   ]
  },
  {
   "attachments": {},
   "cell_type": "markdown",
   "metadata": {},
   "source": [
    "<hr>\n",
    "\n",
    "### **Nomor 4**\n",
    "\n",
    "Buatlah array baru dengan nama variable new_array yang berisi 9 angka yang diambil dari data ke-3, 5, 30, 12, 15, 8, 24, 14, dan 22 dari myArray! \n",
    "\n",
    "Ubahlah array tersebut menjadi array 2D dengan ukuran 3 x 3 secara permanen!\n"
   ]
  },
  {
   "cell_type": "code",
   "execution_count": 12,
   "metadata": {},
   "outputs": [
    {
     "data": {
      "text/plain": [
       "array([[65, 68, 80],\n",
       "       [89, 59, 22],\n",
       "       [78, 13, 38]])"
      ]
     },
     "execution_count": 12,
     "metadata": {},
     "output_type": "execute_result"
    }
   ],
   "source": [
    "posisi = [2, 4, 29, 11, 14, 7, 23, 13, 21]\n",
    "nilai = myArray[posisi]\n",
    "\n",
    "new_array = np.array(nilai)\n",
    "new_array.reshape(3, 3)\n"
   ]
  },
  {
   "attachments": {},
   "cell_type": "markdown",
   "metadata": {},
   "source": [
    "<hr>\n",
    "\n",
    "### **Nomor 5**\n",
    "\n",
    "Tampilkan item pada new_array yang nilainya lebih besar dari 50!"
   ]
  },
  {
   "cell_type": "code",
   "execution_count": 13,
   "metadata": {},
   "outputs": [
    {
     "data": {
      "text/plain": [
       "array([65, 68, 80, 89, 59, 78])"
      ]
     },
     "execution_count": 13,
     "metadata": {},
     "output_type": "execute_result"
    }
   ],
   "source": [
    "new_array[new_array > 50]"
   ]
  },
  {
   "attachments": {},
   "cell_type": "markdown",
   "metadata": {},
   "source": [
    "<hr>\n",
    "\n",
    "### **Nomor 6**\n",
    "\n",
    "Buatlah sebuah array 1D yang berisi angka 0, 25, 50, 75, dan 100 menggunakan fungsi:\n",
    "\n",
    "* arange\n",
    "* linspace"
   ]
  },
  {
   "cell_type": "code",
   "execution_count": 14,
   "metadata": {},
   "outputs": [
    {
     "data": {
      "text/plain": [
       "array([  0,  25,  50,  75, 100])"
      ]
     },
     "execution_count": 14,
     "metadata": {},
     "output_type": "execute_result"
    }
   ],
   "source": [
    "np.arange(0,101,25)\n"
   ]
  },
  {
   "cell_type": "code",
   "execution_count": 15,
   "metadata": {},
   "outputs": [
    {
     "data": {
      "text/plain": [
       "array([  0,  25,  50,  75, 100])"
      ]
     },
     "execution_count": 15,
     "metadata": {},
     "output_type": "execute_result"
    }
   ],
   "source": [
    "np.linspace(0, 100, 5, dtype=int)"
   ]
  },
  {
   "attachments": {},
   "cell_type": "markdown",
   "metadata": {},
   "source": [
    "<hr>\n",
    "\n",
    "### **Nomor 7**\n",
    "\n",
    "Buatlah sebuah array 2D berukuran N X N yang semuanya berisi angka 8, dimana n merupakan bilangan asli yang besarnya dimintakan input kepada user!\n",
    "\n",
    "contoh :\\\n",
    "N yang diinput adalah: 2\n",
    "\n",
    "hasil :\\\n",
    "array([[8., 8.],\\\n",
    "&emsp;&emsp;&nbsp;&nbsp;&nbsp;[8., 8.]])"
   ]
  },
  {
   "cell_type": "code",
   "execution_count": 17,
   "metadata": {},
   "outputs": [
    {
     "data": {
      "text/plain": [
       "array([[8, 8],\n",
       "       [8, 8]])"
      ]
     },
     "execution_count": 17,
     "metadata": {},
     "output_type": "execute_result"
    }
   ],
   "source": [
    "n = 2\n",
    "np.full((n,n), 8)"
   ]
  },
  {
   "attachments": {},
   "cell_type": "markdown",
   "metadata": {},
   "source": [
    "<hr>\n",
    "\n",
    "### **Nomor 8**\n",
    "\n",
    "Buatlah array 2D dengan nama arrayA berukuran 3 x 4 dengan hasil sebagai berikut :"
   ]
  },
  {
   "cell_type": "code",
   "execution_count": null,
   "metadata": {},
   "outputs": [
    {
     "ename": "NameError",
     "evalue": "name 'np' is not defined",
     "output_type": "error",
     "traceback": [
      "\u001b[1;31m---------------------------------------------------------------------------\u001b[0m",
      "\u001b[1;31mNameError\u001b[0m                                 Traceback (most recent call last)",
      "Cell \u001b[1;32mIn[1], line 1\u001b[0m\n\u001b[1;32m----> 1\u001b[0m arrayA \u001b[38;5;241m=\u001b[39m np\u001b[38;5;241m.\u001b[39marray([[\u001b[38;5;241m1\u001b[39m,\u001b[38;5;241m2\u001b[39m,\u001b[38;5;241m3\u001b[39m,\u001b[38;5;241m4\u001b[39m],[\u001b[38;5;241m5\u001b[39m,\u001b[38;5;241m6\u001b[39m,\u001b[38;5;241m7\u001b[39m,\u001b[38;5;241m8\u001b[39m],[\u001b[38;5;241m9\u001b[39m,\u001b[38;5;241m10\u001b[39m,\u001b[38;5;241m11\u001b[39m,\u001b[38;5;241m12\u001b[39m]])\n\u001b[0;32m      2\u001b[0m arrayA\n",
      "\u001b[1;31mNameError\u001b[0m: name 'np' is not defined"
     ]
    }
   ],
   "source": [
    "arrayA = np.array([[1,2,3,4],[5,6,7,8],[9,10,11,12]])\n",
    "arrayA"
   ]
  },
  {
   "attachments": {},
   "cell_type": "markdown",
   "metadata": {},
   "source": [
    "Buatlah array 2D dengan nama arrayB berukuran 4 x 1 dengan hasil sebagai berikut :"
   ]
  },
  {
   "cell_type": "code",
   "execution_count": null,
   "metadata": {},
   "outputs": [],
   "source": []
  },
  {
   "attachments": {},
   "cell_type": "markdown",
   "metadata": {},
   "source": [
    "Gabungkanlah arrayA dan arrayB menjadi arrayC dengan hasil sebagai berikut:"
   ]
  },
  {
   "cell_type": "code",
   "execution_count": null,
   "metadata": {},
   "outputs": [],
   "source": []
  },
  {
   "attachments": {},
   "cell_type": "markdown",
   "metadata": {},
   "source": [
    "<hr>\n",
    "\n",
    "### **Nomor 9**\n",
    "\n",
    "Tampilkan hasil sebagai berikut dengan cara melakukan slicing pada arrayC!"
   ]
  },
  {
   "cell_type": "code",
   "execution_count": null,
   "metadata": {},
   "outputs": [],
   "source": []
  },
  {
   "attachments": {},
   "cell_type": "markdown",
   "metadata": {},
   "source": [
    "<hr>\n",
    "\n",
    "### **Nomor 10**\n",
    "\n",
    "Tampilkan hasil sebagai berikut dengan cara melakukan slicing pada arrayC!"
   ]
  },
  {
   "cell_type": "code",
   "execution_count": null,
   "metadata": {},
   "outputs": [],
   "source": []
  }
 ],
 "metadata": {
  "interpreter": {
   "hash": "7679c2132d3f6ce38c9df14d554b39c06862b36a4e6689c81f9ae15bd0911d7d"
  },
  "kernelspec": {
   "display_name": "Python 3.7.11 ('base')",
   "language": "python",
   "name": "python3"
  },
  "language_info": {
   "codemirror_mode": {
    "name": "ipython",
    "version": 3
   },
   "file_extension": ".py",
   "mimetype": "text/x-python",
   "name": "python",
   "nbconvert_exporter": "python",
   "pygments_lexer": "ipython3",
   "version": "3.11.7"
  },
  "orig_nbformat": 4
 },
 "nbformat": 4,
 "nbformat_minor": 2
}
