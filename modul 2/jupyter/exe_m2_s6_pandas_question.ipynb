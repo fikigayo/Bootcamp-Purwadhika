{
 "cells": [
  {
   "cell_type": "markdown",
   "metadata": {},
   "source": [
    "## **Latihan Pandas 1**\n",
    "\n",
    "## Jangan di-run! Buat file baru untuk menjawab"
   ]
  },
  {
   "cell_type": "markdown",
   "metadata": {},
   "source": [
    "**Membuat DataFrame**\n",
    "\n",
    "Ikuti semua petunjuk yang harus dilakukan di bawah ini."
   ]
  },
  {
   "cell_type": "markdown",
   "metadata": {},
   "source": [
    "**Step 1. Import library yang dibutuhkan.**"
   ]
  },
  {
   "cell_type": "code",
   "execution_count": 1,
   "metadata": {},
   "outputs": [],
   "source": [
    "import numpy as np\n",
    "import pandas as pd"
   ]
  },
  {
   "cell_type": "markdown",
   "metadata": {},
   "source": [
    "**Step 2. Buat dictionary untuk membuat DataFrame berjumlah 5 key dan masing-masing key memiliki value berupa list dengan 10 item. Isi dari dictionary  mengikuti output Step 3.**"
   ]
  },
  {
   "cell_type": "code",
   "execution_count": 4,
   "metadata": {},
   "outputs": [
    {
     "data": {
      "text/plain": [
       "{'Nama': ['Andi',\n",
       "  'Budi',\n",
       "  'Caca',\n",
       "  'Dedi',\n",
       "  'Erika',\n",
       "  'Fahri',\n",
       "  'Gina',\n",
       "  'Hani',\n",
       "  'Indro',\n",
       "  'Jarot'],\n",
       " 'Umur': [24, 25, 30, 32, 28, 24, 29, 31, 30, 29],\n",
       " 'Gender': ['Pria',\n",
       "  'Pria',\n",
       "  'Wanita',\n",
       "  'Pria',\n",
       "  'Wanita',\n",
       "  'Pria',\n",
       "  'Wanita',\n",
       "  'Wanita',\n",
       "  'Pria',\n",
       "  'Pria'],\n",
       " 'Pekerjaan': ['Data Analyst',\n",
       "  'Data Engineer',\n",
       "  'Data Scientist',\n",
       "  'Data Scientist',\n",
       "  'Data Analyst',\n",
       "  'Data Engineer',\n",
       "  'ML Engineer',\n",
       "  'ML Researcher',\n",
       "  'BI Analyst',\n",
       "  'Data Analyst'],\n",
       " 'Domisili': ['Jakarta',\n",
       "  'Tangerang Selatan',\n",
       "  'Jakarta',\n",
       "  'Bandung',\n",
       "  'Jakarta',\n",
       "  'Surabaya',\n",
       "  'Bandung',\n",
       "  'Yogyakarta',\n",
       "  'Jakarta',\n",
       "  'Tangerang Selatan']}"
      ]
     },
     "execution_count": 4,
     "metadata": {},
     "output_type": "execute_result"
    }
   ],
   "source": [
    "dict_student = {\n",
    "    'Nama': ['Andi', 'Budi', 'Caca', 'Dedi', 'Erika', 'Fahri', 'Gina', 'Hani', 'Indro', 'Jarot'],\n",
    "    'Umur': [24, 25, 30, 32, 28, 24, 29, 31, 30, 29],\n",
    "    'Gender': ['Pria', 'Pria', 'Wanita', 'Pria', 'Wanita', 'Pria', 'Wanita', 'Wanita', 'Pria', 'Pria'],\n",
    "    'Pekerjaan': ['Data Analyst', 'Data Engineer', 'Data Scientist', 'Data Scientist', 'Data Analyst', 'Data Engineer',\n",
    "    'ML Engineer', 'ML Researcher', 'BI Analyst', 'Data Analyst'],\n",
    "    'Domisili': ['Jakarta', 'Tangerang Selatan', 'Jakarta', 'Bandung', 'Jakarta', 'Surabaya',\n",
    "    'Bandung', 'Yogyakarta', 'Jakarta', 'Tangerang Selatan']\n",
    "}\n",
    "dict_student"
   ]
  },
  {
   "cell_type": "markdown",
   "metadata": {},
   "source": [
    "**Step 3. Ubah dictionary dari Step.2 menjadi bentuk DataFrame dan simpan ke dalam variabel baru bernama df.**"
   ]
  },
  {
   "cell_type": "code",
   "execution_count": 9,
   "metadata": {},
   "outputs": [
    {
     "data": {
      "text/html": [
       "<div>\n",
       "<style scoped>\n",
       "    .dataframe tbody tr th:only-of-type {\n",
       "        vertical-align: middle;\n",
       "    }\n",
       "\n",
       "    .dataframe tbody tr th {\n",
       "        vertical-align: top;\n",
       "    }\n",
       "\n",
       "    .dataframe thead th {\n",
       "        text-align: right;\n",
       "    }\n",
       "</style>\n",
       "<table border=\"1\" class=\"dataframe\">\n",
       "  <thead>\n",
       "    <tr style=\"text-align: right;\">\n",
       "      <th></th>\n",
       "      <th>Nama</th>\n",
       "      <th>Umur</th>\n",
       "      <th>Gender</th>\n",
       "      <th>Pekerjaan</th>\n",
       "      <th>Domisili</th>\n",
       "    </tr>\n",
       "  </thead>\n",
       "  <tbody>\n",
       "    <tr>\n",
       "      <th>0</th>\n",
       "      <td>Andi</td>\n",
       "      <td>24</td>\n",
       "      <td>Pria</td>\n",
       "      <td>Data Analyst</td>\n",
       "      <td>Jakarta</td>\n",
       "    </tr>\n",
       "    <tr>\n",
       "      <th>1</th>\n",
       "      <td>Budi</td>\n",
       "      <td>25</td>\n",
       "      <td>Pria</td>\n",
       "      <td>Data Engineer</td>\n",
       "      <td>Tangerang Selatan</td>\n",
       "    </tr>\n",
       "    <tr>\n",
       "      <th>2</th>\n",
       "      <td>Caca</td>\n",
       "      <td>30</td>\n",
       "      <td>Wanita</td>\n",
       "      <td>Data Scientist</td>\n",
       "      <td>Jakarta</td>\n",
       "    </tr>\n",
       "    <tr>\n",
       "      <th>3</th>\n",
       "      <td>Dedi</td>\n",
       "      <td>32</td>\n",
       "      <td>Pria</td>\n",
       "      <td>Data Scientist</td>\n",
       "      <td>Bandung</td>\n",
       "    </tr>\n",
       "    <tr>\n",
       "      <th>4</th>\n",
       "      <td>Erika</td>\n",
       "      <td>28</td>\n",
       "      <td>Wanita</td>\n",
       "      <td>Data Analyst</td>\n",
       "      <td>Jakarta</td>\n",
       "    </tr>\n",
       "    <tr>\n",
       "      <th>5</th>\n",
       "      <td>Fahri</td>\n",
       "      <td>24</td>\n",
       "      <td>Pria</td>\n",
       "      <td>Data Engineer</td>\n",
       "      <td>Surabaya</td>\n",
       "    </tr>\n",
       "    <tr>\n",
       "      <th>6</th>\n",
       "      <td>Gina</td>\n",
       "      <td>29</td>\n",
       "      <td>Wanita</td>\n",
       "      <td>ML Engineer</td>\n",
       "      <td>Bandung</td>\n",
       "    </tr>\n",
       "    <tr>\n",
       "      <th>7</th>\n",
       "      <td>Hani</td>\n",
       "      <td>31</td>\n",
       "      <td>Wanita</td>\n",
       "      <td>ML Researcher</td>\n",
       "      <td>Yogyakarta</td>\n",
       "    </tr>\n",
       "    <tr>\n",
       "      <th>8</th>\n",
       "      <td>Indro</td>\n",
       "      <td>30</td>\n",
       "      <td>Pria</td>\n",
       "      <td>BI Analyst</td>\n",
       "      <td>Jakarta</td>\n",
       "    </tr>\n",
       "    <tr>\n",
       "      <th>9</th>\n",
       "      <td>Jarot</td>\n",
       "      <td>29</td>\n",
       "      <td>Pria</td>\n",
       "      <td>Data Analyst</td>\n",
       "      <td>Tangerang Selatan</td>\n",
       "    </tr>\n",
       "  </tbody>\n",
       "</table>\n",
       "</div>"
      ],
      "text/plain": [
       "    Nama  Umur  Gender       Pekerjaan           Domisili\n",
       "0   Andi    24    Pria    Data Analyst            Jakarta\n",
       "1   Budi    25    Pria   Data Engineer  Tangerang Selatan\n",
       "2   Caca    30  Wanita  Data Scientist            Jakarta\n",
       "3   Dedi    32    Pria  Data Scientist            Bandung\n",
       "4  Erika    28  Wanita    Data Analyst            Jakarta\n",
       "5  Fahri    24    Pria   Data Engineer           Surabaya\n",
       "6   Gina    29  Wanita     ML Engineer            Bandung\n",
       "7   Hani    31  Wanita   ML Researcher         Yogyakarta\n",
       "8  Indro    30    Pria      BI Analyst            Jakarta\n",
       "9  Jarot    29    Pria    Data Analyst  Tangerang Selatan"
      ]
     },
     "execution_count": 9,
     "metadata": {},
     "output_type": "execute_result"
    }
   ],
   "source": [
    "df = pd.DataFrame(dict_student)\n",
    "df"
   ]
  },
  {
   "cell_type": "markdown",
   "metadata": {},
   "source": [
    "**Step 4. Ubah urutan kolom tersebut menjadi seperti berikut: Nama, Gender, Umur, Domisili, Pekerjaan.**\n",
    "\n"
   ]
  },
  {
   "cell_type": "code",
   "execution_count": 12,
   "metadata": {},
   "outputs": [
    {
     "data": {
      "text/html": [
       "<div>\n",
       "<style scoped>\n",
       "    .dataframe tbody tr th:only-of-type {\n",
       "        vertical-align: middle;\n",
       "    }\n",
       "\n",
       "    .dataframe tbody tr th {\n",
       "        vertical-align: top;\n",
       "    }\n",
       "\n",
       "    .dataframe thead th {\n",
       "        text-align: right;\n",
       "    }\n",
       "</style>\n",
       "<table border=\"1\" class=\"dataframe\">\n",
       "  <thead>\n",
       "    <tr style=\"text-align: right;\">\n",
       "      <th></th>\n",
       "      <th>Nama</th>\n",
       "      <th>Gender</th>\n",
       "      <th>Umur</th>\n",
       "      <th>Domisili</th>\n",
       "      <th>Pekerjaan</th>\n",
       "    </tr>\n",
       "  </thead>\n",
       "  <tbody>\n",
       "    <tr>\n",
       "      <th>0</th>\n",
       "      <td>Andi</td>\n",
       "      <td>Pria</td>\n",
       "      <td>24</td>\n",
       "      <td>Jakarta</td>\n",
       "      <td>Data Analyst</td>\n",
       "    </tr>\n",
       "    <tr>\n",
       "      <th>1</th>\n",
       "      <td>Budi</td>\n",
       "      <td>Pria</td>\n",
       "      <td>25</td>\n",
       "      <td>Tangerang Selatan</td>\n",
       "      <td>Data Engineer</td>\n",
       "    </tr>\n",
       "    <tr>\n",
       "      <th>2</th>\n",
       "      <td>Caca</td>\n",
       "      <td>Wanita</td>\n",
       "      <td>30</td>\n",
       "      <td>Jakarta</td>\n",
       "      <td>Data Scientist</td>\n",
       "    </tr>\n",
       "    <tr>\n",
       "      <th>3</th>\n",
       "      <td>Dedi</td>\n",
       "      <td>Pria</td>\n",
       "      <td>32</td>\n",
       "      <td>Bandung</td>\n",
       "      <td>Data Scientist</td>\n",
       "    </tr>\n",
       "    <tr>\n",
       "      <th>4</th>\n",
       "      <td>Erika</td>\n",
       "      <td>Wanita</td>\n",
       "      <td>28</td>\n",
       "      <td>Jakarta</td>\n",
       "      <td>Data Analyst</td>\n",
       "    </tr>\n",
       "    <tr>\n",
       "      <th>5</th>\n",
       "      <td>Fahri</td>\n",
       "      <td>Pria</td>\n",
       "      <td>24</td>\n",
       "      <td>Surabaya</td>\n",
       "      <td>Data Engineer</td>\n",
       "    </tr>\n",
       "    <tr>\n",
       "      <th>6</th>\n",
       "      <td>Gina</td>\n",
       "      <td>Wanita</td>\n",
       "      <td>29</td>\n",
       "      <td>Bandung</td>\n",
       "      <td>ML Engineer</td>\n",
       "    </tr>\n",
       "    <tr>\n",
       "      <th>7</th>\n",
       "      <td>Hani</td>\n",
       "      <td>Wanita</td>\n",
       "      <td>31</td>\n",
       "      <td>Yogyakarta</td>\n",
       "      <td>ML Researcher</td>\n",
       "    </tr>\n",
       "    <tr>\n",
       "      <th>8</th>\n",
       "      <td>Indro</td>\n",
       "      <td>Pria</td>\n",
       "      <td>30</td>\n",
       "      <td>Jakarta</td>\n",
       "      <td>BI Analyst</td>\n",
       "    </tr>\n",
       "    <tr>\n",
       "      <th>9</th>\n",
       "      <td>Jarot</td>\n",
       "      <td>Pria</td>\n",
       "      <td>29</td>\n",
       "      <td>Tangerang Selatan</td>\n",
       "      <td>Data Analyst</td>\n",
       "    </tr>\n",
       "  </tbody>\n",
       "</table>\n",
       "</div>"
      ],
      "text/plain": [
       "    Nama  Gender  Umur           Domisili       Pekerjaan\n",
       "0   Andi    Pria    24            Jakarta    Data Analyst\n",
       "1   Budi    Pria    25  Tangerang Selatan   Data Engineer\n",
       "2   Caca  Wanita    30            Jakarta  Data Scientist\n",
       "3   Dedi    Pria    32            Bandung  Data Scientist\n",
       "4  Erika  Wanita    28            Jakarta    Data Analyst\n",
       "5  Fahri    Pria    24           Surabaya   Data Engineer\n",
       "6   Gina  Wanita    29            Bandung     ML Engineer\n",
       "7   Hani  Wanita    31         Yogyakarta   ML Researcher\n",
       "8  Indro    Pria    30            Jakarta      BI Analyst\n",
       "9  Jarot    Pria    29  Tangerang Selatan    Data Analyst"
      ]
     },
     "execution_count": 12,
     "metadata": {},
     "output_type": "execute_result"
    }
   ],
   "source": [
    "df_urut = df[['Nama', 'Gender', 'Umur', 'Domisili', 'Pekerjaan']]\n",
    "df_urut"
   ]
  },
  {
   "cell_type": "markdown",
   "metadata": {},
   "source": [
    "**Step 5. Tambahkan 1 kolom baru bernama 'Hobi' dan isikan datanya seperti output berikut.**"
   ]
  },
  {
   "cell_type": "code",
   "execution_count": 16,
   "metadata": {},
   "outputs": [
    {
     "data": {
      "text/html": [
       "<div>\n",
       "<style scoped>\n",
       "    .dataframe tbody tr th:only-of-type {\n",
       "        vertical-align: middle;\n",
       "    }\n",
       "\n",
       "    .dataframe tbody tr th {\n",
       "        vertical-align: top;\n",
       "    }\n",
       "\n",
       "    .dataframe thead th {\n",
       "        text-align: right;\n",
       "    }\n",
       "</style>\n",
       "<table border=\"1\" class=\"dataframe\">\n",
       "  <thead>\n",
       "    <tr style=\"text-align: right;\">\n",
       "      <th></th>\n",
       "      <th>Nama</th>\n",
       "      <th>Umur</th>\n",
       "      <th>Gender</th>\n",
       "      <th>Pekerjaan</th>\n",
       "      <th>Domisili</th>\n",
       "      <th>Hobi</th>\n",
       "    </tr>\n",
       "  </thead>\n",
       "  <tbody>\n",
       "    <tr>\n",
       "      <th>0</th>\n",
       "      <td>Andi</td>\n",
       "      <td>24</td>\n",
       "      <td>Pria</td>\n",
       "      <td>Data Analyst</td>\n",
       "      <td>Jakarta</td>\n",
       "      <td>Gaming</td>\n",
       "    </tr>\n",
       "    <tr>\n",
       "      <th>1</th>\n",
       "      <td>Budi</td>\n",
       "      <td>25</td>\n",
       "      <td>Pria</td>\n",
       "      <td>Data Engineer</td>\n",
       "      <td>Tangerang Selatan</td>\n",
       "      <td>Futsal</td>\n",
       "    </tr>\n",
       "    <tr>\n",
       "      <th>2</th>\n",
       "      <td>Caca</td>\n",
       "      <td>30</td>\n",
       "      <td>Wanita</td>\n",
       "      <td>Data Scientist</td>\n",
       "      <td>Jakarta</td>\n",
       "      <td>Baca</td>\n",
       "    </tr>\n",
       "    <tr>\n",
       "      <th>3</th>\n",
       "      <td>Dedi</td>\n",
       "      <td>32</td>\n",
       "      <td>Pria</td>\n",
       "      <td>Data Scientist</td>\n",
       "      <td>Bandung</td>\n",
       "      <td>Gaming</td>\n",
       "    </tr>\n",
       "    <tr>\n",
       "      <th>4</th>\n",
       "      <td>Erika</td>\n",
       "      <td>28</td>\n",
       "      <td>Wanita</td>\n",
       "      <td>Data Analyst</td>\n",
       "      <td>Jakarta</td>\n",
       "      <td>Masak</td>\n",
       "    </tr>\n",
       "    <tr>\n",
       "      <th>5</th>\n",
       "      <td>Fahri</td>\n",
       "      <td>24</td>\n",
       "      <td>Pria</td>\n",
       "      <td>Data Engineer</td>\n",
       "      <td>Surabaya</td>\n",
       "      <td>Traveling</td>\n",
       "    </tr>\n",
       "    <tr>\n",
       "      <th>6</th>\n",
       "      <td>Gina</td>\n",
       "      <td>29</td>\n",
       "      <td>Wanita</td>\n",
       "      <td>ML Engineer</td>\n",
       "      <td>Bandung</td>\n",
       "      <td>Basket</td>\n",
       "    </tr>\n",
       "    <tr>\n",
       "      <th>7</th>\n",
       "      <td>Hani</td>\n",
       "      <td>31</td>\n",
       "      <td>Wanita</td>\n",
       "      <td>ML Researcher</td>\n",
       "      <td>Yogyakarta</td>\n",
       "      <td>Traveling</td>\n",
       "    </tr>\n",
       "    <tr>\n",
       "      <th>8</th>\n",
       "      <td>Indro</td>\n",
       "      <td>30</td>\n",
       "      <td>Pria</td>\n",
       "      <td>BI Analyst</td>\n",
       "      <td>Jakarta</td>\n",
       "      <td>Gaming</td>\n",
       "    </tr>\n",
       "    <tr>\n",
       "      <th>9</th>\n",
       "      <td>Jarot</td>\n",
       "      <td>29</td>\n",
       "      <td>Pria</td>\n",
       "      <td>Data Analyst</td>\n",
       "      <td>Tangerang Selatan</td>\n",
       "      <td>Futsal</td>\n",
       "    </tr>\n",
       "  </tbody>\n",
       "</table>\n",
       "</div>"
      ],
      "text/plain": [
       "    Nama  Umur  Gender       Pekerjaan           Domisili       Hobi\n",
       "0   Andi    24    Pria    Data Analyst            Jakarta     Gaming\n",
       "1   Budi    25    Pria   Data Engineer  Tangerang Selatan     Futsal\n",
       "2   Caca    30  Wanita  Data Scientist            Jakarta       Baca\n",
       "3   Dedi    32    Pria  Data Scientist            Bandung     Gaming\n",
       "4  Erika    28  Wanita    Data Analyst            Jakarta      Masak\n",
       "5  Fahri    24    Pria   Data Engineer           Surabaya  Traveling\n",
       "6   Gina    29  Wanita     ML Engineer            Bandung     Basket\n",
       "7   Hani    31  Wanita   ML Researcher         Yogyakarta  Traveling\n",
       "8  Indro    30    Pria      BI Analyst            Jakarta     Gaming\n",
       "9  Jarot    29    Pria    Data Analyst  Tangerang Selatan     Futsal"
      ]
     },
     "execution_count": 16,
     "metadata": {},
     "output_type": "execute_result"
    }
   ],
   "source": [
    "list_hoby = ['Gaming', 'Futsal', 'Baca', 'Gaming', 'Masak', 'Traveling', 'Basket', 'Traveling', 'Gaming', 'Futsal']\n",
    "df['Hobi'] = list_hoby\n",
    "df"
   ]
  },
  {
   "cell_type": "markdown",
   "metadata": {},
   "source": [
    "**Soal Lanjutan**"
   ]
  },
  {
   "cell_type": "markdown",
   "metadata": {},
   "source": [
    "**6. Gunakan .iloc untuk mengambil data Dedi, Fahri, Hani**"
   ]
  },
  {
   "cell_type": "code",
   "execution_count": 18,
   "metadata": {},
   "outputs": [
    {
     "data": {
      "text/html": [
       "<div>\n",
       "<style scoped>\n",
       "    .dataframe tbody tr th:only-of-type {\n",
       "        vertical-align: middle;\n",
       "    }\n",
       "\n",
       "    .dataframe tbody tr th {\n",
       "        vertical-align: top;\n",
       "    }\n",
       "\n",
       "    .dataframe thead th {\n",
       "        text-align: right;\n",
       "    }\n",
       "</style>\n",
       "<table border=\"1\" class=\"dataframe\">\n",
       "  <thead>\n",
       "    <tr style=\"text-align: right;\">\n",
       "      <th></th>\n",
       "      <th>Nama</th>\n",
       "      <th>Umur</th>\n",
       "      <th>Gender</th>\n",
       "      <th>Pekerjaan</th>\n",
       "      <th>Domisili</th>\n",
       "      <th>Hobi</th>\n",
       "    </tr>\n",
       "  </thead>\n",
       "  <tbody>\n",
       "    <tr>\n",
       "      <th>3</th>\n",
       "      <td>Dedi</td>\n",
       "      <td>32</td>\n",
       "      <td>Pria</td>\n",
       "      <td>Data Scientist</td>\n",
       "      <td>Bandung</td>\n",
       "      <td>Gaming</td>\n",
       "    </tr>\n",
       "    <tr>\n",
       "      <th>5</th>\n",
       "      <td>Fahri</td>\n",
       "      <td>24</td>\n",
       "      <td>Pria</td>\n",
       "      <td>Data Engineer</td>\n",
       "      <td>Surabaya</td>\n",
       "      <td>Traveling</td>\n",
       "    </tr>\n",
       "    <tr>\n",
       "      <th>7</th>\n",
       "      <td>Hani</td>\n",
       "      <td>31</td>\n",
       "      <td>Wanita</td>\n",
       "      <td>ML Researcher</td>\n",
       "      <td>Yogyakarta</td>\n",
       "      <td>Traveling</td>\n",
       "    </tr>\n",
       "  </tbody>\n",
       "</table>\n",
       "</div>"
      ],
      "text/plain": [
       "    Nama  Umur  Gender       Pekerjaan    Domisili       Hobi\n",
       "3   Dedi    32    Pria  Data Scientist     Bandung     Gaming\n",
       "5  Fahri    24    Pria   Data Engineer    Surabaya  Traveling\n",
       "7   Hani    31  Wanita   ML Researcher  Yogyakarta  Traveling"
      ]
     },
     "execution_count": 18,
     "metadata": {},
     "output_type": "execute_result"
    }
   ],
   "source": [
    "df.iloc[3:8:2]"
   ]
  },
  {
   "cell_type": "markdown",
   "metadata": {},
   "source": [
    "**7. Gunakan .loc untuk menampilkan domisili dan pekerjaan dari Caca dan Irja (termasuk kolom nama)**\n"
   ]
  },
  {
   "cell_type": "code",
   "execution_count": 48,
   "metadata": {},
   "outputs": [
    {
     "data": {
      "text/html": [
       "<div>\n",
       "<style scoped>\n",
       "    .dataframe tbody tr th:only-of-type {\n",
       "        vertical-align: middle;\n",
       "    }\n",
       "\n",
       "    .dataframe tbody tr th {\n",
       "        vertical-align: top;\n",
       "    }\n",
       "\n",
       "    .dataframe thead th {\n",
       "        text-align: right;\n",
       "    }\n",
       "</style>\n",
       "<table border=\"1\" class=\"dataframe\">\n",
       "  <thead>\n",
       "    <tr style=\"text-align: right;\">\n",
       "      <th></th>\n",
       "      <th>Nama</th>\n",
       "      <th>Domisili</th>\n",
       "      <th>Pekerjaan</th>\n",
       "    </tr>\n",
       "  </thead>\n",
       "  <tbody>\n",
       "    <tr>\n",
       "      <th>2</th>\n",
       "      <td>Caca</td>\n",
       "      <td>Jakarta</td>\n",
       "      <td>Data Scientist</td>\n",
       "    </tr>\n",
       "    <tr>\n",
       "      <th>8</th>\n",
       "      <td>Indro</td>\n",
       "      <td>Jakarta</td>\n",
       "      <td>BI Analyst</td>\n",
       "    </tr>\n",
       "  </tbody>\n",
       "</table>\n",
       "</div>"
      ],
      "text/plain": [
       "    Nama Domisili       Pekerjaan\n",
       "2   Caca  Jakarta  Data Scientist\n",
       "8  Indro  Jakarta      BI Analyst"
      ]
     },
     "execution_count": 48,
     "metadata": {},
     "output_type": "execute_result"
    }
   ],
   "source": [
    "# df.iloc[2:8:6,3:5]\n",
    "df[['Nama','Domisili','Pekerjaan']].loc[[2,8]]"
   ]
  },
  {
   "cell_type": "markdown",
   "metadata": {},
   "source": [
    "**8. Gunakan .loc untuk menampilkan semua data dari Hani, Irja, Jarot**"
   ]
  },
  {
   "cell_type": "code",
   "execution_count": 35,
   "metadata": {},
   "outputs": [
    {
     "data": {
      "text/html": [
       "<div>\n",
       "<style scoped>\n",
       "    .dataframe tbody tr th:only-of-type {\n",
       "        vertical-align: middle;\n",
       "    }\n",
       "\n",
       "    .dataframe tbody tr th {\n",
       "        vertical-align: top;\n",
       "    }\n",
       "\n",
       "    .dataframe thead th {\n",
       "        text-align: right;\n",
       "    }\n",
       "</style>\n",
       "<table border=\"1\" class=\"dataframe\">\n",
       "  <thead>\n",
       "    <tr style=\"text-align: right;\">\n",
       "      <th></th>\n",
       "      <th>Nama</th>\n",
       "      <th>Umur</th>\n",
       "      <th>Gender</th>\n",
       "      <th>Pekerjaan</th>\n",
       "      <th>Domisili</th>\n",
       "      <th>Hobi</th>\n",
       "    </tr>\n",
       "  </thead>\n",
       "  <tbody>\n",
       "    <tr>\n",
       "      <th>7</th>\n",
       "      <td>Hani</td>\n",
       "      <td>31</td>\n",
       "      <td>Wanita</td>\n",
       "      <td>ML Researcher</td>\n",
       "      <td>Yogyakarta</td>\n",
       "      <td>Traveling</td>\n",
       "    </tr>\n",
       "    <tr>\n",
       "      <th>8</th>\n",
       "      <td>Indro</td>\n",
       "      <td>30</td>\n",
       "      <td>Pria</td>\n",
       "      <td>BI Analyst</td>\n",
       "      <td>Jakarta</td>\n",
       "      <td>Gaming</td>\n",
       "    </tr>\n",
       "    <tr>\n",
       "      <th>9</th>\n",
       "      <td>Jarot</td>\n",
       "      <td>29</td>\n",
       "      <td>Pria</td>\n",
       "      <td>Data Analyst</td>\n",
       "      <td>Tangerang Selatan</td>\n",
       "      <td>Futsal</td>\n",
       "    </tr>\n",
       "  </tbody>\n",
       "</table>\n",
       "</div>"
      ],
      "text/plain": [
       "    Nama  Umur  Gender      Pekerjaan           Domisili       Hobi\n",
       "7   Hani    31  Wanita  ML Researcher         Yogyakarta  Traveling\n",
       "8  Indro    30    Pria     BI Analyst            Jakarta     Gaming\n",
       "9  Jarot    29    Pria   Data Analyst  Tangerang Selatan     Futsal"
      ]
     },
     "execution_count": 35,
     "metadata": {},
     "output_type": "execute_result"
    }
   ],
   "source": [
    "df.iloc[7:,:]"
   ]
  },
  {
   "cell_type": "markdown",
   "metadata": {},
   "source": [
    "**9. Siapa sajakah yang berumur lebih dari 30 tahun?**"
   ]
  },
  {
   "cell_type": "code",
   "execution_count": 40,
   "metadata": {},
   "outputs": [
    {
     "data": {
      "text/html": [
       "<div>\n",
       "<style scoped>\n",
       "    .dataframe tbody tr th:only-of-type {\n",
       "        vertical-align: middle;\n",
       "    }\n",
       "\n",
       "    .dataframe tbody tr th {\n",
       "        vertical-align: top;\n",
       "    }\n",
       "\n",
       "    .dataframe thead th {\n",
       "        text-align: right;\n",
       "    }\n",
       "</style>\n",
       "<table border=\"1\" class=\"dataframe\">\n",
       "  <thead>\n",
       "    <tr style=\"text-align: right;\">\n",
       "      <th></th>\n",
       "      <th>Nama</th>\n",
       "      <th>Umur</th>\n",
       "      <th>Gender</th>\n",
       "      <th>Pekerjaan</th>\n",
       "      <th>Domisili</th>\n",
       "      <th>Hobi</th>\n",
       "    </tr>\n",
       "  </thead>\n",
       "  <tbody>\n",
       "    <tr>\n",
       "      <th>3</th>\n",
       "      <td>Dedi</td>\n",
       "      <td>32</td>\n",
       "      <td>Pria</td>\n",
       "      <td>Data Scientist</td>\n",
       "      <td>Bandung</td>\n",
       "      <td>Gaming</td>\n",
       "    </tr>\n",
       "    <tr>\n",
       "      <th>7</th>\n",
       "      <td>Hani</td>\n",
       "      <td>31</td>\n",
       "      <td>Wanita</td>\n",
       "      <td>ML Researcher</td>\n",
       "      <td>Yogyakarta</td>\n",
       "      <td>Traveling</td>\n",
       "    </tr>\n",
       "  </tbody>\n",
       "</table>\n",
       "</div>"
      ],
      "text/plain": [
       "   Nama  Umur  Gender       Pekerjaan    Domisili       Hobi\n",
       "3  Dedi    32    Pria  Data Scientist     Bandung     Gaming\n",
       "7  Hani    31  Wanita   ML Researcher  Yogyakarta  Traveling"
      ]
     },
     "execution_count": 40,
     "metadata": {},
     "output_type": "execute_result"
    }
   ],
   "source": [
    "df[df['Umur']>30]"
   ]
  },
  {
   "cell_type": "markdown",
   "metadata": {},
   "source": [
    "**10. Siapa sajakah yang berumur kurang dari 30 tahun dan hobinya Gaming?**"
   ]
  },
  {
   "cell_type": "code",
   "execution_count": 41,
   "metadata": {},
   "outputs": [
    {
     "data": {
      "text/html": [
       "<div>\n",
       "<style scoped>\n",
       "    .dataframe tbody tr th:only-of-type {\n",
       "        vertical-align: middle;\n",
       "    }\n",
       "\n",
       "    .dataframe tbody tr th {\n",
       "        vertical-align: top;\n",
       "    }\n",
       "\n",
       "    .dataframe thead th {\n",
       "        text-align: right;\n",
       "    }\n",
       "</style>\n",
       "<table border=\"1\" class=\"dataframe\">\n",
       "  <thead>\n",
       "    <tr style=\"text-align: right;\">\n",
       "      <th></th>\n",
       "      <th>Nama</th>\n",
       "      <th>Umur</th>\n",
       "      <th>Gender</th>\n",
       "      <th>Pekerjaan</th>\n",
       "      <th>Domisili</th>\n",
       "      <th>Hobi</th>\n",
       "    </tr>\n",
       "  </thead>\n",
       "  <tbody>\n",
       "    <tr>\n",
       "      <th>0</th>\n",
       "      <td>Andi</td>\n",
       "      <td>24</td>\n",
       "      <td>Pria</td>\n",
       "      <td>Data Analyst</td>\n",
       "      <td>Jakarta</td>\n",
       "      <td>Gaming</td>\n",
       "    </tr>\n",
       "  </tbody>\n",
       "</table>\n",
       "</div>"
      ],
      "text/plain": [
       "   Nama  Umur Gender     Pekerjaan Domisili    Hobi\n",
       "0  Andi    24   Pria  Data Analyst  Jakarta  Gaming"
      ]
     },
     "execution_count": 41,
     "metadata": {},
     "output_type": "execute_result"
    }
   ],
   "source": [
    "df[(df['Umur']<30) & (df['Hobi']=='Gaming')]"
   ]
  },
  {
   "cell_type": "markdown",
   "metadata": {},
   "source": [
    "**11. Tampilkan nama orang yang pekerjaannya adalah Data Analyst! Tampilkan kolom nama saja dalam bentuk Series!**"
   ]
  },
  {
   "cell_type": "code",
   "execution_count": 50,
   "metadata": {},
   "outputs": [
    {
     "data": {
      "text/html": [
       "<div>\n",
       "<style scoped>\n",
       "    .dataframe tbody tr th:only-of-type {\n",
       "        vertical-align: middle;\n",
       "    }\n",
       "\n",
       "    .dataframe tbody tr th {\n",
       "        vertical-align: top;\n",
       "    }\n",
       "\n",
       "    .dataframe thead th {\n",
       "        text-align: right;\n",
       "    }\n",
       "</style>\n",
       "<table border=\"1\" class=\"dataframe\">\n",
       "  <thead>\n",
       "    <tr style=\"text-align: right;\">\n",
       "      <th></th>\n",
       "      <th>Nama</th>\n",
       "    </tr>\n",
       "  </thead>\n",
       "  <tbody>\n",
       "    <tr>\n",
       "      <th>0</th>\n",
       "      <td>Andi</td>\n",
       "    </tr>\n",
       "    <tr>\n",
       "      <th>4</th>\n",
       "      <td>Erika</td>\n",
       "    </tr>\n",
       "    <tr>\n",
       "      <th>9</th>\n",
       "      <td>Jarot</td>\n",
       "    </tr>\n",
       "  </tbody>\n",
       "</table>\n",
       "</div>"
      ],
      "text/plain": [
       "    Nama\n",
       "0   Andi\n",
       "4  Erika\n",
       "9  Jarot"
      ]
     },
     "execution_count": 50,
     "metadata": {},
     "output_type": "execute_result"
    }
   ],
   "source": [
    "df[df['Pekerjaan']=='Data Analyst'][['Nama']] #kurung sikunya 2 ya gaes"
   ]
  },
  {
   "cell_type": "markdown",
   "metadata": {},
   "source": [
    "**12. Apa saja pekerjaan orang-orang yang berdomisili di Jakarta? Tampilkan nama dan pekerjaannya!**"
   ]
  },
  {
   "cell_type": "code",
   "execution_count": 51,
   "metadata": {},
   "outputs": [
    {
     "data": {
      "text/html": [
       "<div>\n",
       "<style scoped>\n",
       "    .dataframe tbody tr th:only-of-type {\n",
       "        vertical-align: middle;\n",
       "    }\n",
       "\n",
       "    .dataframe tbody tr th {\n",
       "        vertical-align: top;\n",
       "    }\n",
       "\n",
       "    .dataframe thead th {\n",
       "        text-align: right;\n",
       "    }\n",
       "</style>\n",
       "<table border=\"1\" class=\"dataframe\">\n",
       "  <thead>\n",
       "    <tr style=\"text-align: right;\">\n",
       "      <th></th>\n",
       "      <th>Nama</th>\n",
       "      <th>Pekerjaan</th>\n",
       "    </tr>\n",
       "  </thead>\n",
       "  <tbody>\n",
       "    <tr>\n",
       "      <th>0</th>\n",
       "      <td>Andi</td>\n",
       "      <td>Data Analyst</td>\n",
       "    </tr>\n",
       "    <tr>\n",
       "      <th>2</th>\n",
       "      <td>Caca</td>\n",
       "      <td>Data Scientist</td>\n",
       "    </tr>\n",
       "    <tr>\n",
       "      <th>4</th>\n",
       "      <td>Erika</td>\n",
       "      <td>Data Analyst</td>\n",
       "    </tr>\n",
       "    <tr>\n",
       "      <th>8</th>\n",
       "      <td>Indro</td>\n",
       "      <td>BI Analyst</td>\n",
       "    </tr>\n",
       "  </tbody>\n",
       "</table>\n",
       "</div>"
      ],
      "text/plain": [
       "    Nama       Pekerjaan\n",
       "0   Andi    Data Analyst\n",
       "2   Caca  Data Scientist\n",
       "4  Erika    Data Analyst\n",
       "8  Indro      BI Analyst"
      ]
     },
     "execution_count": 51,
     "metadata": {},
     "output_type": "execute_result"
    }
   ],
   "source": [
    "df[df['Domisili']=='Jakarta'][['Nama','Pekerjaan']]"
   ]
  },
  {
   "cell_type": "markdown",
   "metadata": {},
   "source": [
    "**13. Apa saja hobi para wanita yang ada di data? Tampilkan hanya kolom Nama, Hobi, Umur secara berurutan!**"
   ]
  },
  {
   "cell_type": "code",
   "execution_count": 53,
   "metadata": {},
   "outputs": [
    {
     "data": {
      "text/html": [
       "<div>\n",
       "<style scoped>\n",
       "    .dataframe tbody tr th:only-of-type {\n",
       "        vertical-align: middle;\n",
       "    }\n",
       "\n",
       "    .dataframe tbody tr th {\n",
       "        vertical-align: top;\n",
       "    }\n",
       "\n",
       "    .dataframe thead th {\n",
       "        text-align: right;\n",
       "    }\n",
       "</style>\n",
       "<table border=\"1\" class=\"dataframe\">\n",
       "  <thead>\n",
       "    <tr style=\"text-align: right;\">\n",
       "      <th></th>\n",
       "      <th>Nama</th>\n",
       "      <th>Hobi</th>\n",
       "      <th>Umur</th>\n",
       "    </tr>\n",
       "  </thead>\n",
       "  <tbody>\n",
       "    <tr>\n",
       "      <th>2</th>\n",
       "      <td>Caca</td>\n",
       "      <td>Baca</td>\n",
       "      <td>30</td>\n",
       "    </tr>\n",
       "    <tr>\n",
       "      <th>4</th>\n",
       "      <td>Erika</td>\n",
       "      <td>Masak</td>\n",
       "      <td>28</td>\n",
       "    </tr>\n",
       "    <tr>\n",
       "      <th>6</th>\n",
       "      <td>Gina</td>\n",
       "      <td>Basket</td>\n",
       "      <td>29</td>\n",
       "    </tr>\n",
       "    <tr>\n",
       "      <th>7</th>\n",
       "      <td>Hani</td>\n",
       "      <td>Traveling</td>\n",
       "      <td>31</td>\n",
       "    </tr>\n",
       "  </tbody>\n",
       "</table>\n",
       "</div>"
      ],
      "text/plain": [
       "    Nama       Hobi  Umur\n",
       "2   Caca       Baca    30\n",
       "4  Erika      Masak    28\n",
       "6   Gina     Basket    29\n",
       "7   Hani  Traveling    31"
      ]
     },
     "execution_count": 53,
     "metadata": {},
     "output_type": "execute_result"
    }
   ],
   "source": [
    "df[df['Gender']=='Wanita'][['Nama','Hobi','Umur']]"
   ]
  },
  {
   "cell_type": "markdown",
   "metadata": {},
   "source": [
    "**14. Siapa saja yang berumur lebih tua dari Erika? Tampilkan kolom nama saja dalam bentuk DataFrame!**"
   ]
  },
  {
   "cell_type": "code",
   "execution_count": 68,
   "metadata": {},
   "outputs": [
    {
     "data": {
      "text/plain": [
       "28"
      ]
     },
     "execution_count": 68,
     "metadata": {},
     "output_type": "execute_result"
    }
   ],
   "source": [
    "umur = df[df['Nama']=='Erika']['Umur'].values[0]\n",
    "umur"
   ]
  },
  {
   "cell_type": "code",
   "execution_count": 69,
   "metadata": {},
   "outputs": [
    {
     "data": {
      "text/html": [
       "<div>\n",
       "<style scoped>\n",
       "    .dataframe tbody tr th:only-of-type {\n",
       "        vertical-align: middle;\n",
       "    }\n",
       "\n",
       "    .dataframe tbody tr th {\n",
       "        vertical-align: top;\n",
       "    }\n",
       "\n",
       "    .dataframe thead th {\n",
       "        text-align: right;\n",
       "    }\n",
       "</style>\n",
       "<table border=\"1\" class=\"dataframe\">\n",
       "  <thead>\n",
       "    <tr style=\"text-align: right;\">\n",
       "      <th></th>\n",
       "      <th>Nama</th>\n",
       "    </tr>\n",
       "  </thead>\n",
       "  <tbody>\n",
       "    <tr>\n",
       "      <th>2</th>\n",
       "      <td>Caca</td>\n",
       "    </tr>\n",
       "    <tr>\n",
       "      <th>3</th>\n",
       "      <td>Dedi</td>\n",
       "    </tr>\n",
       "    <tr>\n",
       "      <th>6</th>\n",
       "      <td>Gina</td>\n",
       "    </tr>\n",
       "    <tr>\n",
       "      <th>7</th>\n",
       "      <td>Hani</td>\n",
       "    </tr>\n",
       "    <tr>\n",
       "      <th>8</th>\n",
       "      <td>Indro</td>\n",
       "    </tr>\n",
       "    <tr>\n",
       "      <th>9</th>\n",
       "      <td>Jarot</td>\n",
       "    </tr>\n",
       "  </tbody>\n",
       "</table>\n",
       "</div>"
      ],
      "text/plain": [
       "    Nama\n",
       "2   Caca\n",
       "3   Dedi\n",
       "6   Gina\n",
       "7   Hani\n",
       "8  Indro\n",
       "9  Jarot"
      ]
     },
     "execution_count": 69,
     "metadata": {},
     "output_type": "execute_result"
    }
   ],
   "source": [
    "df[df['Umur'] > df[df['Nama']=='Erika']['Umur'].values[0]][['Nama']]"
   ]
  },
  {
   "cell_type": "markdown",
   "metadata": {},
   "source": [
    "**15. Berdasarkan data, apakah ada wanita yang hobinya traveling?**"
   ]
  },
  {
   "cell_type": "code",
   "execution_count": 73,
   "metadata": {},
   "outputs": [
    {
     "data": {
      "text/html": [
       "<div>\n",
       "<style scoped>\n",
       "    .dataframe tbody tr th:only-of-type {\n",
       "        vertical-align: middle;\n",
       "    }\n",
       "\n",
       "    .dataframe tbody tr th {\n",
       "        vertical-align: top;\n",
       "    }\n",
       "\n",
       "    .dataframe thead th {\n",
       "        text-align: right;\n",
       "    }\n",
       "</style>\n",
       "<table border=\"1\" class=\"dataframe\">\n",
       "  <thead>\n",
       "    <tr style=\"text-align: right;\">\n",
       "      <th></th>\n",
       "      <th>Nama</th>\n",
       "      <th>Umur</th>\n",
       "      <th>Gender</th>\n",
       "      <th>Pekerjaan</th>\n",
       "      <th>Domisili</th>\n",
       "      <th>Hobi</th>\n",
       "    </tr>\n",
       "  </thead>\n",
       "  <tbody>\n",
       "    <tr>\n",
       "      <th>7</th>\n",
       "      <td>Hani</td>\n",
       "      <td>31</td>\n",
       "      <td>Wanita</td>\n",
       "      <td>ML Researcher</td>\n",
       "      <td>Yogyakarta</td>\n",
       "      <td>Traveling</td>\n",
       "    </tr>\n",
       "  </tbody>\n",
       "</table>\n",
       "</div>"
      ],
      "text/plain": [
       "   Nama  Umur  Gender      Pekerjaan    Domisili       Hobi\n",
       "7  Hani    31  Wanita  ML Researcher  Yogyakarta  Traveling"
      ]
     },
     "execution_count": 73,
     "metadata": {},
     "output_type": "execute_result"
    }
   ],
   "source": [
    "df[(df['Hobi']=='Traveling') & (df['Gender']=='Wanita')]"
   ]
  },
  {
   "cell_type": "code",
   "execution_count": null,
   "metadata": {},
   "outputs": [],
   "source": [
    "df.pivot_table(\n",
    "    index='Kota',\n",
    "    columns='Salesman',\n",
    "    values='Profit',\n",
    "    aggfunc= 'sum' # defaultnya aggfunc='mean'\n",
    ")"
   ]
  }
 ],
 "metadata": {
  "kernelspec": {
   "display_name": "Python 3.10.5 64-bit",
   "language": "python",
   "name": "python3"
  },
  "language_info": {
   "codemirror_mode": {
    "name": "ipython",
    "version": 3
   },
   "file_extension": ".py",
   "mimetype": "text/x-python",
   "name": "python",
   "nbconvert_exporter": "python",
   "pygments_lexer": "ipython3",
   "version": "3.11.7"
  },
  "orig_nbformat": 4,
  "vscode": {
   "interpreter": {
    "hash": "729f74ff1f6188ced6e2e09166ca89b6222524874cfb9263d2b423b6b6b21f37"
   }
  }
 },
 "nbformat": 4,
 "nbformat_minor": 2
}
