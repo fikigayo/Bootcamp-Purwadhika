{
  "cells": [
    {
      "cell_type": "markdown",
      "metadata": {
        "id": "bpwU2Eg4F72A"
      },
      "source": [
        "# **Introduction to Statistics II**\n",
        "\n",
        "Sebelumnya, kita telah mengetahui bahwa statistika adalah studi terkait pengumpulan, analisis dan\n",
        "interpretasi data. Saat ini, manusia menghasilkan dan mengumpulkan lebih banyak data daripada sebelumnya. Setiap kali kita mengirim pesan teks, melakukan pembelian online, atau memposting foto di media sosial, kita menghasilkan data baru. Seiring bertambahnya jumlah data, kebutuhan akan menganalisis dan menafsirkan hal tersebut pun semakin meningkat. Ini adalah alasan utama mengapa statistika dan pekerjaan berbasis data sangatlah penting. Dengan demikian bidang analisis data berkembang hampir sama cepatnya seperti data itu sendiri.\n",
        "\n",
        "Profesional di bidang data menggunakan statistika untuk menganalisis data dalam bisnis, kedokteran, sains, teknik, pemerintah, dan banyak lagi. Profesional di bidang data menggunakan kekuatan metode statistika untuk mengidentifikasi pola yang bermakna dan mencari hubungan dalam data, menganalisis dan mengukur ketidakpastian, menghasilkan wawasan dari data, membuat prediksi yang tepat tentang masa depan, dan menyelesaikan masalah yang kompleks.\n",
        "\n",
        "Meskipun kita belum pernah mempelajari statistika, kita mungkin menggunakan statistika setiap hari. Misalnya, kita memulai hari dengan memeriksa cuaca secara online, di mana kita mempelajari bahwa\n",
        "terdapat perkiraan kemungkinan hujan sebesar 70 persen atau kemungkinan salju sebesar 50 persen. Mungkin kita berkunjung ke situs web olahraga untuk mempelajari rata-rata pukulan pemain baseball atau rata-rata skor pemain basket favorit kita. Di aplikasi berita, kita mungkin menemukan jajak pendapat pemilu yang melaporkan angka margin of error sebesar tiga persen  dan mencatat bahwa survei online digunakan untuk mengumpulkan data. Atau mungkin kita adalah orang tua, dan saat kita membawa anak kita pada pemeriksaan rutin, kita mengetahui bahwa tinggi dan berat badan anak kita berada dalam persentil tertentu. Ketika kita meminta informasi lebih lanjut, dokter menunjukkan kepada kita\n",
        "median tinggi dan berat badan untuk semua anak yang seumuran. Skenario ini mencakup konsep statistik yang akan kita pelajari lebih lanjut.\n",
        "\n",
        "___"
      ]
    },
    {
      "cell_type": "code",
      "execution_count": 1,
      "metadata": {
        "id": "bVuZCC4JF72D"
      },
      "outputs": [],
      "source": [
        "# data manipulation\n",
        "import numpy as np\n",
        "import pandas as pd\n",
        "\n",
        "# visualization\n",
        "import matplotlib.pyplot as plt\n",
        "import seaborn as sns\n",
        "\n",
        "# statistics\n",
        "import statsmodels.api as sm\n",
        "from scipy import stats"
      ]
    },
    {
      "cell_type": "markdown",
      "metadata": {
        "id": "nEBesbatF72E"
      },
      "source": [
        "## **1. Probability**\n",
        "\n",
        "Pengetahuan tentang probabilitas, peluang, dan nilai peluang perlu dipahami oleh seorang Data Scientist. Sebab dalam beberapa uji statistik, penentuan keputusan misalnya uji hipotesis, ditentukan hasilnya dari nilai probabilitas atau P-value.\n",
        "\n",
        "Dalam statistik, banyak aspek melibatkan keacakan seperti pengambilan sampel dari observasi atau menetapkan subjek sebagai treatment, serta asumsi dalam pengujian hipotesis. Lalu di setiap pengacakan, terdapat peluang suatu hasil yang akan muncul. Peluang dari setiap kemungkinan akan **berkisar dari 0 sampai 1**.\n",
        "\n",
        "- Peluang `tidak pernah negatif`\n",
        "- Peluang sebesar `0` berarti suatu kejadian **mustahil** terjadi\n",
        "- Peluang sebesar `1` berarti suatu kejadian **pasti** terjadi\n",
        "\n",
        "Untuk memahami probabilitas, kita gunakan contoh permainan lempar dadu.\n",
        "\n",
        "### `Roll a Dice`\n",
        "\n",
        "Saat dadu dilempar, kemungkinan hasilnya adalah angka 1, 2, 3, 4, 5, atau 6. Meski demikian, kita tidak tahu persis angka mana yang akan muncul. Berapa kali suatu angka keluar, baik 1, 2, 3, 4, 5, maupun 6, dari beberapa kali melempar, itu adalah contoh probabilitas. Proporsi berapa kali suatu angka yang keluar dari beberapa kali lempar dadu adalah contoh probabilitas. Jika dadu seimbang, probabilitas setiap angka seharusnya ⅙. Karena ada 6 angka yang berpeluang muncul.\n",
        "\n",
        "Kita bisa memperkirakan probabilitas dengan melakukan eksperimen. Kita lempar dadu sebanyak 60 kali dan catat hasilnya. Jika ada 6 angka, tentu kita berharap setiap angka muncul 10 kali biar adil.\n",
        "\n",
        "\n"
      ]
    },
    {
      "cell_type": "code",
      "execution_count": null,
      "metadata": {
        "id": "Jq7-yjPfF72E"
      },
      "outputs": [],
      "source": []
    },
    {
      "cell_type": "markdown",
      "metadata": {
        "id": "w5t54s6RF72E"
      },
      "source": [
        "Tetapi hasil dari melempar dadu sebanyak 60 kali dapat kita lihat pada grafik. Ini adalah contoh peluang suatu angka muncul dari beberapa percobaan melempar dadu."
      ]
    },
    {
      "cell_type": "code",
      "execution_count": null,
      "metadata": {
        "id": "7kn77WD0F72E"
      },
      "outputs": [],
      "source": []
    },
    {
      "cell_type": "markdown",
      "metadata": {
        "id": "FHINPyxjF72F"
      },
      "source": [
        "Adapun hasil dari melempar dadu sebanyak 1000000 kali dapat kita lihat pada grafik berikut, dimana semakin banyak percobaan, peluangnya semakin mendekati peluang teoritis."
      ]
    },
    {
      "cell_type": "code",
      "execution_count": null,
      "metadata": {
        "id": "Fls1p93fF72F"
      },
      "outputs": [],
      "source": []
    },
    {
      "cell_type": "markdown",
      "metadata": {
        "id": "1EyRprLmF72F"
      },
      "source": [
        "### `Terminologies`"
      ]
    },
    {
      "cell_type": "markdown",
      "metadata": {
        "id": "CDqzTwoiF72F"
      },
      "source": [
        "Ada beberapa istilah di dalam probabilitas, di antaranya adalah `sample space` dan `event`.\n",
        "- Semua peristiwa yang muncul disebut `sample space` atau ruang sampel (dapat dinotasikan dengan $\\Omega$).\n",
        "- Sedangkan bagian dari ruang sampel atau satu per satu peristiwa yang muncul disebut `event` atau peristiwa.\n",
        "\n",
        "Probabilitas dari suatu peristiwa dapat dihitung menggunakan:\n",
        "\n",
        "$$ P(\\text{event}) = \\frac{\\text{number of outcomes of event}}{\\text{number of outcomes in }\\Omega} $$\n",
        "\n",
        "Jika kita hanya melempar koin sekali, maka ada hanya dua kemungkinan hasil dalam ruang sampel $\\Omega$: bisa H atau T (menggunakan notasi himpunan, kita bisa menulis ini sebagai $\\Omega$ = {H, T}).\n",
        "\n",
        "Sehingga: $$ P(H) = \\frac{1}{2} = 0.5 $$\n",
        "\n",
        "Sama dengan: $$ P(T) = \\frac{1}{2} = 0.5 $$\n",
        "\n",
        "Sebagai contoh terpisah, pertimbangkan pengambilan sebuah kartu dari sebuah dek standar berisi 52 kartu. Dalam hal ini, jumlah hasil yang mungkin dalam ruang sampel $\\Omega$ adalah 52.\n",
        "\n",
        "Hanya ada 1 buah as sekop di sebuah dek standar, ssehingga besarnya peluang menarik as sekop dari dek adalah: $$ P(\\text{as sekop}) = \\frac{1}{52} \\approx 0.019 $$\n",
        "\n",
        "Di sisi lain terdapat 4 buah kartu as, sehingga peluang menarik sebuah kartu as dari dek adalah: $$ P(\\text{as}) = \\frac{4}{52} \\approx 0.077 $$\n",
        "\n",
        "Jika kita melempar koin dua kali ruang sampelnya adalah sebagai berikut $\\Omega$ = {HH, HT, TH, TT}. Sehingga peluang untuk mendapatkan  kepala berturut turut adalah: $$ P(\\text{HH}) = \\frac{1}{4} = 0.25 $$\n"
      ]
    },
    {
      "cell_type": "markdown",
      "metadata": {
        "id": "M3zPx9KuF72F"
      },
      "source": [
        "### `Basic Operation`\n",
        "\n",
        "Saat kita melempar dua buah dadu, ruang sampelnya adalah sebagai berikut:"
      ]
    },
    {
      "cell_type": "code",
      "execution_count": null,
      "metadata": {
        "id": "W9BXPm0uF72F"
      },
      "outputs": [],
      "source": []
    },
    {
      "cell_type": "markdown",
      "metadata": {
        "id": "W-6-9fk5F72F"
      },
      "source": [
        "Beberapa event atau peristiwa yang mungkin terjadi saat melempar dua dadu adalah:\n",
        "\n",
        "| Peristiwa | Hasil Elementer | Peluang |\n",
        "| ---       | ---             | --- |\n",
        "| Biji berjumlah 3 | {(1,2), (2,1)} | $P(A)=\\frac{2}{36}$ |\n",
        "| Biji berjumlah 6 | {(1,5), (2,4), (3,3), (4,2), (5,1)} | $P(B)=\\frac{5}{36}$ |\n",
        "| Dadu pertama menghasilkan 1 | {(1,1), (1,2), (1,3), (1,4), (1,5), (1,6)} | $P(C)=\\frac{6}{36}$ |\n",
        "| Dadu kedua menghasilkan 1 | {(1,1), (2,1), (3,1), (4,1), (5,1), (6,1)} | $P(D)=\\frac{6}{36}$ |\n",
        "\n",
        "Kita bisa menggabungkan sejumlah `event` untuk membentuk `event` lain dengan menggunakan operasi logika. Kata penghubungnya adalah `dan, atau`, dan `tidak`.\n",
        "\n",
        "Misal, jika ada `event` C dan D, kita bisa buat `event` baru:\n",
        "- C dan D: `event` C maupun D sama-sama terjadi\n",
        "- C atau D: salah satu dari C atau D terjadi (atau keduanya)\n",
        "- Tidak C: `event` C tidak terjadi\n",
        "\n",
        "Kita kembali ke contoh lemparan dadu, jika C adalah peristiwa dadu pertama menghasilkan angka 1 dan D adalah peristiwa dadu kedua menghasilkan angka 1, maka:\n",
        "\n",
        "| Peristiwa | Hasil Elementer | Peluang |\n",
        "| ---       | ---             | --- |\n",
        "| C dan D | {(1,1)} | $P\\text{(C dan D)}=\\frac{1}{36}$ |\n",
        "| C atau D | {(1,1), (1,2), (1,3), (1,4), (1,5), (1,6), (2,1), (3,1), (4,1), (5,1), (6,1)} | $P\\text{(C atau D)}=\\frac{11}{36}$ |\n",
        "\n",
        "Ilustrasi ini menyatakan **aturan penjumlahan** untuk setiap peristiwa C, D:\n",
        "$$P\\text{(C atau D)} = P(C) + P(D) - P\\text{(C dan D)}$$\n",
        "\n",
        "Untuk contoh di atas:\n",
        "$$P\\text{(C atau D)} = \\frac{6}{36} + \\frac{6}{36} - \\frac{1}{36} = \\frac{11}{36}$$\n",
        "\n",
        "Terkadang daerah perpotongan antara C dan D kosong dan kedua peristiwa tersebut tidak dapat muncul bersama-sama. Dalam kasus ini kita menyatakan bahwa C dan D **saling bebas** (Mutually Exclusive). Untuk kejadian yang saling lepas, kita mempunyai **aturan penjumlahan khusus**. Jika C dan D saling bebas, maka:\n",
        "$$P\\text{(C atau D)} = P(C) + P(D)$$\n",
        "\n",
        "Misal C adalah biji berjumlah 3 atau D adalah biji berjumlah enam, maka:\n",
        "$$P\\text{(C atau D)} = \\frac{2}{36} + \\frac{5}{36} = \\frac{7}{36}$$\n",
        "\n",
        "Lalu sekarang, sepenggal **aturan pengurangan**: untuk setiap kejadian C,\n",
        "$$P(C) = 1 - P\\text{(tidak C)}$$\n",
        "\n",
        "Ini sangat berguna apabila $P\\text{(tidak C)}$ lebih mudah dihitung daripada $P(C)$. Misalkan peristiwa C, sepasang 1 **tidak muncul**. Kejadian tidak C, yakni muncul sepasang 1 memiliki peluang  $P\\text{(tidak C)} = \\frac{1}{36}$. Maka:\n",
        "$$P(C) = 1 - \\frac{1}{36} = \\frac{35}{36}$$\n",
        "\n",
        "Selain itu ada juga yang dinamakan **probabilitas bersyarat**. Katakanlah kita sedikit mengubah eksperimen kita dan melempar dadu pertama sebelum dadu kedua (tidak bersamaan). Berapa kemungkinan jumlah angka di permukaan sama dengan 3 (peristiwa A)?\n",
        "\n",
        "Sebelum dadu dilempar, peluangnya $P(A) = \\frac{2}{36}$.\n",
        "\n",
        "Sekarang katakanlah dadu pertama menunjukkan 1 (peristiwa C). Berapa peluang A sekarang?\n",
        "\n",
        "Kita menyebutnya dengan **probabilitas bersyarat** bahwa A akan terjadi dengan syarat kejadian C sudah terjadi, kita tuliskan sebagai $P(A|C)$ yaitu `peluang A, asalkan C terjadi`.\n",
        "\n",
        "Setelah peristiwa C terjadi (dadu pertama menunjukkan 1), maka hanya satu hasil yaitu (1,2) yang berjumlah 3. Maka probabilitas bersyaratnya adalah:\n",
        "$$P(A|C) = \\frac{\\text{(1,2)}}{\\text{[(1,1), (1,2), (1,3), (1,4), (1,5), (1,6)]}} = \\frac{1}{6}$$\n",
        "\n",
        "Kita sulih rumusan ini ke dalam sepenggal rumusan formal: probabilitas terjadinya A dengan syarat C adalah:\n",
        "$$P(A|C) = \\frac{\\text{P(A dan C)}}{P(C)}$$\n",
        "\n",
        "Untuk kasus dadu tadi maka:\n",
        "$$P(A|C) = \\frac{\\text{P(A dan C)}}{P(C)} = \\frac{\\frac{1}{36}}{\\frac{1}{6}} = \\frac{1}{6}$$\n",
        "\n",
        "Kalau kita atur lagi rumusannya kita akan dapatkan **aturan perkalian**:\n",
        "$$\\text{P(A dan C)} = P(A|C)P(C)$$\n",
        "\n",
        "Apabila A dan C saling bebas, kita dapati **aturan perkalian khusus**:\n",
        "$$\\text{P(A dan C)} = P(A)P(C)$$\n"
      ]
    },
    {
      "cell_type": "markdown",
      "metadata": {
        "id": "uARoHaQ4F72G"
      },
      "source": [
        "### `Probability Distribution`\n",
        "\n",
        "Distribusi probabilitas adalah cara untuk meringkas setiap kemungkinan hasil dan probabilitasnya.\n",
        "\n",
        "Ada dua jenis distribusi probabilitas:\n",
        "- Pertama, `Probability Mass Distribution` untuk distribusi probabilitas data **diskrit** seperti nomor dadu yang keluar, jumlah siswa, jumlah penduduk, jumlah pasien, jumlah kantor cabang, dan lainnya.\n",
        "- Kedua, `Probability Density Distribution` untuk distribusi probabilitas data **kontinu** seperti nilai rata-rata dari sampel, gaji, inflasi, suhu, tinggi badan, dan lainnya.\n",
        "\n",
        "Ada terminologi **random variable** yang perlu dipahami terlebih dahulu dalam distribusi probabilitas. Random variable atau variabel acak adalah hasil numerik dari setiap kemungkinan pada eksperimen acak.\n",
        "\n",
        "Misal kita melempar dua koin (eksperimen acak) dan catat **banyaknya muka**: 0, 1, atau 2. Kita bisa buat tabelnya:\n",
        "\n",
        "| x | 0 | 1 | 2 |\n",
        "| --- | --- | --- | --- |\n",
        "| $P(X=x)$ | $\\frac{1}{4}$ | $\\frac{2}{4}$ | $\\frac{1}{4}$ |\n",
        "\n",
        "Contoh lain melempar dua dadu. Y mewakili jumlah titik pada kedua dadu. Karena Y adalah variabel acak, Y bisa sembarang antara 2 dan 12. Distribusi probabilitasnya akan tampak sebagai berikut.\n",
        "\n",
        "| y | 2 | 3 | 4 | 5 | 6 | 7 | 8 | 9 | 10 | 11 | 12 |\n",
        "| --- | --- | --- | --- | --- | --- | --- | --- | --- | --- | --- | --- |\n",
        "| $P(Y=y)$ | $\\frac{1}{36}$ | $\\frac{2}{36}$ | $\\frac{3}{36}$ | $\\frac{4}{36}$ | $\\frac{5}{36}$ | $\\frac{6}{36}$ | $\\frac{5}{36}$ | $\\frac{4}{36}$ | $\\frac{3}{36}$ | $\\frac{2}{36}$ | $\\frac{1}{36}$ |\n",
        "\n",
        "Terdapat aturan yang harus diperhatikan.\n",
        "- Pertama, jika semua kemungkinan ditambahkan, nilai probabilitasnya harus satu.\n",
        "- Kedua, antar kemungkinan harus tidak saling berhubungan atau saling bebas.\n",
        "- Ketiga, nilai setiap peluang antara 0 sampai 1.\n",
        "\n",
        "Contoh di atas merupakan contoh dari `Probability Mass Distribution`\n",
        "\n",
        "Untuk mempermudah membayangkan bagaimana visualisasi beberapa jenis distribusi yang ada, berikut contoh visualisasinya.\n",
        "\n",
        "![](https://miro.medium.com/v2/resize:fit:700/0*qxYGR4YXpkVUH88h.png)\n",
        "\n",
        "Distribusi probabilitas penting untuk dipahami karena distribusi probabilitas berguna untuk menyimpulkan **peristiwa yang paling mungkin terjadi**, **kemungkinan peristiwa terjadi**, dan **interval kemungkinan peristiwa terjadi**."
      ]
    },
    {
      "cell_type": "markdown",
      "metadata": {
        "id": "YPBKebSSF72G"
      },
      "source": [
        "## **2. Sampling Distribution**\n",
        "\n",
        "Sampling distribution adalah distribusi probabilitas dari statistik sampel. Ingat bahwa distribusi probabilitas mewakili hasil yang mungkin dari variabel acak, seperti lemparan koin atau lemparan dadu. Demikian pula, distribusi sampel mewakili hasil yang mungkin untuk statistik sampel. Statistik sampel didasarkan pada data yang diambil secara acak, dan hasilnya tidak dapat diprediksi dengan pasti. Kita dapat menggunakan distribusi sampel untuk mewakili statistik seperti mean, median, deviasi standar, rentang, dan lainnya. Biasanya, para profesional data menghitung statistik sampel seperti mean untuk memperkirakan parameter populasi yang sesuai.\n",
        "\n",
        "Misalkan kita ingin memperkirakan mean dari suatu populasi, seperti mean tinggi badan dari sekelompok manusia, hewan, atau tumbuhan. Cara yang baik untuk memahami konsep distribusi sampel adalah membayangkan kita mengambil sampel berulang kali dari populasi, masing-masing dengan ukuran sampel yang sama, dan menghitung mean untuk setiap sampel ini. Karena variasi pengambilan sampel, mean sampel akan bervariasi dari sampel ke sampel dengan cara yang tidak dapat diprediksi dengan pasti. Distribusi dari semua mean sampel kita pada dasarnya adalah distribusi sampel. Kita dapat menampilkan distribusi mean sampel pada histogram. Ahli statistik menyebutnya sebagai distribusi sampel dari mean.\n",
        "\n",
        "### `Simulate random sampling`"
      ]
    },
    {
      "cell_type": "code",
      "execution_count": 2,
      "metadata": {
        "id": "oSDZm_62F72G"
      },
      "outputs": [
        {
          "data": {
            "text/html": [
              "<div>\n",
              "<style scoped>\n",
              "    .dataframe tbody tr th:only-of-type {\n",
              "        vertical-align: middle;\n",
              "    }\n",
              "\n",
              "    .dataframe tbody tr th {\n",
              "        vertical-align: top;\n",
              "    }\n",
              "\n",
              "    .dataframe thead th {\n",
              "        text-align: right;\n",
              "    }\n",
              "</style>\n",
              "<table border=\"1\" class=\"dataframe\">\n",
              "  <thead>\n",
              "    <tr style=\"text-align: right;\">\n",
              "      <th></th>\n",
              "      <th>DISTNAME</th>\n",
              "      <th>STATNAME</th>\n",
              "      <th>BLOCKS</th>\n",
              "      <th>VILLAGES</th>\n",
              "      <th>CLUSTERS</th>\n",
              "      <th>TOTPOPULAT</th>\n",
              "      <th>OVERALL_LI</th>\n",
              "    </tr>\n",
              "  </thead>\n",
              "  <tbody>\n",
              "    <tr>\n",
              "      <th>0</th>\n",
              "      <td>DISTRICT32</td>\n",
              "      <td>STATE1</td>\n",
              "      <td>13</td>\n",
              "      <td>391</td>\n",
              "      <td>104</td>\n",
              "      <td>875564.0</td>\n",
              "      <td>66.92</td>\n",
              "    </tr>\n",
              "    <tr>\n",
              "      <th>1</th>\n",
              "      <td>DISTRICT649</td>\n",
              "      <td>STATE1</td>\n",
              "      <td>18</td>\n",
              "      <td>678</td>\n",
              "      <td>144</td>\n",
              "      <td>1015503.0</td>\n",
              "      <td>66.93</td>\n",
              "    </tr>\n",
              "    <tr>\n",
              "      <th>2</th>\n",
              "      <td>DISTRICT229</td>\n",
              "      <td>STATE1</td>\n",
              "      <td>8</td>\n",
              "      <td>94</td>\n",
              "      <td>65</td>\n",
              "      <td>1269751.0</td>\n",
              "      <td>71.21</td>\n",
              "    </tr>\n",
              "    <tr>\n",
              "      <th>3</th>\n",
              "      <td>DISTRICT259</td>\n",
              "      <td>STATE1</td>\n",
              "      <td>13</td>\n",
              "      <td>523</td>\n",
              "      <td>104</td>\n",
              "      <td>735753.0</td>\n",
              "      <td>57.98</td>\n",
              "    </tr>\n",
              "    <tr>\n",
              "      <th>4</th>\n",
              "      <td>DISTRICT486</td>\n",
              "      <td>STATE1</td>\n",
              "      <td>8</td>\n",
              "      <td>359</td>\n",
              "      <td>64</td>\n",
              "      <td>570060.0</td>\n",
              "      <td>65.00</td>\n",
              "    </tr>\n",
              "  </tbody>\n",
              "</table>\n",
              "</div>"
            ],
            "text/plain": [
              "      DISTNAME STATNAME  BLOCKS  VILLAGES  CLUSTERS  TOTPOPULAT  OVERALL_LI\n",
              "0   DISTRICT32   STATE1      13       391       104    875564.0       66.92\n",
              "1  DISTRICT649   STATE1      18       678       144   1015503.0       66.93\n",
              "2  DISTRICT229   STATE1       8        94        65   1269751.0       71.21\n",
              "3  DISTRICT259   STATE1      13       523       104    735753.0       57.98\n",
              "4  DISTRICT486   STATE1       8       359        64    570060.0       65.00"
            ]
          },
          "execution_count": 2,
          "metadata": {},
          "output_type": "execute_result"
        }
      ],
      "source": [
        "education_disctrictwise = pd.read_csv('../../csv/education_districtwise.csv')\n",
        "education_disctrictwise.dropna(inplace=True)\n",
        "education_disctrictwise.head()\n"
      ]
    },
    {
      "cell_type": "markdown",
      "metadata": {
        "id": "bEjruIzTF72G"
      },
      "source": [
        "Kita akan hitung terlebih dahulu rata-rata dan standar deviasi populasi dari dataset tersebut."
      ]
    },
    {
      "cell_type": "code",
      "execution_count": 3,
      "metadata": {
        "id": "HRMHm-CPF72G"
      },
      "outputs": [
        {
          "name": "stdout",
          "output_type": "stream",
          "text": [
            "Population mean : 73.39518927444796\n",
            "Population std : 10.098460413782469\n"
          ]
        }
      ],
      "source": [
        "population_mean = education_disctrictwise['OVERALL_LI'].mean()\n",
        "population_std = education_disctrictwise['OVERALL_LI'].std()\n",
        "\n",
        "print(f'Population mean : {population_mean}')\n",
        "print(f'Population std : {population_std}')"
      ]
    },
    {
      "cell_type": "markdown",
      "metadata": {
        "id": "c8szftknF72G"
      },
      "source": [
        "Kita dapat menggunakan Python untuk mensimulasikan pengambilan sampel acak dari 50 distrik dari dataset. Untuk melakukannya, gunakan pandas.DataFrame.sample(). Argumen berikut dalam fungsi sample() akan membantu kita mensimulasikan pengambilan sampel acak:\n",
        "\n",
        "*   `n`: Merujuk pada ukuran sampel yang diinginkan\n",
        "*   `replace`: Menunjukkan apakah Anda melakukan pengambilan sampel dengan atau tanpa penggantian\n",
        "*   `random_state`: Merujuk pada seed dari bilangan acak"
      ]
    },
    {
      "cell_type": "code",
      "execution_count": 4,
      "metadata": {
        "id": "UKTJMsxUF72G"
      },
      "outputs": [],
      "source": [
        "sampled_data = education_disctrictwise.sample(n = 50, replace=True, random_state=31208)\n"
      ]
    },
    {
      "cell_type": "code",
      "execution_count": 5,
      "metadata": {},
      "outputs": [
        {
          "data": {
            "text/html": [
              "<div>\n",
              "<style scoped>\n",
              "    .dataframe tbody tr th:only-of-type {\n",
              "        vertical-align: middle;\n",
              "    }\n",
              "\n",
              "    .dataframe tbody tr th {\n",
              "        vertical-align: top;\n",
              "    }\n",
              "\n",
              "    .dataframe thead th {\n",
              "        text-align: right;\n",
              "    }\n",
              "</style>\n",
              "<table border=\"1\" class=\"dataframe\">\n",
              "  <thead>\n",
              "    <tr style=\"text-align: right;\">\n",
              "      <th></th>\n",
              "      <th>DISTNAME</th>\n",
              "      <th>STATNAME</th>\n",
              "      <th>BLOCKS</th>\n",
              "      <th>VILLAGES</th>\n",
              "      <th>CLUSTERS</th>\n",
              "      <th>TOTPOPULAT</th>\n",
              "      <th>OVERALL_LI</th>\n",
              "    </tr>\n",
              "  </thead>\n",
              "  <tbody>\n",
              "    <tr>\n",
              "      <th>661</th>\n",
              "      <td>DISTRICT528</td>\n",
              "      <td>STATE6</td>\n",
              "      <td>9</td>\n",
              "      <td>112</td>\n",
              "      <td>89</td>\n",
              "      <td>1863174.0</td>\n",
              "      <td>92.14</td>\n",
              "    </tr>\n",
              "    <tr>\n",
              "      <th>216</th>\n",
              "      <td>DISTRICT291</td>\n",
              "      <td>STATE28</td>\n",
              "      <td>14</td>\n",
              "      <td>1188</td>\n",
              "      <td>165</td>\n",
              "      <td>3273127.0</td>\n",
              "      <td>52.49</td>\n",
              "    </tr>\n",
              "    <tr>\n",
              "      <th>367</th>\n",
              "      <td>DISTRICT66</td>\n",
              "      <td>STATE23</td>\n",
              "      <td>12</td>\n",
              "      <td>1169</td>\n",
              "      <td>116</td>\n",
              "      <td>1042304.0</td>\n",
              "      <td>62.14</td>\n",
              "    </tr>\n",
              "    <tr>\n",
              "      <th>254</th>\n",
              "      <td>DISTRICT458</td>\n",
              "      <td>STATE3</td>\n",
              "      <td>3</td>\n",
              "      <td>157</td>\n",
              "      <td>19</td>\n",
              "      <td>82839.0</td>\n",
              "      <td>76.33</td>\n",
              "    </tr>\n",
              "    <tr>\n",
              "      <th>286</th>\n",
              "      <td>DISTRICT636</td>\n",
              "      <td>STATE35</td>\n",
              "      <td>3</td>\n",
              "      <td>187</td>\n",
              "      <td>44</td>\n",
              "      <td>514683.0</td>\n",
              "      <td>86.70</td>\n",
              "    </tr>\n",
              "  </tbody>\n",
              "</table>\n",
              "</div>"
            ],
            "text/plain": [
              "        DISTNAME STATNAME  BLOCKS  VILLAGES  CLUSTERS  TOTPOPULAT  OVERALL_LI\n",
              "661  DISTRICT528   STATE6       9       112        89   1863174.0       92.14\n",
              "216  DISTRICT291  STATE28      14      1188       165   3273127.0       52.49\n",
              "367   DISTRICT66  STATE23      12      1169       116   1042304.0       62.14\n",
              "254  DISTRICT458   STATE3       3       157        19     82839.0       76.33\n",
              "286  DISTRICT636  STATE35       3       187        44    514683.0       86.70"
            ]
          },
          "execution_count": 5,
          "metadata": {},
          "output_type": "execute_result"
        }
      ],
      "source": [
        "sampled_data.head()"
      ]
    },
    {
      "cell_type": "code",
      "execution_count": 6,
      "metadata": {},
      "outputs": [
        {
          "data": {
            "text/html": [
              "<div>\n",
              "<style scoped>\n",
              "    .dataframe tbody tr th:only-of-type {\n",
              "        vertical-align: middle;\n",
              "    }\n",
              "\n",
              "    .dataframe tbody tr th {\n",
              "        vertical-align: top;\n",
              "    }\n",
              "\n",
              "    .dataframe thead th {\n",
              "        text-align: right;\n",
              "    }\n",
              "</style>\n",
              "<table border=\"1\" class=\"dataframe\">\n",
              "  <thead>\n",
              "    <tr style=\"text-align: right;\">\n",
              "      <th></th>\n",
              "      <th>DISTNAME</th>\n",
              "      <th>STATNAME</th>\n",
              "      <th>BLOCKS</th>\n",
              "      <th>VILLAGES</th>\n",
              "      <th>CLUSTERS</th>\n",
              "      <th>TOTPOPULAT</th>\n",
              "      <th>OVERALL_LI</th>\n",
              "    </tr>\n",
              "  </thead>\n",
              "  <tbody>\n",
              "    <tr>\n",
              "      <th>516</th>\n",
              "      <td>DISTRICT300</td>\n",
              "      <td>STATE9</td>\n",
              "      <td>5</td>\n",
              "      <td>651</td>\n",
              "      <td>84</td>\n",
              "      <td>590379.0</td>\n",
              "      <td>73.29</td>\n",
              "    </tr>\n",
              "    <tr>\n",
              "      <th>641</th>\n",
              "      <td>DISTRICT484</td>\n",
              "      <td>STATE6</td>\n",
              "      <td>15</td>\n",
              "      <td>333</td>\n",
              "      <td>83</td>\n",
              "      <td>1721179.0</td>\n",
              "      <td>74.92</td>\n",
              "    </tr>\n",
              "    <tr>\n",
              "      <th>650</th>\n",
              "      <td>DISTRICT145</td>\n",
              "      <td>STATE6</td>\n",
              "      <td>11</td>\n",
              "      <td>489</td>\n",
              "      <td>100</td>\n",
              "      <td>1614069.0</td>\n",
              "      <td>84.09</td>\n",
              "    </tr>\n",
              "    <tr>\n",
              "      <th>70</th>\n",
              "      <td>DISTRICT99</td>\n",
              "      <td>STATE25</td>\n",
              "      <td>4</td>\n",
              "      <td>279</td>\n",
              "      <td>43</td>\n",
              "      <td>558890.0</td>\n",
              "      <td>83.44</td>\n",
              "    </tr>\n",
              "    <tr>\n",
              "      <th>163</th>\n",
              "      <td>DISTRICT366</td>\n",
              "      <td>STATE21</td>\n",
              "      <td>9</td>\n",
              "      <td>1330</td>\n",
              "      <td>86</td>\n",
              "      <td>1579160.0</td>\n",
              "      <td>79.99</td>\n",
              "    </tr>\n",
              "  </tbody>\n",
              "</table>\n",
              "</div>"
            ],
            "text/plain": [
              "        DISTNAME STATNAME  BLOCKS  VILLAGES  CLUSTERS  TOTPOPULAT  OVERALL_LI\n",
              "516  DISTRICT300   STATE9       5       651        84    590379.0       73.29\n",
              "641  DISTRICT484   STATE6      15       333        83   1721179.0       74.92\n",
              "650  DISTRICT145   STATE6      11       489       100   1614069.0       84.09\n",
              "70    DISTRICT99  STATE25       4       279        43    558890.0       83.44\n",
              "163  DISTRICT366  STATE21       9      1330        86   1579160.0       79.99"
            ]
          },
          "execution_count": 6,
          "metadata": {},
          "output_type": "execute_result"
        }
      ],
      "source": [
        "sampled_data.tail()"
      ]
    },
    {
      "cell_type": "code",
      "execution_count": 7,
      "metadata": {},
      "outputs": [
        {
          "data": {
            "text/plain": [
              "(50, 7)"
            ]
          },
          "execution_count": 7,
          "metadata": {},
          "output_type": "execute_result"
        }
      ],
      "source": [
        "sampled_data.shape"
      ]
    },
    {
      "cell_type": "markdown",
      "metadata": {
        "id": "MzgcXR3jF72G"
      },
      "source": [
        "Output yang ditampilkan menunjukkan 50 distrik yang dipilih secara acak dari dataset. Setiap distrik memiliki tingkat literasi yang berbeda, namun perlu diperhatikan bahwa baris 254 diambil sampel dua kali, yang memungkinkan karena kita melakukan pengambilan sampel dengan penggantian.\n",
        "\n",
        "Sekarang setelah Anda memiliki sampel acak Anda, gunakan fungsi mean untuk menghitung rata-rata sampel. Pertama, beri nama variabel baru `estimate1`. Selanjutnya, gunakan mean() untuk menghitung `mean` dari data sampel Anda."
      ]
    },
    {
      "cell_type": "code",
      "execution_count": 8,
      "metadata": {
        "id": "SaPDfmk-F72H"
      },
      "outputs": [
        {
          "data": {
            "text/plain": [
              "74.22359999999999"
            ]
          },
          "execution_count": 8,
          "metadata": {},
          "output_type": "execute_result"
        }
      ],
      "source": [
        "# karna 254 ada dobel\n",
        "estimate1 = sampled_data['OVERALL_LI'].mean()\n",
        "estimate1"
      ]
    },
    {
      "cell_type": "markdown",
      "metadata": {
        "id": "SoH2d9geF72H"
      },
      "source": [
        "Mean sampel untuk tingkat literasi adalah sekitar 74,22%. Ini merupakan point estimate dari rata-rata populasi berdasarkan sampel acak dari 50 distrik. Ingatlah bahwa rata-rata populasi adalah tingkat literasi untuk semua distrik. Karena variasi pengambilan sampel, rata-rata sampel biasanya tidak sama persis dengan rata-rata populasi.\n",
        "\n",
        "Selanjutnya, mari temukan apa yang akan terjadi jika kita menghitung rata-rata sampel berdasarkan sampel acak lain dari 50 distrik.\n",
        "\n",
        "Untuk menghasilkan sampel acak lainnya, beri nama variabel baru `estimate2`. Kemudian, atur argumen untuk fungsi sampel. Sekali lagi, `n` adalah 50 dan `replace` adalah \"True.\" Kali ini, pilih nomor yang berbeda untuk seed angka acak kita untuk menghasilkan sampel yang berbeda: 56.810. Terakhir, tambahkan `mean()` di akhir baris kode kita untuk menghitung rata-rata sampel."
      ]
    },
    {
      "cell_type": "code",
      "execution_count": 9,
      "metadata": {
        "id": "6XAbAoW8F72H"
      },
      "outputs": [
        {
          "data": {
            "text/plain": [
              "74.2478"
            ]
          },
          "execution_count": 9,
          "metadata": {},
          "output_type": "execute_result"
        }
      ],
      "source": [
        "estimate2 = education_disctrictwise.sample(n=50, replace=True, random_state=56810)['OVERALL_LI'].mean()\n",
        "estimate2"
      ]
    },
    {
      "cell_type": "markdown",
      "metadata": {
        "id": "rzaldm__F72H"
      },
      "source": [
        "Untuk perkiraan kedua kita, rata-rata sampel untuk tingkat literasi adalah sekitar 74,25%.\n",
        "\n",
        "Karena variasi pengambilan sampel, rata-rata sampel ini berbeda dari rata-rata sampel dari perkiraan sebelumnya, yaitu 74,22% - tetapi keduanya sangat dekat."
      ]
    },
    {
      "cell_type": "markdown",
      "metadata": {
        "id": "NBWj791NF72H"
      },
      "source": [
        "### `Central Limit Theorem`\n",
        "\n",
        "Central Limit Theorem mengatakan bahwa ketika ukuran sampel cukup besar, rata-rata sampel mendekati distribusi normal. Dan, saat kita mengambil lebih banyak observasi dari populasi, rata-rata sampel semakin mendekati rata-rata populasi. Semakin besar ukuran sampel kita, perkiraan rata-rata populasi kita kemungkinan akan lebih akurat.\n",
        "\n",
        "Dalam kasus ini, rata-rata populasi adalah tingkat literasi keseluruhan untuk semua distrik di negara tersebut. Sebelumnya, kita menemukan bahwa rata-rata populasi adalah 73,39%. Berdasarkan pengambilan sampel, perkiraan rata-rata sampel pertama kita adalah 74,22%, dan perkiraan kedua adalah 74,24%. Setiap perkiraan cukup dekat dengan rata-rata populasi.\n",
        "\n",
        "Sekarang, bayangkan kita mengulangi studi tersebut sebanyak 10.000 kali dan mendapatkan 10.000 perkiraan titik rata-rata. Dengan kata lain, kita mengambil 10.000 sampel acak dari 50 distrik, dan menghitung rata-rata untuk setiap sampel. Menurut Central Limit Theorem, rata-rata dari distribusi sampel kita akan kira-kira sama dengan rata-rata populasi."
      ]
    },
    {
      "cell_type": "code",
      "execution_count": 10,
      "metadata": {
        "id": "-S2Vl2fiF72H"
      },
      "outputs": [],
      "source": [
        "estimate_list = []\n",
        "for i in range(10000):\n",
        "    estimate_list.append(education_disctrictwise.sample(n=50,replace=True)['OVERALL_LI'].mean())"
      ]
    },
    {
      "cell_type": "code",
      "execution_count": 11,
      "metadata": {},
      "outputs": [
        {
          "data": {
            "text/html": [
              "<div>\n",
              "<style scoped>\n",
              "    .dataframe tbody tr th:only-of-type {\n",
              "        vertical-align: middle;\n",
              "    }\n",
              "\n",
              "    .dataframe tbody tr th {\n",
              "        vertical-align: top;\n",
              "    }\n",
              "\n",
              "    .dataframe thead th {\n",
              "        text-align: right;\n",
              "    }\n",
              "</style>\n",
              "<table border=\"1\" class=\"dataframe\">\n",
              "  <thead>\n",
              "    <tr style=\"text-align: right;\">\n",
              "      <th></th>\n",
              "      <th>estimate</th>\n",
              "    </tr>\n",
              "  </thead>\n",
              "  <tbody>\n",
              "    <tr>\n",
              "      <th>0</th>\n",
              "      <td>75.0960</td>\n",
              "    </tr>\n",
              "    <tr>\n",
              "      <th>1</th>\n",
              "      <td>75.1036</td>\n",
              "    </tr>\n",
              "    <tr>\n",
              "      <th>2</th>\n",
              "      <td>73.8226</td>\n",
              "    </tr>\n",
              "    <tr>\n",
              "      <th>3</th>\n",
              "      <td>75.9652</td>\n",
              "    </tr>\n",
              "    <tr>\n",
              "      <th>4</th>\n",
              "      <td>74.1832</td>\n",
              "    </tr>\n",
              "  </tbody>\n",
              "</table>\n",
              "</div>"
            ],
            "text/plain": [
              "   estimate\n",
              "0   75.0960\n",
              "1   75.1036\n",
              "2   73.8226\n",
              "3   75.9652\n",
              "4   74.1832"
            ]
          },
          "execution_count": 11,
          "metadata": {},
          "output_type": "execute_result"
        }
      ],
      "source": [
        "estimate_df = pd.DataFrame({'estimate':estimate_list})\n",
        "estimate_df.head()"
      ]
    },
    {
      "cell_type": "code",
      "execution_count": 12,
      "metadata": {},
      "outputs": [
        {
          "data": {
            "text/plain": [
              "73.37740316"
            ]
          },
          "execution_count": 12,
          "metadata": {},
          "output_type": "execute_result"
        }
      ],
      "source": [
        "mean_sample_means = estimate_df['estimate'].mean()\n",
        "mean_sample_means"
      ]
    },
    {
      "cell_type": "markdown",
      "metadata": {
        "id": "3PYsXDDeF72H"
      },
      "source": [
        "Rata-rata dari sampling distribution sekitar 73.38%. Rata-rata ini cukup identik dengan rata-rata populasi sekitar 73.39%\n",
        "\n",
        "Untuk memvisualisasikan hubungan antara distribusi sampel 10.000 perkiraan kita dan distribusi normal, kita dapat memplot keduanya secara bersamaan."
      ]
    },
    {
      "cell_type": "code",
      "execution_count": 13,
      "metadata": {
        "id": "pGC90fgMF72H"
      },
      "outputs": [
        {
          "data": {
            "image/png": "[encoded data removed]",
            "text/plain": [
              "<Figure size 640x480 with 1 Axes>"
            ]
          },
          "metadata": {},
          "output_type": "display_data"
        }
      ],
      "source": [
        "plt.hist(estimate_df['estimate'], bins=25, density=True, alpha=0.4, label = \"histogram of sample means of 10000 random samples\")\n",
        "xmin, xmax = plt.xlim()\n",
        "x = np.linspace(xmin, xmax, 100) # generate a grid of 100 values from xmin to xmax.\n",
        "p = stats.norm.pdf(x, mean_sample_means, stats.tstd(estimate_df['estimate']))\n",
        "plt.plot(x, p,'k', linewidth=2, label = 'normal curve from central limit theorem')\n",
        "plt.axvline(x=population_mean, color='g', linestyle = 'solid', label = 'population mean')\n",
        "plt.axvline(x=estimate1, color='r', linestyle = '--', label = 'sample mean of the first random sample')\n",
        "plt.axvline(x=mean_sample_means, color='b', linestyle = ':', label = 'mean of sample means of 10000 random samples')\n",
        "plt.title(\"Sampling distribution of sample mean\")\n",
        "plt.xlabel('sample mean')\n",
        "plt.ylabel('density')\n",
        "plt.legend(bbox_to_anchor=(1.04,1))\n",
        "plt.show()"
      ]
    },
    {
      "cell_type": "markdown",
      "metadata": {
        "id": "LlKxEVpQF72H"
      },
      "source": [
        "Sekarang kita akan menghitung standar deviasi dari sampling distribution tersebut."
      ]
    },
    {
      "cell_type": "code",
      "execution_count": 14,
      "metadata": {
        "id": "L0NIRIauF72I"
      },
      "outputs": [
        {
          "data": {
            "text/plain": [
              "1.4314798333952703"
            ]
          },
          "execution_count": 14,
          "metadata": {},
          "output_type": "execute_result"
        }
      ],
      "source": [
        "estimate_df['estimate'].std()"
      ]
    },
    {
      "cell_type": "markdown",
      "metadata": {
        "id": "wDzNgmY6F72I"
      },
      "source": [
        "Didapati bahwa standar deviasi pada sampling distribution sebesar 1.4. Pelu digaris bawahi bahwa dalam statistika, standar deviasi pada sampling distribution dikenal sebagai **standard error** yang dapat dihitung juga dengan rumus:\n",
        "$$SE = \\frac{\\sigma}{\\sqrt{n}}$$\n",
        "\n",
        "Karena sebelumnya kita telah menghitung standar deviasi dari populasi sebesar 10.09, maka kita dapat menghitung standard error dengan nilai `n` sebesar 50 sebagai berikut:"
      ]
    },
    {
      "cell_type": "code",
      "execution_count": 15,
      "metadata": {
        "id": "5WI2YDGWF72I"
      },
      "outputs": [
        {
          "data": {
            "text/plain": [
              "1.4281379676258985"
            ]
          },
          "execution_count": 15,
          "metadata": {},
          "output_type": "execute_result"
        }
      ],
      "source": [
        "standard_error = population_std/ np.sqrt(50)\n",
        "standard_error"
      ]
    }
  ],
  "metadata": {
    "colab": {
      "provenance": []
    },
    "kernelspec": {
      "display_name": "Python 3",
      "language": "python",
      "name": "python3"
    },
    "language_info": {
      "codemirror_mode": {
        "name": "ipython",
        "version": 3
      },
      "file_extension": ".py",
      "mimetype": "text/x-python",
      "name": "python",
      "nbconvert_exporter": "python",
      "pygments_lexer": "ipython3",
      "version": "3.11.7"
    }
  },
  "nbformat": 4,
  "nbformat_minor": 0
}
