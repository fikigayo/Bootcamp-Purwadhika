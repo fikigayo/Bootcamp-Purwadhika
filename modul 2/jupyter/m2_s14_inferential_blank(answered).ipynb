{
 "cells": [
  {
   "cell_type": "markdown",
   "metadata": {},
   "source": [
    "# **Introduction to Statistics III**\n",
    "\n",
    "Sebelumnya, kita telah mengetahui bahwa statistika adalah studi terkait pengumpulan, analisis dan\n",
    "interpretasi data. Saat ini, manusia menghasilkan dan mengumpulkan lebih banyak data daripada sebelumnya. Setiap kali kita mengirim pesan teks, melakukan pembelian online, atau memposting foto di media sosial, kita menghasilkan data baru. Seiring bertambahnya jumlah data, kebutuhan akan menganalisis dan menafsirkan hal tersebut pun semakin meningkat. Ini adalah alasan utama mengapa statistika dan pekerjaan berbasis data sangatlah penting. Dengan demikian bidang analisis data berkembang hampir sama cepatnya seperti data itu sendiri. \n",
    "\n",
    "Profesional di bidang data menggunakan statistika untuk menganalisis data dalam bisnis, kedokteran, sains, teknik, pemerintah, dan banyak lagi. Profesional di bidang data menggunakan kekuatan metode statistika untuk mengidentifikasi pola yang bermakna dan mencari hubungan dalam data, menganalisis dan mengukur ketidakpastian, menghasilkan wawasan dari data, membuat prediksi yang tepat tentang masa depan, dan menyelesaikan masalah yang kompleks. \n",
    "\n",
    "Meskipun kita belum pernah mempelajari statistika, kita mungkin menggunakan statistika setiap hari. Misalnya, kita memulai hari dengan memeriksa cuaca secara online, di mana kita mempelajari bahwa\n",
    "terdapat perkiraan kemungkinan hujan sebesar 70 persen atau kemungkinan salju sebesar 50 persen. Mungkin kita berkunjung ke situs web olahraga untuk mempelajari rata-rata pukulan pemain baseball atau rata-rata skor pemain basket favorit kita. Di aplikasi berita, kita mungkin menemukan jajak pendapat pemilu yang melaporkan angka margin of error sebesar tiga persen  dan mencatat bahwa survei online digunakan untuk mengumpulkan data. Atau mungkin kita adalah orang tua, dan saat kita membawa anak kita pada pemeriksaan rutin, kita mengetahui bahwa tinggi dan berat badan anak kita berada dalam persentil tertentu. Ketika kita meminta informasi lebih lanjut, dokter menunjukkan kepada kita\n",
    "median tinggi dan berat badan untuk semua anak yang seumuran. Skenario ini mencakup konsep statistik yang akan kita pelajari lebih lanjut.\n",
    "\n",
    "___"
   ]
  },
  {
   "cell_type": "code",
   "execution_count": 3,
   "metadata": {},
   "outputs": [],
   "source": [
    "# data manipulation\n",
    "import numpy as np\n",
    "import pandas as pd\n",
    "\n",
    "# visualization\n",
    "import matplotlib.pyplot as plt\n",
    "import seaborn as sns\n",
    "\n",
    "# statistics\n",
    "import statsmodels.api as sm\n",
    "import scipy.stats as stats"
   ]
  },
  {
   "cell_type": "markdown",
   "metadata": {},
   "source": [
    "## **1. Inferential Statistic**\n",
    "\n",
    "Statistik deskriptif hanya menggambarkan kondisi suatu data yang ada di hadapan kita. Sedangkan tujuan statistik inferensial adalah membuat generalisasi atau kesimpulan untuk sebuah populasi. \n",
    "\n",
    "Generalisasi atau kesimpulan ini dilakukan menggunakan sampel yang diambil secara acak dari populasi. Kebenaran atau reliabilitas dari generalisasi diukur menggunakan probabilitas.\n",
    "\n",
    "Metode yang biasa digunakan untuk melakukan inferensi yaitu: \n",
    "- Point estimation\n",
    "- Interval estimation\n",
    "- Hypothesis testing \n",
    "\n",
    "### `Estimation`\n",
    "\n",
    "Di dalam statistik inferensial, data sampel digunakan untuk membentuk dua jenis estimator parameter:\n",
    "- Pertama, `Poin Estimate` atau perkiraan untuk angka tunggal.\n",
    "- Kedua, `Confidence Interval` atau interval kepercayaan.\n",
    "\n",
    "**Point Estimate**\n",
    "\n",
    "Pada point estimate, estimasi dihitung dari data sampel dan digunakan sebagai estimasi atau perkiraan terbaik untuk parameter yang tidak diketahui. Sampel untuk membuat estimasi tunggal **diasumsikan telah diambil secara acak** dari populasi.\n",
    "\n",
    "Contoh simbol untuk estimasi tunggal misalnya:\n",
    "- untuk memperkirakan μ (Rata-rata Populasi) kita dapat menggunakan estimator x̄.\n",
    "- untuk memperkirakan P (Proporsi Populasi) kita dapat menggunakan estimator p.\n",
    "\n",
    "Estimator yang baik adalah dengan **distribusi sampel yang berpusat di sekitar parameter dan Standard Error terkecil**.\n",
    "\n",
    "Namun, kita tidak bisa mengandalkan hanya estimasi tunggal. Sebab estimasi tunggal hanyalah estimasi yang bisa salah atau jauh dari nilai sebenarnya. Kita juga tidak bisa tahu seberapa dekat estimasi dengan parameter. Kita perlu mengukur seberapa dekat estimasi kita dan seberapa jauh kita akan meleset.\n",
    "\n",
    "**Interval Estimate**\n",
    "\n",
    "Setelah memahami estimasi tunggal, mari kita bahas estimasi interval. Setiap perkiraan atau estimasi memiliki tingkat kepercayaan tertentu.\n",
    "\n",
    "Kita buat sebuah **interval** yang kita harapkan **berisi parameter** dengan **tingkat kepercayaan** tertentu. **Tingkat kepercayaan** adalah angka dari 0 sampai 1, yang mewakili **probabilitas** (Sering kali 0,90 (90%), 0,95 (95%), atau 0,99 (99%)).\n",
    "\n",
    "Tingkat kepercayaan 95% artinya jika kita mengambil ukuran sampel sebesar n dan kita ulangi sebanyak 20 kali.  Maka, kita percaya bahwa parameter telah tercakup dalam interval kepercayaan 19 kali. Level kepercayaan di tingkat sampel ini bisa kita generalisasi di tingkat populasi.\n",
    "\n",
    "![Interval Estimate](https://image.slidesharecdn.com/lecture6pointandintervalestimation-230715194232-c98e07d2/85/lecture-6-point-and-interval-estimationpptx-21-320.jpg?cb=1689451102)\n",
    "\n",
    "\n",
    "\n",
    "\n"
   ]
  },
  {
   "cell_type": "markdown",
   "metadata": {},
   "source": [
    "### `Confidence Interval`\n",
    "\n",
    "**Confidence Interval (CI)** adalah jenis estimasi yang dihitung dari statistik data observasi. Confidence Interval mengusulkan rentang nilai yang masuk akal untuk parameter yang tidak diketahui (misalnya, mean). Interval tersebut memiliki tingkat keyakinan terkait bahwa parameter sebenarnya berada dalam rentang yang diusulkan.\n",
    "\n",
    "Ada 2 contoh Confidence interval, yaitu \n",
    "- Confidence interval untuk proporsi \n",
    "- Confidence interval untuk rata-rata.\n",
    "\n",
    "**Confidence interval untuk proporsi**\n",
    "\n",
    "Confidence interval untuk proporsi populasi p, menggunakan proporsi sample p̂ dan standard error $se = \\sqrt{\\hat{p}(1 - \\hat{p})/n}$ untuk ukuran sampel n, adalah:\n",
    "\n",
    "$$\\hat{p} \\pm z(se),\\text{ yaitu } \\hat{p} \\pm z\\sqrt{\\hat{p}(1 - \\hat{p})/n}$$\n",
    "\n",
    "Untuk confidence interval 90%, 95%, dan 99%, nilai z sama dengan 1.645, 1.96, dan 2.58. metode ini mengasumsikan:\n",
    "- Data diambil secara acak.\n",
    "- ukuran sampel yang diambil cukup besar sehingga jumlah sukses dan jumlah gagal yaitu $n\\hat{p}$ and $n(1 – \\hat{p})$, keduanya paling sedikit 15 data.\n"
   ]
  },
  {
   "cell_type": "markdown",
   "metadata": {},
   "source": [
    "**Confidence interval untuk rata-rata**\n",
    "\n",
    "Confidence interval untuk proporsi rata-rata dengan selang kepercayaan 95% adalah:\n",
    "\n",
    "$$\\bar{x} \\pm t_{.025}(se),\\text{ dimana } se = s/\\sqrt{n}$$\n",
    "\n",
    "Dimana degree of freedom (df) = n-1 untuk t-score $t_{.025}$ (total peluang 0.05 pada two tails). Untuk menggunakan metode ini:\n",
    "- Data diambil secara acak.\n",
    "- Distribusi populasi diperkirakan normal"
   ]
  },
  {
   "cell_type": "code",
   "execution_count": 4,
   "metadata": {},
   "outputs": [
    {
     "data": {
      "text/html": [
       "<div>\n",
       "<style scoped>\n",
       "    .dataframe tbody tr th:only-of-type {\n",
       "        vertical-align: middle;\n",
       "    }\n",
       "\n",
       "    .dataframe tbody tr th {\n",
       "        vertical-align: top;\n",
       "    }\n",
       "\n",
       "    .dataframe thead th {\n",
       "        text-align: right;\n",
       "    }\n",
       "</style>\n",
       "<table border=\"1\" class=\"dataframe\">\n",
       "  <thead>\n",
       "    <tr style=\"text-align: right;\">\n",
       "      <th></th>\n",
       "      <th>Id</th>\n",
       "      <th>MSSubClass</th>\n",
       "      <th>MSZoning</th>\n",
       "      <th>LotFrontage</th>\n",
       "      <th>LotArea</th>\n",
       "      <th>Street</th>\n",
       "      <th>Alley</th>\n",
       "      <th>LotShape</th>\n",
       "      <th>LandContour</th>\n",
       "      <th>Utilities</th>\n",
       "      <th>...</th>\n",
       "      <th>PoolArea</th>\n",
       "      <th>PoolQC</th>\n",
       "      <th>Fence</th>\n",
       "      <th>MiscFeature</th>\n",
       "      <th>MiscVal</th>\n",
       "      <th>MoSold</th>\n",
       "      <th>YrSold</th>\n",
       "      <th>SaleType</th>\n",
       "      <th>SaleCondition</th>\n",
       "      <th>SalePrice</th>\n",
       "    </tr>\n",
       "  </thead>\n",
       "  <tbody>\n",
       "    <tr>\n",
       "      <th>0</th>\n",
       "      <td>1</td>\n",
       "      <td>60</td>\n",
       "      <td>RL</td>\n",
       "      <td>65.0</td>\n",
       "      <td>8450</td>\n",
       "      <td>Pave</td>\n",
       "      <td>NaN</td>\n",
       "      <td>Reg</td>\n",
       "      <td>Lvl</td>\n",
       "      <td>AllPub</td>\n",
       "      <td>...</td>\n",
       "      <td>0</td>\n",
       "      <td>NaN</td>\n",
       "      <td>NaN</td>\n",
       "      <td>NaN</td>\n",
       "      <td>0</td>\n",
       "      <td>2</td>\n",
       "      <td>2008</td>\n",
       "      <td>WD</td>\n",
       "      <td>Normal</td>\n",
       "      <td>208500</td>\n",
       "    </tr>\n",
       "    <tr>\n",
       "      <th>1</th>\n",
       "      <td>2</td>\n",
       "      <td>20</td>\n",
       "      <td>RL</td>\n",
       "      <td>80.0</td>\n",
       "      <td>9600</td>\n",
       "      <td>Pave</td>\n",
       "      <td>NaN</td>\n",
       "      <td>Reg</td>\n",
       "      <td>Lvl</td>\n",
       "      <td>AllPub</td>\n",
       "      <td>...</td>\n",
       "      <td>0</td>\n",
       "      <td>NaN</td>\n",
       "      <td>NaN</td>\n",
       "      <td>NaN</td>\n",
       "      <td>0</td>\n",
       "      <td>5</td>\n",
       "      <td>2007</td>\n",
       "      <td>WD</td>\n",
       "      <td>Normal</td>\n",
       "      <td>181500</td>\n",
       "    </tr>\n",
       "    <tr>\n",
       "      <th>2</th>\n",
       "      <td>3</td>\n",
       "      <td>60</td>\n",
       "      <td>RL</td>\n",
       "      <td>68.0</td>\n",
       "      <td>11250</td>\n",
       "      <td>Pave</td>\n",
       "      <td>NaN</td>\n",
       "      <td>IR1</td>\n",
       "      <td>Lvl</td>\n",
       "      <td>AllPub</td>\n",
       "      <td>...</td>\n",
       "      <td>0</td>\n",
       "      <td>NaN</td>\n",
       "      <td>NaN</td>\n",
       "      <td>NaN</td>\n",
       "      <td>0</td>\n",
       "      <td>9</td>\n",
       "      <td>2008</td>\n",
       "      <td>WD</td>\n",
       "      <td>Normal</td>\n",
       "      <td>223500</td>\n",
       "    </tr>\n",
       "    <tr>\n",
       "      <th>3</th>\n",
       "      <td>4</td>\n",
       "      <td>70</td>\n",
       "      <td>RL</td>\n",
       "      <td>60.0</td>\n",
       "      <td>9550</td>\n",
       "      <td>Pave</td>\n",
       "      <td>NaN</td>\n",
       "      <td>IR1</td>\n",
       "      <td>Lvl</td>\n",
       "      <td>AllPub</td>\n",
       "      <td>...</td>\n",
       "      <td>0</td>\n",
       "      <td>NaN</td>\n",
       "      <td>NaN</td>\n",
       "      <td>NaN</td>\n",
       "      <td>0</td>\n",
       "      <td>2</td>\n",
       "      <td>2006</td>\n",
       "      <td>WD</td>\n",
       "      <td>Abnorml</td>\n",
       "      <td>140000</td>\n",
       "    </tr>\n",
       "    <tr>\n",
       "      <th>4</th>\n",
       "      <td>5</td>\n",
       "      <td>60</td>\n",
       "      <td>RL</td>\n",
       "      <td>84.0</td>\n",
       "      <td>14260</td>\n",
       "      <td>Pave</td>\n",
       "      <td>NaN</td>\n",
       "      <td>IR1</td>\n",
       "      <td>Lvl</td>\n",
       "      <td>AllPub</td>\n",
       "      <td>...</td>\n",
       "      <td>0</td>\n",
       "      <td>NaN</td>\n",
       "      <td>NaN</td>\n",
       "      <td>NaN</td>\n",
       "      <td>0</td>\n",
       "      <td>12</td>\n",
       "      <td>2008</td>\n",
       "      <td>WD</td>\n",
       "      <td>Normal</td>\n",
       "      <td>250000</td>\n",
       "    </tr>\n",
       "  </tbody>\n",
       "</table>\n",
       "<p>5 rows × 81 columns</p>\n",
       "</div>"
      ],
      "text/plain": [
       "   Id  MSSubClass MSZoning  LotFrontage  LotArea Street Alley LotShape  \\\n",
       "0   1          60       RL         65.0     8450   Pave   NaN      Reg   \n",
       "1   2          20       RL         80.0     9600   Pave   NaN      Reg   \n",
       "2   3          60       RL         68.0    11250   Pave   NaN      IR1   \n",
       "3   4          70       RL         60.0     9550   Pave   NaN      IR1   \n",
       "4   5          60       RL         84.0    14260   Pave   NaN      IR1   \n",
       "\n",
       "  LandContour Utilities  ... PoolArea PoolQC Fence MiscFeature MiscVal MoSold  \\\n",
       "0         Lvl    AllPub  ...        0    NaN   NaN         NaN       0      2   \n",
       "1         Lvl    AllPub  ...        0    NaN   NaN         NaN       0      5   \n",
       "2         Lvl    AllPub  ...        0    NaN   NaN         NaN       0      9   \n",
       "3         Lvl    AllPub  ...        0    NaN   NaN         NaN       0      2   \n",
       "4         Lvl    AllPub  ...        0    NaN   NaN         NaN       0     12   \n",
       "\n",
       "  YrSold  SaleType  SaleCondition  SalePrice  \n",
       "0   2008        WD         Normal     208500  \n",
       "1   2007        WD         Normal     181500  \n",
       "2   2008        WD         Normal     223500  \n",
       "3   2006        WD        Abnorml     140000  \n",
       "4   2008        WD         Normal     250000  \n",
       "\n",
       "[5 rows x 81 columns]"
      ]
     },
     "execution_count": 4,
     "metadata": {},
     "output_type": "execute_result"
    }
   ],
   "source": [
    "data = pd.read_csv('train.csv')\n",
    "data.head()"
   ]
  },
  {
   "cell_type": "code",
   "execution_count": 5,
   "metadata": {},
   "outputs": [
    {
     "data": {
      "text/plain": [
       "(1460, 81)"
      ]
     },
     "execution_count": 5,
     "metadata": {},
     "output_type": "execute_result"
    }
   ],
   "source": [
    "data.shape"
   ]
  },
  {
   "cell_type": "code",
   "execution_count": 6,
   "metadata": {},
   "outputs": [
    {
     "data": {
      "text/plain": [
       "Index(['Id', 'MSSubClass', 'MSZoning', 'LotFrontage', 'LotArea', 'Street',\n",
       "       'Alley', 'LotShape', 'LandContour', 'Utilities', 'LotConfig',\n",
       "       'LandSlope', 'Neighborhood', 'Condition1', 'Condition2', 'BldgType',\n",
       "       'HouseStyle', 'OverallQual', 'OverallCond', 'YearBuilt', 'YearRemodAdd',\n",
       "       'RoofStyle', 'RoofMatl', 'Exterior1st', 'Exterior2nd', 'MasVnrType',\n",
       "       'MasVnrArea', 'ExterQual', 'ExterCond', 'Foundation', 'BsmtQual',\n",
       "       'BsmtCond', 'BsmtExposure', 'BsmtFinType1', 'BsmtFinSF1',\n",
       "       'BsmtFinType2', 'BsmtFinSF2', 'BsmtUnfSF', 'TotalBsmtSF', 'Heating',\n",
       "       'HeatingQC', 'CentralAir', 'Electrical', '1stFlrSF', '2ndFlrSF',\n",
       "       'LowQualFinSF', 'GrLivArea', 'BsmtFullBath', 'BsmtHalfBath', 'FullBath',\n",
       "       'HalfBath', 'BedroomAbvGr', 'KitchenAbvGr', 'KitchenQual',\n",
       "       'TotRmsAbvGrd', 'Functional', 'Fireplaces', 'FireplaceQu', 'GarageType',\n",
       "       'GarageYrBlt', 'GarageFinish', 'GarageCars', 'GarageArea', 'GarageQual',\n",
       "       'GarageCond', 'PavedDrive', 'WoodDeckSF', 'OpenPorchSF',\n",
       "       'EnclosedPorch', '3SsnPorch', 'ScreenPorch', 'PoolArea', 'PoolQC',\n",
       "       'Fence', 'MiscFeature', 'MiscVal', 'MoSold', 'YrSold', 'SaleType',\n",
       "       'SaleCondition', 'SalePrice'],\n",
       "      dtype='object')"
      ]
     },
     "execution_count": 6,
     "metadata": {},
     "output_type": "execute_result"
    }
   ],
   "source": [
    "data.columns"
   ]
  },
  {
   "cell_type": "markdown",
   "metadata": {},
   "source": [
    "Kita akan coba bangun confidence interval untuk rata-rata dengan selang kepercayaan 95%."
   ]
  },
  {
   "cell_type": "code",
   "execution_count": 10,
   "metadata": {},
   "outputs": [
    {
     "name": "stdout",
     "output_type": "stream",
     "text": [
      "rata-rata Harga rumah pada sample data 182470.241\n"
     ]
    }
   ],
   "source": [
    "np.random.seed(10)\n",
    "sample_size = 1000\n",
    "sample = np.random.choice(a=data['SalePrice'], size=sample_size)\n",
    "sample_mean = sample.mean()\n",
    "\n",
    "print('rata-rata Harga rumah pada sample data {}'.format(sample_mean))"
   ]
  },
  {
   "cell_type": "code",
   "execution_count": 13,
   "metadata": {},
   "outputs": [
    {
     "name": "stdout",
     "output_type": "stream",
     "text": [
      "rata rata sample adalah 182470.241\n",
      "Confidence Interval untuk rata rata Harga dengan confidence level .95 adalah (177540.46145701702, 187400.020542983)\n",
      "rata rata populasi (sebenarnya) adalah 180921.19589041095\n"
     ]
    }
   ],
   "source": [
    "#significance level\n",
    "alpha = 0.05\n",
    "\n",
    "df = sample_size - 1\n",
    "\n",
    "# get critical value\n",
    "t_critical = stats.t.ppf(1-alpha/2, df)\n",
    "\n",
    "# standard deviation from population\n",
    "pop_std = data['SalePrice'].std()\n",
    "\n",
    "# se\n",
    "standard_error = pop_std / np.sqrt(sample_size)\n",
    "\n",
    "# margin of error\n",
    "margin_of_error = t_critical * standard_error\n",
    "\n",
    "confidence_interval = (sample_mean - margin_of_error, sample_mean + margin_of_error)\n",
    "\n",
    "print('rata rata sample adalah {}'.format(sample_mean))\n",
    "print('Confidence Interval untuk rata rata Harga dengan confidence level .95 adalah {}'.format(confidence_interval))\n",
    "print('rata rata populasi (sebenarnya) adalah {}'.format(data['SalePrice'].mean()))"
   ]
  },
  {
   "cell_type": "markdown",
   "metadata": {},
   "source": [
    "Perhatikan bahwa rata-rata populasi terdapat dalam interval kita. Confidence interval 95% berarti bahwa jika kita mengambil banyak sampel dan membuat interval kepercayaan untuk masing-masing sampel, 95% confidence interval sampel kita akan berisi rata-rata populasi sebenarnya.\n",
    "\n",
    "Sekarang, mari kita buat beberapa confidence interval dan plotkan interval tersebut untuk mendapatkan pemahaman yang lebih baik tentang apa yang dimaksud dengan \"menangkap\" rata-rata populasi."
   ]
  },
  {
   "cell_type": "code",
   "execution_count": 14,
   "metadata": {},
   "outputs": [
    {
     "data": {
      "image/png": "[encoded data removed]",
      "text/plain": [
       "<Figure size 1300x900 with 1 Axes>"
      ]
     },
     "metadata": {},
     "output_type": "display_data"
    }
   ],
   "source": [
    "np.random.seed(12)\n",
    "\n",
    "sample_size = 500\n",
    "\n",
    "intervals = []\n",
    "sample_means = []\n",
    "\n",
    "for sample in range(20):\n",
    "    sample = np.random.choice(a= data['SalePrice'], size = sample_size)\n",
    "    sample_mean = sample.mean()\n",
    "    sample_means.append(sample_mean)\n",
    "\n",
    "    # significance level\n",
    "    alpha = 0.05\n",
    "\n",
    "    # degree of freedom\n",
    "    df = sample_size - 1\n",
    "\n",
    "    # Get the t-critical value*\n",
    "    t_critical = stats.t.ppf(1 - alpha/2, df)       \n",
    "\n",
    "    # Get the population standard deviation\n",
    "    pop_stdev = data['SalePrice'].std()  \n",
    "\n",
    "    margin_of_error = t_critical * (pop_stdev/np.sqrt(sample_size))\n",
    "\n",
    "    confidence_interval = (sample_mean - margin_of_error,\n",
    "                           sample_mean + margin_of_error)  \n",
    "    \n",
    "    intervals.append(confidence_interval)\n",
    "    \n",
    "\n",
    "plt.figure(figsize=(13, 9))\n",
    "\n",
    "plt.errorbar(x=np.arange(0.1, 20, 1), \n",
    "             y=sample_means, \n",
    "             yerr=[np.abs((top-bot))/2 for top,bot in intervals],\n",
    "             fmt='o')\n",
    "\n",
    "plt.hlines(xmin=0, xmax=20,\n",
    "           y=data['SalePrice'].mean(), \n",
    "           linewidth=2.0,\n",
    "           color=\"red\")\n",
    "plt.title('Confidence Intervals for 20 Trials', fontsize = 20)\n",
    "plt.show()"
   ]
  },
  {
   "cell_type": "markdown",
   "metadata": {},
   "source": [
    "Terlihat bahwa dari 20 confidence interval yang kita buat, 19 diantaranya mencakup rata-rata dari populasi."
   ]
  },
  {
   "cell_type": "markdown",
   "metadata": {},
   "source": [
    "## **2. Hypothesis Testing**\n",
    "\n",
    "Statistical hypothesis terkadang disebut analisis data konfirmatori, adalah hipotesis yang dapat diuji berdasarkan pengamatan suatu proses yang dimodelkan melalui serangkaian variabel acak. Uji hipotesis statistik adalah metode inferensi statistik.\n",
    "\n",
    "Langkah-langkah yang perlu dilakukan untuk melakukan uji hipotesis diantaranya:\n",
    "\n",
    "1.   Nyatakan null hypothesis dan alternative hypothesis.\n",
    "2.   Pilih significance level.\n",
    "3.   Hitung p-value. \n",
    "4.   Tolak atau gagal menolak null hypothesis.\n",
    "\n",
    "\n",
    "### `Null Hypothesis`\n",
    "\n",
    "Dalam Statistik Inferensial, **Hipotesis nol adalah pernyataan umum atau posisi default bahwa tidak ada hubungan antara dua fenomena yang diukur atau tidak ada hubungan antar kelompok.**\n",
    "\n",
    "Uji hipotesis statistik didasarkan pada pernyataan yang disebut hipotesis nol yang mengasumsikan tidak ada hal menarik yang terjadi di antara variabel apa pun yang Anda uji.\n",
    "\n",
    "### `Alternate Hypothesis`\n",
    "\n",
    "Hipotesis alternatif adalah sebuah alternatif terhadap hipotesis nol. Misalnya, jika hipotesis nol kita adalah **Data terdistribusi normal** maka alternatif kita adalah **Data tidak terdistribusi normal.** Pada dasarnya, kita melihat apakah ada cukup perubahan (dengan hipotesis alternatif) untuk dapat menolak hipotesis nol\n",
    "\n",
    "Hipotesis nol selalu diasumsikan benar dan bukti statistik diperlukan untuk menolak hipotesis nol demi mendukung hipotesis alternatif.\n",
    "\n",
    "### `Significance level`\n",
    "\n",
    "Significance level (biasa dinotasikan dengan huruf α) adalah ambang batas probabilitas yang menentukan kapan kita menolak hipotesis nol. Significance level juga dapat diartikan besarnya peluang salah dimana kita menolak hipotesis nol padahal hipotesis nol benar.\n",
    "\n",
    "### `P-value`\n",
    "\n",
    "P-value merujuk pada probabilitas mengamati hasil yang sama atau lebih ekstrim daripada yang diamati ketika hipotesis nol benar.\n",
    "\n",
    "Jika nilai p-value lebih kecil dari significance level ($\\alpha$), maka kita menolak hipotesis nol dan menerima bahwa hipotesis alternatif itu benar."
   ]
  },
  {
   "cell_type": "markdown",
   "metadata": {},
   "source": [
    "## **3. Hypothesis Testing for Mean**\n",
    "\n",
    "Menetukan testing yang tepat:\n",
    "\n",
    "**cek tipe variabel, (N v N, C v N, C v C)**\n",
    "\n",
    "korelasi, t-test, chi-square\n",
    "\n",
    "**Distribusi (normal / tidak normal)**\n",
    "\n",
    "**banyak sampel / kelompok**\n",
    "\n",
    "1 kelompok, 2 kelompok, >2 kelompok\n",
    "berpasangan (orang yang sama) / tidak berpasangan (orang berbeda)\n",
    "\n",
    "- t-Test normal, 1 group --> 1 sample t-test\n",
    "- t-Test normal, 2 group --> 2 sample paired/unpaired t-test\n",
    "- t-Test normal, 3+ group --> one way anova\n",
    "\n",
    "- t-Test not normal, 1 group --> 1 sample wilcoxon\n",
    "- t-Test not normal, 2 group --> 2 wilcoxon, mann whitney\n",
    "- t-Test not normal, 3+ group --> kruskal willis\n",
    "\n",
    "- correlation normal --> pearson\n",
    "- correlation not normal --> spearman\n",
    "\n",
    "\n",
    "Uji ini digunakan untuk membuktikan apakah dugaan nilai rata-rata pada suatu populasi benar ataukah salah. Ada beberapa jenis uji hipotesis untuk rata-rata menyesuaikan dengan kondisi datanya.\n",
    "- Pertama, T-test untuk uji hipotesis rata-rata populasi tunggal.\n",
    "- Kedua, T-test untuk uji hipotesis rata-rata dua sampel populasi yang tidak saling berhubungan, baik yang variannya sama atau variannya tidak sama.\n",
    "- Ketiga, T-test untuk uji hipotesis rata-rata dua sampel saling berpasangan.\n",
    "- Lalu, terakhir Anova F-test untuk uji hipotesis rata-rata lebih dari dua populasi."
   ]
  },
  {
   "cell_type": "code",
   "execution_count": 16,
   "metadata": {},
   "outputs": [
    {
     "data": {
      "text/html": [
       "<div>\n",
       "<style scoped>\n",
       "    .dataframe tbody tr th:only-of-type {\n",
       "        vertical-align: middle;\n",
       "    }\n",
       "\n",
       "    .dataframe tbody tr th {\n",
       "        vertical-align: top;\n",
       "    }\n",
       "\n",
       "    .dataframe thead th {\n",
       "        text-align: right;\n",
       "    }\n",
       "</style>\n",
       "<table border=\"1\" class=\"dataframe\">\n",
       "  <thead>\n",
       "    <tr style=\"text-align: right;\">\n",
       "      <th></th>\n",
       "      <th>Name</th>\n",
       "      <th>Author</th>\n",
       "      <th>User Rating</th>\n",
       "      <th>Reviews</th>\n",
       "      <th>Price</th>\n",
       "      <th>Year</th>\n",
       "      <th>Genre</th>\n",
       "    </tr>\n",
       "  </thead>\n",
       "  <tbody>\n",
       "    <tr>\n",
       "      <th>0</th>\n",
       "      <td>10-Day Green Smoothie Cleanse</td>\n",
       "      <td>JJ Smith</td>\n",
       "      <td>4.7</td>\n",
       "      <td>17350</td>\n",
       "      <td>8</td>\n",
       "      <td>2016</td>\n",
       "      <td>Non Fiction</td>\n",
       "    </tr>\n",
       "    <tr>\n",
       "      <th>1</th>\n",
       "      <td>11/22/63: A Novel</td>\n",
       "      <td>Stephen King</td>\n",
       "      <td>4.6</td>\n",
       "      <td>2052</td>\n",
       "      <td>22</td>\n",
       "      <td>2011</td>\n",
       "      <td>Fiction</td>\n",
       "    </tr>\n",
       "    <tr>\n",
       "      <th>2</th>\n",
       "      <td>12 Rules for Life: An Antidote to Chaos</td>\n",
       "      <td>Jordan B. Peterson</td>\n",
       "      <td>4.7</td>\n",
       "      <td>18979</td>\n",
       "      <td>15</td>\n",
       "      <td>2018</td>\n",
       "      <td>Non Fiction</td>\n",
       "    </tr>\n",
       "    <tr>\n",
       "      <th>3</th>\n",
       "      <td>1984 (Signet Classics)</td>\n",
       "      <td>George Orwell</td>\n",
       "      <td>4.7</td>\n",
       "      <td>21424</td>\n",
       "      <td>6</td>\n",
       "      <td>2017</td>\n",
       "      <td>Fiction</td>\n",
       "    </tr>\n",
       "    <tr>\n",
       "      <th>4</th>\n",
       "      <td>5,000 Awesome Facts (About Everything!) (Natio...</td>\n",
       "      <td>National Geographic Kids</td>\n",
       "      <td>4.8</td>\n",
       "      <td>7665</td>\n",
       "      <td>12</td>\n",
       "      <td>2019</td>\n",
       "      <td>Non Fiction</td>\n",
       "    </tr>\n",
       "  </tbody>\n",
       "</table>\n",
       "</div>"
      ],
      "text/plain": [
       "                                                Name  \\\n",
       "0                      10-Day Green Smoothie Cleanse   \n",
       "1                                  11/22/63: A Novel   \n",
       "2            12 Rules for Life: An Antidote to Chaos   \n",
       "3                             1984 (Signet Classics)   \n",
       "4  5,000 Awesome Facts (About Everything!) (Natio...   \n",
       "\n",
       "                     Author  User Rating  Reviews  Price  Year        Genre  \n",
       "0                  JJ Smith          4.7    17350      8  2016  Non Fiction  \n",
       "1              Stephen King          4.6     2052     22  2011      Fiction  \n",
       "2        Jordan B. Peterson          4.7    18979     15  2018  Non Fiction  \n",
       "3             George Orwell          4.7    21424      6  2017      Fiction  \n",
       "4  National Geographic Kids          4.8     7665     12  2019  Non Fiction  "
      ]
     },
     "execution_count": 16,
     "metadata": {},
     "output_type": "execute_result"
    }
   ],
   "source": [
    "df = pd.read_csv('bestsellers with categories.csv')\n",
    "df.head()"
   ]
  },
  {
   "cell_type": "markdown",
   "metadata": {},
   "source": [
    "### `a. One Sample T-test`\n",
    "\n",
    "T-Test jenis ini digunakan untuk menguji dugaan atau hipotesis rata-rata pada populasi tunggal. Misal kita ingin membandingkan rata-rata dari suatu kelompok (Kelompok A) dengan rata-rata yang diharapkan.\n",
    "\n",
    "Dalam kasus ini kita hendak menguji apakah rata-rata harga buku adalah 10 dollar. \n",
    "\n",
    "Kita nyatakan terlebih dahulu null hypothesis dan alternative hypothesis.\n",
    "\n",
    "- `H0`: $\\mu_\\text{harga buku}$ = 10\n",
    "- `H1`: $\\mu_\\text{harga buku}$ != 10\n",
    "\n",
    "Kemudian kita pilih significance level.\n",
    "- Significance level ($\\alpha$) = 0.05\n",
    "\n",
    "Selanjutnya kita hitung p-value."
   ]
  },
  {
   "cell_type": "code",
   "execution_count": 17,
   "metadata": {},
   "outputs": [
    {
     "data": {
      "text/plain": [
       "5.001628960126041e-11"
      ]
     },
     "execution_count": 17,
     "metadata": {},
     "output_type": "execute_result"
    }
   ],
   "source": [
    "from scipy.stats import ttest_1samp\n",
    "\n",
    "stat, pvalue = ttest_1samp(a=df['Price'], popmean=10, alternative='two-sided')\n",
    "pvalue"
   ]
  },
  {
   "cell_type": "markdown",
   "metadata": {},
   "source": [
    "Terakhir kita tarik kesimpulan yaitu:"
   ]
  },
  {
   "cell_type": "code",
   "execution_count": 18,
   "metadata": {},
   "outputs": [
    {
     "name": "stdout",
     "output_type": "stream",
     "text": [
      "\n",
      "    pvalue = 0.00000. pvalue <= 0.05. Reject Ho.\n",
      "    Kita punya cukup bukti untuk mengatakan bahwa rata-rata harga buku TIDAK SAMA dengan 10 dollar\n",
      "    \n"
     ]
    }
   ],
   "source": [
    "alpha = 0.05\n",
    "\n",
    "if pvalue > 0.05:\n",
    "    print(f'''\n",
    "    pvalue = {pvalue:.5f}. pvalue > {alpha}. Fail to Reject Ho.\n",
    "    Kita TIDAK punya cukup bukti untuk mengatakan bahwa rata-rata harga buku TIDAK SAMA dengan 10 dollar\n",
    "    ''')\n",
    "else:\n",
    "    print(f'''\n",
    "    pvalue = {pvalue:.5f}. pvalue <= {alpha}. Reject Ho.\n",
    "    Kita punya cukup bukti untuk mengatakan bahwa rata-rata harga buku TIDAK SAMA dengan 10 dollar\n",
    "    ''')"
   ]
  },
  {
   "cell_type": "markdown",
   "metadata": {},
   "source": [
    "### `b. Two Sample t-test (unpaired)`\n",
    "\n",
    "Uji hipotesis ini digunakan untuk menguji hipotesis atau dugaan rata-rata dua populasi independen. Independen ini artinya dua populasi tidak saling berkaitan.\n",
    "\n",
    "Dalam kasus ini kita hendak membandingkan rata-rata harga buku pada 2 kelompok Genre (Fiction dan Non Fiction).\n",
    "\n",
    "Kita nyatakan terlebih dahulu null hypothesis dan alternative hypothesis.\n",
    "\n",
    "- `H0`: $\\mu_\\text{harga buku fiksi}$ = $\\mu_\\text{harga buku non fiksi}$\n",
    "- `H1`: $\\mu_\\text{harga buku fiksi}$ != $\\mu_\\text{harga buku non fiksi}$\n",
    "\n",
    "Kemudian kita pilih significance level.\n",
    "- Significance level ($\\alpha$) = 0.05\n",
    "\n",
    "Selanjutnya kita hitung p-value. Namun sebelum itu, kita akan mengecek dahulu variance harga buku dari kedua genre."
   ]
  },
  {
   "cell_type": "code",
   "execution_count": 20,
   "metadata": {},
   "outputs": [
    {
     "data": {
      "text/plain": [
       "1.9735421621702571"
      ]
     },
     "execution_count": 20,
     "metadata": {},
     "output_type": "execute_result"
    }
   ],
   "source": [
    "# variance non fiksi\n",
    "non_fiction_variance = df[df['Genre']=='Non Fiction']['Price'].var()\n",
    "# variance fiksi\n",
    "fiction_variance = df[df['Genre']=='Fiction']['Price'].var()\n",
    "\n",
    "ratio = non_fiction_variance/fiction_variance\n",
    "ratio"
   ]
  },
  {
   "cell_type": "markdown",
   "metadata": {},
   "source": [
    "Karena perbandingan variansnya 73.49 : 145.04 = 1 : 1.97, maka kita asumsikan variance populasinya equal (maksimal 1:4)"
   ]
  },
  {
   "cell_type": "code",
   "execution_count": 21,
   "metadata": {},
   "outputs": [
    {
     "data": {
      "text/plain": [
       "1.6124350718120727e-05"
      ]
     },
     "execution_count": 21,
     "metadata": {},
     "output_type": "execute_result"
    }
   ],
   "source": [
    "from scipy.stats import ttest_ind\n",
    "\n",
    "stat, pvalue = ttest_ind(a = df[df['Genre']=='Fiction']['Price'], \n",
    "                         b = df[df['Genre']=='Non Fiction']['Price'],\n",
    "                         equal_var=True,\n",
    "                         alternative='two-sided')\n",
    "pvalue"
   ]
  },
  {
   "cell_type": "code",
   "execution_count": 22,
   "metadata": {},
   "outputs": [
    {
     "name": "stdout",
     "output_type": "stream",
     "text": [
      "\n",
      "    pvalue = 0.00002. pvalue <= 0.05. Reject Ho.\n",
      "    Kita punya cukup bukti untuk mengatakan bahwa rata-rata harga buku Fiksi TIDAK SAMA dengan rata-rata harga buku Non-Fiksi\n",
      "    \n"
     ]
    }
   ],
   "source": [
    "alpha = 0.05\n",
    "\n",
    "if pvalue > 0.05:\n",
    "    print(f'''\n",
    "    pvalue = {pvalue:.5f}. pvalue > {alpha}. Fail to Reject Ho.\n",
    "    Kita TIDAK punya cukup bukti untuk mengatakan bahwa rata-rata harga buku Fiksi TIDAK SAMA dengan rata-rata harga buku Non Fiksi\n",
    "    ''')\n",
    "else:\n",
    "    print(f'''\n",
    "    pvalue = {pvalue:.5f}. pvalue <= {alpha}. Reject Ho.\n",
    "    Kita punya cukup bukti untuk mengatakan bahwa rata-rata harga buku Fiksi TIDAK SAMA dengan rata-rata harga buku Non-Fiksi\n",
    "    ''')"
   ]
  },
  {
   "cell_type": "code",
   "execution_count": 23,
   "metadata": {},
   "outputs": [
    {
     "data": {
      "text/html": [
       "<div>\n",
       "<style scoped>\n",
       "    .dataframe tbody tr th:only-of-type {\n",
       "        vertical-align: middle;\n",
       "    }\n",
       "\n",
       "    .dataframe tbody tr th {\n",
       "        vertical-align: top;\n",
       "    }\n",
       "\n",
       "    .dataframe thead th {\n",
       "        text-align: right;\n",
       "    }\n",
       "</style>\n",
       "<table border=\"1\" class=\"dataframe\">\n",
       "  <thead>\n",
       "    <tr style=\"text-align: right;\">\n",
       "      <th></th>\n",
       "      <th>Price</th>\n",
       "    </tr>\n",
       "    <tr>\n",
       "      <th>Genre</th>\n",
       "      <th></th>\n",
       "    </tr>\n",
       "  </thead>\n",
       "  <tbody>\n",
       "    <tr>\n",
       "      <th>Fiction</th>\n",
       "      <td>10.850000</td>\n",
       "    </tr>\n",
       "    <tr>\n",
       "      <th>Non Fiction</th>\n",
       "      <td>14.841935</td>\n",
       "    </tr>\n",
       "  </tbody>\n",
       "</table>\n",
       "</div>"
      ],
      "text/plain": [
       "                 Price\n",
       "Genre                 \n",
       "Fiction      10.850000\n",
       "Non Fiction  14.841935"
      ]
     },
     "execution_count": 23,
     "metadata": {},
     "output_type": "execute_result"
    }
   ],
   "source": [
    "df.groupby('Genre')[['Price']].mean()"
   ]
  },
  {
   "cell_type": "markdown",
   "metadata": {},
   "source": [
    "Misal dalam kasus lain kita ingin menguji hipotesis berikut:\n",
    "\n",
    "- `H0`: $\\mu_\\text{harga buku fiksi}$ = $\\mu_\\text{harga buku non fiksi}$\n",
    "- `H1`: $\\mu_\\text{harga buku fiksi}$ > $\\mu_\\text{harga buku non fiksi}$"
   ]
  },
  {
   "cell_type": "code",
   "execution_count": 24,
   "metadata": {},
   "outputs": [
    {
     "name": "stdout",
     "output_type": "stream",
     "text": [
      "\n",
      "    pvalue = 0.99999. pvalue > 0.05. Fail to Reject Ho.\n",
      "    Kita TIDAK punya cukup bukti untuk mengatakan bahwa rata-rata harga buku fiksi \n",
      "    LEBIH BESAR dari rata-rata harga buku non fiksi\n",
      "    \n"
     ]
    }
   ],
   "source": [
    "stat, pvalue = ttest_ind(\n",
    "    a=df[df['Genre']=='Fiction']['Price'],                  # harga dari buku fiksi\n",
    "    b=df[df['Genre']=='Non Fiction']['Price'],              # harga dari buku non fiksi\n",
    "    equal_var=True,\n",
    "    alternative='greater'                                 # one-tail, menggunakan tanda > pada H1\n",
    ")\n",
    "\n",
    "alpha = 0.05\n",
    "\n",
    "if pvalue > 0.05:\n",
    "    print(f'''\n",
    "    pvalue = {pvalue:.5f}. pvalue > {alpha}. Fail to Reject Ho.\n",
    "    Kita TIDAK punya cukup bukti untuk mengatakan bahwa rata-rata harga buku fiksi \n",
    "    LEBIH BESAR dari rata-rata harga buku non fiksi\n",
    "    ''')\n",
    "else:\n",
    "    print(f'''\n",
    "    pvalue = {pvalue:.5f}. pvalue <= {alpha}. Reject Ho.\n",
    "    Kita punya cukup bukti untuk mengatakan bahwa rata-rata harga buku fiksi \n",
    "    LEBIH BESAR dari rata-rata harga buku non fiksi\n",
    "    ''')"
   ]
  },
  {
   "cell_type": "markdown",
   "metadata": {},
   "source": [
    "Atau dalam kasus lain kita ingin menguji hipotesis berikut:\n",
    "\n",
    "- `H0`: $\\mu_\\text{harga buku fiksi}$ = $\\mu_\\text{harga buku non fiksi}$\n",
    "- `H1`: $\\mu_\\text{harga buku fiksi}$ < $\\mu_\\text{harga buku non fiksi}$"
   ]
  },
  {
   "cell_type": "code",
   "execution_count": 25,
   "metadata": {},
   "outputs": [
    {
     "name": "stdout",
     "output_type": "stream",
     "text": [
      "\n",
      "    pvalue = 0.00001. pvalue <= 0.05. Reject Ho.\n",
      "    Kita punya cukup bukti untuk mengatakan bahwa rata-rata harga buku fiksi \n",
      "    LEBIH KECIL dari rata-rata harga buku non fiksi\n",
      "    \n"
     ]
    }
   ],
   "source": [
    "stat, pvalue = ttest_ind(\n",
    "    a=df[df['Genre']=='Fiction']['Price'],                  # harga dari buku fiksi\n",
    "    b=df[df['Genre']=='Non Fiction']['Price'],              # harga dari buku non fiksi\n",
    "    equal_var=True,\n",
    "    alternative='less'                                 # one-tail, menggunakan tanda < pada H1\n",
    ")\n",
    "\n",
    "alpha = 0.05\n",
    "\n",
    "if pvalue > 0.05:\n",
    "    print(f'''\n",
    "    pvalue = {pvalue:.5f}. pvalue > {alpha}. Fail to Reject Ho.\n",
    "    Kita TIDAK punya cukup bukti untuk mengatakan bahwa rata-rata harga buku fiksi \n",
    "    LEBIH KECIL dari rata-rata harga buku non fiksi\n",
    "    ''')\n",
    "else:\n",
    "    print(f'''\n",
    "    pvalue = {pvalue:.5f}. pvalue <= {alpha}. Reject Ho.\n",
    "    Kita punya cukup bukti untuk mengatakan bahwa rata-rata harga buku fiksi \n",
    "    LEBIH KECIL dari rata-rata harga buku non fiksi\n",
    "    ''')"
   ]
  },
  {
   "cell_type": "markdown",
   "metadata": {},
   "source": [
    "### `c. Two Sample t-test (Paired)`\n",
    "\n",
    "Uji hipotesis ini digunakan untuk membandingkan mean/rata-rata dari 2 kelompok (kelompok A dan kelompok B) yang berkaitan. Kelompok A dan B adalah object yang sama, tetapi pada waktu yang berbeda.\n",
    "\n",
    "Dalam kasus ini kita hendak membandingkan rata-rata daya konsentrasi saat tidak menggunakan smartphone dan saat menggunakan smartphone pada individu yang sama."
   ]
  },
  {
   "cell_type": "code",
   "execution_count": 26,
   "metadata": {},
   "outputs": [
    {
     "data": {
      "text/html": [
       "<div>\n",
       "<style scoped>\n",
       "    .dataframe tbody tr th:only-of-type {\n",
       "        vertical-align: middle;\n",
       "    }\n",
       "\n",
       "    .dataframe tbody tr th {\n",
       "        vertical-align: top;\n",
       "    }\n",
       "\n",
       "    .dataframe thead th {\n",
       "        text-align: right;\n",
       "    }\n",
       "</style>\n",
       "<table border=\"1\" class=\"dataframe\">\n",
       "  <thead>\n",
       "    <tr style=\"text-align: right;\">\n",
       "      <th></th>\n",
       "      <th>No</th>\n",
       "      <th>Yes</th>\n",
       "      <th>diff</th>\n",
       "    </tr>\n",
       "  </thead>\n",
       "  <tbody>\n",
       "    <tr>\n",
       "      <th>0</th>\n",
       "      <td>636</td>\n",
       "      <td>604</td>\n",
       "      <td>32</td>\n",
       "    </tr>\n",
       "    <tr>\n",
       "      <th>1</th>\n",
       "      <td>623</td>\n",
       "      <td>556</td>\n",
       "      <td>67</td>\n",
       "    </tr>\n",
       "    <tr>\n",
       "      <th>2</th>\n",
       "      <td>615</td>\n",
       "      <td>542</td>\n",
       "      <td>73</td>\n",
       "    </tr>\n",
       "    <tr>\n",
       "      <th>3</th>\n",
       "      <td>672</td>\n",
       "      <td>522</td>\n",
       "      <td>150</td>\n",
       "    </tr>\n",
       "    <tr>\n",
       "      <th>4</th>\n",
       "      <td>601</td>\n",
       "      <td>469</td>\n",
       "      <td>132</td>\n",
       "    </tr>\n",
       "  </tbody>\n",
       "</table>\n",
       "</div>"
      ],
      "text/plain": [
       "    No  Yes  diff\n",
       "0  636  604    32\n",
       "1  623  556    67\n",
       "2  615  542    73\n",
       "3  672  522   150\n",
       "4  601  469   132"
      ]
     },
     "execution_count": 26,
     "metadata": {},
     "output_type": "execute_result"
    }
   ],
   "source": [
    "using_Smartphone = [604,556,542,522,469,544,513,470,556,531,599,537,619,536,554,467]\n",
    "no_Smartphone = [636,623,615,672,601,600,542,554,543,520,609,559,595,565,573,554]\n",
    "\n",
    "# create dataframe\n",
    "df_paired = pd.DataFrame({\n",
    "    'No':no_Smartphone,\n",
    "    'Yes':using_Smartphone\n",
    "})\n",
    "\n",
    "df_paired['diff'] = df_paired['No'] - df_paired['Yes']\n",
    "df_paired.head()"
   ]
  },
  {
   "cell_type": "markdown",
   "metadata": {},
   "source": [
    "Kita nyatakan terlebih dahulu null hypothesis dan alternative hypothesis.\n",
    "\n",
    "- `H0`: $\\mu_\\text{score no smartphone}$ = $\\mu_\\text{score with smartphone}$\n",
    "- `H1`: $\\mu_\\text{score no smartphone}$ > $\\mu_\\text{score with smartphone}$\n",
    "\n",
    "Dengan kata lain hipotesisnya dapat ditulis juga seperti ini:\n",
    "\n",
    "- `H0`: $\\mu_\\text{score no smartphone}$ - $\\mu_\\text{score with smartphone}$ = 0\n",
    "- `H1`: $\\mu_\\text{score no smartphone}$ - $\\mu_\\text{score with smartphone}$ > 0"
   ]
  },
  {
   "cell_type": "code",
   "execution_count": 27,
   "metadata": {},
   "outputs": [
    {
     "data": {
      "text/plain": [
       "0.0010595522508415644"
      ]
     },
     "execution_count": 27,
     "metadata": {},
     "output_type": "execute_result"
    }
   ],
   "source": [
    "# Cara 1 sample\n",
    "stat, pvalue = ttest_1samp(\n",
    "    a=df_paired['diff'],\n",
    "    popmean=0,\n",
    "    alternative='greater'\n",
    ")\n",
    "\n",
    "pvalue"
   ]
  },
  {
   "cell_type": "code",
   "execution_count": 28,
   "metadata": {},
   "outputs": [
    {
     "data": {
      "text/plain": [
       "0.0010595522508415644"
      ]
     },
     "execution_count": 28,
     "metadata": {},
     "output_type": "execute_result"
    }
   ],
   "source": [
    "# Cara 2 sample paired\n",
    "from scipy.stats import ttest_rel\n",
    "\n",
    "stat, pvalue = ttest_rel(\n",
    "    a=df_paired['No'],  # score kelompok 'No'\n",
    "    b=df_paired['Yes'],  # score kelompok 'Yes'\n",
    "    alternative='greater'\n",
    ")\n",
    "\n",
    "pvalue"
   ]
  },
  {
   "cell_type": "code",
   "execution_count": 29,
   "metadata": {},
   "outputs": [
    {
     "name": "stdout",
     "output_type": "stream",
     "text": [
      "\n",
      "    pvalue = 0.00106. pvalue <= 0.05. Reject Ho.\n",
      "    Kita punya cukup bukti untuk mengatakan bahwa rata-rata score orang yang tidak menggunakan handphone\n",
      "    LEBIH BESAR dari rata-rata score orang yang menggunakan handphone\n",
      "    \n"
     ]
    }
   ],
   "source": [
    "alpha = 0.05\n",
    "\n",
    "if pvalue > alpha:\n",
    "    print(f'''\n",
    "    pvalue = {pvalue:.5f}. pvalue > {alpha}. Fail to Reject Ho.\n",
    "    Kita TIDAK punya cukup bukti untuk mengatakan bahwa rata-rata score orang yang tidak menggunakan handphone\n",
    "    LEBIH BESAR dari rata-rata score orang yang menggunakan handphone\n",
    "    ''')\n",
    "else:\n",
    "    print(f'''\n",
    "    pvalue = {pvalue:.5f}. pvalue <= {alpha}. Reject Ho.\n",
    "    Kita punya cukup bukti untuk mengatakan bahwa rata-rata score orang yang tidak menggunakan handphone\n",
    "    LEBIH BESAR dari rata-rata score orang yang menggunakan handphone\n",
    "    ''')"
   ]
  },
  {
   "cell_type": "markdown",
   "metadata": {},
   "source": [
    "### `d. One Way Anova f-test (>2 sample mean)`\n",
    "\n",
    "ANOVA F-Test ini digunakan untuk menguji hipotesis rata-rata pada lebih dari dua populasi.\n",
    "\n",
    "Dalam kasus ini kita memiliki dataset berisi cara siswa berangkat ke sekolah dan jam belajar di sekolah. Kita ingin menguji apakah ada perbedaan rata-rata jam belajar pada setiap metode keberangkatan."
   ]
  },
  {
   "cell_type": "code",
   "execution_count": 30,
   "metadata": {},
   "outputs": [
    {
     "data": {
      "text/html": [
       "<div>\n",
       "<style scoped>\n",
       "    .dataframe tbody tr th:only-of-type {\n",
       "        vertical-align: middle;\n",
       "    }\n",
       "\n",
       "    .dataframe tbody tr th {\n",
       "        vertical-align: top;\n",
       "    }\n",
       "\n",
       "    .dataframe thead th {\n",
       "        text-align: right;\n",
       "    }\n",
       "</style>\n",
       "<table border=\"1\" class=\"dataframe\">\n",
       "  <thead>\n",
       "    <tr style=\"text-align: right;\">\n",
       "      <th></th>\n",
       "      <th>Transportation</th>\n",
       "      <th>Study Hours</th>\n",
       "    </tr>\n",
       "  </thead>\n",
       "  <tbody>\n",
       "    <tr>\n",
       "      <th>0</th>\n",
       "      <td>Walking</td>\n",
       "      <td>5</td>\n",
       "    </tr>\n",
       "    <tr>\n",
       "      <th>1</th>\n",
       "      <td>Walking</td>\n",
       "      <td>4</td>\n",
       "    </tr>\n",
       "    <tr>\n",
       "      <th>2</th>\n",
       "      <td>Walking</td>\n",
       "      <td>5</td>\n",
       "    </tr>\n",
       "    <tr>\n",
       "      <th>3</th>\n",
       "      <td>Walking</td>\n",
       "      <td>6</td>\n",
       "    </tr>\n",
       "    <tr>\n",
       "      <th>4</th>\n",
       "      <td>Walking</td>\n",
       "      <td>5</td>\n",
       "    </tr>\n",
       "    <tr>\n",
       "      <th>5</th>\n",
       "      <td>Walking</td>\n",
       "      <td>3</td>\n",
       "    </tr>\n",
       "    <tr>\n",
       "      <th>6</th>\n",
       "      <td>Walking</td>\n",
       "      <td>2</td>\n",
       "    </tr>\n",
       "    <tr>\n",
       "      <th>7</th>\n",
       "      <td>Walking</td>\n",
       "      <td>4</td>\n",
       "    </tr>\n",
       "    <tr>\n",
       "      <th>8</th>\n",
       "      <td>Walking</td>\n",
       "      <td>5</td>\n",
       "    </tr>\n",
       "    <tr>\n",
       "      <th>9</th>\n",
       "      <td>Walking</td>\n",
       "      <td>5</td>\n",
       "    </tr>\n",
       "    <tr>\n",
       "      <th>10</th>\n",
       "      <td>Public</td>\n",
       "      <td>7</td>\n",
       "    </tr>\n",
       "    <tr>\n",
       "      <th>11</th>\n",
       "      <td>Public</td>\n",
       "      <td>7</td>\n",
       "    </tr>\n",
       "    <tr>\n",
       "      <th>12</th>\n",
       "      <td>Public</td>\n",
       "      <td>5</td>\n",
       "    </tr>\n",
       "    <tr>\n",
       "      <th>13</th>\n",
       "      <td>Public</td>\n",
       "      <td>6</td>\n",
       "    </tr>\n",
       "    <tr>\n",
       "      <th>14</th>\n",
       "      <td>Public</td>\n",
       "      <td>4</td>\n",
       "    </tr>\n",
       "    <tr>\n",
       "      <th>15</th>\n",
       "      <td>Public</td>\n",
       "      <td>6</td>\n",
       "    </tr>\n",
       "    <tr>\n",
       "      <th>16</th>\n",
       "      <td>Public</td>\n",
       "      <td>5</td>\n",
       "    </tr>\n",
       "    <tr>\n",
       "      <th>17</th>\n",
       "      <td>Public</td>\n",
       "      <td>5</td>\n",
       "    </tr>\n",
       "    <tr>\n",
       "      <th>18</th>\n",
       "      <td>Public</td>\n",
       "      <td>6</td>\n",
       "    </tr>\n",
       "    <tr>\n",
       "      <th>19</th>\n",
       "      <td>Public</td>\n",
       "      <td>7</td>\n",
       "    </tr>\n",
       "    <tr>\n",
       "      <th>20</th>\n",
       "      <td>Private</td>\n",
       "      <td>5</td>\n",
       "    </tr>\n",
       "    <tr>\n",
       "      <th>21</th>\n",
       "      <td>Private</td>\n",
       "      <td>4</td>\n",
       "    </tr>\n",
       "    <tr>\n",
       "      <th>22</th>\n",
       "      <td>Private</td>\n",
       "      <td>5</td>\n",
       "    </tr>\n",
       "    <tr>\n",
       "      <th>23</th>\n",
       "      <td>Private</td>\n",
       "      <td>6</td>\n",
       "    </tr>\n",
       "    <tr>\n",
       "      <th>24</th>\n",
       "      <td>Private</td>\n",
       "      <td>6</td>\n",
       "    </tr>\n",
       "    <tr>\n",
       "      <th>25</th>\n",
       "      <td>Private</td>\n",
       "      <td>5</td>\n",
       "    </tr>\n",
       "    <tr>\n",
       "      <th>26</th>\n",
       "      <td>Private</td>\n",
       "      <td>5</td>\n",
       "    </tr>\n",
       "    <tr>\n",
       "      <th>27</th>\n",
       "      <td>Private</td>\n",
       "      <td>5</td>\n",
       "    </tr>\n",
       "    <tr>\n",
       "      <th>28</th>\n",
       "      <td>Private</td>\n",
       "      <td>7</td>\n",
       "    </tr>\n",
       "    <tr>\n",
       "      <th>29</th>\n",
       "      <td>Private</td>\n",
       "      <td>7</td>\n",
       "    </tr>\n",
       "  </tbody>\n",
       "</table>\n",
       "</div>"
      ],
      "text/plain": [
       "   Transportation  Study Hours\n",
       "0         Walking            5\n",
       "1         Walking            4\n",
       "2         Walking            5\n",
       "3         Walking            6\n",
       "4         Walking            5\n",
       "5         Walking            3\n",
       "6         Walking            2\n",
       "7         Walking            4\n",
       "8         Walking            5\n",
       "9         Walking            5\n",
       "10         Public            7\n",
       "11         Public            7\n",
       "12         Public            5\n",
       "13         Public            6\n",
       "14         Public            4\n",
       "15         Public            6\n",
       "16         Public            5\n",
       "17         Public            5\n",
       "18         Public            6\n",
       "19         Public            7\n",
       "20        Private            5\n",
       "21        Private            4\n",
       "22        Private            5\n",
       "23        Private            6\n",
       "24        Private            6\n",
       "25        Private            5\n",
       "26        Private            5\n",
       "27        Private            5\n",
       "28        Private            7\n",
       "29        Private            7"
      ]
     },
     "execution_count": 30,
     "metadata": {},
     "output_type": "execute_result"
    }
   ],
   "source": [
    "# create dummy dataset\n",
    "transport = []\n",
    "method = ['Walking ','Public ','Private ']\n",
    "\n",
    "for i in method:\n",
    "    transport.extend((i*10).split())\n",
    "\n",
    "df_transport = pd.concat([\n",
    "    pd.Series(transport, name='Transportation'),\n",
    "    pd.Series([5,4,5,6,5,3,2,4,5,5,7,7,5,6,4,6,5,5,6,7,5,4,5,6,6,5,5,5,7,7], name='Study Hours')], \n",
    "    axis=1)\n",
    "\n",
    "df_transport"
   ]
  },
  {
   "cell_type": "markdown",
   "metadata": {},
   "source": [
    "Dari data di atas kita bisa membuat ringkasan tabel sebagai berikut:"
   ]
  },
  {
   "cell_type": "code",
   "execution_count": 31,
   "metadata": {},
   "outputs": [
    {
     "data": {
      "text/html": [
       "<div>\n",
       "<style scoped>\n",
       "    .dataframe tbody tr th:only-of-type {\n",
       "        vertical-align: middle;\n",
       "    }\n",
       "\n",
       "    .dataframe tbody tr th {\n",
       "        vertical-align: top;\n",
       "    }\n",
       "\n",
       "    .dataframe thead th {\n",
       "        text-align: right;\n",
       "    }\n",
       "</style>\n",
       "<table border=\"1\" class=\"dataframe\">\n",
       "  <thead>\n",
       "    <tr style=\"text-align: right;\">\n",
       "      <th></th>\n",
       "      <th>Study Hours</th>\n",
       "    </tr>\n",
       "    <tr>\n",
       "      <th>Transportation</th>\n",
       "      <th></th>\n",
       "    </tr>\n",
       "  </thead>\n",
       "  <tbody>\n",
       "    <tr>\n",
       "      <th>Private</th>\n",
       "      <td>5.5</td>\n",
       "    </tr>\n",
       "    <tr>\n",
       "      <th>Public</th>\n",
       "      <td>5.8</td>\n",
       "    </tr>\n",
       "    <tr>\n",
       "      <th>Walking</th>\n",
       "      <td>4.4</td>\n",
       "    </tr>\n",
       "  </tbody>\n",
       "</table>\n",
       "</div>"
      ],
      "text/plain": [
       "                Study Hours\n",
       "Transportation             \n",
       "Private                 5.5\n",
       "Public                  5.8\n",
       "Walking                 4.4"
      ]
     },
     "execution_count": 31,
     "metadata": {},
     "output_type": "execute_result"
    }
   ],
   "source": [
    "df_transport.groupby('Transportation')[['Study Hours']].mean()"
   ]
  },
  {
   "cell_type": "markdown",
   "metadata": {},
   "source": [
    "Kita juga bisa menampilkan visualisasi dalam bentuk bar plot."
   ]
  },
  {
   "cell_type": "code",
   "execution_count": 32,
   "metadata": {},
   "outputs": [
    {
     "data": {
      "image/png": "[encoded data removed]",
      "text/plain": [
       "<Figure size 640x480 with 1 Axes>"
      ]
     },
     "metadata": {},
     "output_type": "display_data"
    }
   ],
   "source": [
    "sns.barplot(data=df_transport, x='Transportation', y='Study Hours')\n",
    "plt.show()"
   ]
  },
  {
   "cell_type": "markdown",
   "metadata": {},
   "source": [
    "Selanjutnya kita akan melakukan uji hipotesis:\n",
    "\n",
    "- `H0`: Rata-rata study hours untuk setiap kelompok adalah sama.\n",
    "- `H1`: Minimal ada 1 kelompok yang study hoursnya berbeda. Tetapi kita tidak tahu yang mana."
   ]
  },
  {
   "cell_type": "code",
   "execution_count": 33,
   "metadata": {},
   "outputs": [
    {
     "data": {
      "text/plain": [
       "0.0163405142361861"
      ]
     },
     "execution_count": 33,
     "metadata": {},
     "output_type": "execute_result"
    }
   ],
   "source": [
    "from scipy.stats import f_oneway\n",
    "\n",
    "stat, pvalue = f_oneway(\n",
    "    df_transport[df_transport['Transportation']=='Walking']['Study Hours'],\n",
    "    df_transport[df_transport['Transportation']=='Public']['Study Hours'],\n",
    "    df_transport[df_transport['Transportation']=='Private']['Study Hours'])\n",
    "pvalue"
   ]
  },
  {
   "cell_type": "code",
   "execution_count": 34,
   "metadata": {},
   "outputs": [
    {
     "name": "stdout",
     "output_type": "stream",
     "text": [
      "\n",
      "    pvalue = 0.01634. pvalue <= 0.05. Reject Ho.\n",
      "    Kita punya cukup bukti untuk mengatakan bahwa minimal ada 1 kelompok yang rerata study hoursnya berbeda.\n",
      "    Tetapi kita tidak tahu yang mana.\n",
      "    \n"
     ]
    }
   ],
   "source": [
    "alpha = 0.05\n",
    "\n",
    "if pvalue > alpha:\n",
    "    print(f'''\n",
    "    pvalue = {pvalue:.5f}. pvalue > {alpha}. Fail to Reject Ho.\n",
    "    Kita TIDAK punya cukup bukti untuk mengatakan bahwa minimal ada 1 kelompok yang rerata study hoursnya berbeda.\n",
    "    Tetapi kita tidak tahu yang mana.\n",
    "    ''')\n",
    "else:\n",
    "    print(f'''\n",
    "    pvalue = {pvalue:.5f}. pvalue <= {alpha}. Reject Ho.\n",
    "    Kita punya cukup bukti untuk mengatakan bahwa minimal ada 1 kelompok yang rerata study hoursnya berbeda.\n",
    "    Tetapi kita tidak tahu yang mana.\n",
    "    ''')"
   ]
  },
  {
   "cell_type": "markdown",
   "metadata": {},
   "source": [
    "Selanjutnya kita juga ingin menguji:\n",
    "\n",
    "- `H0`: $\\mu_\\text{study hours private}$ = $\\mu_\\text{study hours public}$\n",
    "- `H1`: $\\mu_\\text{study hours private}$ != $\\mu_\\text{study hours public}$"
   ]
  },
  {
   "cell_type": "code",
   "execution_count": 36,
   "metadata": {},
   "outputs": [
    {
     "data": {
      "text/plain": [
       "0.5120073137681896"
      ]
     },
     "execution_count": 36,
     "metadata": {},
     "output_type": "execute_result"
    }
   ],
   "source": [
    "stat, pvalue = ttest_ind(a = df_transport[df_transport['Transportation']=='Private']['Study Hours'], \n",
    "                         b = df_transport[df_transport['Transportation']=='Public']['Study Hours'],\n",
    "                         alternative='two-sided')\n",
    "pvalue"
   ]
  },
  {
   "cell_type": "code",
   "execution_count": 37,
   "metadata": {},
   "outputs": [
    {
     "name": "stdout",
     "output_type": "stream",
     "text": [
      "\n",
      "    pvalue = 0.51201. pvalue > 0.05. Fail to Reject Ho.\n",
      "    Kita TIDAK punya cukup bukti untuk mengatakan bahwa rerata study hours kelompok Private\n",
      "    TIDAK SAMA dengan rerata kelompok Public\n",
      "    \n"
     ]
    }
   ],
   "source": [
    "alpha = 0.05\n",
    "\n",
    "if pvalue > alpha:\n",
    "    print(f'''\n",
    "    pvalue = {pvalue:.5f}. pvalue > {alpha}. Fail to Reject Ho.\n",
    "    Kita TIDAK punya cukup bukti untuk mengatakan bahwa rerata study hours kelompok Private\n",
    "    TIDAK SAMA dengan rerata kelompok Public\n",
    "    ''')\n",
    "else:\n",
    "    print(f'''\n",
    "    pvalue = {pvalue:.5f}. pvalue <= {alpha}. Reject Ho.\n",
    "    Kita punya cukup bukti untuk mengatakan bahwa rerata study hours kelompok Private\n",
    "    TIDAK SAMA dengan rerata kelompok Public\n",
    "    ''')"
   ]
  },
  {
   "cell_type": "markdown",
   "metadata": {},
   "source": [
    "## **4. Hypothesis Testing for Median**\n",
    "\n",
    "Uji hipotesis yang telah kita bahas sebelumnya tergolong statistik parametrik.\n",
    "Kita menggunakan statistik non-parametrik ketika:\n",
    "- Pertama, kita tidak memiliki cukup data (ukuran sampel kecil)\n",
    "- Kedua, data tidak terdistribusi normal."
   ]
  },
  {
   "cell_type": "markdown",
   "metadata": {},
   "source": [
    "### `a. Wilcoxon`\n",
    "\n",
    "Wilcoxon Test mirip dengan Two Paired T-test (Dua sampel berpasangan), tapi untuk versi statistik non-parametrik-nya. Dua sampel berpasangan banyak digunakan untuk situasi eksperimen. Jadi, kita sebagai peneliti hendak menguji apakah ada perbedaan sebelum dan setelah tindakan, peristiwa, atau kondisi tertentu.\n",
    "\n",
    "Pada studi kasus di bawah ini, kita membuat Dummy Dataset yang berisi perbandingan kinerja antara karyawan yang menggunakan dan tidak menggunakan Smartphone saat bekerja. Kita bandingkan apakah ada perbedaan kinerja di antara 2 kondisi tersebut."
   ]
  },
  {
   "cell_type": "code",
   "execution_count": 38,
   "metadata": {},
   "outputs": [],
   "source": [
    "with_smartphone = [604,556,540,522,469,544,513,470,556,531,599,537,619,536,554,467]\n",
    "without_smartphone = [636,623,615,672,601,600,542,554,543,520,609,559,595,565,573,554]\n",
    "\n",
    "df_paired = pd.DataFrame({\n",
    "    'no':without_smartphone,\n",
    "    'yes':with_smartphone\n",
    "})"
   ]
  },
  {
   "cell_type": "code",
   "execution_count": 39,
   "metadata": {},
   "outputs": [
    {
     "data": {
      "text/html": [
       "<div>\n",
       "<style scoped>\n",
       "    .dataframe tbody tr th:only-of-type {\n",
       "        vertical-align: middle;\n",
       "    }\n",
       "\n",
       "    .dataframe tbody tr th {\n",
       "        vertical-align: top;\n",
       "    }\n",
       "\n",
       "    .dataframe thead th {\n",
       "        text-align: right;\n",
       "    }\n",
       "</style>\n",
       "<table border=\"1\" class=\"dataframe\">\n",
       "  <thead>\n",
       "    <tr style=\"text-align: right;\">\n",
       "      <th></th>\n",
       "      <th>no</th>\n",
       "      <th>yes</th>\n",
       "    </tr>\n",
       "  </thead>\n",
       "  <tbody>\n",
       "    <tr>\n",
       "      <th>0</th>\n",
       "      <td>636</td>\n",
       "      <td>604</td>\n",
       "    </tr>\n",
       "    <tr>\n",
       "      <th>1</th>\n",
       "      <td>623</td>\n",
       "      <td>556</td>\n",
       "    </tr>\n",
       "    <tr>\n",
       "      <th>2</th>\n",
       "      <td>615</td>\n",
       "      <td>540</td>\n",
       "    </tr>\n",
       "    <tr>\n",
       "      <th>3</th>\n",
       "      <td>672</td>\n",
       "      <td>522</td>\n",
       "    </tr>\n",
       "    <tr>\n",
       "      <th>4</th>\n",
       "      <td>601</td>\n",
       "      <td>469</td>\n",
       "    </tr>\n",
       "    <tr>\n",
       "      <th>5</th>\n",
       "      <td>600</td>\n",
       "      <td>544</td>\n",
       "    </tr>\n",
       "    <tr>\n",
       "      <th>6</th>\n",
       "      <td>542</td>\n",
       "      <td>513</td>\n",
       "    </tr>\n",
       "    <tr>\n",
       "      <th>7</th>\n",
       "      <td>554</td>\n",
       "      <td>470</td>\n",
       "    </tr>\n",
       "    <tr>\n",
       "      <th>8</th>\n",
       "      <td>543</td>\n",
       "      <td>556</td>\n",
       "    </tr>\n",
       "    <tr>\n",
       "      <th>9</th>\n",
       "      <td>520</td>\n",
       "      <td>531</td>\n",
       "    </tr>\n",
       "    <tr>\n",
       "      <th>10</th>\n",
       "      <td>609</td>\n",
       "      <td>599</td>\n",
       "    </tr>\n",
       "    <tr>\n",
       "      <th>11</th>\n",
       "      <td>559</td>\n",
       "      <td>537</td>\n",
       "    </tr>\n",
       "    <tr>\n",
       "      <th>12</th>\n",
       "      <td>595</td>\n",
       "      <td>619</td>\n",
       "    </tr>\n",
       "    <tr>\n",
       "      <th>13</th>\n",
       "      <td>565</td>\n",
       "      <td>536</td>\n",
       "    </tr>\n",
       "    <tr>\n",
       "      <th>14</th>\n",
       "      <td>573</td>\n",
       "      <td>554</td>\n",
       "    </tr>\n",
       "    <tr>\n",
       "      <th>15</th>\n",
       "      <td>554</td>\n",
       "      <td>467</td>\n",
       "    </tr>\n",
       "  </tbody>\n",
       "</table>\n",
       "</div>"
      ],
      "text/plain": [
       "     no  yes\n",
       "0   636  604\n",
       "1   623  556\n",
       "2   615  540\n",
       "3   672  522\n",
       "4   601  469\n",
       "5   600  544\n",
       "6   542  513\n",
       "7   554  470\n",
       "8   543  556\n",
       "9   520  531\n",
       "10  609  599\n",
       "11  559  537\n",
       "12  595  619\n",
       "13  565  536\n",
       "14  573  554\n",
       "15  554  467"
      ]
     },
     "execution_count": 39,
     "metadata": {},
     "output_type": "execute_result"
    }
   ],
   "source": [
    "df_paired"
   ]
  },
  {
   "cell_type": "markdown",
   "metadata": {},
   "source": [
    "Hipotesisnya:\n",
    "\n",
    "- `H0`: $M_\\text{yes}$ = $M_\\text{no}$\n",
    "- `H1`: $M_\\text{yes}$ < $M_\\text{no}$\n",
    "\n",
    "Atau bisa ditulis ulang\n",
    "\n",
    "- `H0`: $M_\\text{yes}$ - $M_\\text{no}$ = 0\n",
    "- `H1`: $M_\\text{yes}$ - $M_\\text{no}$ < 0"
   ]
  },
  {
   "cell_type": "code",
   "execution_count": 41,
   "metadata": {},
   "outputs": [
    {
     "data": {
      "text/html": [
       "<div>\n",
       "<style scoped>\n",
       "    .dataframe tbody tr th:only-of-type {\n",
       "        vertical-align: middle;\n",
       "    }\n",
       "\n",
       "    .dataframe tbody tr th {\n",
       "        vertical-align: top;\n",
       "    }\n",
       "\n",
       "    .dataframe thead th {\n",
       "        text-align: right;\n",
       "    }\n",
       "</style>\n",
       "<table border=\"1\" class=\"dataframe\">\n",
       "  <thead>\n",
       "    <tr style=\"text-align: right;\">\n",
       "      <th></th>\n",
       "      <th>no</th>\n",
       "      <th>yes</th>\n",
       "      <th>diff</th>\n",
       "    </tr>\n",
       "  </thead>\n",
       "  <tbody>\n",
       "    <tr>\n",
       "      <th>0</th>\n",
       "      <td>636</td>\n",
       "      <td>604</td>\n",
       "      <td>-32</td>\n",
       "    </tr>\n",
       "    <tr>\n",
       "      <th>1</th>\n",
       "      <td>623</td>\n",
       "      <td>556</td>\n",
       "      <td>-67</td>\n",
       "    </tr>\n",
       "    <tr>\n",
       "      <th>2</th>\n",
       "      <td>615</td>\n",
       "      <td>540</td>\n",
       "      <td>-75</td>\n",
       "    </tr>\n",
       "    <tr>\n",
       "      <th>3</th>\n",
       "      <td>672</td>\n",
       "      <td>522</td>\n",
       "      <td>-150</td>\n",
       "    </tr>\n",
       "    <tr>\n",
       "      <th>4</th>\n",
       "      <td>601</td>\n",
       "      <td>469</td>\n",
       "      <td>-132</td>\n",
       "    </tr>\n",
       "  </tbody>\n",
       "</table>\n",
       "</div>"
      ],
      "text/plain": [
       "    no  yes  diff\n",
       "0  636  604   -32\n",
       "1  623  556   -67\n",
       "2  615  540   -75\n",
       "3  672  522  -150\n",
       "4  601  469  -132"
      ]
     },
     "execution_count": 41,
     "metadata": {},
     "output_type": "execute_result"
    }
   ],
   "source": [
    "df_paired['diff'] = df_paired['yes'] - df_paired['no']\n",
    "df_paired.head(5)"
   ]
  },
  {
   "cell_type": "code",
   "execution_count": 43,
   "metadata": {},
   "outputs": [
    {
     "data": {
      "text/plain": [
       "0.0008392333984375"
      ]
     },
     "execution_count": 43,
     "metadata": {},
     "output_type": "execute_result"
    }
   ],
   "source": [
    "from scipy.stats import wilcoxon\n",
    "\n",
    "#cara 1\n",
    "stat, pvalue = wilcoxon(df_paired['diff'],alternative='less')\n",
    "pvalue"
   ]
  },
  {
   "cell_type": "code",
   "execution_count": 45,
   "metadata": {},
   "outputs": [
    {
     "data": {
      "text/plain": [
       "0.0008392333984375"
      ]
     },
     "execution_count": 45,
     "metadata": {},
     "output_type": "execute_result"
    }
   ],
   "source": [
    "stat,pvalue = wilcoxon(x=df_paired['yes'],y=df_paired['no'],alternative='less')\n",
    "pvalue"
   ]
  },
  {
   "cell_type": "code",
   "execution_count": 46,
   "metadata": {},
   "outputs": [
    {
     "name": "stdout",
     "output_type": "stream",
     "text": [
      "\n",
      "    pvalue = 0.00084. pvalue <= 0.05. Reject Ho.\n",
      "    Kita punya cukup bukti untuk mengatakan bahwa median score saat menggunakan handphone\n",
      "    LEBIH KECIL dari median score saat tidak menggunakan handphone\n",
      "    \n"
     ]
    }
   ],
   "source": [
    "alpha = 0.05\n",
    "\n",
    "if pvalue > alpha:\n",
    "    print(f'''\n",
    "    pvalue = {pvalue:.5f}. pvalue > {alpha}. Fail to Reject Ho.\n",
    "    Kita TIDAK punya cukup bukti untuk mengatakan bahwa median score saat menggunakan handphone\n",
    "    LEBIH KECIL dari median score saat tidak menggunakan handphone\n",
    "    ''')\n",
    "else:\n",
    "    print(f'''\n",
    "    pvalue = {pvalue:.5f}. pvalue <= {alpha}. Reject Ho.\n",
    "    Kita punya cukup bukti untuk mengatakan bahwa median score saat menggunakan handphone\n",
    "    LEBIH KECIL dari median score saat tidak menggunakan handphone\n",
    "    ''')"
   ]
  },
  {
   "cell_type": "markdown",
   "metadata": {},
   "source": [
    "Kita juga bisa menggunakan wilcoxon untuk 1 sample, misal:\n",
    "\n",
    "- `H0`: $M_\\text{yes}$ = 580\n",
    "- `H1`: $M_\\text{yes}$ != 580\n",
    "\n",
    "Alternatif penulisannya\n",
    "\n",
    "- `H0`: $M_\\text{yes}$ - 580 = 0\n",
    "- `H1`: $M_\\text{yes}$ - 580 != 0\n"
   ]
  },
  {
   "cell_type": "code",
   "execution_count": 48,
   "metadata": {},
   "outputs": [
    {
     "data": {
      "text/plain": [
       "0.001678466796875"
      ]
     },
     "execution_count": 48,
     "metadata": {},
     "output_type": "execute_result"
    }
   ],
   "source": [
    "stat, pvalue = wilcoxon(x=df_paired['yes'] - 580, alternative='two-sided')\n",
    "pvalue"
   ]
  },
  {
   "cell_type": "code",
   "execution_count": 49,
   "metadata": {},
   "outputs": [
    {
     "name": "stdout",
     "output_type": "stream",
     "text": [
      "\n",
      "    pvalue = 0.00168. pvalue <= 0.05. Reject Ho.\n",
      "    Kita punya cukup bukti untuk mengatakan bahwa median score saat menggunakan handphone\n",
      "    TIDAK SAMA dengan 580\n",
      "    \n"
     ]
    }
   ],
   "source": [
    "alpha = 0.05\n",
    "\n",
    "if pvalue > alpha:\n",
    "    print(f'''\n",
    "    pvalue = {pvalue:.5f}. pvalue > {alpha}. Fail to Reject Ho.\n",
    "    Kita TIDAK punya cukup bukti untuk mengatakan bahwa median score saat menggunakan handphone\n",
    "    TIDAK SAMA dengan 580\n",
    "    ''')\n",
    "else:\n",
    "    print(f'''\n",
    "    pvalue = {pvalue:.5f}. pvalue <= {alpha}. Reject Ho.\n",
    "    Kita punya cukup bukti untuk mengatakan bahwa median score saat menggunakan handphone\n",
    "    TIDAK SAMA dengan 580\n",
    "    ''')"
   ]
  },
  {
   "cell_type": "markdown",
   "metadata": {},
   "source": [
    "### `b. Mann-Whitney`\n",
    "\n",
    "Mann Whitney Test mirip seperti Two Sample Independent T-Test, tetapi untuk versi Statistik Non-parametrik-nya. Mann Whitney Test  dipakai untuk 2 populasi tidak berpasangan. Pada studi kasus ini kita hendak menguji apakah ada perbedaan median nilai (Score) kinerja antara karyawan yang baca buku atau tidak."
   ]
  },
  {
   "cell_type": "code",
   "execution_count": 50,
   "metadata": {},
   "outputs": [
    {
     "data": {
      "text/html": [
       "<div>\n",
       "<style scoped>\n",
       "    .dataframe tbody tr th:only-of-type {\n",
       "        vertical-align: middle;\n",
       "    }\n",
       "\n",
       "    .dataframe tbody tr th {\n",
       "        vertical-align: top;\n",
       "    }\n",
       "\n",
       "    .dataframe thead th {\n",
       "        text-align: right;\n",
       "    }\n",
       "</style>\n",
       "<table border=\"1\" class=\"dataframe\">\n",
       "  <thead>\n",
       "    <tr style=\"text-align: right;\">\n",
       "      <th></th>\n",
       "      <th>Read Book</th>\n",
       "      <th>Score</th>\n",
       "    </tr>\n",
       "  </thead>\n",
       "  <tbody>\n",
       "    <tr>\n",
       "      <th>0</th>\n",
       "      <td>Yes</td>\n",
       "      <td>70</td>\n",
       "    </tr>\n",
       "    <tr>\n",
       "      <th>1</th>\n",
       "      <td>No</td>\n",
       "      <td>85</td>\n",
       "    </tr>\n",
       "    <tr>\n",
       "      <th>2</th>\n",
       "      <td>Yes</td>\n",
       "      <td>80</td>\n",
       "    </tr>\n",
       "    <tr>\n",
       "      <th>3</th>\n",
       "      <td>Yes</td>\n",
       "      <td>45</td>\n",
       "    </tr>\n",
       "    <tr>\n",
       "      <th>4</th>\n",
       "      <td>No</td>\n",
       "      <td>80</td>\n",
       "    </tr>\n",
       "  </tbody>\n",
       "</table>\n",
       "</div>"
      ],
      "text/plain": [
       "  Read Book  Score\n",
       "0       Yes     70\n",
       "1        No     85\n",
       "2       Yes     80\n",
       "3       Yes     45\n",
       "4        No     80"
      ]
     },
     "execution_count": 50,
     "metadata": {},
     "output_type": "execute_result"
    }
   ],
   "source": [
    "training = pd.concat([\n",
    "    pd.Series(\n",
    "        data = ['Yes', 'No', 'Yes', 'Yes', 'No', 'No', 'No','Yes','Yes', 'No','Yes','Yes','No','Yes','No','Yes','No','No','No','Yes'],\n",
    "        name = 'Read Book'),\n",
    "    pd.Series(\n",
    "        data = [70,85,80,45,80,70,90,70,55,80,75,60,70,85,80,85,55,75,65,70], name ='Score')], \n",
    "    axis = 1)\n",
    "\n",
    "training.head()"
   ]
  },
  {
   "cell_type": "markdown",
   "metadata": {},
   "source": [
    "Hipotesisnya:\n",
    "\n",
    "- `H0`: $M_\\text{yes}$ = $M_\\text{no}$\n",
    "- `H1`: $M_\\text{yes}$ != $M_\\text{no}$"
   ]
  },
  {
   "cell_type": "code",
   "execution_count": 52,
   "metadata": {},
   "outputs": [
    {
     "data": {
      "text/plain": [
       "0.3992232671178132"
      ]
     },
     "execution_count": 52,
     "metadata": {},
     "output_type": "execute_result"
    }
   ],
   "source": [
    "from scipy.stats import mannwhitneyu\n",
    "\n",
    "stat, pvalue = mannwhitneyu(x = training[training['Read Book'] == 'Yes']['Score'],     #score yang membaca buku\n",
    "             y = training[training['Read Book'] == 'No']['Score'],      #score yang tidak membaca buku\n",
    "             alternative='two-sided')\n",
    "pvalue"
   ]
  },
  {
   "cell_type": "code",
   "execution_count": 53,
   "metadata": {},
   "outputs": [
    {
     "name": "stdout",
     "output_type": "stream",
     "text": [
      "\n",
      "    pvalue = 0.39922. pvalue > 0.05. Fail to Reject Ho.\n",
      "    Kita TIDAK punya cukup bukti untuk mengatakan bahwa median score orang yang membaca buku\n",
      "    TIDAK SAMA dengan median score orang yang tidak membaca buku\n",
      "    \n"
     ]
    }
   ],
   "source": [
    "alpha = 0.05\n",
    "\n",
    "if pvalue > alpha:\n",
    "    print(f'''\n",
    "    pvalue = {pvalue:.5f}. pvalue > {alpha}. Fail to Reject Ho.\n",
    "    Kita TIDAK punya cukup bukti untuk mengatakan bahwa median score orang yang membaca buku\n",
    "    TIDAK SAMA dengan median score orang yang tidak membaca buku\n",
    "    ''')\n",
    "else:\n",
    "    print(f'''\n",
    "    pvalue = {pvalue:.5f}. pvalue <= {alpha}. Reject Ho.\n",
    "    Kita punya cukup bukti untuk mengatakan bahwa median score orang yang membaca buku\n",
    "    TIDAK SAMA dengan median score orang yang tidak membaca buku\n",
    "    ''')"
   ]
  },
  {
   "cell_type": "markdown",
   "metadata": {},
   "source": [
    "### `c. Kruskal Wallis`\n",
    "\n",
    "Kruskal Wallis Test digunakan untuk menguji perbandingan lebih dari 2 sampel independent dalam statistik non-parametrik. Pada studi kasus ini kita hendak membandingkan jumlah investasi bulanan antar karyawan. Karyawan dibagi tiga berdasarkan transportasi yang dipakai, yaitu pejalan kaki, pengguna transportasi umum, dan pengendara transportasi pribadi. Kita uji apakah ada perbedaan jumlah investasi bulanan di antara ketiganya."
   ]
  },
  {
   "cell_type": "code",
   "execution_count": 54,
   "metadata": {},
   "outputs": [
    {
     "data": {
      "text/html": [
       "<div>\n",
       "<style scoped>\n",
       "    .dataframe tbody tr th:only-of-type {\n",
       "        vertical-align: middle;\n",
       "    }\n",
       "\n",
       "    .dataframe tbody tr th {\n",
       "        vertical-align: top;\n",
       "    }\n",
       "\n",
       "    .dataframe thead th {\n",
       "        text-align: right;\n",
       "    }\n",
       "</style>\n",
       "<table border=\"1\" class=\"dataframe\">\n",
       "  <thead>\n",
       "    <tr style=\"text-align: right;\">\n",
       "      <th></th>\n",
       "      <th>Transportation</th>\n",
       "      <th>Monthly Investment</th>\n",
       "    </tr>\n",
       "  </thead>\n",
       "  <tbody>\n",
       "    <tr>\n",
       "      <th>0</th>\n",
       "      <td>Walking</td>\n",
       "      <td>5</td>\n",
       "    </tr>\n",
       "    <tr>\n",
       "      <th>1</th>\n",
       "      <td>Walking</td>\n",
       "      <td>4</td>\n",
       "    </tr>\n",
       "    <tr>\n",
       "      <th>2</th>\n",
       "      <td>Walking</td>\n",
       "      <td>5</td>\n",
       "    </tr>\n",
       "    <tr>\n",
       "      <th>3</th>\n",
       "      <td>Walking</td>\n",
       "      <td>6</td>\n",
       "    </tr>\n",
       "    <tr>\n",
       "      <th>4</th>\n",
       "      <td>Walking</td>\n",
       "      <td>5</td>\n",
       "    </tr>\n",
       "  </tbody>\n",
       "</table>\n",
       "</div>"
      ],
      "text/plain": [
       "  Transportation  Monthly Investment\n",
       "0        Walking                   5\n",
       "1        Walking                   4\n",
       "2        Walking                   5\n",
       "3        Walking                   6\n",
       "4        Walking                   5"
      ]
     },
     "execution_count": 54,
     "metadata": {},
     "output_type": "execute_result"
    }
   ],
   "source": [
    "transport = []\n",
    "method = ['Walking ', 'Public ', 'Private ']\n",
    "for i in method:\n",
    "    transport.extend((i*10).split())\n",
    "    \n",
    "transportdf = pd.concat([pd.Series(transport, name = 'Transportation'), \n",
    "                         pd.Series([5,4,5,6,5,3,2,4,5,5,7,7,5,6,4,6,5,5,6,7,5,4,5,6,6,5,5,5,7,7], name = 'Monthly Investment')], axis =1)\n",
    "\n",
    "transportdf.head()"
   ]
  },
  {
   "cell_type": "markdown",
   "metadata": {},
   "source": [
    "Hipotesis :\n",
    "\n",
    "- `H0`: Median Monthly Investment untuk setiap kelompok adalah SAMA\n",
    "- `H1`: Minimal ada 1 kelompok yang berbeda median Monthly Investmentnya. Tetapi kita tidak tahu yang mana."
   ]
  },
  {
   "cell_type": "code",
   "execution_count": 56,
   "metadata": {},
   "outputs": [
    {
     "data": {
      "text/plain": [
       "0.029913168775421856"
      ]
     },
     "execution_count": 56,
     "metadata": {},
     "output_type": "execute_result"
    }
   ],
   "source": [
    "from scipy.stats import kruskal\n",
    "\n",
    "stat, pvalue = kruskal(\n",
    "    transportdf[transportdf['Transportation']=='Walking']['Monthly Investment'],\n",
    "    transportdf[transportdf['Transportation']=='Public']['Monthly Investment'],\n",
    "    transportdf[transportdf['Transportation']=='Private']['Monthly Investment']\n",
    ")\n",
    "pvalue"
   ]
  },
  {
   "cell_type": "code",
   "execution_count": 57,
   "metadata": {},
   "outputs": [
    {
     "name": "stdout",
     "output_type": "stream",
     "text": [
      "\n",
      "    pvalue = 0.02991. pvalue <= 0.05. Reject Ho.\n",
      "    Kita punya cukup bukti untuk mengatakan bahwa minimal ada 1 kelompok yang berbeda pada median monthly investment nya\n",
      "    tetapi kita tidak tahu yang mana\n",
      "    \n"
     ]
    }
   ],
   "source": [
    "alpha = 0.05\n",
    "\n",
    "if pvalue > alpha:\n",
    "    print(f'''\n",
    "    pvalue = {pvalue:.5f}. pvalue > {alpha}. Fail to Reject Ho.\n",
    "    Kita TIDAK punya cukup bukti untuk mengatakan bahwa minimal ada 1 kelompok yang berbeda pada median monthly investment nya\n",
    "    tetapi kita tidak tahu yang mana\n",
    "    ''')\n",
    "else:\n",
    "    print(f'''\n",
    "    pvalue = {pvalue:.5f}. pvalue <= {alpha}. Reject Ho.\n",
    "    Kita punya cukup bukti untuk mengatakan bahwa minimal ada 1 kelompok yang berbeda pada median monthly investment nya\n",
    "    tetapi kita tidak tahu yang mana\n",
    "    ''')"
   ]
  },
  {
   "cell_type": "code",
   "execution_count": 58,
   "metadata": {},
   "outputs": [
    {
     "data": {
      "text/html": [
       "<div>\n",
       "<style scoped>\n",
       "    .dataframe tbody tr th:only-of-type {\n",
       "        vertical-align: middle;\n",
       "    }\n",
       "\n",
       "    .dataframe tbody tr th {\n",
       "        vertical-align: top;\n",
       "    }\n",
       "\n",
       "    .dataframe thead th {\n",
       "        text-align: right;\n",
       "    }\n",
       "</style>\n",
       "<table border=\"1\" class=\"dataframe\">\n",
       "  <thead>\n",
       "    <tr style=\"text-align: right;\">\n",
       "      <th></th>\n",
       "      <th>Monthly Investment</th>\n",
       "    </tr>\n",
       "    <tr>\n",
       "      <th>Transportation</th>\n",
       "      <th></th>\n",
       "    </tr>\n",
       "  </thead>\n",
       "  <tbody>\n",
       "    <tr>\n",
       "      <th>Private</th>\n",
       "      <td>5.0</td>\n",
       "    </tr>\n",
       "    <tr>\n",
       "      <th>Public</th>\n",
       "      <td>6.0</td>\n",
       "    </tr>\n",
       "    <tr>\n",
       "      <th>Walking</th>\n",
       "      <td>5.0</td>\n",
       "    </tr>\n",
       "  </tbody>\n",
       "</table>\n",
       "</div>"
      ],
      "text/plain": [
       "                Monthly Investment\n",
       "Transportation                    \n",
       "Private                        5.0\n",
       "Public                         6.0\n",
       "Walking                        5.0"
      ]
     },
     "execution_count": 58,
     "metadata": {},
     "output_type": "execute_result"
    }
   ],
   "source": [
    "transportdf.groupby('Transportation')[['Monthly Investment']].median()"
   ]
  },
  {
   "cell_type": "code",
   "execution_count": null,
   "metadata": {},
   "outputs": [],
   "source": []
  }
 ],
 "metadata": {
  "kernelspec": {
   "display_name": "Python 3",
   "language": "python",
   "name": "python3"
  },
  "language_info": {
   "codemirror_mode": {
    "name": "ipython",
    "version": 3
   },
   "file_extension": ".py",
   "mimetype": "text/x-python",
   "name": "python",
   "nbconvert_exporter": "python",
   "pygments_lexer": "ipython3",
   "version": "3.9.6"
  }
 },
 "nbformat": 4,
 "nbformat_minor": 2
}
