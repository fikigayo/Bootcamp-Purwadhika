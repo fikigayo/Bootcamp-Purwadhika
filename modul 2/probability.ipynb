{
 "cells": [
  {
   "cell_type": "code",
   "execution_count": 1,
   "metadata": {},
   "outputs": [],
   "source": [
    "import numpy as np\n",
    "import pandas as pd\n",
    "import matplotlib.pyplot as plt\n",
    "from itertools import product"
   ]
  },
  {
   "cell_type": "code",
   "execution_count": 2,
   "metadata": {},
   "outputs": [],
   "source": [
    "def roll_dice(num):\n",
    "    np.random.seed(0)\n",
    "    rolls = np.random.randint(1, 7, size=num)\n",
    "    return rolls\n",
    "\n",
    "def plot_result(rolls):\n",
    "    freq = [np.sum(rolls == i) for i in range(1, 7)]\n",
    "    plt.bar(range(1, 7), freq)\n",
    "    plt.xlabel(\"Dice Number\")\n",
    "    plt.ylabel(\"Frequency\")\n",
    "    plt.title(f\"Result of rolling dice {len(rolls):.0f} times\")\n",
    "    plt.xticks(range(1, 7), [1, 2, 3, 4, 5, 6])  # Menambahkan label pada sumbu x\n",
    "    plt.show()"
   ]
  },
  {
   "cell_type": "code",
   "execution_count": 3,
   "metadata": {},
   "outputs": [],
   "source": [
    "# rolls =  roll_dice(60) #kocok dadu\n",
    "# [rolls.count(i) for i in range(1,7)] # hitung probabilitas angka dadu muncul"
   ]
  },
  {
   "cell_type": "code",
   "execution_count": 4,
   "metadata": {},
   "outputs": [
    {
     "data": {
      "image/png": "[encoded data removed]",
      "text/plain": [
       "<Figure size 640x480 with 1 Axes>"
      ]
     },
     "metadata": {},
     "output_type": "display_data"
    }
   ],
   "source": [
    "rolls_example = roll_dice(100000)\n",
    "plot_result(rolls_example)"
   ]
  },
  {
   "cell_type": "code",
   "execution_count": 5,
   "metadata": {},
   "outputs": [
    {
     "data": {
      "text/plain": [
       "36"
      ]
     },
     "execution_count": 5,
     "metadata": {},
     "output_type": "execute_result"
    }
   ],
   "source": [
    "dadu1 = [1,2,3,4,5,6]\n",
    "dadu2 = [1,2,3,4,5,6]\n",
    "\n",
    "len(list(product(dadu1,dadu2)))"
   ]
  },
  {
   "cell_type": "code",
   "execution_count": 6,
   "metadata": {},
   "outputs": [
    {
     "name": "stdout",
     "output_type": "stream",
     "text": [
      "Probabilitas jumlah dadu 2: 0.0274\n",
      "Probabilitas jumlah dadu 3: 0.0553\n",
      "Probabilitas jumlah dadu 4: 0.0847\n",
      "Probabilitas jumlah dadu 5: 0.1090\n",
      "Probabilitas jumlah dadu 6: 0.1379\n",
      "Probabilitas jumlah dadu 7: 0.1694\n",
      "Probabilitas jumlah dadu 8: 0.1384\n",
      "Probabilitas jumlah dadu 9: 0.1090\n",
      "Probabilitas jumlah dadu 10: 0.0847\n",
      "Probabilitas jumlah dadu 11: 0.0560\n",
      "Probabilitas jumlah dadu 12: 0.0283\n"
     ]
    }
   ],
   "source": [
    "# Simulasi lemparan dua dadu sebanyak 1000 kali\n",
    "jumlah_lemparan = 100000\n",
    "dadu1 = np.random.randint(1, 7, size=jumlah_lemparan)\n",
    "dadu2 = np.random.randint(1, 7, size=jumlah_lemparan)\n",
    "\n",
    "# Hitung jumlah total dari dua dadu\n",
    "total_dadu = dadu1 + dadu2\n",
    "#print(total_dadu)\n",
    "\n",
    "# Hitung frekuensi munculnya setiap label (2 hingga 12)\n",
    "frekuensi_label = np.zeros(11)  # Indeks 0 hingga 10 untuk label 2 hingga 12\n",
    "\n",
    "for label in range(2, 13):\n",
    "    frekuensi_label[label - 2] = np.sum(total_dadu == label)\n",
    "#print(frekuensi_label)\n",
    "\n",
    "# Hitung probabilitas masing-masing label\n",
    "probabilitas = frekuensi_label / jumlah_lemparan\n",
    "\n",
    "# Tampilkan hasil\n",
    "for label, prob in zip(range(2, 13), probabilitas):\n",
    "    print(f\"Probabilitas jumlah dadu {label}: {prob:.4f}\")"
   ]
  },
  {
   "cell_type": "code",
   "execution_count": 7,
   "metadata": {},
   "outputs": [
    {
     "data": {
      "text/html": [
       "<div>\n",
       "<style scoped>\n",
       "    .dataframe tbody tr th:only-of-type {\n",
       "        vertical-align: middle;\n",
       "    }\n",
       "\n",
       "    .dataframe tbody tr th {\n",
       "        vertical-align: top;\n",
       "    }\n",
       "\n",
       "    .dataframe thead th {\n",
       "        text-align: right;\n",
       "    }\n",
       "</style>\n",
       "<table border=\"1\" class=\"dataframe\">\n",
       "  <thead>\n",
       "    <tr style=\"text-align: right;\">\n",
       "      <th></th>\n",
       "      <th>age</th>\n",
       "      <th>anaemia</th>\n",
       "      <th>creatinine_phosphokinase</th>\n",
       "      <th>diabetes</th>\n",
       "      <th>ejection_fraction</th>\n",
       "      <th>high_blood_pressure</th>\n",
       "      <th>platelets</th>\n",
       "      <th>serum_creatinine</th>\n",
       "      <th>serum_sodium</th>\n",
       "      <th>sex</th>\n",
       "      <th>smoking</th>\n",
       "      <th>time</th>\n",
       "      <th>DEATH_EVENT</th>\n",
       "    </tr>\n",
       "  </thead>\n",
       "  <tbody>\n",
       "    <tr>\n",
       "      <th>0</th>\n",
       "      <td>75.0</td>\n",
       "      <td>0</td>\n",
       "      <td>582</td>\n",
       "      <td>0</td>\n",
       "      <td>20</td>\n",
       "      <td>1</td>\n",
       "      <td>265000.00</td>\n",
       "      <td>1.9</td>\n",
       "      <td>130</td>\n",
       "      <td>1</td>\n",
       "      <td>0</td>\n",
       "      <td>4</td>\n",
       "      <td>1</td>\n",
       "    </tr>\n",
       "    <tr>\n",
       "      <th>1</th>\n",
       "      <td>55.0</td>\n",
       "      <td>0</td>\n",
       "      <td>7861</td>\n",
       "      <td>0</td>\n",
       "      <td>38</td>\n",
       "      <td>0</td>\n",
       "      <td>263358.03</td>\n",
       "      <td>1.1</td>\n",
       "      <td>136</td>\n",
       "      <td>1</td>\n",
       "      <td>0</td>\n",
       "      <td>6</td>\n",
       "      <td>1</td>\n",
       "    </tr>\n",
       "    <tr>\n",
       "      <th>2</th>\n",
       "      <td>65.0</td>\n",
       "      <td>0</td>\n",
       "      <td>146</td>\n",
       "      <td>0</td>\n",
       "      <td>20</td>\n",
       "      <td>0</td>\n",
       "      <td>162000.00</td>\n",
       "      <td>1.3</td>\n",
       "      <td>129</td>\n",
       "      <td>1</td>\n",
       "      <td>1</td>\n",
       "      <td>7</td>\n",
       "      <td>1</td>\n",
       "    </tr>\n",
       "    <tr>\n",
       "      <th>3</th>\n",
       "      <td>50.0</td>\n",
       "      <td>1</td>\n",
       "      <td>111</td>\n",
       "      <td>0</td>\n",
       "      <td>20</td>\n",
       "      <td>0</td>\n",
       "      <td>210000.00</td>\n",
       "      <td>1.9</td>\n",
       "      <td>137</td>\n",
       "      <td>1</td>\n",
       "      <td>0</td>\n",
       "      <td>7</td>\n",
       "      <td>1</td>\n",
       "    </tr>\n",
       "    <tr>\n",
       "      <th>4</th>\n",
       "      <td>65.0</td>\n",
       "      <td>1</td>\n",
       "      <td>160</td>\n",
       "      <td>1</td>\n",
       "      <td>20</td>\n",
       "      <td>0</td>\n",
       "      <td>327000.00</td>\n",
       "      <td>2.7</td>\n",
       "      <td>116</td>\n",
       "      <td>0</td>\n",
       "      <td>0</td>\n",
       "      <td>8</td>\n",
       "      <td>1</td>\n",
       "    </tr>\n",
       "  </tbody>\n",
       "</table>\n",
       "</div>"
      ],
      "text/plain": [
       "    age  anaemia  creatinine_phosphokinase  diabetes  ejection_fraction  \\\n",
       "0  75.0        0                       582         0                 20   \n",
       "1  55.0        0                      7861         0                 38   \n",
       "2  65.0        0                       146         0                 20   \n",
       "3  50.0        1                       111         0                 20   \n",
       "4  65.0        1                       160         1                 20   \n",
       "\n",
       "   high_blood_pressure  platelets  serum_creatinine  serum_sodium  sex  \\\n",
       "0                    1  265000.00               1.9           130    1   \n",
       "1                    0  263358.03               1.1           136    1   \n",
       "2                    0  162000.00               1.3           129    1   \n",
       "3                    0  210000.00               1.9           137    1   \n",
       "4                    0  327000.00               2.7           116    0   \n",
       "\n",
       "   smoking  time  DEATH_EVENT  \n",
       "0        0     4            1  \n",
       "1        0     6            1  \n",
       "2        1     7            1  \n",
       "3        0     7            1  \n",
       "4        0     8            1  "
      ]
     },
     "execution_count": 7,
     "metadata": {},
     "output_type": "execute_result"
    }
   ],
   "source": [
    "df = pd.read_csv('../../csv/heart_failure_clinical_records_dataset.csv')\n",
    "df.head()"
   ]
  },
  {
   "cell_type": "code",
   "execution_count": 8,
   "metadata": {},
   "outputs": [
    {
     "name": "stdout",
     "output_type": "stream",
     "text": [
      "Probability of Male: 0.6488\n"
     ]
    }
   ],
   "source": [
    "#1 what is the probability of selecting male\n",
    "total = len(df)\n",
    "male = df[df[\"sex\"] == 1].shape[0] #ambil jumlah baris\n",
    "prob = male / total\n",
    "print(f\"Probability of Male: {prob:.4f}\")\n"
   ]
  },
  {
   "cell_type": "code",
   "execution_count": 9,
   "metadata": {},
   "outputs": [
    {
     "name": "stdout",
     "output_type": "stream",
     "text": [
      "Probability of Non-Smoker Male: 0.3411\n"
     ]
    }
   ],
   "source": [
    "#2\n",
    "non_smoker_male = df[(df[\"sex\"] == 1) & (df[\"smoking\"] == 0)]\n",
    "count = len(non_smoker_male)\n",
    "prob_non_smoker_male = count / total\n",
    "print(f\"Probability of Non-Smoker Male: {prob_non_smoker_male:.4f}\")\n"
   ]
  },
  {
   "cell_type": "code",
   "execution_count": 10,
   "metadata": {},
   "outputs": [
    {
     "data": {
      "text/html": [
       "<div>\n",
       "<style scoped>\n",
       "    .dataframe tbody tr th:only-of-type {\n",
       "        vertical-align: middle;\n",
       "    }\n",
       "\n",
       "    .dataframe tbody tr th {\n",
       "        vertical-align: top;\n",
       "    }\n",
       "\n",
       "    .dataframe thead th {\n",
       "        text-align: right;\n",
       "    }\n",
       "</style>\n",
       "<table border=\"1\" class=\"dataframe\">\n",
       "  <thead>\n",
       "    <tr style=\"text-align: right;\">\n",
       "      <th></th>\n",
       "      <th>Non Smoker</th>\n",
       "      <th>Smoker</th>\n",
       "      <th>Total</th>\n",
       "    </tr>\n",
       "  </thead>\n",
       "  <tbody>\n",
       "    <tr>\n",
       "      <th>Female</th>\n",
       "      <td>101</td>\n",
       "      <td>4</td>\n",
       "      <td>105</td>\n",
       "    </tr>\n",
       "    <tr>\n",
       "      <th>Male</th>\n",
       "      <td>102</td>\n",
       "      <td>92</td>\n",
       "      <td>194</td>\n",
       "    </tr>\n",
       "    <tr>\n",
       "      <th>Total</th>\n",
       "      <td>203</td>\n",
       "      <td>96</td>\n",
       "      <td>299</td>\n",
       "    </tr>\n",
       "  </tbody>\n",
       "</table>\n",
       "</div>"
      ],
      "text/plain": [
       "        Non Smoker  Smoker  Total\n",
       "Female         101       4    105\n",
       "Male           102      92    194\n",
       "Total          203      96    299"
      ]
     },
     "execution_count": 10,
     "metadata": {},
     "output_type": "execute_result"
    }
   ],
   "source": [
    "#3\n",
    "source = pd.crosstab(index=df['sex'], columns=df['smoking'], margins=True, margins_name='Total') \n",
    "source.index = ['Female', 'Male', 'Total']\n",
    "source.columns = ['Non Smoker', 'Smoker', 'Total']\n",
    "\n",
    "source"
   ]
  }
 ],
 "metadata": {
  "kernelspec": {
   "display_name": "base",
   "language": "python",
   "name": "python3"
  },
  "language_info": {
   "codemirror_mode": {
    "name": "ipython",
    "version": 3
   },
   "file_extension": ".py",
   "mimetype": "text/x-python",
   "name": "python",
   "nbconvert_exporter": "python",
   "pygments_lexer": "ipython3",
   "version": "3.11.7"
  }
 },
 "nbformat": 4,
 "nbformat_minor": 2
}
