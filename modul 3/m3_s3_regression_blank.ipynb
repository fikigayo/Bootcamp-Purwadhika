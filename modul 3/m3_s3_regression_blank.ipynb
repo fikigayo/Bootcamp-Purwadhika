{
  "cells": [
    {
      "cell_type": "markdown",
      "metadata": {
        "id": "yoF5BL2qM8Ak"
      },
      "source": [
        "### `Multiple Linear Regression`\n",
        "\n",
        "Linear Regression is a useful tool for predicting a quantitative response. We have the linear regression model has the form:\n",
        "\n",
        "$f(x) = \\beta_0 + \\sum\\limits_{j=1}^p X_j\\beta_j$\n",
        "\n",
        "**where**\n",
        "- $f(x)$: response/dependent variable\n",
        "- $X_j$: explanatory/independent variable\n",
        "- $\\beta_j$: slope coefficient\n",
        "- $\\beta_0$: intercept terms"
      ]
    },
    {
      "cell_type": "markdown",
      "metadata": {
        "id": "oGsnABn5M8Ap"
      },
      "source": [
        "#### **Importing Libraries**"
      ]
    },
    {
      "cell_type": "code",
      "execution_count": 1,
      "metadata": {
        "id": "jeZLvBU2M8Ap"
      },
      "outputs": [],
      "source": [
        "import pandas as pd\n",
        "import numpy as np\n",
        "\n",
        "import statsmodels.api as sm\n",
        "from statsmodels.compat import lzip\n",
        "from statsmodels.stats.outliers_influence import variance_inflation_factor"
      ]
    },
    {
      "cell_type": "code",
      "execution_count": 2,
      "metadata": {
        "id": "px4BIIT1M8Ar"
      },
      "outputs": [],
      "source": [
        "%matplotlib inline\n",
        "import seaborn as sns\n",
        "import matplotlib.pyplot as plt\n",
        "plt.style.use(\"ggplot\")"
      ]
    },
    {
      "cell_type": "markdown",
      "metadata": {
        "id": "IMF_gNlEM8Ar"
      },
      "source": [
        "#### **Load the Data**\n",
        "\n",
        "The advertising dataset captures sales revenue generated with respect to advertisement spends across multiple channel like radio, TV, and newspaper."
      ]
    },
    {
      "cell_type": "code",
      "execution_count": 3,
      "metadata": {
        "id": "hlCkWPv7M8As"
      },
      "outputs": [
        {
          "data": {
            "text/html": [
              "<div>\n",
              "<style scoped>\n",
              "    .dataframe tbody tr th:only-of-type {\n",
              "        vertical-align: middle;\n",
              "    }\n",
              "\n",
              "    .dataframe tbody tr th {\n",
              "        vertical-align: top;\n",
              "    }\n",
              "\n",
              "    .dataframe thead th {\n",
              "        text-align: right;\n",
              "    }\n",
              "</style>\n",
              "<table border=\"1\" class=\"dataframe\">\n",
              "  <thead>\n",
              "    <tr style=\"text-align: right;\">\n",
              "      <th></th>\n",
              "      <th>TV</th>\n",
              "      <th>Radio</th>\n",
              "      <th>Newspaper</th>\n",
              "      <th>Sales</th>\n",
              "    </tr>\n",
              "  </thead>\n",
              "  <tbody>\n",
              "    <tr>\n",
              "      <th>0</th>\n",
              "      <td>230.1</td>\n",
              "      <td>37.8</td>\n",
              "      <td>69.2</td>\n",
              "      <td>22.1</td>\n",
              "    </tr>\n",
              "    <tr>\n",
              "      <th>1</th>\n",
              "      <td>44.5</td>\n",
              "      <td>39.3</td>\n",
              "      <td>45.1</td>\n",
              "      <td>10.4</td>\n",
              "    </tr>\n",
              "    <tr>\n",
              "      <th>2</th>\n",
              "      <td>17.2</td>\n",
              "      <td>45.9</td>\n",
              "      <td>69.3</td>\n",
              "      <td>9.3</td>\n",
              "    </tr>\n",
              "    <tr>\n",
              "      <th>3</th>\n",
              "      <td>151.5</td>\n",
              "      <td>41.3</td>\n",
              "      <td>58.5</td>\n",
              "      <td>18.5</td>\n",
              "    </tr>\n",
              "    <tr>\n",
              "      <th>4</th>\n",
              "      <td>180.8</td>\n",
              "      <td>10.8</td>\n",
              "      <td>58.4</td>\n",
              "      <td>12.9</td>\n",
              "    </tr>\n",
              "  </tbody>\n",
              "</table>\n",
              "</div>"
            ],
            "text/plain": [
              "      TV  Radio  Newspaper  Sales\n",
              "0  230.1   37.8       69.2   22.1\n",
              "1   44.5   39.3       45.1   10.4\n",
              "2   17.2   45.9       69.3    9.3\n",
              "3  151.5   41.3       58.5   18.5\n",
              "4  180.8   10.8       58.4   12.9"
            ]
          },
          "execution_count": 3,
          "metadata": {},
          "output_type": "execute_result"
        }
      ],
      "source": [
        "data = pd.read_csv('../../csv/advertising.csv').drop(columns='Unnamed: 0')\n",
        "data.head()"
      ]
    },
    {
      "cell_type": "code",
      "execution_count": 4,
      "metadata": {},
      "outputs": [
        {
          "name": "stdout",
          "output_type": "stream",
          "text": [
            "<class 'pandas.core.frame.DataFrame'>\n",
            "RangeIndex: 200 entries, 0 to 199\n",
            "Data columns (total 4 columns):\n",
            " #   Column     Non-Null Count  Dtype  \n",
            "---  ------     --------------  -----  \n",
            " 0   TV         200 non-null    float64\n",
            " 1   Radio      200 non-null    float64\n",
            " 2   Newspaper  200 non-null    float64\n",
            " 3   Sales      200 non-null    float64\n",
            "dtypes: float64(4)\n",
            "memory usage: 6.4 KB\n"
          ]
        }
      ],
      "source": [
        "data.info() #datanya numerical semua"
      ]
    },
    {
      "cell_type": "code",
      "execution_count": 5,
      "metadata": {},
      "outputs": [
        {
          "data": {
            "text/html": [
              "<div>\n",
              "<style scoped>\n",
              "    .dataframe tbody tr th:only-of-type {\n",
              "        vertical-align: middle;\n",
              "    }\n",
              "\n",
              "    .dataframe tbody tr th {\n",
              "        vertical-align: top;\n",
              "    }\n",
              "\n",
              "    .dataframe thead th {\n",
              "        text-align: right;\n",
              "    }\n",
              "</style>\n",
              "<table border=\"1\" class=\"dataframe\">\n",
              "  <thead>\n",
              "    <tr style=\"text-align: right;\">\n",
              "      <th></th>\n",
              "      <th>TV</th>\n",
              "      <th>Radio</th>\n",
              "      <th>Newspaper</th>\n",
              "      <th>Sales</th>\n",
              "    </tr>\n",
              "  </thead>\n",
              "  <tbody>\n",
              "    <tr>\n",
              "      <th>count</th>\n",
              "      <td>200.000000</td>\n",
              "      <td>200.000000</td>\n",
              "      <td>200.000000</td>\n",
              "      <td>200.000000</td>\n",
              "    </tr>\n",
              "    <tr>\n",
              "      <th>mean</th>\n",
              "      <td>147.042500</td>\n",
              "      <td>23.264000</td>\n",
              "      <td>30.554000</td>\n",
              "      <td>14.022500</td>\n",
              "    </tr>\n",
              "    <tr>\n",
              "      <th>std</th>\n",
              "      <td>85.854236</td>\n",
              "      <td>14.846809</td>\n",
              "      <td>21.778621</td>\n",
              "      <td>5.217457</td>\n",
              "    </tr>\n",
              "    <tr>\n",
              "      <th>min</th>\n",
              "      <td>0.700000</td>\n",
              "      <td>0.000000</td>\n",
              "      <td>0.300000</td>\n",
              "      <td>1.600000</td>\n",
              "    </tr>\n",
              "    <tr>\n",
              "      <th>25%</th>\n",
              "      <td>74.375000</td>\n",
              "      <td>9.975000</td>\n",
              "      <td>12.750000</td>\n",
              "      <td>10.375000</td>\n",
              "    </tr>\n",
              "    <tr>\n",
              "      <th>50%</th>\n",
              "      <td>149.750000</td>\n",
              "      <td>22.900000</td>\n",
              "      <td>25.750000</td>\n",
              "      <td>12.900000</td>\n",
              "    </tr>\n",
              "    <tr>\n",
              "      <th>75%</th>\n",
              "      <td>218.825000</td>\n",
              "      <td>36.525000</td>\n",
              "      <td>45.100000</td>\n",
              "      <td>17.400000</td>\n",
              "    </tr>\n",
              "    <tr>\n",
              "      <th>max</th>\n",
              "      <td>296.400000</td>\n",
              "      <td>49.600000</td>\n",
              "      <td>114.000000</td>\n",
              "      <td>27.000000</td>\n",
              "    </tr>\n",
              "  </tbody>\n",
              "</table>\n",
              "</div>"
            ],
            "text/plain": [
              "               TV       Radio   Newspaper       Sales\n",
              "count  200.000000  200.000000  200.000000  200.000000\n",
              "mean   147.042500   23.264000   30.554000   14.022500\n",
              "std     85.854236   14.846809   21.778621    5.217457\n",
              "min      0.700000    0.000000    0.300000    1.600000\n",
              "25%     74.375000    9.975000   12.750000   10.375000\n",
              "50%    149.750000   22.900000   25.750000   12.900000\n",
              "75%    218.825000   36.525000   45.100000   17.400000\n",
              "max    296.400000   49.600000  114.000000   27.000000"
            ]
          },
          "execution_count": 5,
          "metadata": {},
          "output_type": "execute_result"
        }
      ],
      "source": [
        "data.describe()"
      ]
    },
    {
      "cell_type": "markdown",
      "metadata": {
        "id": "kiwTOQf5M8As"
      },
      "source": [
        "#### **Data Analysis**\n",
        "\n",
        "Let's explore these types of relationships across the entire data set. Based off this plot what looks to be the most correlated feature sales?"
      ]
    },
    {
      "cell_type": "code",
      "execution_count": 6,
      "metadata": {
        "id": "1B9qjGkgM8As"
      },
      "outputs": [
        {
          "data": {
            "image/png": "[encoded data removed]",
            "text/plain": [
              "<Figure size 1200x500 with 3 Axes>"
            ]
          },
          "metadata": {},
          "output_type": "display_data"
        }
      ],
      "source": [
        "sns.pairplot(data, x_vars=['TV','Radio','Newspaper'],y_vars='Sales',height=5,aspect=0.8)\n",
        "plt.show()"
      ]
    },
    {
      "cell_type": "markdown",
      "metadata": {
        "id": "88mEUAfcM8As"
      },
      "source": [
        "#### **Estimating Coefficients**\n",
        "\n",
        "Create a linear model plot of sales from tv, radio, and newspaper variable."
      ]
    },
    {
      "cell_type": "code",
      "execution_count": 7,
      "metadata": {
        "id": "V3D34TTLM8As"
      },
      "outputs": [],
      "source": [
        "sm_ls = sm.OLS(data['Sales'],sm.add_constant(data.drop(columns=['Sales'])))\n",
        "result = sm_ls.fit()\n"
      ]
    },
    {
      "cell_type": "code",
      "execution_count": 8,
      "metadata": {},
      "outputs": [
        {
          "name": "stdout",
          "output_type": "stream",
          "text": [
            "==============================================================================\n",
            "                 coef    std err          t      P>|t|      [0.025      0.975]\n",
            "------------------------------------------------------------------------------\n",
            "const          2.9389      0.312      9.422      0.000       2.324       3.554\n",
            "TV             0.0458      0.001     32.809      0.000       0.043       0.049\n",
            "Radio          0.1885      0.009     21.893      0.000       0.172       0.206\n",
            "Newspaper     -0.0010      0.006     -0.177      0.860      -0.013       0.011\n",
            "==============================================================================\n"
          ]
        }
      ],
      "source": [
        "print(result.summary().tables[1])"
      ]
    },
    {
      "cell_type": "code",
      "execution_count": 9,
      "metadata": {},
      "outputs": [],
      "source": [
        "#karna newspapernya pvalue > 0.05 maka kita drop saja karna tidak berpengaruh ke Sales\n",
        "sm_ls = sm.OLS(data['Sales'],sm.add_constant(data.drop(columns=['Sales','Newspaper'])))\n",
        "result = sm_ls.fit()"
      ]
    },
    {
      "cell_type": "code",
      "execution_count": 10,
      "metadata": {},
      "outputs": [
        {
          "name": "stdout",
          "output_type": "stream",
          "text": [
            "==============================================================================\n",
            "                 coef    std err          t      P>|t|      [0.025      0.975]\n",
            "------------------------------------------------------------------------------\n",
            "const          2.9211      0.294      9.919      0.000       2.340       3.502\n",
            "TV             0.0458      0.001     32.909      0.000       0.043       0.048\n",
            "Radio          0.1880      0.008     23.382      0.000       0.172       0.204\n",
            "==============================================================================\n"
          ]
        }
      ],
      "source": [
        "print(result.summary().tables[1])"
      ]
    },
    {
      "cell_type": "markdown",
      "metadata": {
        "id": "6lAJ3Kp_M8As"
      },
      "source": [
        "Now, the linear regression equation becomes:\n",
        "\n",
        "$Sales = 2.9389 + 0.0458TV + 0.1880Radio$\n",
        "\n",
        "Parameter Estimate:\n",
        "- **conts = 2.9211** : When we do not advertise through TV and Radio channels, the sales generated is $2.9211\n",
        "- **Radio = 0.1880** : When the advertising spent on radio is 1 dollar, the sales generated increases by 0.1880 dollars. This interpretation is only recommended when we spend on radio between 0 and 49.6 dollars and do not spend on TV.\n",
        "- **TV = 0.0458** : When the advertising spent on TV is 1 dollar, the sales generated increases by 0.0458 dollars. This interpretation is only recommended when we spend on TV between 0.7 and 296.4 dollars and do not spend on radio."
      ]
    },
    {
      "cell_type": "markdown",
      "metadata": {
        "id": "7wfu_R2YM8As"
      },
      "source": [
        "#### **Evaluating the Model**\n",
        "\n",
        "Let's evaluate our model performance by looking at the following table:"
      ]
    },
    {
      "cell_type": "code",
      "execution_count": 11,
      "metadata": {
        "id": "yGPmkUFYM8At"
      },
      "outputs": [
        {
          "name": "stdout",
          "output_type": "stream",
          "text": [
            "                            OLS Regression Results                            \n",
            "==============================================================================\n",
            "Dep. Variable:                  Sales   R-squared:                       0.897\n",
            "Model:                            OLS   Adj. R-squared:                  0.896\n",
            "Method:                 Least Squares   F-statistic:                     859.6\n",
            "Date:                Tue, 10 Sep 2024   Prob (F-statistic):           4.83e-98\n",
            "Time:                        16:37:40   Log-Likelihood:                -386.20\n",
            "No. Observations:                 200   AIC:                             778.4\n",
            "Df Residuals:                     197   BIC:                             788.3\n",
            "Df Model:                           2                                         \n",
            "Covariance Type:            nonrobust                                         \n",
            "==============================================================================\n"
          ]
        }
      ],
      "source": [
        "print(result.summary().tables[0])"
      ]
    },
    {
      "cell_type": "markdown",
      "metadata": {
        "id": "ZZ8tauiSM8Au"
      },
      "source": [
        "**F-Test**, used to determine whether a complex model is better than a simpler version of the same model in explaining the variance in the dependent variable."
      ]
    },
    {
      "cell_type": "code",
      "execution_count": 12,
      "metadata": {
        "id": "4eHt0S40M8Au"
      },
      "outputs": [
        {
          "data": {
            "text/plain": [
              "4.827361851335384e-98"
            ]
          },
          "execution_count": 12,
          "metadata": {},
          "output_type": "execute_result"
        }
      ],
      "source": [
        "result.f_pvalue"
      ]
    },
    {
      "cell_type": "markdown",
      "metadata": {
        "id": "iEmUeErLM8Av"
      },
      "source": [
        "P-Value of the Simultant test (Prob (F-statistics)) is below 0.05. We have enough evidence that spending on advertising through radio and TV affects the sales generated.\n",
        "\n",
        "**R-squared**, which sometimes is also known as the coefficient of determination, defines the degree to which the variance in the dependent variable (target or response) can be explained by the independent variable (features or predictors).\n",
        "\n",
        "$R^2 = 1 - \\frac{SS_{res}}{SS_{tot}}$"
      ]
    },
    {
      "cell_type": "code",
      "execution_count": 13,
      "metadata": {
        "id": "PPs-dSUzM8Av"
      },
      "outputs": [
        {
          "data": {
            "text/plain": [
              "0.8971942610828957"
            ]
          },
          "execution_count": 13,
          "metadata": {},
          "output_type": "execute_result"
        }
      ],
      "source": [
        "result.rsquared"
      ]
    },
    {
      "cell_type": "markdown",
      "metadata": {
        "id": "bxCUbqymM8Av"
      },
      "source": [
        "We observed 89.7% variability in sales is explained by its linear relationship with tv and radio while 10.3% variations are uncounted for.\n",
        "\n",
        "**Adj. R-squared**, measures the proportion ov variations explained by only those independent variables that really help in explaining the dependent variable. The adjusted R-squared increases when the new term improves the model more than would be expected by chance. It decreases when a predictor improves the model by less than expected.\n",
        "\n",
        "$R^2 = 1 - \\frac{SS_{res}/n - k}{SS_{tot}/n - 1}$"
      ]
    },
    {
      "cell_type": "code",
      "execution_count": 14,
      "metadata": {
        "id": "86fEmbb4M8Av"
      },
      "outputs": [
        {
          "data": {
            "text/plain": [
              "0.8961505479974429"
            ]
          },
          "execution_count": 14,
          "metadata": {},
          "output_type": "execute_result"
        }
      ],
      "source": [
        "result.rsquared_adj"
      ]
    },
    {
      "cell_type": "markdown",
      "metadata": {
        "id": "UBlvgmctM8Aw"
      },
      "source": [
        "We observed that the independent variable Newspaper is ingsignificant or it doesn't contribute to explain the variation in the dependent variable. Hence, the adjusted-R2 is the same due to the involvement of insignificant variables and will potentially undermine the predictive power of the other variables that have been included in the model and found to be significant.\n",
        "\n",
        "**Mean Squared Error** (MSE) is the mean of the squared errors.\n",
        "\n",
        "$MSE = \\frac{1}{n} \\sum\\limits_{n=1}^p (y_i - \\hat{y}_i)^2$\n",
        "\n",
        "A larger MSE indicates that the data point are dispersed widely around its central moment (mean), whereas a smaller MSE suggest the opposite. A smaller MSE is preferred because it indicates that your data points are dispersed closely around its central moment (mean)."
      ]
    },
    {
      "cell_type": "code",
      "execution_count": 15,
      "metadata": {
        "id": "yV4iU2U4M8Ax"
      },
      "outputs": [
        {
          "data": {
            "text/plain": [
              "0      20.555465\n",
              "1      12.345362\n",
              "2      12.337018\n",
              "3      17.617116\n",
              "4      13.223908\n",
              "         ...    \n",
              "195     5.364512\n",
              "196     8.152375\n",
              "197    12.768048\n",
              "198    23.792923\n",
              "199    15.157543\n",
              "Length: 200, dtype: float64"
            ]
          },
          "execution_count": 15,
          "metadata": {},
          "output_type": "execute_result"
        }
      ],
      "source": [
        "y_pred = result.predict(sm.add_constant(data[['TV','Radio']]))\n",
        "y_pred"
      ]
    },
    {
      "cell_type": "code",
      "execution_count": 16,
      "metadata": {},
      "outputs": [
        {
          "data": {
            "text/plain": [
              "0      22.1\n",
              "1      10.4\n",
              "2       9.3\n",
              "3      18.5\n",
              "4      12.9\n",
              "       ... \n",
              "195     7.6\n",
              "196     9.7\n",
              "197    12.8\n",
              "198    25.5\n",
              "199    13.4\n",
              "Name: Sales, Length: 200, dtype: float64"
            ]
          },
          "execution_count": 16,
          "metadata": {},
          "output_type": "execute_result"
        }
      ],
      "source": [
        "data['Sales']"
      ]
    },
    {
      "cell_type": "code",
      "execution_count": 17,
      "metadata": {},
      "outputs": [
        {
          "data": {
            "text/plain": [
              "2.784569900338091"
            ]
          },
          "execution_count": 17,
          "metadata": {},
          "output_type": "execute_result"
        }
      ],
      "source": [
        "from sklearn.metrics import mean_squared_error\n",
        "\n",
        "MSE = mean_squared_error(data['Sales'],y_pred)\n",
        "MSE"
      ]
    },
    {
      "cell_type": "markdown",
      "metadata": {
        "id": "iH3-rD6ZM8Ax"
      },
      "source": [
        "**Root Mean Squared Error** (RMSE) is the root mean of the squared errors.\n",
        "\n",
        "$RMSE = \\sqrt{\\frac{1}{n} \\sum\\limits_{n=1}^p (y_i - \\hat{y}_i)^2}$\n",
        "\n",
        "RMSE is a measure of how spread out these residuals are. In other words, it tells you how concentrated the data is around the line of best fit. Root mean square error is commonly used in forecasting and regression analysis to verify experimental result."
      ]
    },
    {
      "cell_type": "code",
      "execution_count": 18,
      "metadata": {
        "id": "sdBb7EGxM8Ax"
      },
      "outputs": [
        {
          "name": "stderr",
          "output_type": "stream",
          "text": [
            "c:\\Users\\Fiki\\anaconda3\\Lib\\site-packages\\sklearn\\metrics\\_regression.py:492: FutureWarning: 'squared' is deprecated in version 1.4 and will be removed in 1.6. To calculate the root mean squared error, use the function'root_mean_squared_error'.\n",
            "  warnings.warn(\n"
          ]
        },
        {
          "data": {
            "text/plain": [
              "1.6687030593661927"
            ]
          },
          "execution_count": 18,
          "metadata": {},
          "output_type": "execute_result"
        }
      ],
      "source": [
        "RMSE = mean_squared_error(data['Sales'],y_pred,squared=False)\n",
        "RMSE"
      ]
    },
    {
      "cell_type": "code",
      "execution_count": 19,
      "metadata": {},
      "outputs": [
        {
          "data": {
            "text/plain": [
              "1.6687030593661927"
            ]
          },
          "execution_count": 19,
          "metadata": {},
          "output_type": "execute_result"
        }
      ],
      "source": [
        "#atau begini lebih gampangnya\n",
        "np.sqrt(MSE)"
      ]
    },
    {
      "cell_type": "markdown",
      "metadata": {
        "id": "MW_ON_QVM8Ax"
      },
      "source": [
        "#### **Residual Analysis**\n",
        "\n",
        "Let's evaluate our model performance by looking at residual. Residuals is used to assess some assumption in model. Each assumption that is violated has its own impact on the results of analysis and predictions.\n",
        "\n",
        "- The regression model is linear in the parameters and the error term\n",
        "- The error term are normally distributed\n",
        "- Gauss-Markov (Specific to Least Square):\n",
        "    - The error term has a population mean of zero\n",
        "    - The error term has constant variance (Homoscedasticity)\n",
        "    - Observation of the error terms are uncorrelated with each other\n",
        "\n",
        "\n",
        "\n"
      ]
    },
    {
      "cell_type": "code",
      "execution_count": 20,
      "metadata": {
        "id": "CPRzcjaqM8Ax"
      },
      "outputs": [
        {
          "data": {
            "text/plain": [
              "0    1.544535\n",
              "1   -1.945362\n",
              "2   -3.037018\n",
              "3    0.882884\n",
              "4   -0.323908\n",
              "dtype: float64"
            ]
          },
          "execution_count": 20,
          "metadata": {},
          "output_type": "execute_result"
        }
      ],
      "source": [
        "#Residual = y-y_pred\n",
        "#residual = data['Sales']-y_pred\n",
        "\n",
        "residual = result.resid #lebih simple pake ini\n",
        "residual.head()"
      ]
    },
    {
      "cell_type": "code",
      "execution_count": 21,
      "metadata": {},
      "outputs": [
        {
          "name": "stdout",
          "output_type": "stream",
          "text": [
            "==============================================================================\n",
            "Omnibus:                       60.022   Durbin-Watson:                   2.081\n",
            "Prob(Omnibus):                  0.000   Jarque-Bera (JB):              148.679\n",
            "Skew:                          -1.323   Prob(JB):                     5.19e-33\n",
            "Kurtosis:                       6.292   Cond. No.                         425.\n",
            "==============================================================================\n"
          ]
        }
      ],
      "source": [
        "print(result.summary().tables[2])"
      ]
    },
    {
      "cell_type": "markdown",
      "metadata": {
        "id": "6-rH506QM8Ay"
      },
      "source": [
        "`1. Normality Assumption`"
      ]
    },
    {
      "cell_type": "markdown",
      "metadata": {
        "id": "pDn-m4hsM8Ay"
      },
      "source": [
        "Simultant Test (F-Test) and Partial Test (T-Test) needs normality assumption so the test result more valid.\n",
        "\n",
        "We can asses normality assumption using:\n",
        "- histogram\n",
        "- qqplot\n",
        "- normality test such as : kolmogorov-smirnov (KS), Jarque-Bera (JB), etc\n"
      ]
    },
    {
      "cell_type": "code",
      "execution_count": 22,
      "metadata": {
        "id": "pknRbHpRM8Ay"
      },
      "outputs": [
        {
          "name": "stderr",
          "output_type": "stream",
          "text": [
            "c:\\Users\\Fiki\\anaconda3\\Lib\\site-packages\\seaborn\\_oldcore.py:1119: FutureWarning: use_inf_as_na option is deprecated and will be removed in a future version. Convert inf values to NaN before operating instead.\n",
            "  with pd.option_context('mode.use_inf_as_na', True):\n"
          ]
        },
        {
          "data": {
            "image/png": "[encoded data removed]",
            "text/plain": [
              "<Figure size 1000x400 with 2 Axes>"
            ]
          },
          "metadata": {},
          "output_type": "display_data"
        }
      ],
      "source": [
        "fig,ax = plt.subplots(1,2,figsize=(10,4))\n",
        "\n",
        "sns.histplot(residual,kde=True, ax=ax[0])\n",
        "ax[0].set_title('Histogram of Residual')\n",
        "\n",
        "sm.qqplot(residual,line='s',ax=ax[1])\n",
        "ax[1].set_title('QQ Plot of Residual')\n",
        "\n",
        "plt.show()"
      ]
    },
    {
      "cell_type": "markdown",
      "metadata": {
        "id": "YgcZU_oFM8Az"
      },
      "source": [
        "**Jarque-Bera test**, The Jarque-Bera (JB) test is a goodness-of-fit test of whether sample data have the skewness and kurtosis matching a normal distribution.\n",
        "\n",
        "Samples from a normal distribution have an:\n",
        "- expected skewness of 0 and\n",
        "- an expected excess kurtosis of 0 (which is the same as kurtosis of 3)\n",
        "\n",
        "Hypothesis:\n",
        "- H0: Normal\n",
        "- H1: Not normal\n",
        "\n",
        "Any deviation from this assumptions increases the JB statistic. Next, we calculate the statistics but you can also find the results of the Jarque-Bera test in the regression summary.\n"
      ]
    },
    {
      "cell_type": "code",
      "execution_count": 23,
      "metadata": {
        "id": "vkUkMpWaM8A0"
      },
      "outputs": [
        {
          "data": {
            "text/plain": [
              "[('Jarque-Berra Stat', 148.67851197833463),\n",
              " ('Chi-Square Prob', 5.186463610328629e-33),\n",
              " ('Skew', -1.3234431801449735),\n",
              " ('Kurtosis', 6.2917190088328)]"
            ]
          },
          "execution_count": 23,
          "metadata": {},
          "output_type": "execute_result"
        }
      ],
      "source": [
        "name = ['Jarque-Berra Stat','Chi-Square Prob','Skew','Kurtosis']\n",
        "test = sm.stats.jarque_bera(residual)\n",
        "lzip(name,test)"
      ]
    },
    {
      "cell_type": "markdown",
      "metadata": {
        "id": "zfzZbzMKM8A0"
      },
      "source": [
        "**Summary**\n",
        "\n",
        "- Residuals are not normally distributed\n",
        "- So the assumption of normality is not met"
      ]
    },
    {
      "cell_type": "markdown",
      "metadata": {
        "id": "f2dt22OKM8A1"
      },
      "source": [
        "`2. Gauss Markov Assumption`"
      ]
    },
    {
      "cell_type": "markdown",
      "metadata": {
        "id": "gxMd7zl9M8A1"
      },
      "source": [
        "- The error term has a population mean of zero\n",
        "- Observation of the error terms are uncorrelated with each other\n",
        "- The error term has constant variance/Non Constant standard deviation (Homoscedasticity)"
      ]
    },
    {
      "cell_type": "code",
      "execution_count": 24,
      "metadata": {
        "id": "qWVArqvBM8A3"
      },
      "outputs": [
        {
          "data": {
            "text/plain": [
              "3.517186542012496e-15"
            ]
          },
          "execution_count": 24,
          "metadata": {},
          "output_type": "execute_result"
        }
      ],
      "source": [
        "residual.mean()\n",
        "#error nya sangat kecil mendekati 0"
      ]
    },
    {
      "cell_type": "code",
      "execution_count": 25,
      "metadata": {},
      "outputs": [
        {
          "data": {
            "text/plain": [
              "0      20.555465\n",
              "1      12.345362\n",
              "2      12.337018\n",
              "3      17.617116\n",
              "4      13.223908\n",
              "         ...    \n",
              "195     5.364512\n",
              "196     8.152375\n",
              "197    12.768048\n",
              "198    23.792923\n",
              "199    15.157543\n",
              "Length: 200, dtype: float64"
            ]
          },
          "execution_count": 25,
          "metadata": {},
          "output_type": "execute_result"
        }
      ],
      "source": [
        "result.fittedvalues"
      ]
    },
    {
      "cell_type": "code",
      "execution_count": 26,
      "metadata": {},
      "outputs": [
        {
          "data": {
            "text/plain": [
              "0      22.1\n",
              "1      10.4\n",
              "2       9.3\n",
              "3      18.5\n",
              "4      12.9\n",
              "       ... \n",
              "195     7.6\n",
              "196     9.7\n",
              "197    12.8\n",
              "198    25.5\n",
              "199    13.4\n",
              "Name: Sales, Length: 200, dtype: float64"
            ]
          },
          "execution_count": 26,
          "metadata": {},
          "output_type": "execute_result"
        }
      ],
      "source": [
        "data['Sales']"
      ]
    },
    {
      "cell_type": "markdown",
      "metadata": {
        "id": "Xx_phk-TM8A4"
      },
      "source": [
        "**Residual plot**, are a useful graphical tool for identifying non-linearity as well as heteroscedasticity. The residuals of this plot are those of the regression fit with all predictors."
      ]
    },
    {
      "cell_type": "code",
      "execution_count": 27,
      "metadata": {
        "id": "TrdpvFHAM8A4"
      },
      "outputs": [
        {
          "data": {
            "image/png": "[encoded data removed]",
            "text/plain": [
              "<Figure size 1000x500 with 1 Axes>"
            ]
          },
          "metadata": {},
          "output_type": "display_data"
        }
      ],
      "source": [
        "plt.figure(figsize=(10,5))\n",
        "\n",
        "plot = sns.residplot(\n",
        "    x=result.fittedvalues,\n",
        "    y='Sales',\n",
        "    data=data,\n",
        "    lowess=True,\n",
        "    scatter_kws={'alpha':0.5}\n",
        ")\n",
        "plot.set_title('Residual vs Predicted Value')\n",
        "plot.set_xlabel('Predicted Value')\n",
        "plot.set_ylabel('Residual')\n",
        "\n",
        "plt.show()"
      ]
    },
    {
      "cell_type": "markdown",
      "metadata": {
        "id": "WX37QXwYM8A5"
      },
      "source": [
        "![](https://condor.depaul.edu/sjost/it223/documents/resid-plots.gif)"
      ]
    },
    {
      "cell_type": "markdown",
      "metadata": {
        "id": "fFusE1xbM8A5"
      },
      "source": [
        "**Durbin-Watson test**, a test of autocorrelation that is designed to take account of the regression model is the Durbin-Watson test (also included in the regression summary). It is used to test the hypothesis that there is no lag one autocorrelation in the residuals.\n",
        "\n",
        "Autocorrelation occurs when the residuals are not independent from each other. Linear regression analysis requires that there is little or no autocorrelation in the data. For instance, this typically occurs in stock prices, where the price is not dependent from the previous price.\n",
        "\n",
        "- If there is no autocorrelation, the Durbin-Watson distribution is symmetric around 2.\n",
        "\n",
        "- As a rough rule of thumb (Field, 2013):\n",
        "\n",
        "    - If Durbin–Watson is less than 1.0, there may be cause for concern.\n",
        "    - Small values of d indicate successive error terms are positively correlated.\n",
        "    - If d > 2, successive error terms are negatively correlated."
      ]
    },
    {
      "cell_type": "code",
      "execution_count": 28,
      "metadata": {
        "id": "n0Hdax-gM8A6"
      },
      "outputs": [
        {
          "data": {
            "text/plain": [
              "2.080780601004532"
            ]
          },
          "execution_count": 28,
          "metadata": {},
          "output_type": "execute_result"
        }
      ],
      "source": [
        "sm.stats.durbin_watson(residual)"
      ]
    },
    {
      "cell_type": "code",
      "execution_count": 29,
      "metadata": {},
      "outputs": [
        {
          "name": "stdout",
          "output_type": "stream",
          "text": [
            "                            OLS Regression Results                            \n",
            "==============================================================================\n",
            "Dep. Variable:                  Sales   R-squared:                       0.897\n",
            "Model:                            OLS   Adj. R-squared:                  0.896\n",
            "Method:                 Least Squares   F-statistic:                     859.6\n",
            "Date:                Tue, 10 Sep 2024   Prob (F-statistic):           4.83e-98\n",
            "Time:                        16:37:41   Log-Likelihood:                -386.20\n",
            "No. Observations:                 200   AIC:                             778.4\n",
            "Df Residuals:                     197   BIC:                             788.3\n",
            "Df Model:                           2                                         \n",
            "Covariance Type:            nonrobust                                         \n",
            "==============================================================================\n",
            "                 coef    std err          t      P>|t|      [0.025      0.975]\n",
            "------------------------------------------------------------------------------\n",
            "const          2.9211      0.294      9.919      0.000       2.340       3.502\n",
            "TV             0.0458      0.001     32.909      0.000       0.043       0.048\n",
            "Radio          0.1880      0.008     23.382      0.000       0.172       0.204\n",
            "==============================================================================\n",
            "Omnibus:                       60.022   Durbin-Watson:                   2.081\n",
            "Prob(Omnibus):                  0.000   Jarque-Bera (JB):              148.679\n",
            "Skew:                          -1.323   Prob(JB):                     5.19e-33\n",
            "Kurtosis:                       6.292   Cond. No.                         425.\n",
            "==============================================================================\n",
            "\n",
            "Notes:\n",
            "[1] Standard Errors assume that the covariance matrix of the errors is correctly specified.\n"
          ]
        }
      ],
      "source": [
        "print(result.summary())"
      ]
    },
    {
      "cell_type": "markdown",
      "metadata": {
        "id": "iLkvPvJNM8A7"
      },
      "source": [
        "**Breusch-Pagan Lagrange Multiplier test**, Breusch-Pagan Lagrange Multiplier test can be used to identify heteroscedasticity.\n",
        "\n",
        "Hypothesis:\n",
        "- H0: homoscedasticity, which means that the residual variance does not depend on the values of the variable in x.\n",
        "- H1: heteroscedasticity\n",
        "\n",
        "Note that this test may exaggerate the significance of results in small or moderately large samples. In this case the F-statistic is preferable."
      ]
    },
    {
      "cell_type": "code",
      "execution_count": 30,
      "metadata": {
        "id": "unoXNWQSM8A8"
      },
      "outputs": [
        {
          "data": {
            "text/plain": [
              "[('Lagrange Multiplier Statistic', 4.809299865939409),\n",
              " ('P-value', 0.09029710011529549),\n",
              " ('F-Value', 2.4269395850810236),\n",
              " ('F_P-Value', 0.0909429273412957)]"
            ]
          },
          "execution_count": 30,
          "metadata": {},
          "output_type": "execute_result"
        }
      ],
      "source": [
        "name = ['Lagrange Multiplier Statistic', 'P-value', 'F-Value', 'F_P-Value']\n",
        "test = sm.stats.het_breuschpagan(residual,result.model.exog)\n",
        "lzip(name,test)\n",
        "\n",
        "#karna p-value nya > 0.05 maka gagal menolak H0 maka termasuk homoscedasticity"
      ]
    },
    {
      "cell_type": "markdown",
      "metadata": {
        "id": "dMpD5SU9M8A8"
      },
      "source": [
        "**Summary**\n",
        "\n",
        "a. The error term has a population mean of zero = 5.86e-15 (near 0)\n",
        "- Fulfilled, because the number of positive and negative errors is the same\n",
        "\n",
        "b. Uncorrelated error\n",
        "- Fulfilled, because the errors do not form a particular pattern\n",
        "\n",
        "c. Homoscedasticity\n",
        "- Fulfilled (homoscedasticity), constant variance."
      ]
    },
    {
      "cell_type": "markdown",
      "metadata": {
        "id": "KBkGTx2mM8A8"
      },
      "source": [
        "#### **Multicollinearity**"
      ]
    },
    {
      "cell_type": "markdown",
      "metadata": {
        "id": "nAm71f03M8A8"
      },
      "source": [
        "Collinearity refers to the situation in which two or more predictor variables collinearity are closely related to one another. The presence of collinearity can pose problems in the regression context, since it can be difficult to separate out the individual effects of collinear variables on the response. It is possible for collinearity to exist between three or more variables even if no pair of variables has a particularly high correlation. We call this situation multicollinearity.\n",
        "\n",
        "Detecting multicollinearity is important because while multicollinearity does not reduce the explanatory power of the model, it does reduce the statistical significance of the independent variables. A variance inflation factor (VIF) provides a measure of multicollinearity among the independent variables in a multiple regression model.\n",
        "\n",
        "$VIF(X_j) = \\frac{1}{1 - R_j^2}$\n",
        "\n",
        "**Notes:**\n",
        "\n",
        "- The smallest possible value for VIF is 1, which indicates the complete absence of collinearity.\n",
        "- Typically in practice there is a small amount of collinearity among the predictors.\n",
        "- A VIF greater than 10 indicates that collinearity is very high. A VIF value of more than 4 is not acceptable.\n",
        "- As a rule of thumb, a VIF value that exceeds 5 indicates a problematic amount of collinearity and the parameter estimates will have large standard errors because of this.\n",
        "\n"
      ]
    },
    {
      "cell_type": "code",
      "execution_count": 31,
      "metadata": {
        "id": "zXeO-8WYM8A9"
      },
      "outputs": [
        {
          "data": {
            "text/html": [
              "<div>\n",
              "<style scoped>\n",
              "    .dataframe tbody tr th:only-of-type {\n",
              "        vertical-align: middle;\n",
              "    }\n",
              "\n",
              "    .dataframe tbody tr th {\n",
              "        vertical-align: top;\n",
              "    }\n",
              "\n",
              "    .dataframe thead th {\n",
              "        text-align: right;\n",
              "    }\n",
              "</style>\n",
              "<table border=\"1\" class=\"dataframe\">\n",
              "  <thead>\n",
              "    <tr style=\"text-align: right;\">\n",
              "      <th></th>\n",
              "      <th>feature</th>\n",
              "      <th>VIF</th>\n",
              "    </tr>\n",
              "  </thead>\n",
              "  <tbody>\n",
              "    <tr>\n",
              "      <th>0</th>\n",
              "      <td>TV</td>\n",
              "      <td>2.238085</td>\n",
              "    </tr>\n",
              "    <tr>\n",
              "      <th>1</th>\n",
              "      <td>Radio</td>\n",
              "      <td>2.238085</td>\n",
              "    </tr>\n",
              "  </tbody>\n",
              "</table>\n",
              "</div>"
            ],
            "text/plain": [
              "  feature       VIF\n",
              "0      TV  2.238085\n",
              "1   Radio  2.238085"
            ]
          },
          "execution_count": 31,
          "metadata": {},
          "output_type": "execute_result"
        }
      ],
      "source": [
        "X = data[['TV','Radio']]\n",
        "vif = pd.DataFrame()\n",
        "vif['feature'] = X.columns\n",
        "vif['VIF'] = [variance_inflation_factor(X,i) for i in range(len(X.columns))]\n",
        "vif"
      ]
    },
    {
      "cell_type": "markdown",
      "metadata": {
        "id": "rzkyaVQQM8A9"
      },
      "source": [
        "We don't have a problematic amount of collinearity in our data."
      ]
    },
    {
      "cell_type": "markdown",
      "metadata": {
        "id": "5Sh2C9FtM8A9"
      },
      "source": [
        "### `Application`"
      ]
    },
    {
      "cell_type": "markdown",
      "metadata": {
        "id": "-_4nJJmKM8A-"
      },
      "source": [
        "### `Business Problem Understanding`\n",
        "\n",
        "**Problem Statement**\n",
        "\n",
        "Karena jumlah tips bervariasi, maka menentukan harga yang sesuai sangatlah penting bagi kesejahteraan karyawan.\n",
        "\n",
        "**Goals**\n",
        "\n",
        "Menentukan jumlah tip yang tepat untuk tiap customer yang berkunjung.\n",
        "\n",
        "**Analytic Approach**\n",
        "\n",
        "Jadi yang perlu kita lakukan adalah menganalisis data untuk dapat menemukan pola dari fitur-fitur yang ada, yang membedakan satu customer dengan customer yang lain.\n",
        "\n",
        "Selanjutnya, kita akan membangun suatu model regresi yang akan membantu perusahaan untuk dapat menyediakan tool prediksi tip dari customer baru, yang mana akan berguna untuk meningkatkan kesejahteraan karyawan.\n",
        "\n",
        "**Metric Evaluation**\n",
        "\n",
        "Evaluasi metrik yang akan digunakan adalah MSE dan RMSE. Semakin kecil nilai keduanya, berarti model semakin akurat dalam memprediksi harga tip sesuai dengan limitasi fitur yang digunakan.\n",
        "\n",
        "Selain itu, kita juga bisa menurunkan nilai R-squared atau adj. R-squared untuk mengetahui seberapa baik model dapat mempresentasilam varians keseluruhan data. Semakin mendekati 1, maka semakin fit pula modelnya terhadap data observasi. Namun, metrik ini tidak valid untuk model non-linear.\n",
        "\n"
      ]
    },
    {
      "cell_type": "markdown",
      "metadata": {
        "id": "nJ7du1xzM8A_"
      },
      "source": [
        "### `Data Understanding`"
      ]
    },
    {
      "cell_type": "code",
      "execution_count": null,
      "metadata": {
        "id": "OPoYZY20M8A_"
      },
      "outputs": [],
      "source": []
    },
    {
      "cell_type": "markdown",
      "metadata": {
        "id": "gfYimvRBM8A_"
      },
      "source": [
        "**Initial Assesment**"
      ]
    },
    {
      "cell_type": "code",
      "execution_count": 32,
      "metadata": {
        "id": "-44vFFSyM8A_"
      },
      "outputs": [
        {
          "data": {
            "text/html": [
              "<div>\n",
              "<style scoped>\n",
              "    .dataframe tbody tr th:only-of-type {\n",
              "        vertical-align: middle;\n",
              "    }\n",
              "\n",
              "    .dataframe tbody tr th {\n",
              "        vertical-align: top;\n",
              "    }\n",
              "\n",
              "    .dataframe thead th {\n",
              "        text-align: right;\n",
              "    }\n",
              "</style>\n",
              "<table border=\"1\" class=\"dataframe\">\n",
              "  <thead>\n",
              "    <tr style=\"text-align: right;\">\n",
              "      <th></th>\n",
              "      <th>feature</th>\n",
              "      <th>data_type</th>\n",
              "      <th>null</th>\n",
              "      <th>negative</th>\n",
              "      <th>n_unique</th>\n",
              "      <th>sample_unique</th>\n",
              "    </tr>\n",
              "  </thead>\n",
              "  <tbody>\n",
              "    <tr>\n",
              "      <th>0</th>\n",
              "      <td>TV</td>\n",
              "      <td>float64</td>\n",
              "      <td>0.0</td>\n",
              "      <td>False</td>\n",
              "      <td>190</td>\n",
              "      <td>[230.1, 44.5, 17.2, 151.5, 180.8, 8.7, 57.5, 1...</td>\n",
              "    </tr>\n",
              "    <tr>\n",
              "      <th>1</th>\n",
              "      <td>Radio</td>\n",
              "      <td>float64</td>\n",
              "      <td>0.0</td>\n",
              "      <td>False</td>\n",
              "      <td>167</td>\n",
              "      <td>[37.8, 39.3, 45.9, 41.3, 10.8, 48.9, 32.8, 19....</td>\n",
              "    </tr>\n",
              "    <tr>\n",
              "      <th>2</th>\n",
              "      <td>Newspaper</td>\n",
              "      <td>float64</td>\n",
              "      <td>0.0</td>\n",
              "      <td>False</td>\n",
              "      <td>172</td>\n",
              "      <td>[69.2, 45.1, 69.3, 58.5, 58.4, 75.0, 23.5, 11....</td>\n",
              "    </tr>\n",
              "    <tr>\n",
              "      <th>3</th>\n",
              "      <td>Sales</td>\n",
              "      <td>float64</td>\n",
              "      <td>0.0</td>\n",
              "      <td>False</td>\n",
              "      <td>121</td>\n",
              "      <td>[22.1, 10.4, 9.3, 18.5, 12.9, 7.2, 11.8, 13.2,...</td>\n",
              "    </tr>\n",
              "  </tbody>\n",
              "</table>\n",
              "</div>"
            ],
            "text/plain": [
              "     feature data_type  null  negative  n_unique  \\\n",
              "0         TV   float64   0.0     False       190   \n",
              "1      Radio   float64   0.0     False       167   \n",
              "2  Newspaper   float64   0.0     False       172   \n",
              "3      Sales   float64   0.0     False       121   \n",
              "\n",
              "                                       sample_unique  \n",
              "0  [230.1, 44.5, 17.2, 151.5, 180.8, 8.7, 57.5, 1...  \n",
              "1  [37.8, 39.3, 45.9, 41.3, 10.8, 48.9, 32.8, 19....  \n",
              "2  [69.2, 45.1, 69.3, 58.5, 58.4, 75.0, 23.5, 11....  \n",
              "3  [22.1, 10.4, 9.3, 18.5, 12.9, 7.2, 11.8, 13.2,...  "
            ]
          },
          "execution_count": 32,
          "metadata": {},
          "output_type": "execute_result"
        }
      ],
      "source": [
        "# Cek tipe data, nilai null, dan nilai unik dari setiap kolom\n",
        "pd.DataFrame({\n",
        "    'feature': data.columns.values,\n",
        "    'data_type': data.dtypes.values,\n",
        "    'null': data.isna().mean().values * 100,\n",
        "    'negative': [True if data[col].dtype == int and (data[col] < 0).any() else False for col in data.columns],\n",
        "    'n_unique': data.nunique().values,\n",
        "    'sample_unique': [data[col].unique() for col in data.columns]\n",
        "})"
      ]
    },
    {
      "cell_type": "markdown",
      "metadata": {
        "id": "7Ar4gcYbM8BA"
      },
      "source": [
        "**Insight**\n",
        "\n",
        "- Dataset terdiri dari 243 baris dan 7 kolom.\n",
        "- Variabel numerik: total_bill, tip, dan size\n",
        "- Variabel kategorikal: sex, smoker, day, dan time\n",
        "- Tidak ada missing values di dalam data"
      ]
    },
    {
      "cell_type": "markdown",
      "metadata": {
        "id": "G9qOiUI4M8BB"
      },
      "source": [
        "**Numerical variable**"
      ]
    },
    {
      "cell_type": "code",
      "execution_count": null,
      "metadata": {
        "id": "BYowUtz5M8BB"
      },
      "outputs": [],
      "source": []
    },
    {
      "cell_type": "markdown",
      "metadata": {
        "id": "LT3Mank7M8BB"
      },
      "source": [
        "**Insight**\n",
        "\n",
        "- Variabel tip dan total_bill termasuk variabel kontinu, sedangkan size termasuk variabel diskrit.\n",
        "- Hubungan antara variabel tip dan total_bill membentuk pola linear.\n",
        "- Frekuensi pada size 2, 3, dan 4 lebih dominan dibandingkan pada size lainnya."
      ]
    },
    {
      "cell_type": "markdown",
      "metadata": {
        "id": "C6R7mN6YM8BB"
      },
      "source": [
        "**Categorical variable**"
      ]
    },
    {
      "cell_type": "code",
      "execution_count": null,
      "metadata": {
        "id": "-Rxb0QV7M8BC"
      },
      "outputs": [],
      "source": []
    },
    {
      "cell_type": "markdown",
      "metadata": {
        "id": "cZDLZNeXM8BC"
      },
      "source": [
        "**Insight**\n",
        "\n",
        "- Jumlah customer pria lebih banyak dibandingkan wanita\n",
        "- Customer lebih menyukai dinner di akhir pekan (hari sabtu dan minggu) dan lunch pada hari kerja (hari kamis dan jumat)\n",
        "- Penurunan customer secara signifikan terjadi pada hari jumat.\n",
        "- Kebanyakan customer adalah perokok aktif."
      ]
    },
    {
      "cell_type": "markdown",
      "metadata": {
        "id": "KihhDbrRM8BC"
      },
      "source": [
        "### `Data Preparation`"
      ]
    },
    {
      "cell_type": "markdown",
      "metadata": {
        "id": "XWz0R27_M8BC"
      },
      "source": [
        "**Data Wrangling**\n",
        "\n",
        "**Rare Label**, ditemukan rare label pada kolom `size`, beberapa kategori muncul dominan, sedangkan beberapa lainnya hanya muncul di sejumlah kecil data. Jika rare label digunakan, dapat menambah noise, menyebabkan overfititng pada model."
      ]
    },
    {
      "cell_type": "code",
      "execution_count": null,
      "metadata": {
        "id": "n8x752h-M8BD"
      },
      "outputs": [],
      "source": []
    },
    {
      "cell_type": "markdown",
      "metadata": {
        "id": "0Djy65WFM8BE"
      },
      "source": [
        "**Insight**\n",
        "\n",
        "- Size 2, 3, dan 4 muncul lebih dari 10% sedangkan sisanya muncul kurang dari itu. Label 1, 5, dan 6 adalah nilai yang jarang muncul atau rare label.\n",
        "- Frekuensi size 2 mendominasi dibandingkan nilai size lainnya, yaitu sekitar 60%."
      ]
    },
    {
      "cell_type": "markdown",
      "metadata": {
        "id": "aJ2ImIDFM8BE"
      },
      "source": [
        "Kelompokkan kembali kategori `size` ke dalam **Single/couple** dan **Group**"
      ]
    },
    {
      "cell_type": "code",
      "execution_count": null,
      "metadata": {
        "id": "Pn_q9cHeM8BE"
      },
      "outputs": [],
      "source": []
    },
    {
      "cell_type": "markdown",
      "metadata": {
        "id": "QgIa0WA1M8BE"
      },
      "source": [
        "Outlier, adalah titik data yang secara signifikan berbeda dari data lainnya. Model linier, khususnya regresi linier, sensitif terhadap outlier. Oleh karena itu, kita perlu mendeteksi dan menangani outlier.\n",
        "\n",
        "Pertama, coba deteksi dan kuantifikasi outlier secara univariate."
      ]
    },
    {
      "cell_type": "code",
      "execution_count": null,
      "metadata": {
        "id": "vukyxnekM8BE"
      },
      "outputs": [],
      "source": []
    },
    {
      "cell_type": "code",
      "execution_count": 33,
      "metadata": {
        "id": "65pt4m-cM8BE"
      },
      "outputs": [
        {
          "ename": "KeyError",
          "evalue": "'total_bill'",
          "output_type": "error",
          "traceback": [
            "\u001b[1;31m---------------------------------------------------------------------------\u001b[0m",
            "\u001b[1;31mKeyError\u001b[0m                                  Traceback (most recent call last)",
            "File \u001b[1;32mc:\\Users\\Fiki\\anaconda3\\Lib\\site-packages\\pandas\\core\\indexes\\base.py:3791\u001b[0m, in \u001b[0;36mIndex.get_loc\u001b[1;34m(self, key)\u001b[0m\n\u001b[0;32m   3790\u001b[0m \u001b[38;5;28;01mtry\u001b[39;00m:\n\u001b[1;32m-> 3791\u001b[0m     \u001b[38;5;28;01mreturn\u001b[39;00m \u001b[38;5;28mself\u001b[39m\u001b[38;5;241m.\u001b[39m_engine\u001b[38;5;241m.\u001b[39mget_loc(casted_key)\n\u001b[0;32m   3792\u001b[0m \u001b[38;5;28;01mexcept\u001b[39;00m \u001b[38;5;167;01mKeyError\u001b[39;00m \u001b[38;5;28;01mas\u001b[39;00m err:\n",
            "File \u001b[1;32mindex.pyx:152\u001b[0m, in \u001b[0;36mpandas._libs.index.IndexEngine.get_loc\u001b[1;34m()\u001b[0m\n",
            "File \u001b[1;32mindex.pyx:181\u001b[0m, in \u001b[0;36mpandas._libs.index.IndexEngine.get_loc\u001b[1;34m()\u001b[0m\n",
            "File \u001b[1;32mpandas\\_libs\\hashtable_class_helper.pxi:7080\u001b[0m, in \u001b[0;36mpandas._libs.hashtable.PyObjectHashTable.get_item\u001b[1;34m()\u001b[0m\n",
            "File \u001b[1;32mpandas\\_libs\\hashtable_class_helper.pxi:7088\u001b[0m, in \u001b[0;36mpandas._libs.hashtable.PyObjectHashTable.get_item\u001b[1;34m()\u001b[0m\n",
            "\u001b[1;31mKeyError\u001b[0m: 'total_bill'",
            "\nThe above exception was the direct cause of the following exception:\n",
            "\u001b[1;31mKeyError\u001b[0m                                  Traceback (most recent call last)",
            "Cell \u001b[1;32mIn[33], line 13\u001b[0m\n\u001b[0;32m     10\u001b[0m     \u001b[38;5;28mprint\u001b[39m(\u001b[38;5;124mf\u001b[39m\u001b[38;5;124m'\u001b[39m\u001b[38;5;124mPercentage: \u001b[39m\u001b[38;5;132;01m{\u001b[39;00m\u001b[38;5;28mround\u001b[39m((n_upper\u001b[38;5;250m \u001b[39m\u001b[38;5;241m+\u001b[39m\u001b[38;5;250m \u001b[39mn_lower)\u001b[38;5;241m*\u001b[39m\u001b[38;5;241m100\u001b[39m,\u001b[38;5;250m \u001b[39m\u001b[38;5;241m2\u001b[39m)\u001b[38;5;132;01m}\u001b[39;00m\u001b[38;5;124m'\u001b[39m)\n\u001b[0;32m     11\u001b[0m     \u001b[38;5;28;01mreturn\u001b[39;00m lower, upper\n\u001b[1;32m---> 13\u001b[0m lower, upper \u001b[38;5;241m=\u001b[39m n_outlier(data[\u001b[38;5;124m'\u001b[39m\u001b[38;5;124mtotal_bill\u001b[39m\u001b[38;5;124m'\u001b[39m])\n",
            "File \u001b[1;32mc:\\Users\\Fiki\\anaconda3\\Lib\\site-packages\\pandas\\core\\frame.py:3893\u001b[0m, in \u001b[0;36mDataFrame.__getitem__\u001b[1;34m(self, key)\u001b[0m\n\u001b[0;32m   3891\u001b[0m \u001b[38;5;28;01mif\u001b[39;00m \u001b[38;5;28mself\u001b[39m\u001b[38;5;241m.\u001b[39mcolumns\u001b[38;5;241m.\u001b[39mnlevels \u001b[38;5;241m>\u001b[39m \u001b[38;5;241m1\u001b[39m:\n\u001b[0;32m   3892\u001b[0m     \u001b[38;5;28;01mreturn\u001b[39;00m \u001b[38;5;28mself\u001b[39m\u001b[38;5;241m.\u001b[39m_getitem_multilevel(key)\n\u001b[1;32m-> 3893\u001b[0m indexer \u001b[38;5;241m=\u001b[39m \u001b[38;5;28mself\u001b[39m\u001b[38;5;241m.\u001b[39mcolumns\u001b[38;5;241m.\u001b[39mget_loc(key)\n\u001b[0;32m   3894\u001b[0m \u001b[38;5;28;01mif\u001b[39;00m is_integer(indexer):\n\u001b[0;32m   3895\u001b[0m     indexer \u001b[38;5;241m=\u001b[39m [indexer]\n",
            "File \u001b[1;32mc:\\Users\\Fiki\\anaconda3\\Lib\\site-packages\\pandas\\core\\indexes\\base.py:3798\u001b[0m, in \u001b[0;36mIndex.get_loc\u001b[1;34m(self, key)\u001b[0m\n\u001b[0;32m   3793\u001b[0m     \u001b[38;5;28;01mif\u001b[39;00m \u001b[38;5;28misinstance\u001b[39m(casted_key, \u001b[38;5;28mslice\u001b[39m) \u001b[38;5;129;01mor\u001b[39;00m (\n\u001b[0;32m   3794\u001b[0m         \u001b[38;5;28misinstance\u001b[39m(casted_key, abc\u001b[38;5;241m.\u001b[39mIterable)\n\u001b[0;32m   3795\u001b[0m         \u001b[38;5;129;01mand\u001b[39;00m \u001b[38;5;28many\u001b[39m(\u001b[38;5;28misinstance\u001b[39m(x, \u001b[38;5;28mslice\u001b[39m) \u001b[38;5;28;01mfor\u001b[39;00m x \u001b[38;5;129;01min\u001b[39;00m casted_key)\n\u001b[0;32m   3796\u001b[0m     ):\n\u001b[0;32m   3797\u001b[0m         \u001b[38;5;28;01mraise\u001b[39;00m InvalidIndexError(key)\n\u001b[1;32m-> 3798\u001b[0m     \u001b[38;5;28;01mraise\u001b[39;00m \u001b[38;5;167;01mKeyError\u001b[39;00m(key) \u001b[38;5;28;01mfrom\u001b[39;00m \u001b[38;5;21;01merr\u001b[39;00m\n\u001b[0;32m   3799\u001b[0m \u001b[38;5;28;01mexcept\u001b[39;00m \u001b[38;5;167;01mTypeError\u001b[39;00m:\n\u001b[0;32m   3800\u001b[0m     \u001b[38;5;66;03m# If we have a listlike key, _check_indexing_error will raise\u001b[39;00m\n\u001b[0;32m   3801\u001b[0m     \u001b[38;5;66;03m#  InvalidIndexError. Otherwise we fall through and re-raise\u001b[39;00m\n\u001b[0;32m   3802\u001b[0m     \u001b[38;5;66;03m#  the TypeError.\u001b[39;00m\n\u001b[0;32m   3803\u001b[0m     \u001b[38;5;28mself\u001b[39m\u001b[38;5;241m.\u001b[39m_check_indexing_error(key)\n",
            "\u001b[1;31mKeyError\u001b[0m: 'total_bill'"
          ]
        }
      ],
      "source": [
        "def n_outlier(data):\n",
        "    q1, q3 = data.quantile([0.25, 0.75])\n",
        "    iqr = q3 - q1\n",
        "    lower = q1 - iqr * 1.5\n",
        "    upper = q3 + iqr * 1.5\n",
        "\n",
        "    n = len(data)\n",
        "    n_upper = len(np.where(data > upper)[0])/n\n",
        "    n_lower = len(np.where(data < lower)[0])/n\n",
        "    print(f'Percentage: {round((n_upper + n_lower)*100, 2)}')\n",
        "    return lower, upper\n",
        "\n",
        "lower, upper = n_outlier(data['total_bill'])"
      ]
    },
    {
      "cell_type": "markdown",
      "metadata": {
        "id": "NfbDhKloM8BE"
      },
      "source": [
        "Persentase outlier termasuk kecil (<5%) maka bisa diabaikan."
      ]
    },
    {
      "cell_type": "code",
      "execution_count": null,
      "metadata": {
        "id": "3dVYVhHYM8BE"
      },
      "outputs": [],
      "source": []
    },
    {
      "cell_type": "markdown",
      "metadata": {
        "id": "9pFPyXySM8BE"
      },
      "source": [
        "**Insight**\n",
        "- Distribusi dari variabel total_bill tidak simetris, ada dugaan bukan distribusi normal\n",
        "- Skewness lebih condong ke kanan atau positive\n",
        "- Berdasarkan batas IQR, sekitar 3.69% diidentifikasi sebagai outlier."
      ]
    },
    {
      "cell_type": "markdown",
      "metadata": {
        "id": "Q-4vVq98M8BE"
      },
      "source": [
        "**Feature Engineering**\n",
        "\n",
        "Ubah variabel kategorikal menjadi numerikal dengan encoding"
      ]
    },
    {
      "cell_type": "code",
      "execution_count": null,
      "metadata": {
        "id": "HFwqNUarM8BF"
      },
      "outputs": [],
      "source": []
    },
    {
      "cell_type": "markdown",
      "metadata": {
        "id": "sgF8ThaqM8BF"
      },
      "source": [
        "**Check Multicollinearity**"
      ]
    },
    {
      "cell_type": "code",
      "execution_count": null,
      "metadata": {
        "id": "9ZL-d13jM8BF"
      },
      "outputs": [],
      "source": []
    },
    {
      "cell_type": "markdown",
      "metadata": {
        "id": "r3PCEIowM8BF"
      },
      "source": [
        "Karena VIF untuk feature `time_Dinner` > 10, kita akan coba drop kolom `time_Dinner`."
      ]
    },
    {
      "cell_type": "code",
      "execution_count": null,
      "metadata": {
        "id": "bk_w28stM8BG"
      },
      "outputs": [],
      "source": []
    },
    {
      "cell_type": "markdown",
      "metadata": {
        "id": "kjHeRrLpM8BG"
      },
      "source": [
        "Sekarang sudah tidak terdapat Multicolinearity"
      ]
    },
    {
      "cell_type": "code",
      "execution_count": null,
      "metadata": {
        "id": "LqDBzGeKM8BG"
      },
      "outputs": [],
      "source": []
    },
    {
      "cell_type": "markdown",
      "metadata": {
        "id": "uvsP_k1pM8BH"
      },
      "source": [
        "**Data Splitting**"
      ]
    },
    {
      "cell_type": "markdown",
      "metadata": {
        "id": "eol-6Ww8M8BH"
      },
      "source": [
        "Bagi dataset menjadi train dan test set dengan komposisi 80:20."
      ]
    },
    {
      "cell_type": "code",
      "execution_count": null,
      "metadata": {
        "id": "QhHb6kkzM8BH"
      },
      "outputs": [],
      "source": []
    },
    {
      "cell_type": "markdown",
      "metadata": {
        "id": "YYVWCROVM8BH"
      },
      "source": [
        "### `Modeling`"
      ]
    },
    {
      "cell_type": "markdown",
      "metadata": {
        "id": "1Lvd6OIvM8BH"
      },
      "source": [
        "**Simple Linear Regression**"
      ]
    },
    {
      "cell_type": "code",
      "execution_count": null,
      "metadata": {
        "id": "vqqhO06nM8BH"
      },
      "outputs": [],
      "source": []
    },
    {
      "cell_type": "markdown",
      "metadata": {
        "id": "IQI9r-LsM8BH"
      },
      "source": [
        "Prediksi pada test set dengan menggunakan linear regression"
      ]
    },
    {
      "cell_type": "code",
      "execution_count": null,
      "metadata": {
        "id": "SUHDqIGSM8BH"
      },
      "outputs": [],
      "source": []
    },
    {
      "cell_type": "markdown",
      "metadata": {
        "id": "DEr3ma6IM8BI"
      },
      "source": [
        "**Multiple Linear Regression**"
      ]
    },
    {
      "cell_type": "code",
      "execution_count": null,
      "metadata": {
        "id": "TyEiMYwoM8BI"
      },
      "outputs": [],
      "source": []
    },
    {
      "cell_type": "markdown",
      "metadata": {
        "id": "0JW5ueDzM8BI"
      },
      "source": [
        "Prediksi pada test set dengan menggunakan multiple linear regression"
      ]
    },
    {
      "cell_type": "code",
      "execution_count": null,
      "metadata": {
        "id": "29G-ydT0M8BI"
      },
      "outputs": [],
      "source": []
    },
    {
      "cell_type": "markdown",
      "metadata": {
        "id": "7KNjyaulM8BI"
      },
      "source": [
        "**Performance Comparison**\n",
        "\n",
        "Setelah dilakukan prediksi pada test set, performa simple linear regression secara akumulatif sedikit lebih baik dari linear regression. Selain itu kita dapat melihat pada tabel multiple linear regression bahwa fitur sex_Female hingga size_Single/couple memiliki nilai P>|t| lebih besar dari 0.05 sehingga fitur fitur tersebut tidak berpengaruh signifikan. Namun kita akan tetap coba melakukan interpretasi dari model multiple linear regression."
      ]
    },
    {
      "cell_type": "markdown",
      "metadata": {
        "id": "TH6In6hEM8BI"
      },
      "source": [
        "**Interpretation**"
      ]
    },
    {
      "cell_type": "code",
      "execution_count": null,
      "metadata": {
        "id": "HufyeeAmM8BJ"
      },
      "outputs": [],
      "source": []
    },
    {
      "cell_type": "markdown",
      "metadata": {
        "id": "UPhKTqFDM8BJ"
      },
      "source": [
        "Persamaan regresi linear:\n",
        "- 1\n",
        "\n",
        "R-Squared:\n",
        "- 1\n",
        "\n",
        "F-test (Simultant test):\n",
        "- 1\n",
        "\n",
        "t-test (Partial test)\n",
        "- 1\n",
        "\n",
        "Parameter Estimate:\n",
        "- 1\n",
        "\n",
        "Limitasi model:\n",
        "- 1\n",
        "\n",
        "Residual:\n",
        "- 1"
      ]
    },
    {
      "cell_type": "markdown",
      "metadata": {
        "id": "C3KVYvqXM8BJ"
      },
      "source": [
        "### `Conclusion`\n",
        "\n",
        "Berdasarkan pemodelan yang sudah dilakukan, besarnya `tip` dipengaruhi oleh 'total_bill'.\n",
        "\n",
        "Metrik evaluasi yang digunakan pada model adalah nilai MSE dan RMSE. Jika ditinjau dari nilai RMSE yang dihasilkan oleh model yaitu sebesar $0.85, artinya jika model ini digunakan untuk memperkirakan tip, hasil prediksi akan meleset $0.85 dari tip seharusnya.\n",
        "Tetapi, tidak menutup kemungkinan juga prediksinya meleset lebih jauh karena bias. Bias yang dihasilkan oleh model ini dikarenakan oleh terbatasnya fitur pada dataset yang bisa merepresentasikan tip (selain total bill)"
      ]
    },
    {
      "cell_type": "markdown",
      "metadata": {
        "id": "94RXqNR2M8BJ"
      },
      "source": [
        "### `Recommendations`\n",
        "\n",
        "Hal yang dapat dilakukan utnuk mengembangkan model agar lebih baik lagi, seperti:\n",
        "\n",
        "1. Mengecek prediksi mana saja yang memiliki nilai error yang tinggi. Kita dapat mengelompokkan error tersebut ke dalam grup overestimation dan underestimation, lalu memilih 5% error paling ekstrim saja untuk tiap grup. nantinya pengelompokkan akan menjadi 3 grup, yaitu overestimation (5%), underestimation (5%), dan grup mayoritas yang error-nya mendekati nilai mean (90%). Setelahnya kita bisa mengecek hubungan antara error tersebut dengan variabel independen. pada akhirnya kita dapat mengetahui sebenarnya variabel mana saja dari aspek apa yang menyebabkan model menghasilkan error yang tinggi, sehingga kita bisa melakukan training ulang dengan penerapan feature engineering lainnya.\n",
        "\n",
        "2. Jika memungkinkan, penambahan fitur yang lebih korelatif dengan target ('tips')\n",
        "\n",
        "3. Jika ada penambahan banyak data, dapat dicoba dengan menggunakan model yang lebih komples, seperti recursive neural networks (RNN). Namun, kalau jumlah data dan fiturnya masih seperti dataset ini, kemungkinan besar tidak akan mengubah hasilnya secara signifikan.\n",
        "\n",
        "4. Model yang sudah dibangun ini bisa dimanfaatkan untuk pengembangan pembuatan model lainnya.\n"
      ]
    }
  ],
  "metadata": {
    "colab": {
      "provenance": []
    },
    "kernelspec": {
      "display_name": "Python 3",
      "language": "python",
      "name": "python3"
    },
    "language_info": {
      "codemirror_mode": {
        "name": "ipython",
        "version": 3
      },
      "file_extension": ".py",
      "mimetype": "text/x-python",
      "name": "python",
      "nbconvert_exporter": "python",
      "pygments_lexer": "ipython3",
      "version": "3.11.7"
    }
  },
  "nbformat": 4,
  "nbformat_minor": 0
}
