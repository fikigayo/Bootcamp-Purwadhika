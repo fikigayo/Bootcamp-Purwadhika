{
 "cells": [
  {
   "cell_type": "markdown",
   "metadata": {},
   "source": [
    "### `K-means Clustering`\n",
    "\n",
    "Is an iterative algorithm that tries to partition the dataset into Kpre-defined distinct non-overlapping subgroups (clusters) where each data point belongs to only one group. **It tries to make the inter-cluster data points as similar as possible while also keeping the clusters as different (far) as possible**. It assigns data points to a cluster such that the sum of the squared distance between the data points and the cluster’s centroid (arithmetic mean of all the data points that belong to that cluster) is at the minimum. The less variation we have within clusters, the more homogeneous (similar) the data points are within the same cluster.\n",
    "\n",
    "We can summarize the algorithm as illustrated below:\n",
    "\n",
    "1. **Initialization**: directly after starting it, the initial centroids (cluster centers) are chosen. \n",
    "2. **Centroid assignment**: each sample in the dataset is assigned to the nearest centroid.\n",
    "3. **Centroid correction**: new centroids are created by computing new means for the assignments created in step 2.\n",
    "4. **Difference comparison**: for each centroid, the difference between old and new is compared, and the algorithm stops when the difference is lower than a threshold called inertia, or tolerance. Otherwise, it moves back to step 2."
   ]
  },
  {
   "cell_type": "markdown",
   "metadata": {},
   "source": [
    "#### **Example: Body Height Dataset**"
   ]
  },
  {
   "cell_type": "code",
   "execution_count": null,
   "metadata": {},
   "outputs": [],
   "source": []
  },
  {
   "cell_type": "markdown",
   "metadata": {},
   "source": [
    "#### **Building a K-means using** `scikit-learn`\n",
    "\n",
    "We now have all of the pieces to make a K-means using scikit learn library."
   ]
  },
  {
   "cell_type": "code",
   "execution_count": null,
   "metadata": {},
   "outputs": [],
   "source": []
  },
  {
   "cell_type": "markdown",
   "metadata": {},
   "source": [
    "We initialize sklearn.cluster.KMeans and instruct it to extract two clusters"
   ]
  },
  {
   "cell_type": "code",
   "execution_count": null,
   "metadata": {},
   "outputs": [],
   "source": []
  },
  {
   "cell_type": "markdown",
   "metadata": {},
   "source": [
    "Next, we can add the clustering results to the initial dataset and create visualizations to display the results."
   ]
  },
  {
   "cell_type": "code",
   "execution_count": null,
   "metadata": {},
   "outputs": [],
   "source": []
  },
  {
   "cell_type": "markdown",
   "metadata": {},
   "source": [
    "`Determine the Optimal Number of Cluster using Elbow Method`\n",
    "\n",
    "The elbow method is a graphical method for finding the optimal K value in a k-means clustering algorithm. The elbow graph shows the within-cluster-sum-of-square (WCSS) values on the y-axis corresponding to the different values of K (on the x-axis). The optimal K value is the point at which the graph forms an elbow"
   ]
  },
  {
   "cell_type": "code",
   "execution_count": null,
   "metadata": {},
   "outputs": [],
   "source": []
  },
  {
   "cell_type": "markdown",
   "metadata": {},
   "source": [
    "`Determine the Optimal Number of Cluster using Silhouette Score`\n",
    "\n",
    "The silhouette score essentially measures how well data points are grouped within their assigned clusters compared to data points in other clusters. \n",
    "\n",
    "The silhouette score is calculated for each data point and then averaged across all data points. It considers two distances for each data point:\n",
    "\n",
    "a: Average distance between the data point and all other data points within the same cluster (intra-cluster distance).\n",
    "b: Distance between the data point and the nearest cluster that the data point doesn’t belong to (inter-cluster distance).\n",
    "The silhouette score for a data point is then calculated as:\n",
    "\n",
    "$$\\frac{b – a}{max(a, b)}$$"
   ]
  },
  {
   "cell_type": "code",
   "execution_count": null,
   "metadata": {},
   "outputs": [],
   "source": []
  },
  {
   "cell_type": "markdown",
   "metadata": {},
   "source": [
    "Now, we will extract three clusters as our final models."
   ]
  },
  {
   "cell_type": "code",
   "execution_count": null,
   "metadata": {},
   "outputs": [],
   "source": []
  },
  {
   "cell_type": "markdown",
   "metadata": {},
   "source": [
    "\n",
    "3 clusters were formed\n",
    "- Cluster 0: husband with height < 160 and wife with height < 155 (short husband and short wife)\n",
    "- Cluster 1: husband with height > 165 and wife with height < 165 (tall husband and short wife)\n",
    "- Cluster 2: husband with height > 175 and wife with height > 175 (tall husband and tall wife)"
   ]
  }
 ],
 "metadata": {
  "kernelspec": {
   "display_name": "Python 3",
   "language": "python",
   "name": "python3"
  },
  "language_info": {
   "codemirror_mode": {
    "name": "ipython",
    "version": 3
   },
   "file_extension": ".py",
   "mimetype": "text/x-python",
   "name": "python",
   "nbconvert_exporter": "python",
   "pygments_lexer": "ipython3",
   "version": "3.10.5"
  }
 },
 "nbformat": 4,
 "nbformat_minor": 2
}
