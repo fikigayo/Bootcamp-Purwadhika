{
 "cells": [
  {
   "cell_type": "markdown",
   "metadata": {},
   "source": [
    "### **Ensemble Model**: `Similar Type`"
   ]
  },
  {
   "cell_type": "markdown",
   "metadata": {},
   "source": [
    "We will demonstrate bagging, rf, and boosting ensemble. First, set the python library that will be needed."
   ]
  },
  {
   "cell_type": "code",
   "execution_count": 1,
   "metadata": {},
   "outputs": [],
   "source": [
    "# Import required libraries\n",
    "import numpy as np\n",
    "import pandas as pd"
   ]
  },
  {
   "cell_type": "markdown",
   "metadata": {},
   "source": [
    "Create a synthetic binary classification problem with 1000 examples and 10 input features using make_classification()."
   ]
  },
  {
   "cell_type": "code",
   "execution_count": 2,
   "metadata": {},
   "outputs": [
    {
     "data": {
      "text/plain": [
       "((800, 10), (200, 10))"
      ]
     },
     "execution_count": 2,
     "metadata": {},
     "output_type": "execute_result"
    }
   ],
   "source": [
    "from sklearn.datasets import make_classification\n",
    "from sklearn.model_selection import train_test_split\n",
    "\n",
    "X,y = make_classification(n_samples=1000, n_features=10, random_state=2)\n",
    "\n",
    "X_train, X_test, y_train, y_test = train_test_split(X,y,test_size =.2,random_state=2020,stratify=y)\n",
    "\n",
    "X_train.shape, X_test.shape"
   ]
  },
  {
   "cell_type": "markdown",
   "metadata": {},
   "source": [
    "#### **1. Bagging Ensembles**\n",
    "\n",
    "**Definition**: also known as bootstrap aggregation, is the ensemble learning method that is commonly used to reduce variance within a noisy data set. In bagging, a random sample of data in a training set is selected with replacement—meaning that the individual data points can be chosen more than once. After generating several data samples, these weak models are then trained independently. Depending on the type of task—regression or classification, for example—the average or majority of those predictions yield a more accurate estimate. \n",
    "\n",
    "Bagging algorithm has three basic steps:\n",
    "\n",
    "- **Bootstrapping**:  Bagging leverages a bootstrapping sampling technique to create diverse samples. This resampling method generates different subsets of the training data set by selecting data points at random and with replacement. This means that each time you select a data point from the training data set, you are able to select the same instance multiple times. As a result, a value or instance repeated twice (or more) in a sample.\n",
    "- **Parallel training**: These bootstrap samples are then trained independently and in parallel with each other using weak or base learners.\n",
    "- **Aggregation**: Finally, depending on the task (that is, regression or classification), an average or a majority of the predictions are taken to compute a more accurate estimate. In the case of regression, an average is taken of all the outputs predicted by the individual classifiers; this is known as soft voting. For classification problems, the class with the highest majority of votes is accepted; this is known as hard voting or majority voting.\n",
    "\n",
    "The key challenges of bagging include:\n",
    "\n",
    "- **Loss of interpretability**: It’s difficult to draw very precise business insights through bagging because due to the averaging involved across predictions. \n",
    "- **Computationally expensive**: Bagging slows down and grows more intensive as the number of iterations increase. \n",
    "- **Less flexible**: As a technique, bagging works particularly well with algorithms that are less stable. One that are more stable or subject to high amounts of bias do not provide as much benefit as there’s less variation within the data set of the model. \n",
    "\n",
    "**Practice:**\n",
    "\n"
   ]
  },
  {
   "cell_type": "code",
   "execution_count": 3,
   "metadata": {},
   "outputs": [
    {
     "name": "stdout",
     "output_type": "stream",
     "text": [
      "Accuracy : 0.89\n"
     ]
    }
   ],
   "source": [
    "from sklearn.ensemble import BaggingClassifier\n",
    "from sklearn.linear_model import LogisticRegression\n",
    "from sklearn.model_selection import cross_val_score, StratifiedKFold\n",
    "\n",
    "skfold = StratifiedKFold(n_splits=5)\n",
    "\n",
    "logreg = LogisticRegression(max_iter=1000)\n",
    "\n",
    "clf = BaggingClassifier(\n",
    "    estimator=logreg,\n",
    "    max_samples=.7,\n",
    "    n_estimators=50,\n",
    ")\n",
    "\n",
    "clf.fit(X_train,y_train)\n",
    "\n",
    "score = cross_val_score(clf,X_train,y_train, scoring='accuracy',cv=skfold)\n",
    "print(f'Accuracy : {score.mean():.2f}')"
   ]
  },
  {
   "cell_type": "markdown",
   "metadata": {},
   "source": [
    "Random Forest has multiple decision trees as base learning models, several random trees make a Random Forest. The Random Forest model uses bagging, where we randomly perform row sampling and feature sampling from the dataset froming datasets for every model."
   ]
  },
  {
   "cell_type": "code",
   "execution_count": 4,
   "metadata": {},
   "outputs": [
    {
     "name": "stdout",
     "output_type": "stream",
     "text": [
      "Accuracy : 0.90\n"
     ]
    }
   ],
   "source": [
    "from sklearn.ensemble import RandomForestClassifier\n",
    "\n",
    "clf = RandomForestClassifier(\n",
    "    n_estimators=50,\n",
    "    criterion='entropy',\n",
    "    max_features='sqrt',\n",
    "    random_state=0\n",
    ")\n",
    "\n",
    "clf.fit(X_train,y_train)\n",
    "\n",
    "score = cross_val_score(clf,X_train,y_train, scoring='accuracy',cv=skfold)\n",
    "print(f'Accuracy : {score.mean():.2f}')"
   ]
  },
  {
   "cell_type": "markdown",
   "metadata": {},
   "source": [
    "#### **2. Boosting Ensembles**\n",
    "\n",
    "**Definition**: is an ensemble modeling technique that attempts to build a strong classifier from the number of weak classifiers. It is done by building a model by using weak models in series. Firstly, a model is built from the training data. Then the second model is built which tries to correct the errors present in the first model. This procedure is continued and models are added until either the complete training data set is predicted correctly or the maximum number of models are added. \n",
    "\n",
    "The steps to build and combine these models are as:\n",
    "\n",
    "- Initialize the weights\n",
    "- Train weak classifiers\n",
    "- Calculate the error rate and importance of each weak model\n",
    "- Update data point weight for each data point Wi \n",
    "- Normalize the Instance weight \n",
    "- Repeat steps 2-5 for K iterations \n",
    "\n",
    "**Practice:**"
   ]
  },
  {
   "cell_type": "markdown",
   "metadata": {},
   "source": [
    "AdaBoost, short for Adaptive Boosting, is an ensemble machine learning algorithm that can be used in a wide variety of classification and regression tasks. It is a supervised learning algorithm that is used to classify data by combining multiple weak or base learners (e.g., decision trees) into a strong learner. AdaBoost works by weighting the instances in the training dataset based on the accuracy of previous classifications."
   ]
  },
  {
   "cell_type": "code",
   "execution_count": 5,
   "metadata": {},
   "outputs": [
    {
     "name": "stdout",
     "output_type": "stream",
     "text": [
      "Accuracy : 0.88\n"
     ]
    }
   ],
   "source": [
    "from sklearn.ensemble import AdaBoostClassifier\n",
    "\n",
    "clf = AdaBoostClassifier(\n",
    "    algorithm='SAMME',\n",
    "    n_estimators=50,\n",
    "    learning_rate=1,\n",
    "    random_state=0\n",
    ")\n",
    "\n",
    "clf.fit(X_train, y_train)\n",
    "\n",
    "score = cross_val_score(clf,X_train,y_train, scoring='accuracy',cv=skfold)\n",
    "print(f'Accuracy : {score.mean():.2f}')"
   ]
  },
  {
   "cell_type": "markdown",
   "metadata": {},
   "source": [
    "Gradient boosting is one of the variants of ensemble methods where you create multiple weak models and combine them to get better performance as a whole."
   ]
  },
  {
   "cell_type": "code",
   "execution_count": 6,
   "metadata": {},
   "outputs": [
    {
     "name": "stdout",
     "output_type": "stream",
     "text": [
      "Accuracy : 0.90\n"
     ]
    }
   ],
   "source": [
    "from sklearn.ensemble import GradientBoostingClassifier\n",
    "\n",
    "clf = GradientBoostingClassifier(\n",
    "    n_estimators=50,\n",
    "    learning_rate=.1,\n",
    "    random_state=0\n",
    ")\n",
    "\n",
    "clf.fit(X_train, y_train)\n",
    "\n",
    "score = cross_val_score(clf,X_train,y_train, scoring='accuracy',cv=skfold)\n",
    "print(f'Accuracy : {score.mean():.2f}')"
   ]
  },
  {
   "cell_type": "markdown",
   "metadata": {},
   "source": [
    "XGBoost is a more regularized form of Gradient Boosting. XGBoost uses advanced regularization (L1 & L2), which improves model generalization capabilities. XGBoost delivers high performance as compared to Gradient Boosting. Its training is very fast and can be parallelized across clusters."
   ]
  },
  {
   "cell_type": "code",
   "execution_count": 7,
   "metadata": {},
   "outputs": [
    {
     "name": "stdout",
     "output_type": "stream",
     "text": [
      "Accuracy : 0.89\n"
     ]
    }
   ],
   "source": [
    "from xgboost import XGBClassifier\n",
    "\n",
    "clf = XGBClassifier(\n",
    "    n_estimators=50,\n",
    "    learning_rate=.1,\n",
    "    random_state=0,\n",
    "    subsample=.7\n",
    ")\n",
    "\n",
    "clf.fit(X_train, y_train)\n",
    "\n",
    "score = cross_val_score(clf,X_train,y_train, scoring='accuracy',cv=skfold)\n",
    "print(f'Accuracy : {score.mean():.2f}')"
   ]
  },
  {
   "cell_type": "markdown",
   "metadata": {},
   "source": [
    "### `Application`\n",
    "\n",
    "`Load Dataset`\n"
   ]
  },
  {
   "cell_type": "code",
   "execution_count": 8,
   "metadata": {},
   "outputs": [
    {
     "data": {
      "text/html": [
       "<div>\n",
       "<style scoped>\n",
       "    .dataframe tbody tr th:only-of-type {\n",
       "        vertical-align: middle;\n",
       "    }\n",
       "\n",
       "    .dataframe tbody tr th {\n",
       "        vertical-align: top;\n",
       "    }\n",
       "\n",
       "    .dataframe thead th {\n",
       "        text-align: right;\n",
       "    }\n",
       "</style>\n",
       "<table border=\"1\" class=\"dataframe\">\n",
       "  <thead>\n",
       "    <tr style=\"text-align: right;\">\n",
       "      <th></th>\n",
       "      <th>fixed acidity</th>\n",
       "      <th>volatile acidity</th>\n",
       "      <th>citric acid</th>\n",
       "      <th>residual sugar</th>\n",
       "      <th>chlorides</th>\n",
       "      <th>free sulfur dioxide</th>\n",
       "      <th>total sulfur dioxide</th>\n",
       "      <th>density</th>\n",
       "      <th>pH</th>\n",
       "      <th>sulphates</th>\n",
       "      <th>alcohol</th>\n",
       "      <th>quality</th>\n",
       "    </tr>\n",
       "  </thead>\n",
       "  <tbody>\n",
       "    <tr>\n",
       "      <th>422</th>\n",
       "      <td>7.0</td>\n",
       "      <td>0.21</td>\n",
       "      <td>0.28</td>\n",
       "      <td>8.6</td>\n",
       "      <td>0.045</td>\n",
       "      <td>37.0</td>\n",
       "      <td>221.0</td>\n",
       "      <td>0.9954</td>\n",
       "      <td>3.25</td>\n",
       "      <td>0.54</td>\n",
       "      <td>10.4</td>\n",
       "      <td>6.0</td>\n",
       "    </tr>\n",
       "    <tr>\n",
       "      <th>107</th>\n",
       "      <td>7.1</td>\n",
       "      <td>0.23</td>\n",
       "      <td>0.35</td>\n",
       "      <td>16.5</td>\n",
       "      <td>0.040</td>\n",
       "      <td>60.0</td>\n",
       "      <td>171.0</td>\n",
       "      <td>0.9990</td>\n",
       "      <td>3.16</td>\n",
       "      <td>0.59</td>\n",
       "      <td>9.1</td>\n",
       "      <td>6.0</td>\n",
       "    </tr>\n",
       "    <tr>\n",
       "      <th>253</th>\n",
       "      <td>5.8</td>\n",
       "      <td>0.24</td>\n",
       "      <td>0.44</td>\n",
       "      <td>3.5</td>\n",
       "      <td>0.029</td>\n",
       "      <td>5.0</td>\n",
       "      <td>109.0</td>\n",
       "      <td>0.9913</td>\n",
       "      <td>3.53</td>\n",
       "      <td>0.43</td>\n",
       "      <td>11.7</td>\n",
       "      <td>3.0</td>\n",
       "    </tr>\n",
       "    <tr>\n",
       "      <th>235</th>\n",
       "      <td>7.2</td>\n",
       "      <td>0.23</td>\n",
       "      <td>0.38</td>\n",
       "      <td>14.3</td>\n",
       "      <td>0.058</td>\n",
       "      <td>55.0</td>\n",
       "      <td>194.0</td>\n",
       "      <td>0.9979</td>\n",
       "      <td>3.09</td>\n",
       "      <td>0.44</td>\n",
       "      <td>9.0</td>\n",
       "      <td>6.0</td>\n",
       "    </tr>\n",
       "    <tr>\n",
       "      <th>311</th>\n",
       "      <td>5.0</td>\n",
       "      <td>0.55</td>\n",
       "      <td>0.14</td>\n",
       "      <td>8.3</td>\n",
       "      <td>0.032</td>\n",
       "      <td>35.0</td>\n",
       "      <td>164.0</td>\n",
       "      <td>0.9968</td>\n",
       "      <td>3.53</td>\n",
       "      <td>0.51</td>\n",
       "      <td>12.5</td>\n",
       "      <td>8.0</td>\n",
       "    </tr>\n",
       "  </tbody>\n",
       "</table>\n",
       "</div>"
      ],
      "text/plain": [
       "     fixed acidity  volatile acidity  citric acid  residual sugar  chlorides  \\\n",
       "422            7.0              0.21         0.28             8.6      0.045   \n",
       "107            7.1              0.23         0.35            16.5      0.040   \n",
       "253            5.8              0.24         0.44             3.5      0.029   \n",
       "235            7.2              0.23         0.38            14.3      0.058   \n",
       "311            5.0              0.55         0.14             8.3      0.032   \n",
       "\n",
       "     free sulfur dioxide  total sulfur dioxide  density    pH  sulphates  \\\n",
       "422                 37.0                 221.0   0.9954  3.25       0.54   \n",
       "107                 60.0                 171.0   0.9990  3.16       0.59   \n",
       "253                  5.0                 109.0   0.9913  3.53       0.43   \n",
       "235                 55.0                 194.0   0.9979  3.09       0.44   \n",
       "311                 35.0                 164.0   0.9968  3.53       0.51   \n",
       "\n",
       "     alcohol  quality  \n",
       "422     10.4      6.0  \n",
       "107      9.1      6.0  \n",
       "253     11.7      3.0  \n",
       "235      9.0      6.0  \n",
       "311     12.5      8.0  "
      ]
     },
     "execution_count": 8,
     "metadata": {},
     "output_type": "execute_result"
    }
   ],
   "source": [
    "data = pd.read_csv('../../csv/white_wine.csv')\n",
    "data.sample(5, random_state=0)"
   ]
  },
  {
   "cell_type": "markdown",
   "metadata": {},
   "source": [
    "`Data Cleaning`\n",
    "\n",
    "**Duplicated Value**, Deteksi dan kuantifikasi duplikasi data"
   ]
  },
  {
   "cell_type": "code",
   "execution_count": 9,
   "metadata": {},
   "outputs": [
    {
     "name": "stdout",
     "output_type": "stream",
     "text": [
      "Jumlah data duplikat: 84\n",
      "Persentase data duplikat: 16.15%\n"
     ]
    }
   ],
   "source": [
    "print(f'Jumlah data duplikat: {data.duplicated().sum()}')\n",
    "print(f'Persentase data duplikat: {data.duplicated().sum()/len(data)*100:.2f}%')"
   ]
  },
  {
   "cell_type": "markdown",
   "metadata": {},
   "source": [
    "Sebesar 16.15% data terindikasi duplikat, maka hilangkan salah satunya."
   ]
  },
  {
   "cell_type": "markdown",
   "metadata": {},
   "source": [
    "Handling duplikasi data:"
   ]
  },
  {
   "cell_type": "code",
   "execution_count": 10,
   "metadata": {},
   "outputs": [],
   "source": [
    "data.drop_duplicates(keep='first', inplace=True, ignore_index=True)"
   ]
  },
  {
   "cell_type": "markdown",
   "metadata": {},
   "source": [
    "**Missing Value**, Deteksi dan kuantifikasi missing value"
   ]
  },
  {
   "cell_type": "code",
   "execution_count": 11,
   "metadata": {},
   "outputs": [
    {
     "data": {
      "text/plain": [
       "fixed acidity           0\n",
       "volatile acidity        0\n",
       "citric acid             0\n",
       "residual sugar          0\n",
       "chlorides               0\n",
       "free sulfur dioxide     0\n",
       "total sulfur dioxide    0\n",
       "density                 0\n",
       "pH                      1\n",
       "sulphates               1\n",
       "alcohol                 1\n",
       "quality                 1\n",
       "dtype: int64"
      ]
     },
     "execution_count": 11,
     "metadata": {},
     "output_type": "execute_result"
    }
   ],
   "source": [
    "data.isna().sum()"
   ]
  },
  {
   "cell_type": "markdown",
   "metadata": {},
   "source": [
    "Terdapat missing value pada kolom ph, sulphates, alcohol dan quality. Kita akan drop saja missing value tersebut."
   ]
  },
  {
   "cell_type": "code",
   "execution_count": 12,
   "metadata": {},
   "outputs": [],
   "source": [
    "data.dropna(inplace=True)"
   ]
  },
  {
   "cell_type": "markdown",
   "metadata": {},
   "source": [
    "**Change Target**, Mengubah target menjadi kategorikal biner."
   ]
  },
  {
   "cell_type": "code",
   "execution_count": 13,
   "metadata": {},
   "outputs": [
    {
     "data": {
      "text/html": [
       "<div>\n",
       "<style scoped>\n",
       "    .dataframe tbody tr th:only-of-type {\n",
       "        vertical-align: middle;\n",
       "    }\n",
       "\n",
       "    .dataframe tbody tr th {\n",
       "        vertical-align: top;\n",
       "    }\n",
       "\n",
       "    .dataframe thead th {\n",
       "        text-align: right;\n",
       "    }\n",
       "</style>\n",
       "<table border=\"1\" class=\"dataframe\">\n",
       "  <thead>\n",
       "    <tr style=\"text-align: right;\">\n",
       "      <th></th>\n",
       "      <th>fixed acidity</th>\n",
       "      <th>volatile acidity</th>\n",
       "      <th>citric acid</th>\n",
       "      <th>residual sugar</th>\n",
       "      <th>chlorides</th>\n",
       "      <th>free sulfur dioxide</th>\n",
       "      <th>total sulfur dioxide</th>\n",
       "      <th>density</th>\n",
       "      <th>pH</th>\n",
       "      <th>sulphates</th>\n",
       "      <th>alcohol</th>\n",
       "      <th>quality</th>\n",
       "    </tr>\n",
       "  </thead>\n",
       "  <tbody>\n",
       "    <tr>\n",
       "      <th>0</th>\n",
       "      <td>7.0</td>\n",
       "      <td>0.27</td>\n",
       "      <td>0.36</td>\n",
       "      <td>20.7</td>\n",
       "      <td>0.045</td>\n",
       "      <td>45.0</td>\n",
       "      <td>170.0</td>\n",
       "      <td>1.0010</td>\n",
       "      <td>3.00</td>\n",
       "      <td>0.45</td>\n",
       "      <td>8.8</td>\n",
       "      <td>0</td>\n",
       "    </tr>\n",
       "    <tr>\n",
       "      <th>1</th>\n",
       "      <td>6.3</td>\n",
       "      <td>0.30</td>\n",
       "      <td>0.34</td>\n",
       "      <td>1.6</td>\n",
       "      <td>0.049</td>\n",
       "      <td>14.0</td>\n",
       "      <td>132.0</td>\n",
       "      <td>0.9940</td>\n",
       "      <td>3.30</td>\n",
       "      <td>0.49</td>\n",
       "      <td>9.5</td>\n",
       "      <td>0</td>\n",
       "    </tr>\n",
       "    <tr>\n",
       "      <th>2</th>\n",
       "      <td>8.1</td>\n",
       "      <td>0.28</td>\n",
       "      <td>0.40</td>\n",
       "      <td>6.9</td>\n",
       "      <td>0.050</td>\n",
       "      <td>30.0</td>\n",
       "      <td>97.0</td>\n",
       "      <td>0.9951</td>\n",
       "      <td>3.26</td>\n",
       "      <td>0.44</td>\n",
       "      <td>10.1</td>\n",
       "      <td>0</td>\n",
       "    </tr>\n",
       "    <tr>\n",
       "      <th>3</th>\n",
       "      <td>7.2</td>\n",
       "      <td>0.23</td>\n",
       "      <td>0.32</td>\n",
       "      <td>8.5</td>\n",
       "      <td>0.058</td>\n",
       "      <td>47.0</td>\n",
       "      <td>186.0</td>\n",
       "      <td>0.9956</td>\n",
       "      <td>3.19</td>\n",
       "      <td>0.40</td>\n",
       "      <td>9.9</td>\n",
       "      <td>0</td>\n",
       "    </tr>\n",
       "    <tr>\n",
       "      <th>4</th>\n",
       "      <td>6.2</td>\n",
       "      <td>0.32</td>\n",
       "      <td>0.16</td>\n",
       "      <td>7.0</td>\n",
       "      <td>0.045</td>\n",
       "      <td>30.0</td>\n",
       "      <td>136.0</td>\n",
       "      <td>0.9949</td>\n",
       "      <td>3.18</td>\n",
       "      <td>0.47</td>\n",
       "      <td>9.6</td>\n",
       "      <td>0</td>\n",
       "    </tr>\n",
       "  </tbody>\n",
       "</table>\n",
       "</div>"
      ],
      "text/plain": [
       "   fixed acidity  volatile acidity  citric acid  residual sugar  chlorides  \\\n",
       "0            7.0              0.27         0.36            20.7      0.045   \n",
       "1            6.3              0.30         0.34             1.6      0.049   \n",
       "2            8.1              0.28         0.40             6.9      0.050   \n",
       "3            7.2              0.23         0.32             8.5      0.058   \n",
       "4            6.2              0.32         0.16             7.0      0.045   \n",
       "\n",
       "   free sulfur dioxide  total sulfur dioxide  density    pH  sulphates  \\\n",
       "0                 45.0                 170.0   1.0010  3.00       0.45   \n",
       "1                 14.0                 132.0   0.9940  3.30       0.49   \n",
       "2                 30.0                  97.0   0.9951  3.26       0.44   \n",
       "3                 47.0                 186.0   0.9956  3.19       0.40   \n",
       "4                 30.0                 136.0   0.9949  3.18       0.47   \n",
       "\n",
       "   alcohol  quality  \n",
       "0      8.8        0  \n",
       "1      9.5        0  \n",
       "2     10.1        0  \n",
       "3      9.9        0  \n",
       "4      9.6        0  "
      ]
     },
     "execution_count": 13,
     "metadata": {},
     "output_type": "execute_result"
    }
   ],
   "source": [
    "data['quality'] = np.where(data['quality']> 6, 1, 0)\n",
    "data.head()"
   ]
  },
  {
   "cell_type": "markdown",
   "metadata": {},
   "source": [
    "`Data Splitting`"
   ]
  },
  {
   "cell_type": "markdown",
   "metadata": {},
   "source": [
    "Bagi dataset menjadi train dan test set dengan komposisi 80:20."
   ]
  },
  {
   "cell_type": "code",
   "execution_count": 14,
   "metadata": {},
   "outputs": [],
   "source": [
    "# Define features and target\n",
    "X = data.drop(columns=['quality'])\n",
    "y = data['quality']\n",
    "\n",
    "# Separate data into train and test split\n",
    "X_train, X_test, y_train, y_test = train_test_split(\n",
    "    X, y, test_size=0.2, random_state=0, stratify=y\n",
    ")"
   ]
  },
  {
   "cell_type": "code",
   "execution_count": 15,
   "metadata": {},
   "outputs": [
    {
     "data": {
      "text/plain": [
       "(435, 12)"
      ]
     },
     "execution_count": 15,
     "metadata": {},
     "output_type": "execute_result"
    }
   ],
   "source": [
    "data.shape"
   ]
  },
  {
   "cell_type": "code",
   "execution_count": 16,
   "metadata": {},
   "outputs": [
    {
     "data": {
      "text/plain": [
       "(87, 11)"
      ]
     },
     "execution_count": 16,
     "metadata": {},
     "output_type": "execute_result"
    }
   ],
   "source": [
    "X_test.shape"
   ]
  },
  {
   "cell_type": "markdown",
   "metadata": {},
   "source": [
    "### `Model Experiment`"
   ]
  },
  {
   "cell_type": "markdown",
   "metadata": {},
   "source": [
    "Setting parameter dasar untuk menginisialisasi experiment "
   ]
  },
  {
   "cell_type": "code",
   "execution_count": 17,
   "metadata": {},
   "outputs": [],
   "source": [
    "from sklearn.preprocessing import RobustScaler\n",
    "from imblearn.pipeline import Pipeline\n",
    "\n",
    "scaler = RobustScaler()"
   ]
  },
  {
   "cell_type": "markdown",
   "metadata": {},
   "source": [
    "**Benchmark Model**"
   ]
  },
  {
   "cell_type": "code",
   "execution_count": 18,
   "metadata": {},
   "outputs": [],
   "source": [
    "from sklearn.linear_model import LogisticRegression\n",
    "from sklearn.tree import DecisionTreeClassifier\n",
    "from sklearn.neighbors import KNeighborsClassifier\n",
    "from sklearn.ensemble import VotingClassifier, StackingClassifier"
   ]
  },
  {
   "cell_type": "code",
   "execution_count": 19,
   "metadata": {},
   "outputs": [],
   "source": [
    "# Define the models\n",
    "logreg = LogisticRegression(max_iter=1000)\n",
    "knn = KNeighborsClassifier()\n",
    "dtree = DecisionTreeClassifier(max_depth=5, random_state=0)\n",
    "\n",
    "# Base Models\n",
    "logreg_pipeline = Pipeline([\n",
    "    ('scaling', scaler),\n",
    "    ('modeling', logreg)\n",
    "])\n",
    "\n",
    "knn_pipeline = Pipeline([\n",
    "    ('scaling', scaler),\n",
    "    ('modeling', knn)\n",
    "])\n",
    "\n",
    "dtree_pipeline = Pipeline([\n",
    "    ('modeling', dtree)\n",
    "])\n",
    "\n",
    "# Meta learner\n",
    "meta_logreg = LogisticRegression(max_iter=1000)\n",
    "\n",
    "# Voting Classifier (Hard)\n",
    "voting_clf_hard = VotingClassifier(\n",
    "    estimators=[\n",
    "        ('clf1', logreg_pipeline),\n",
    "        ('clf2', knn_pipeline),\n",
    "        ('clf3', dtree_pipeline)\n",
    "    ], voting='hard'\n",
    ")\n",
    "\n",
    "# Voting Classifier (Soft)\n",
    "voting_clf_soft = VotingClassifier(\n",
    "    estimators=[\n",
    "        ('clf1', logreg_pipeline),\n",
    "        ('clf2', knn_pipeline),\n",
    "        ('clf3', dtree_pipeline)\n",
    "    ], voting='soft'\n",
    ")\n",
    "\n",
    "# Stacking Classifier\n",
    "stacking_clf = StackingClassifier(\n",
    "    estimators=[\n",
    "        ('clf1', logreg_pipeline),\n",
    "        ('clf2', knn_pipeline),\n",
    "        ('clf3', dtree_pipeline)\n",
    "    ],\n",
    "    final_estimator=meta_logreg\n",
    ")\n",
    "\n",
    "# Bagging\n",
    "bagging_clf = BaggingClassifier(\n",
    "    estimator=logreg,\n",
    "    n_estimators=50,\n",
    "    max_samples=.7,\n",
    "    random_state=0\n",
    ")\n",
    "\n",
    "# RF\n",
    "rf_clf = RandomForestClassifier(\n",
    "    n_estimators=50,\n",
    "    criterion='entropy',\n",
    "    max_features='sqrt',\n",
    "    random_state=0,\n",
    ")\n",
    "\n",
    "ab_clf = AdaBoostClassifier(\n",
    "    algorithm='SAMME',\n",
    "    n_estimators=50,\n",
    "    learning_rate=1,\n",
    "    random_state=0\n",
    ")\n",
    "\n",
    "gb_clf = GradientBoostingClassifier(\n",
    "    n_estimators=50,\n",
    "    learning_rate=.1,\n",
    "    random_state=0\n",
    ")\n",
    "\n",
    "xgb_clf = XGBClassifier(\n",
    "    n_estimators=50,\n",
    "    learning_rate=.1,\n",
    "    random_state=0,\n",
    "    subsample=.7\n",
    ")\n",
    "\n"
   ]
  },
  {
   "cell_type": "code",
   "execution_count": 20,
   "metadata": {},
   "outputs": [],
   "source": [
    "from sklearn.model_selection import cross_val_score, StratifiedKFold\n",
    "\n",
    "# Define models\n",
    "models = [logreg_pipeline, knn_pipeline, dtree_pipeline, \n",
    "          voting_clf_hard, voting_clf_soft, stacking_clf,bagging_clf,rf_clf,ab_clf,gb_clf,xgb_clf]\n",
    "model_names = ['LogisticRegression', 'KNeigborsClassifier', 'DecisionTree',\n",
    "               'Voting Classifier (Hard)', 'Voting Classifier (Soft)', 'Stacking Classifier',\n",
    "               'BaggingClassifier','RandomForestClassifier','AdaBoostClassifier','GradientBoostingClassifier','XGBClassifier']\n",
    "\n",
    "# Create list to store evaluation score\n",
    "f1_mean = []\n",
    "f1_std = []\n",
    "all_f1 = []\n",
    "\n",
    "# Cross Validation\n",
    "for model in models:\n",
    "\n",
    "    skfold = StratifiedKFold(n_splits=5)\n",
    "\n",
    "    model_cv = cross_val_score(\n",
    "        model,\n",
    "        X_train,\n",
    "        y_train,\n",
    "        cv=skfold,\n",
    "        scoring='f1',\n",
    "        n_jobs=-1\n",
    "    )\n",
    "\n",
    "    f1_mean.append(model_cv.mean())    \n",
    "    f1_std.append(model_cv.std())    \n",
    "    all_f1.append(model_cv.round(4))    "
   ]
  },
  {
   "cell_type": "code",
   "execution_count": 21,
   "metadata": {},
   "outputs": [
    {
     "data": {
      "text/html": [
       "<div>\n",
       "<style scoped>\n",
       "    .dataframe tbody tr th:only-of-type {\n",
       "        vertical-align: middle;\n",
       "    }\n",
       "\n",
       "    .dataframe tbody tr th {\n",
       "        vertical-align: top;\n",
       "    }\n",
       "\n",
       "    .dataframe thead th {\n",
       "        text-align: right;\n",
       "    }\n",
       "</style>\n",
       "<table border=\"1\" class=\"dataframe\">\n",
       "  <thead>\n",
       "    <tr style=\"text-align: right;\">\n",
       "      <th></th>\n",
       "      <th>model</th>\n",
       "      <th>mean f1</th>\n",
       "      <th>std f1</th>\n",
       "      <th>all score</th>\n",
       "    </tr>\n",
       "  </thead>\n",
       "  <tbody>\n",
       "    <tr>\n",
       "      <th>0</th>\n",
       "      <td>LogisticRegression</td>\n",
       "      <td>0.992000</td>\n",
       "      <td>0.016000</td>\n",
       "      <td>[1.0, 0.96, 1.0, 1.0, 1.0]</td>\n",
       "    </tr>\n",
       "    <tr>\n",
       "      <th>5</th>\n",
       "      <td>Stacking Classifier</td>\n",
       "      <td>0.975304</td>\n",
       "      <td>0.020204</td>\n",
       "      <td>[1.0, 0.96, 0.96, 1.0, 0.9565]</td>\n",
       "    </tr>\n",
       "    <tr>\n",
       "      <th>9</th>\n",
       "      <td>GradientBoostingClassifier</td>\n",
       "      <td>0.941275</td>\n",
       "      <td>0.056419</td>\n",
       "      <td>[0.96, 0.8333, 1.0, 0.9565, 0.9565]</td>\n",
       "    </tr>\n",
       "    <tr>\n",
       "      <th>8</th>\n",
       "      <td>AdaBoostClassifier</td>\n",
       "      <td>0.939036</td>\n",
       "      <td>0.045133</td>\n",
       "      <td>[0.96, 0.8696, 1.0, 0.9091, 0.9565]</td>\n",
       "    </tr>\n",
       "    <tr>\n",
       "      <th>10</th>\n",
       "      <td>XGBClassifier</td>\n",
       "      <td>0.932382</td>\n",
       "      <td>0.057347</td>\n",
       "      <td>[1.0, 0.8333, 0.963, 0.9091, 0.9565]</td>\n",
       "    </tr>\n",
       "    <tr>\n",
       "      <th>3</th>\n",
       "      <td>Voting Classifier (Hard)</td>\n",
       "      <td>0.923789</td>\n",
       "      <td>0.049178</td>\n",
       "      <td>[0.96, 0.8333, 0.96, 0.9565, 0.9091]</td>\n",
       "    </tr>\n",
       "    <tr>\n",
       "      <th>4</th>\n",
       "      <td>Voting Classifier (Soft)</td>\n",
       "      <td>0.902577</td>\n",
       "      <td>0.089754</td>\n",
       "      <td>[0.96, 0.7273, 0.96, 0.9565, 0.9091]</td>\n",
       "    </tr>\n",
       "    <tr>\n",
       "      <th>7</th>\n",
       "      <td>RandomForestClassifier</td>\n",
       "      <td>0.888970</td>\n",
       "      <td>0.116277</td>\n",
       "      <td>[0.96, 0.6667, 1.0, 0.9091, 0.9091]</td>\n",
       "    </tr>\n",
       "    <tr>\n",
       "      <th>2</th>\n",
       "      <td>DecisionTree</td>\n",
       "      <td>0.859130</td>\n",
       "      <td>0.101001</td>\n",
       "      <td>[0.96, 0.6957, 0.96, 0.88, 0.8]</td>\n",
       "    </tr>\n",
       "    <tr>\n",
       "      <th>1</th>\n",
       "      <td>KNeigborsClassifier</td>\n",
       "      <td>0.806192</td>\n",
       "      <td>0.094593</td>\n",
       "      <td>[0.8333, 0.6364, 0.7826, 0.9091, 0.8696]</td>\n",
       "    </tr>\n",
       "    <tr>\n",
       "      <th>6</th>\n",
       "      <td>BaggingClassifier</td>\n",
       "      <td>0.502190</td>\n",
       "      <td>0.156940</td>\n",
       "      <td>[0.5455, 0.2222, 0.6957, 0.5714, 0.4762]</td>\n",
       "    </tr>\n",
       "  </tbody>\n",
       "</table>\n",
       "</div>"
      ],
      "text/plain": [
       "                         model   mean f1    std f1  \\\n",
       "0           LogisticRegression  0.992000  0.016000   \n",
       "5          Stacking Classifier  0.975304  0.020204   \n",
       "9   GradientBoostingClassifier  0.941275  0.056419   \n",
       "8           AdaBoostClassifier  0.939036  0.045133   \n",
       "10               XGBClassifier  0.932382  0.057347   \n",
       "3     Voting Classifier (Hard)  0.923789  0.049178   \n",
       "4     Voting Classifier (Soft)  0.902577  0.089754   \n",
       "7       RandomForestClassifier  0.888970  0.116277   \n",
       "2                 DecisionTree  0.859130  0.101001   \n",
       "1          KNeigborsClassifier  0.806192  0.094593   \n",
       "6            BaggingClassifier  0.502190  0.156940   \n",
       "\n",
       "                                   all score  \n",
       "0                 [1.0, 0.96, 1.0, 1.0, 1.0]  \n",
       "5             [1.0, 0.96, 0.96, 1.0, 0.9565]  \n",
       "9        [0.96, 0.8333, 1.0, 0.9565, 0.9565]  \n",
       "8        [0.96, 0.8696, 1.0, 0.9091, 0.9565]  \n",
       "10      [1.0, 0.8333, 0.963, 0.9091, 0.9565]  \n",
       "3       [0.96, 0.8333, 0.96, 0.9565, 0.9091]  \n",
       "4       [0.96, 0.7273, 0.96, 0.9565, 0.9091]  \n",
       "7        [0.96, 0.6667, 1.0, 0.9091, 0.9091]  \n",
       "2            [0.96, 0.6957, 0.96, 0.88, 0.8]  \n",
       "1   [0.8333, 0.6364, 0.7826, 0.9091, 0.8696]  \n",
       "6   [0.5455, 0.2222, 0.6957, 0.5714, 0.4762]  "
      ]
     },
     "execution_count": 21,
     "metadata": {},
     "output_type": "execute_result"
    }
   ],
   "source": [
    "pd.DataFrame({\n",
    "    'model': model_names,\n",
    "    'mean f1': f1_mean,\n",
    "    'std f1': f1_std,\n",
    "    'all score': all_f1\n",
    "}).sort_values('mean f1', ascending=False)"
   ]
  },
  {
   "cell_type": "markdown",
   "metadata": {},
   "source": [
    "**Predict Benchmark Model to Test Set**\n",
    "\n",
    "Untuk mengukur performa akhir model"
   ]
  },
  {
   "cell_type": "code",
   "execution_count": 22,
   "metadata": {},
   "outputs": [],
   "source": [
    "from sklearn.metrics import f1_score\n",
    "\n",
    "# Models\n",
    "models = [logreg_pipeline, knn_pipeline, dtree_pipeline, \n",
    "          voting_clf_hard, voting_clf_soft, stacking_clf,\n",
    "          bagging_clf,rf_clf,ab_clf,gb_clf,xgb_clf]\n",
    "\n",
    "# Create list to store evaluation score\n",
    "list_f1 = []\n",
    "dict_pred = {}\n",
    "dict_proba = {}\n",
    "\n",
    "# Predict to test set\n",
    "for model, name in zip(models, model_names):\n",
    "\n",
    "    # fitting to train set\n",
    "    model.fit(X_train, y_train)\n",
    "\n",
    "    # predict to test set\n",
    "    y_pred = model.predict(X_test)\n",
    "    dict_pred[name] = y_pred\n",
    "\n",
    "    if model in [logreg_pipeline, knn_pipeline, dtree_pipeline, voting_clf_soft]:\n",
    "        y_proba = model.predict_proba(X_test)\n",
    "        dict_proba[name] = y_proba[:, 1].round(4)\n",
    "\n",
    "    # evaluate score\n",
    "    score = f1_score(y_test, y_pred)\n",
    "    list_f1.append(score)"
   ]
  },
  {
   "cell_type": "code",
   "execution_count": 23,
   "metadata": {},
   "outputs": [
    {
     "data": {
      "text/html": [
       "<div>\n",
       "<style scoped>\n",
       "    .dataframe tbody tr th:only-of-type {\n",
       "        vertical-align: middle;\n",
       "    }\n",
       "\n",
       "    .dataframe tbody tr th {\n",
       "        vertical-align: top;\n",
       "    }\n",
       "\n",
       "    .dataframe thead th {\n",
       "        text-align: right;\n",
       "    }\n",
       "</style>\n",
       "<table border=\"1\" class=\"dataframe\">\n",
       "  <thead>\n",
       "    <tr style=\"text-align: right;\">\n",
       "      <th></th>\n",
       "      <th>model</th>\n",
       "      <th>F1 score</th>\n",
       "    </tr>\n",
       "  </thead>\n",
       "  <tbody>\n",
       "    <tr>\n",
       "      <th>9</th>\n",
       "      <td>GradientBoostingClassifier</td>\n",
       "      <td>1.000000</td>\n",
       "    </tr>\n",
       "    <tr>\n",
       "      <th>5</th>\n",
       "      <td>Stacking Classifier</td>\n",
       "      <td>0.967742</td>\n",
       "    </tr>\n",
       "    <tr>\n",
       "      <th>8</th>\n",
       "      <td>AdaBoostClassifier</td>\n",
       "      <td>0.967742</td>\n",
       "    </tr>\n",
       "    <tr>\n",
       "      <th>2</th>\n",
       "      <td>DecisionTree</td>\n",
       "      <td>0.941176</td>\n",
       "    </tr>\n",
       "    <tr>\n",
       "      <th>10</th>\n",
       "      <td>XGBClassifier</td>\n",
       "      <td>0.933333</td>\n",
       "    </tr>\n",
       "    <tr>\n",
       "      <th>4</th>\n",
       "      <td>Voting Classifier (Soft)</td>\n",
       "      <td>0.903226</td>\n",
       "    </tr>\n",
       "    <tr>\n",
       "      <th>0</th>\n",
       "      <td>LogisticRegression</td>\n",
       "      <td>0.896552</td>\n",
       "    </tr>\n",
       "    <tr>\n",
       "      <th>3</th>\n",
       "      <td>Voting Classifier (Hard)</td>\n",
       "      <td>0.896552</td>\n",
       "    </tr>\n",
       "    <tr>\n",
       "      <th>1</th>\n",
       "      <td>KNeigborsClassifier</td>\n",
       "      <td>0.785714</td>\n",
       "    </tr>\n",
       "    <tr>\n",
       "      <th>7</th>\n",
       "      <td>RandomForestClassifier</td>\n",
       "      <td>0.769231</td>\n",
       "    </tr>\n",
       "    <tr>\n",
       "      <th>6</th>\n",
       "      <td>BaggingClassifier</td>\n",
       "      <td>0.560000</td>\n",
       "    </tr>\n",
       "  </tbody>\n",
       "</table>\n",
       "</div>"
      ],
      "text/plain": [
       "                         model  F1 score\n",
       "9   GradientBoostingClassifier  1.000000\n",
       "5          Stacking Classifier  0.967742\n",
       "8           AdaBoostClassifier  0.967742\n",
       "2                 DecisionTree  0.941176\n",
       "10               XGBClassifier  0.933333\n",
       "4     Voting Classifier (Soft)  0.903226\n",
       "0           LogisticRegression  0.896552\n",
       "3     Voting Classifier (Hard)  0.896552\n",
       "1          KNeigborsClassifier  0.785714\n",
       "7       RandomForestClassifier  0.769231\n",
       "6            BaggingClassifier  0.560000"
      ]
     },
     "execution_count": 23,
     "metadata": {},
     "output_type": "execute_result"
    }
   ],
   "source": [
    "pd.DataFrame({\n",
    "    'model': model_names,\n",
    "    'F1 score': list_f1\n",
    "}).sort_values('F1 score', ascending=False)"
   ]
  },
  {
   "cell_type": "markdown",
   "metadata": {},
   "source": [
    "FINAL MODEL"
   ]
  },
  {
   "cell_type": "code",
   "execution_count": 24,
   "metadata": {},
   "outputs": [
    {
     "name": "stdout",
     "output_type": "stream",
     "text": [
      "              precision    recall  f1-score   support\n",
      "\n",
      "           0       1.00      1.00      1.00        71\n",
      "           1       1.00      1.00      1.00        16\n",
      "\n",
      "    accuracy                           1.00        87\n",
      "   macro avg       1.00      1.00      1.00        87\n",
      "weighted avg       1.00      1.00      1.00        87\n",
      "\n"
     ]
    }
   ],
   "source": [
    "from sklearn.metrics import classification_report,confusion_matrix\n",
    "\n",
    "final_model = GradientBoostingClassifier(\n",
    "    n_estimators=50,\n",
    "    learning_rate=.1,\n",
    "    random_state=0\n",
    ")\n",
    "\n",
    "final_model.fit(X_train, y_train)\n",
    "y_pred = final_model.predict(X_test)\n",
    "\n",
    "print(classification_report(y_test,y_pred))"
   ]
  },
  {
   "cell_type": "code",
   "execution_count": 25,
   "metadata": {},
   "outputs": [
    {
     "data": {
      "text/plain": [
       "<Axes: >"
      ]
     },
     "execution_count": 25,
     "metadata": {},
     "output_type": "execute_result"
    },
    {
     "data": {
      "image/png": "[encoded data removed]",
      "text/plain": [
       "<Figure size 640x480 with 2 Axes>"
      ]
     },
     "metadata": {},
     "output_type": "display_data"
    }
   ],
   "source": [
    "import seaborn as sns\n",
    "\n",
    "sns.heatmap(confusion_matrix(y_test,y_pred),annot=True)"
   ]
  }
 ],
 "metadata": {
  "kernelspec": {
   "display_name": "Python 3",
   "language": "python",
   "name": "python3"
  },
  "language_info": {
   "codemirror_mode": {
    "name": "ipython",
    "version": 3
   },
   "file_extension": ".py",
   "mimetype": "text/x-python",
   "name": "python",
   "nbconvert_exporter": "python",
   "pygments_lexer": "ipython3",
   "version": "3.11.7"
  }
 },
 "nbformat": 4,
 "nbformat_minor": 2
}
