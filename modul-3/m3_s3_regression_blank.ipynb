{
  "cells": [
    {
      "cell_type": "markdown",
      "metadata": {},
      "source": [
        "Link Video : "
      ]
    },
    {
      "cell_type": "markdown",
      "metadata": {
        "id": "yoF5BL2qM8Ak"
      },
      "source": [
        "### `Multiple Linear Regression`\n",
        "\n",
        "Linear Regression is a useful tool for predicting a quantitative response. We have the linear regression model has the form:\n",
        "\n",
        "$f(x) = \\beta_0 + \\sum\\limits_{j=1}^p X_j\\beta_j$\n",
        "\n",
        "**where**\n",
        "- $f(x)$: response/dependent variable\n",
        "- $X_j$: explanatory/independent variable\n",
        "- $\\beta_j$: slope coefficient\n",
        "- $\\beta_0$: intercept terms"
      ]
    },
    {
      "cell_type": "markdown",
      "metadata": {
        "id": "oGsnABn5M8Ap"
      },
      "source": [
        "#### **Importing Libraries**"
      ]
    },
    {
      "cell_type": "code",
      "execution_count": 217,
      "metadata": {
        "id": "jeZLvBU2M8Ap"
      },
      "outputs": [],
      "source": [
        "import pandas as pd\n",
        "import numpy as np\n",
        "\n",
        "import statsmodels.api as sm\n",
        "from statsmodels.compat import lzip\n",
        "from statsmodels.stats.outliers_influence import variance_inflation_factor"
      ]
    },
    {
      "cell_type": "code",
      "execution_count": 218,
      "metadata": {
        "id": "px4BIIT1M8Ar"
      },
      "outputs": [],
      "source": [
        "%matplotlib inline\n",
        "import seaborn as sns\n",
        "import matplotlib.pyplot as plt\n",
        "plt.style.use(\"ggplot\")"
      ]
    },
    {
      "cell_type": "markdown",
      "metadata": {
        "id": "IMF_gNlEM8Ar"
      },
      "source": [
        "#### **Load the Data**\n",
        "\n",
        "The advertising dataset captures sales revenue generated with respect to advertisement spends across multiple channel like radio, TV, and newspaper."
      ]
    },
    {
      "cell_type": "code",
      "execution_count": 219,
      "metadata": {
        "id": "hlCkWPv7M8As"
      },
      "outputs": [
        {
          "data": {
            "text/html": [
              "<div>\n",
              "<style scoped>\n",
              "    .dataframe tbody tr th:only-of-type {\n",
              "        vertical-align: middle;\n",
              "    }\n",
              "\n",
              "    .dataframe tbody tr th {\n",
              "        vertical-align: top;\n",
              "    }\n",
              "\n",
              "    .dataframe thead th {\n",
              "        text-align: right;\n",
              "    }\n",
              "</style>\n",
              "<table border=\"1\" class=\"dataframe\">\n",
              "  <thead>\n",
              "    <tr style=\"text-align: right;\">\n",
              "      <th></th>\n",
              "      <th>TV</th>\n",
              "      <th>Radio</th>\n",
              "      <th>Newspaper</th>\n",
              "      <th>Sales</th>\n",
              "    </tr>\n",
              "  </thead>\n",
              "  <tbody>\n",
              "    <tr>\n",
              "      <th>0</th>\n",
              "      <td>230.1</td>\n",
              "      <td>37.8</td>\n",
              "      <td>69.2</td>\n",
              "      <td>22.1</td>\n",
              "    </tr>\n",
              "    <tr>\n",
              "      <th>1</th>\n",
              "      <td>44.5</td>\n",
              "      <td>39.3</td>\n",
              "      <td>45.1</td>\n",
              "      <td>10.4</td>\n",
              "    </tr>\n",
              "    <tr>\n",
              "      <th>2</th>\n",
              "      <td>17.2</td>\n",
              "      <td>45.9</td>\n",
              "      <td>69.3</td>\n",
              "      <td>9.3</td>\n",
              "    </tr>\n",
              "    <tr>\n",
              "      <th>3</th>\n",
              "      <td>151.5</td>\n",
              "      <td>41.3</td>\n",
              "      <td>58.5</td>\n",
              "      <td>18.5</td>\n",
              "    </tr>\n",
              "    <tr>\n",
              "      <th>4</th>\n",
              "      <td>180.8</td>\n",
              "      <td>10.8</td>\n",
              "      <td>58.4</td>\n",
              "      <td>12.9</td>\n",
              "    </tr>\n",
              "  </tbody>\n",
              "</table>\n",
              "</div>"
            ],
            "text/plain": [
              "      TV  Radio  Newspaper  Sales\n",
              "0  230.1   37.8       69.2   22.1\n",
              "1   44.5   39.3       45.1   10.4\n",
              "2   17.2   45.9       69.3    9.3\n",
              "3  151.5   41.3       58.5   18.5\n",
              "4  180.8   10.8       58.4   12.9"
            ]
          },
          "execution_count": 219,
          "metadata": {},
          "output_type": "execute_result"
        }
      ],
      "source": [
        "data = pd.read_csv('../csv/advertising.csv').drop(columns='Unnamed: 0')\n",
        "data.head()"
      ]
    },
    {
      "cell_type": "code",
      "execution_count": 220,
      "metadata": {},
      "outputs": [
        {
          "name": "stdout",
          "output_type": "stream",
          "text": [
            "<class 'pandas.core.frame.DataFrame'>\n",
            "RangeIndex: 200 entries, 0 to 199\n",
            "Data columns (total 4 columns):\n",
            " #   Column     Non-Null Count  Dtype  \n",
            "---  ------     --------------  -----  \n",
            " 0   TV         200 non-null    float64\n",
            " 1   Radio      200 non-null    float64\n",
            " 2   Newspaper  200 non-null    float64\n",
            " 3   Sales      200 non-null    float64\n",
            "dtypes: float64(4)\n",
            "memory usage: 6.4 KB\n"
          ]
        }
      ],
      "source": [
        "data.info() #datanya numerical semua"
      ]
    },
    {
      "cell_type": "code",
      "execution_count": 221,
      "metadata": {},
      "outputs": [
        {
          "data": {
            "text/html": [
              "<div>\n",
              "<style scoped>\n",
              "    .dataframe tbody tr th:only-of-type {\n",
              "        vertical-align: middle;\n",
              "    }\n",
              "\n",
              "    .dataframe tbody tr th {\n",
              "        vertical-align: top;\n",
              "    }\n",
              "\n",
              "    .dataframe thead th {\n",
              "        text-align: right;\n",
              "    }\n",
              "</style>\n",
              "<table border=\"1\" class=\"dataframe\">\n",
              "  <thead>\n",
              "    <tr style=\"text-align: right;\">\n",
              "      <th></th>\n",
              "      <th>TV</th>\n",
              "      <th>Radio</th>\n",
              "      <th>Newspaper</th>\n",
              "      <th>Sales</th>\n",
              "    </tr>\n",
              "  </thead>\n",
              "  <tbody>\n",
              "    <tr>\n",
              "      <th>count</th>\n",
              "      <td>200.000000</td>\n",
              "      <td>200.000000</td>\n",
              "      <td>200.000000</td>\n",
              "      <td>200.000000</td>\n",
              "    </tr>\n",
              "    <tr>\n",
              "      <th>mean</th>\n",
              "      <td>147.042500</td>\n",
              "      <td>23.264000</td>\n",
              "      <td>30.554000</td>\n",
              "      <td>14.022500</td>\n",
              "    </tr>\n",
              "    <tr>\n",
              "      <th>std</th>\n",
              "      <td>85.854236</td>\n",
              "      <td>14.846809</td>\n",
              "      <td>21.778621</td>\n",
              "      <td>5.217457</td>\n",
              "    </tr>\n",
              "    <tr>\n",
              "      <th>min</th>\n",
              "      <td>0.700000</td>\n",
              "      <td>0.000000</td>\n",
              "      <td>0.300000</td>\n",
              "      <td>1.600000</td>\n",
              "    </tr>\n",
              "    <tr>\n",
              "      <th>25%</th>\n",
              "      <td>74.375000</td>\n",
              "      <td>9.975000</td>\n",
              "      <td>12.750000</td>\n",
              "      <td>10.375000</td>\n",
              "    </tr>\n",
              "    <tr>\n",
              "      <th>50%</th>\n",
              "      <td>149.750000</td>\n",
              "      <td>22.900000</td>\n",
              "      <td>25.750000</td>\n",
              "      <td>12.900000</td>\n",
              "    </tr>\n",
              "    <tr>\n",
              "      <th>75%</th>\n",
              "      <td>218.825000</td>\n",
              "      <td>36.525000</td>\n",
              "      <td>45.100000</td>\n",
              "      <td>17.400000</td>\n",
              "    </tr>\n",
              "    <tr>\n",
              "      <th>max</th>\n",
              "      <td>296.400000</td>\n",
              "      <td>49.600000</td>\n",
              "      <td>114.000000</td>\n",
              "      <td>27.000000</td>\n",
              "    </tr>\n",
              "  </tbody>\n",
              "</table>\n",
              "</div>"
            ],
            "text/plain": [
              "               TV       Radio   Newspaper       Sales\n",
              "count  200.000000  200.000000  200.000000  200.000000\n",
              "mean   147.042500   23.264000   30.554000   14.022500\n",
              "std     85.854236   14.846809   21.778621    5.217457\n",
              "min      0.700000    0.000000    0.300000    1.600000\n",
              "25%     74.375000    9.975000   12.750000   10.375000\n",
              "50%    149.750000   22.900000   25.750000   12.900000\n",
              "75%    218.825000   36.525000   45.100000   17.400000\n",
              "max    296.400000   49.600000  114.000000   27.000000"
            ]
          },
          "execution_count": 221,
          "metadata": {},
          "output_type": "execute_result"
        }
      ],
      "source": [
        "data.describe()"
      ]
    },
    {
      "cell_type": "markdown",
      "metadata": {
        "id": "kiwTOQf5M8As"
      },
      "source": [
        "#### **Data Analysis**\n",
        "\n",
        "Let's explore these types of relationships across the entire data set. Based off this plot what looks to be the most correlated feature sales?"
      ]
    },
    {
      "cell_type": "code",
      "execution_count": 222,
      "metadata": {
        "id": "1B9qjGkgM8As"
      },
      "outputs": [
        {
          "data": {
            "image/png": "[encoded data removed]",
            "text/plain": [
              "<Figure size 1200x500 with 3 Axes>"
            ]
          },
          "metadata": {},
          "output_type": "display_data"
        }
      ],
      "source": [
        "sns.pairplot(data, x_vars=['TV','Radio','Newspaper'],y_vars='Sales',height=5,aspect=0.8)\n",
        "plt.show()"
      ]
    },
    {
      "cell_type": "markdown",
      "metadata": {
        "id": "88mEUAfcM8As"
      },
      "source": [
        "#### **Estimating Coefficients**\n",
        "\n",
        "Create a linear model plot of sales from tv, radio, and newspaper variable."
      ]
    },
    {
      "cell_type": "code",
      "execution_count": 223,
      "metadata": {
        "id": "V3D34TTLM8As"
      },
      "outputs": [],
      "source": [
        "sm_ls = sm.OLS(data['Sales'],sm.add_constant(data.drop(columns=['Sales'])))\n",
        "result = sm_ls.fit()\n"
      ]
    },
    {
      "cell_type": "code",
      "execution_count": 224,
      "metadata": {},
      "outputs": [
        {
          "name": "stdout",
          "output_type": "stream",
          "text": [
            "==============================================================================\n",
            "                 coef    std err          t      P>|t|      [0.025      0.975]\n",
            "------------------------------------------------------------------------------\n",
            "const          2.9389      0.312      9.422      0.000       2.324       3.554\n",
            "TV             0.0458      0.001     32.809      0.000       0.043       0.049\n",
            "Radio          0.1885      0.009     21.893      0.000       0.172       0.206\n",
            "Newspaper     -0.0010      0.006     -0.177      0.860      -0.013       0.011\n",
            "==============================================================================\n"
          ]
        }
      ],
      "source": [
        "print(result.summary().tables[1])"
      ]
    },
    {
      "cell_type": "code",
      "execution_count": 225,
      "metadata": {},
      "outputs": [],
      "source": [
        "#karna newspapernya pvalue > 0.05 maka kita drop saja karna tidak berpengaruh ke Sales\n",
        "sm_ls = sm.OLS(data['Sales'],sm.add_constant(data.drop(columns=['Sales','Newspaper'])))\n",
        "result = sm_ls.fit()"
      ]
    },
    {
      "cell_type": "code",
      "execution_count": 226,
      "metadata": {},
      "outputs": [
        {
          "name": "stdout",
          "output_type": "stream",
          "text": [
            "==============================================================================\n",
            "                 coef    std err          t      P>|t|      [0.025      0.975]\n",
            "------------------------------------------------------------------------------\n",
            "const          2.9211      0.294      9.919      0.000       2.340       3.502\n",
            "TV             0.0458      0.001     32.909      0.000       0.043       0.048\n",
            "Radio          0.1880      0.008     23.382      0.000       0.172       0.204\n",
            "==============================================================================\n"
          ]
        }
      ],
      "source": [
        "print(result.summary().tables[1])"
      ]
    },
    {
      "cell_type": "markdown",
      "metadata": {
        "id": "6lAJ3Kp_M8As"
      },
      "source": [
        "Now, the linear regression equation becomes:\n",
        "\n",
        "$Sales = 2.9389 + 0.0458TV + 0.1880Radio$\n",
        "\n",
        "Parameter Estimate:\n",
        "- **conts = 2.9211** : When we do not advertise through TV and Radio channels, the sales generated is $2.9211\n",
        "- **Radio = 0.1880** : When the advertising spent on radio is 1 dollar, the sales generated increases by 0.1880 dollars. This interpretation is only recommended when we spend on radio between 0 and 49.6 dollars and do not spend on TV.\n",
        "- **TV = 0.0458** : When the advertising spent on TV is 1 dollar, the sales generated increases by 0.0458 dollars. This interpretation is only recommended when we spend on TV between 0.7 and 296.4 dollars and do not spend on radio."
      ]
    },
    {
      "cell_type": "markdown",
      "metadata": {
        "id": "7wfu_R2YM8As"
      },
      "source": [
        "#### **Evaluating the Model**\n",
        "\n",
        "Let's evaluate our model performance by looking at the following table:"
      ]
    },
    {
      "cell_type": "code",
      "execution_count": 227,
      "metadata": {
        "id": "yGPmkUFYM8At"
      },
      "outputs": [
        {
          "name": "stdout",
          "output_type": "stream",
          "text": [
            "                            OLS Regression Results                            \n",
            "==============================================================================\n",
            "Dep. Variable:                  Sales   R-squared:                       0.897\n",
            "Model:                            OLS   Adj. R-squared:                  0.896\n",
            "Method:                 Least Squares   F-statistic:                     859.6\n",
            "Date:                Tue, 17 Sep 2024   Prob (F-statistic):           4.83e-98\n",
            "Time:                        15:41:01   Log-Likelihood:                -386.20\n",
            "No. Observations:                 200   AIC:                             778.4\n",
            "Df Residuals:                     197   BIC:                             788.3\n",
            "Df Model:                           2                                         \n",
            "Covariance Type:            nonrobust                                         \n",
            "==============================================================================\n"
          ]
        }
      ],
      "source": [
        "print(result.summary().tables[0])"
      ]
    },
    {
      "cell_type": "markdown",
      "metadata": {
        "id": "ZZ8tauiSM8Au"
      },
      "source": [
        "**F-Test**, used to determine whether a complex model is better than a simpler version of the same model in explaining the variance in the dependent variable."
      ]
    },
    {
      "cell_type": "code",
      "execution_count": 228,
      "metadata": {
        "id": "4eHt0S40M8Au"
      },
      "outputs": [
        {
          "data": {
            "text/plain": [
              "np.float64(4.827361851335395e-98)"
            ]
          },
          "execution_count": 228,
          "metadata": {},
          "output_type": "execute_result"
        }
      ],
      "source": [
        "result.f_pvalue"
      ]
    },
    {
      "cell_type": "markdown",
      "metadata": {
        "id": "iEmUeErLM8Av"
      },
      "source": [
        "P-Value of the Simultant test (Prob (F-statistics)) is below 0.05. We have enough evidence that spending on advertising through radio and TV affects the sales generated.\n",
        "\n",
        "**R-squared**, which sometimes is also known as the coefficient of determination, defines the degree to which the variance in the dependent variable (target or response) can be explained by the independent variable (features or predictors).\n",
        "\n",
        "$R^2 = 1 - \\frac{SS_{res}}{SS_{tot}}$"
      ]
    },
    {
      "cell_type": "code",
      "execution_count": 229,
      "metadata": {
        "id": "PPs-dSUzM8Av"
      },
      "outputs": [
        {
          "data": {
            "text/plain": [
              "np.float64(0.8971942610828957)"
            ]
          },
          "execution_count": 229,
          "metadata": {},
          "output_type": "execute_result"
        }
      ],
      "source": [
        "result.rsquared"
      ]
    },
    {
      "cell_type": "markdown",
      "metadata": {
        "id": "bxCUbqymM8Av"
      },
      "source": [
        "We observed 89.7% variability in sales is explained by its linear relationship with tv and radio while 10.3% variations are uncounted for.\n",
        "\n",
        "**Adj. R-squared**, measures the proportion ov variations explained by only those independent variables that really help in explaining the dependent variable. The adjusted R-squared increases when the new term improves the model more than would be expected by chance. It decreases when a predictor improves the model by less than expected.\n",
        "\n",
        "$R^2 = 1 - \\frac{SS_{res}/n - k}{SS_{tot}/n - 1}$"
      ]
    },
    {
      "cell_type": "code",
      "execution_count": 230,
      "metadata": {
        "id": "86fEmbb4M8Av"
      },
      "outputs": [
        {
          "data": {
            "text/plain": [
              "np.float64(0.8961505479974429)"
            ]
          },
          "execution_count": 230,
          "metadata": {},
          "output_type": "execute_result"
        }
      ],
      "source": [
        "result.rsquared_adj"
      ]
    },
    {
      "cell_type": "markdown",
      "metadata": {
        "id": "UBlvgmctM8Aw"
      },
      "source": [
        "We observed that the independent variable Newspaper is ingsignificant or it doesn't contribute to explain the variation in the dependent variable. Hence, the adjusted-R2 is the same due to the involvement of insignificant variables and will potentially undermine the predictive power of the other variables that have been included in the model and found to be significant.\n",
        "\n",
        "**Mean Squared Error** (MSE) is the mean of the squared errors.\n",
        "\n",
        "$MSE = \\frac{1}{n} \\sum\\limits_{n=1}^p (y_i - \\hat{y}_i)^2$\n",
        "\n",
        "A larger MSE indicates that the data point are dispersed widely around its central moment (mean), whereas a smaller MSE suggest the opposite. A smaller MSE is preferred because it indicates that your data points are dispersed closely around its central moment (mean)."
      ]
    },
    {
      "cell_type": "code",
      "execution_count": 231,
      "metadata": {
        "id": "yV4iU2U4M8Ax"
      },
      "outputs": [
        {
          "data": {
            "text/plain": [
              "0      20.555465\n",
              "1      12.345362\n",
              "2      12.337018\n",
              "3      17.617116\n",
              "4      13.223908\n",
              "         ...    \n",
              "195     5.364512\n",
              "196     8.152375\n",
              "197    12.768048\n",
              "198    23.792923\n",
              "199    15.157543\n",
              "Length: 200, dtype: float64"
            ]
          },
          "execution_count": 231,
          "metadata": {},
          "output_type": "execute_result"
        }
      ],
      "source": [
        "y_pred = result.predict(sm.add_constant(data[['TV','Radio']]))\n",
        "y_pred"
      ]
    },
    {
      "cell_type": "code",
      "execution_count": 232,
      "metadata": {},
      "outputs": [
        {
          "data": {
            "text/plain": [
              "0      22.1\n",
              "1      10.4\n",
              "2       9.3\n",
              "3      18.5\n",
              "4      12.9\n",
              "       ... \n",
              "195     7.6\n",
              "196     9.7\n",
              "197    12.8\n",
              "198    25.5\n",
              "199    13.4\n",
              "Name: Sales, Length: 200, dtype: float64"
            ]
          },
          "execution_count": 232,
          "metadata": {},
          "output_type": "execute_result"
        }
      ],
      "source": [
        "data['Sales']"
      ]
    },
    {
      "cell_type": "code",
      "execution_count": 233,
      "metadata": {},
      "outputs": [
        {
          "data": {
            "text/plain": [
              "np.float64(2.7845699003380924)"
            ]
          },
          "execution_count": 233,
          "metadata": {},
          "output_type": "execute_result"
        }
      ],
      "source": [
        "from sklearn.metrics import mean_squared_error\n",
        "\n",
        "MSE = mean_squared_error(data['Sales'],y_pred)\n",
        "MSE"
      ]
    },
    {
      "cell_type": "markdown",
      "metadata": {
        "id": "iH3-rD6ZM8Ax"
      },
      "source": [
        "**Root Mean Squared Error** (RMSE) is the root mean of the squared errors.\n",
        "\n",
        "$RMSE = \\sqrt{\\frac{1}{n} \\sum\\limits_{n=1}^p (y_i - \\hat{y}_i)^2}$\n",
        "\n",
        "RMSE is a measure of how spread out these residuals are. In other words, it tells you how concentrated the data is around the line of best fit. Root mean square error is commonly used in forecasting and regression analysis to verify experimental result."
      ]
    },
    {
      "cell_type": "code",
      "execution_count": 234,
      "metadata": {
        "id": "sdBb7EGxM8Ax"
      },
      "outputs": [
        {
          "name": "stderr",
          "output_type": "stream",
          "text": [
            "c:\\Users\\Fiki\\AppData\\Local\\Programs\\Python\\Python312\\Lib\\site-packages\\sklearn\\metrics\\_regression.py:492: FutureWarning: 'squared' is deprecated in version 1.4 and will be removed in 1.6. To calculate the root mean squared error, use the function'root_mean_squared_error'.\n",
            "  warnings.warn(\n"
          ]
        },
        {
          "data": {
            "text/plain": [
              "np.float64(1.6687030593661931)"
            ]
          },
          "execution_count": 234,
          "metadata": {},
          "output_type": "execute_result"
        }
      ],
      "source": [
        "RMSE = mean_squared_error(data['Sales'],y_pred,squared=False)\n",
        "RMSE"
      ]
    },
    {
      "cell_type": "code",
      "execution_count": 235,
      "metadata": {},
      "outputs": [
        {
          "data": {
            "text/plain": [
              "np.float64(1.6687030593661931)"
            ]
          },
          "execution_count": 235,
          "metadata": {},
          "output_type": "execute_result"
        }
      ],
      "source": [
        "#atau begini lebih gampangnya\n",
        "np.sqrt(MSE)"
      ]
    },
    {
      "cell_type": "markdown",
      "metadata": {
        "id": "MW_ON_QVM8Ax"
      },
      "source": [
        "#### **Residual Analysis**\n",
        "\n",
        "Let's evaluate our model performance by looking at residual. Residuals is used to assess some assumption in model. Each assumption that is violated has its own impact on the results of analysis and predictions.\n",
        "\n",
        "- The regression model is linear in the parameters and the error term\n",
        "- The error term are normally distributed\n",
        "- Gauss-Markov (Specific to Least Square):\n",
        "    - The error term has a population mean of zero\n",
        "    - The error term has constant variance (Homoscedasticity)\n",
        "    - Observation of the error terms are uncorrelated with each other\n",
        "\n",
        "\n",
        "\n"
      ]
    },
    {
      "cell_type": "code",
      "execution_count": 236,
      "metadata": {
        "id": "CPRzcjaqM8Ax"
      },
      "outputs": [
        {
          "data": {
            "text/plain": [
              "0    1.544535\n",
              "1   -1.945362\n",
              "2   -3.037018\n",
              "3    0.882884\n",
              "4   -0.323908\n",
              "dtype: float64"
            ]
          },
          "execution_count": 236,
          "metadata": {},
          "output_type": "execute_result"
        }
      ],
      "source": [
        "#Residual = y-y_pred\n",
        "#residual = data['Sales']-y_pred\n",
        "\n",
        "residual = result.resid #lebih simple pake ini\n",
        "residual.head()"
      ]
    },
    {
      "cell_type": "code",
      "execution_count": 237,
      "metadata": {},
      "outputs": [
        {
          "name": "stdout",
          "output_type": "stream",
          "text": [
            "==============================================================================\n",
            "Omnibus:                       60.022   Durbin-Watson:                   2.081\n",
            "Prob(Omnibus):                  0.000   Jarque-Bera (JB):              148.679\n",
            "Skew:                          -1.323   Prob(JB):                     5.19e-33\n",
            "Kurtosis:                       6.292   Cond. No.                         425.\n",
            "==============================================================================\n"
          ]
        }
      ],
      "source": [
        "print(result.summary().tables[2])"
      ]
    },
    {
      "cell_type": "markdown",
      "metadata": {
        "id": "6-rH506QM8Ay"
      },
      "source": [
        "`1. Normality Assumption`"
      ]
    },
    {
      "cell_type": "markdown",
      "metadata": {
        "id": "pDn-m4hsM8Ay"
      },
      "source": [
        "Simultant Test (F-Test) and Partial Test (T-Test) needs normality assumption so the test result more valid.\n",
        "\n",
        "We can asses normality assumption using:\n",
        "- histogram\n",
        "- qqplot\n",
        "- normality test such as : kolmogorov-smirnov (KS), Jarque-Bera (JB), etc\n"
      ]
    },
    {
      "cell_type": "code",
      "execution_count": 238,
      "metadata": {
        "id": "pknRbHpRM8Ay"
      },
      "outputs": [
        {
          "data": {
            "image/png": "[encoded data removed]",
            "text/plain": [
              "<Figure size 1000x400 with 2 Axes>"
            ]
          },
          "metadata": {},
          "output_type": "display_data"
        }
      ],
      "source": [
        "fig,ax = plt.subplots(1,2,figsize=(10,4))\n",
        "\n",
        "sns.histplot(residual,kde=True, ax=ax[0])\n",
        "ax[0].set_title('Histogram of Residual')\n",
        "\n",
        "sm.qqplot(residual,line='s',ax=ax[1])\n",
        "ax[1].set_title('QQ Plot of Residual')\n",
        "\n",
        "plt.show()"
      ]
    },
    {
      "cell_type": "markdown",
      "metadata": {
        "id": "YgcZU_oFM8Az"
      },
      "source": [
        "**Jarque-Bera test**, The Jarque-Bera (JB) test is a goodness-of-fit test of whether sample data have the skewness and kurtosis matching a normal distribution.\n",
        "\n",
        "Samples from a normal distribution have an:\n",
        "- expected skewness of 0 and\n",
        "- an expected excess kurtosis of 0 (which is the same as kurtosis of 3)\n",
        "\n",
        "Hypothesis:\n",
        "- H0: Normal\n",
        "- H1: Not normal\n",
        "\n",
        "Any deviation from this assumptions increases the JB statistic. Next, we calculate the statistics but you can also find the results of the Jarque-Bera test in the regression summary.\n"
      ]
    },
    {
      "cell_type": "code",
      "execution_count": 239,
      "metadata": {
        "id": "vkUkMpWaM8A0"
      },
      "outputs": [
        {
          "data": {
            "text/plain": [
              "[('Jarque-Berra Stat', np.float64(148.67851197833625)),\n",
              " ('Chi-Square Prob', np.float64(5.186463610324444e-33)),\n",
              " ('Skew', np.float64(-1.323443180144977)),\n",
              " ('Kurtosis', np.float64(6.291719008832824))]"
            ]
          },
          "execution_count": 239,
          "metadata": {},
          "output_type": "execute_result"
        }
      ],
      "source": [
        "name = ['Jarque-Berra Stat','Chi-Square Prob','Skew','Kurtosis']\n",
        "test = sm.stats.jarque_bera(residual)\n",
        "lzip(name,test)"
      ]
    },
    {
      "cell_type": "markdown",
      "metadata": {
        "id": "zfzZbzMKM8A0"
      },
      "source": [
        "**Summary**\n",
        "\n",
        "- Residuals are not normally distributed\n",
        "- So the assumption of normality is not met"
      ]
    },
    {
      "cell_type": "markdown",
      "metadata": {
        "id": "f2dt22OKM8A1"
      },
      "source": [
        "`2. Gauss Markov Assumption`"
      ]
    },
    {
      "cell_type": "markdown",
      "metadata": {
        "id": "gxMd7zl9M8A1"
      },
      "source": [
        "- The error term has a population mean of zero\n",
        "- Observation of the error terms are uncorrelated with each other\n",
        "- The error term has constant variance/Non Constant standard deviation (Homoscedasticity)"
      ]
    },
    {
      "cell_type": "code",
      "execution_count": 240,
      "metadata": {
        "id": "qWVArqvBM8A3"
      },
      "outputs": [
        {
          "data": {
            "text/plain": [
              "np.float64(1.0871303857129533e-14)"
            ]
          },
          "execution_count": 240,
          "metadata": {},
          "output_type": "execute_result"
        }
      ],
      "source": [
        "residual.mean()\n",
        "#error nya sangat kecil mendekati 0"
      ]
    },
    {
      "cell_type": "code",
      "execution_count": 241,
      "metadata": {},
      "outputs": [
        {
          "data": {
            "text/plain": [
              "0      20.555465\n",
              "1      12.345362\n",
              "2      12.337018\n",
              "3      17.617116\n",
              "4      13.223908\n",
              "         ...    \n",
              "195     5.364512\n",
              "196     8.152375\n",
              "197    12.768048\n",
              "198    23.792923\n",
              "199    15.157543\n",
              "Length: 200, dtype: float64"
            ]
          },
          "execution_count": 241,
          "metadata": {},
          "output_type": "execute_result"
        }
      ],
      "source": [
        "result.fittedvalues"
      ]
    },
    {
      "cell_type": "code",
      "execution_count": 242,
      "metadata": {},
      "outputs": [
        {
          "data": {
            "text/plain": [
              "0      22.1\n",
              "1      10.4\n",
              "2       9.3\n",
              "3      18.5\n",
              "4      12.9\n",
              "       ... \n",
              "195     7.6\n",
              "196     9.7\n",
              "197    12.8\n",
              "198    25.5\n",
              "199    13.4\n",
              "Name: Sales, Length: 200, dtype: float64"
            ]
          },
          "execution_count": 242,
          "metadata": {},
          "output_type": "execute_result"
        }
      ],
      "source": [
        "data['Sales']"
      ]
    },
    {
      "cell_type": "markdown",
      "metadata": {
        "id": "Xx_phk-TM8A4"
      },
      "source": [
        "**Residual plot**, are a useful graphical tool for identifying non-linearity as well as heteroscedasticity. The residuals of this plot are those of the regression fit with all predictors."
      ]
    },
    {
      "cell_type": "code",
      "execution_count": 243,
      "metadata": {
        "id": "TrdpvFHAM8A4"
      },
      "outputs": [
        {
          "data": {
            "image/png": "[encoded data removed]",
            "text/plain": [
              "<Figure size 1000x500 with 1 Axes>"
            ]
          },
          "metadata": {},
          "output_type": "display_data"
        }
      ],
      "source": [
        "plt.figure(figsize=(10,5))\n",
        "\n",
        "plot = sns.residplot(\n",
        "    x=result.fittedvalues,\n",
        "    y='Sales',\n",
        "    data=data,\n",
        "    lowess=True,\n",
        "    scatter_kws={'alpha':0.5}\n",
        ")\n",
        "plot.set_title('Residual vs Predicted Value')\n",
        "plot.set_xlabel('Predicted Value')\n",
        "plot.set_ylabel('Residual')\n",
        "\n",
        "plt.show()"
      ]
    },
    {
      "cell_type": "markdown",
      "metadata": {
        "id": "WX37QXwYM8A5"
      },
      "source": [
        "![](https://condor.depaul.edu/sjost/it223/documents/resid-plots.gif)"
      ]
    },
    {
      "cell_type": "markdown",
      "metadata": {
        "id": "fFusE1xbM8A5"
      },
      "source": [
        "**Durbin-Watson test**, a test of autocorrelation that is designed to take account of the regression model is the Durbin-Watson test (also included in the regression summary). It is used to test the hypothesis that there is no lag one autocorrelation in the residuals.\n",
        "\n",
        "Autocorrelation occurs when the residuals are not independent from each other. Linear regression analysis requires that there is little or no autocorrelation in the data. For instance, this typically occurs in stock prices, where the price is not dependent from the previous price.\n",
        "\n",
        "- If there is no autocorrelation, the Durbin-Watson distribution is symmetric around 2.\n",
        "\n",
        "- As a rough rule of thumb (Field, 2013):\n",
        "\n",
        "    - If Durbin–Watson is less than 1.0, there may be cause for concern.\n",
        "    - Small values of d indicate successive error terms are positively correlated.\n",
        "    - If d > 2, successive error terms are negatively correlated."
      ]
    },
    {
      "cell_type": "code",
      "execution_count": 244,
      "metadata": {
        "id": "n0Hdax-gM8A6"
      },
      "outputs": [
        {
          "data": {
            "text/plain": [
              "np.float64(0.025479922619952907)"
            ]
          },
          "execution_count": 244,
          "metadata": {},
          "output_type": "execute_result"
        }
      ],
      "source": [
        "sm.stats.durbin_watson(residual)"
      ]
    },
    {
      "cell_type": "code",
      "execution_count": 245,
      "metadata": {},
      "outputs": [
        {
          "name": "stdout",
          "output_type": "stream",
          "text": [
            "                            OLS Regression Results                            \n",
            "==============================================================================\n",
            "Dep. Variable:                  Sales   R-squared:                       0.897\n",
            "Model:                            OLS   Adj. R-squared:                  0.896\n",
            "Method:                 Least Squares   F-statistic:                     859.6\n",
            "Date:                Tue, 17 Sep 2024   Prob (F-statistic):           4.83e-98\n",
            "Time:                        15:41:01   Log-Likelihood:                -386.20\n",
            "No. Observations:                 200   AIC:                             778.4\n",
            "Df Residuals:                     197   BIC:                             788.3\n",
            "Df Model:                           2                                         \n",
            "Covariance Type:            nonrobust                                         \n",
            "==============================================================================\n",
            "                 coef    std err          t      P>|t|      [0.025      0.975]\n",
            "------------------------------------------------------------------------------\n",
            "const          2.9211      0.294      9.919      0.000       2.340       3.502\n",
            "TV             0.0458      0.001     32.909      0.000       0.043       0.048\n",
            "Radio          0.1880      0.008     23.382      0.000       0.172       0.204\n",
            "==============================================================================\n",
            "Omnibus:                       60.022   Durbin-Watson:                   2.081\n",
            "Prob(Omnibus):                  0.000   Jarque-Bera (JB):              148.679\n",
            "Skew:                          -1.323   Prob(JB):                     5.19e-33\n",
            "Kurtosis:                       6.292   Cond. No.                         425.\n",
            "==============================================================================\n",
            "\n",
            "Notes:\n",
            "[1] Standard Errors assume that the covariance matrix of the errors is correctly specified.\n"
          ]
        }
      ],
      "source": [
        "print(result.summary())"
      ]
    },
    {
      "cell_type": "markdown",
      "metadata": {
        "id": "iLkvPvJNM8A7"
      },
      "source": [
        "**Breusch-Pagan Lagrange Multiplier test**, Breusch-Pagan Lagrange Multiplier test can be used to identify heteroscedasticity.\n",
        "\n",
        "Hypothesis:\n",
        "- H0: homoscedasticity, which means that the residual variance does not depend on the values of the variable in x.\n",
        "- H1: heteroscedasticity\n",
        "\n",
        "Note that this test may exaggerate the significance of results in small or moderately large samples. In this case the F-statistic is preferable."
      ]
    },
    {
      "cell_type": "code",
      "execution_count": 246,
      "metadata": {
        "id": "unoXNWQSM8A8"
      },
      "outputs": [
        {
          "data": {
            "text/plain": [
              "[('Lagrange Multiplier Statistic', np.float64(1.235747529285458)),\n",
              " ('P-value', np.float64(0.5390894509306833)),\n",
              " ('F-Value', np.float64(0.6123894519340273)),\n",
              " ('F_P-Value', np.float64(0.5430827120345575))]"
            ]
          },
          "execution_count": 246,
          "metadata": {},
          "output_type": "execute_result"
        }
      ],
      "source": [
        "name = ['Lagrange Multiplier Statistic', 'P-value', 'F-Value', 'F_P-Value']\n",
        "test = sm.stats.het_breuschpagan(residual,result.model.exog)\n",
        "lzip(name,test)\n",
        "\n",
        "#karna p-value nya > 0.05 maka gagal menolak H0 maka termasuk homoscedasticity"
      ]
    },
    {
      "cell_type": "markdown",
      "metadata": {
        "id": "dMpD5SU9M8A8"
      },
      "source": [
        "**Summary**\n",
        "\n",
        "a. The error term has a population mean of zero = 5.86e-15 (near 0)\n",
        "- Fulfilled, because the number of positive and negative errors is the same\n",
        "\n",
        "b. Uncorrelated error\n",
        "- Fulfilled, because the errors do not form a particular pattern\n",
        "\n",
        "c. Homoscedasticity\n",
        "- Fulfilled (homoscedasticity), constant variance."
      ]
    },
    {
      "cell_type": "markdown",
      "metadata": {
        "id": "KBkGTx2mM8A8"
      },
      "source": [
        "#### **Multicollinearity**"
      ]
    },
    {
      "cell_type": "markdown",
      "metadata": {
        "id": "nAm71f03M8A8"
      },
      "source": [
        "Collinearity refers to the situation in which two or more predictor variables collinearity are closely related to one another. The presence of collinearity can pose problems in the regression context, since it can be difficult to separate out the individual effects of collinear variables on the response. It is possible for collinearity to exist between three or more variables even if no pair of variables has a particularly high correlation. We call this situation multicollinearity.\n",
        "\n",
        "Detecting multicollinearity is important because while multicollinearity does not reduce the explanatory power of the model, it does reduce the statistical significance of the independent variables. A variance inflation factor (VIF) provides a measure of multicollinearity among the independent variables in a multiple regression model.\n",
        "\n",
        "$VIF(X_j) = \\frac{1}{1 - R_j^2}$\n",
        "\n",
        "**Notes:**\n",
        "\n",
        "- The smallest possible value for VIF is 1, which indicates the complete absence of collinearity.\n",
        "- Typically in practice there is a small amount of collinearity among the predictors.\n",
        "- A VIF greater than 10 indicates that collinearity is very high. A VIF value of more than 4 is not acceptable.\n",
        "- As a rule of thumb, a VIF value that exceeds 5 indicates a problematic amount of collinearity and the parameter estimates will have large standard errors because of this.\n",
        "\n"
      ]
    },
    {
      "cell_type": "code",
      "execution_count": 247,
      "metadata": {
        "id": "zXeO-8WYM8A9"
      },
      "outputs": [
        {
          "data": {
            "text/html": [
              "<div>\n",
              "<style scoped>\n",
              "    .dataframe tbody tr th:only-of-type {\n",
              "        vertical-align: middle;\n",
              "    }\n",
              "\n",
              "    .dataframe tbody tr th {\n",
              "        vertical-align: top;\n",
              "    }\n",
              "\n",
              "    .dataframe thead th {\n",
              "        text-align: right;\n",
              "    }\n",
              "</style>\n",
              "<table border=\"1\" class=\"dataframe\">\n",
              "  <thead>\n",
              "    <tr style=\"text-align: right;\">\n",
              "      <th></th>\n",
              "      <th>feature</th>\n",
              "      <th>VIF</th>\n",
              "    </tr>\n",
              "  </thead>\n",
              "  <tbody>\n",
              "    <tr>\n",
              "      <th>0</th>\n",
              "      <td>TV</td>\n",
              "      <td>2.238085</td>\n",
              "    </tr>\n",
              "    <tr>\n",
              "      <th>1</th>\n",
              "      <td>Radio</td>\n",
              "      <td>2.238085</td>\n",
              "    </tr>\n",
              "  </tbody>\n",
              "</table>\n",
              "</div>"
            ],
            "text/plain": [
              "  feature       VIF\n",
              "0      TV  2.238085\n",
              "1   Radio  2.238085"
            ]
          },
          "execution_count": 247,
          "metadata": {},
          "output_type": "execute_result"
        }
      ],
      "source": [
        "X = data[['TV','Radio']]\n",
        "vif = pd.DataFrame()\n",
        "vif['feature'] = X.columns\n",
        "vif['VIF'] = [variance_inflation_factor(X,i) for i in range(len(X.columns))]\n",
        "vif"
      ]
    },
    {
      "cell_type": "markdown",
      "metadata": {
        "id": "rzkyaVQQM8A9"
      },
      "source": [
        "We don't have a problematic amount of collinearity in our data."
      ]
    },
    {
      "cell_type": "markdown",
      "metadata": {
        "id": "5Sh2C9FtM8A9"
      },
      "source": [
        "### `Application`"
      ]
    },
    {
      "cell_type": "markdown",
      "metadata": {
        "id": "-_4nJJmKM8A-"
      },
      "source": [
        "### `Business Problem Understanding`\n",
        "\n",
        "**Problem Statement**\n",
        "\n",
        "Karena jumlah tips bervariasi, maka menentukan harga yang sesuai sangatlah penting bagi kesejahteraan karyawan.\n",
        "\n",
        "**Goals**\n",
        "\n",
        "Menentukan jumlah tip yang tepat untuk tiap customer yang berkunjung.\n",
        "\n",
        "**Analytic Approach**\n",
        "\n",
        "Jadi yang perlu kita lakukan adalah menganalisis data untuk dapat menemukan pola dari fitur-fitur yang ada, yang membedakan satu customer dengan customer yang lain.\n",
        "\n",
        "Selanjutnya, kita akan membangun suatu model regresi yang akan membantu perusahaan untuk dapat menyediakan tool prediksi tip dari customer baru, yang mana akan berguna untuk meningkatkan kesejahteraan karyawan.\n",
        "\n",
        "**Metric Evaluation**\n",
        "\n",
        "Evaluasi metrik yang akan digunakan adalah MSE dan RMSE. Semakin kecil nilai keduanya, berarti model semakin akurat dalam memprediksi harga tip sesuai dengan limitasi fitur yang digunakan.\n",
        "\n",
        "Selain itu, kita juga bisa menurunkan nilai R-squared atau adj. R-squared untuk mengetahui seberapa baik model dapat mempresentasilam varians keseluruhan data. Semakin mendekati 1, maka semakin fit pula modelnya terhadap data observasi. Namun, metrik ini tidak valid untuk model non-linear.\n",
        "\n"
      ]
    },
    {
      "cell_type": "markdown",
      "metadata": {
        "id": "nJ7du1xzM8A_"
      },
      "source": [
        "### `Data Understanding`"
      ]
    },
    {
      "cell_type": "code",
      "execution_count": 248,
      "metadata": {
        "id": "OPoYZY20M8A_"
      },
      "outputs": [
        {
          "name": "stdout",
          "output_type": "stream",
          "text": [
            "Jumlah Baris dan Kolom (244, 7)\n"
          ]
        }
      ],
      "source": [
        "data = sns.load_dataset('tips')\n",
        "print(f'Jumlah Baris dan Kolom {data.shape}')"
      ]
    },
    {
      "cell_type": "markdown",
      "metadata": {
        "id": "gfYimvRBM8A_"
      },
      "source": [
        "**Initial Assesment**"
      ]
    },
    {
      "cell_type": "code",
      "execution_count": 249,
      "metadata": {
        "id": "-44vFFSyM8A_"
      },
      "outputs": [
        {
          "data": {
            "text/html": [
              "<div>\n",
              "<style scoped>\n",
              "    .dataframe tbody tr th:only-of-type {\n",
              "        vertical-align: middle;\n",
              "    }\n",
              "\n",
              "    .dataframe tbody tr th {\n",
              "        vertical-align: top;\n",
              "    }\n",
              "\n",
              "    .dataframe thead th {\n",
              "        text-align: right;\n",
              "    }\n",
              "</style>\n",
              "<table border=\"1\" class=\"dataframe\">\n",
              "  <thead>\n",
              "    <tr style=\"text-align: right;\">\n",
              "      <th></th>\n",
              "      <th>feature</th>\n",
              "      <th>data_type</th>\n",
              "      <th>null</th>\n",
              "      <th>negative</th>\n",
              "      <th>n_unique</th>\n",
              "      <th>sample_unique</th>\n",
              "    </tr>\n",
              "  </thead>\n",
              "  <tbody>\n",
              "    <tr>\n",
              "      <th>0</th>\n",
              "      <td>total_bill</td>\n",
              "      <td>float64</td>\n",
              "      <td>0.0</td>\n",
              "      <td>False</td>\n",
              "      <td>229</td>\n",
              "      <td>[16.99, 10.34, 21.01, 23.68, 24.59, 25.29, 8.7...</td>\n",
              "    </tr>\n",
              "    <tr>\n",
              "      <th>1</th>\n",
              "      <td>tip</td>\n",
              "      <td>float64</td>\n",
              "      <td>0.0</td>\n",
              "      <td>False</td>\n",
              "      <td>123</td>\n",
              "      <td>[1.01, 1.66, 3.5, 3.31, 3.61, 4.71, 2.0, 3.12,...</td>\n",
              "    </tr>\n",
              "    <tr>\n",
              "      <th>2</th>\n",
              "      <td>sex</td>\n",
              "      <td>category</td>\n",
              "      <td>0.0</td>\n",
              "      <td>False</td>\n",
              "      <td>2</td>\n",
              "      <td>['Female', 'Male']\n",
              "Categories (2, object): ['M...</td>\n",
              "    </tr>\n",
              "    <tr>\n",
              "      <th>3</th>\n",
              "      <td>smoker</td>\n",
              "      <td>category</td>\n",
              "      <td>0.0</td>\n",
              "      <td>False</td>\n",
              "      <td>2</td>\n",
              "      <td>['No', 'Yes']\n",
              "Categories (2, object): ['Yes', ...</td>\n",
              "    </tr>\n",
              "    <tr>\n",
              "      <th>4</th>\n",
              "      <td>day</td>\n",
              "      <td>category</td>\n",
              "      <td>0.0</td>\n",
              "      <td>False</td>\n",
              "      <td>4</td>\n",
              "      <td>['Sun', 'Sat', 'Thur', 'Fri']\n",
              "Categories (4, o...</td>\n",
              "    </tr>\n",
              "    <tr>\n",
              "      <th>5</th>\n",
              "      <td>time</td>\n",
              "      <td>category</td>\n",
              "      <td>0.0</td>\n",
              "      <td>False</td>\n",
              "      <td>2</td>\n",
              "      <td>['Dinner', 'Lunch']\n",
              "Categories (2, object): ['...</td>\n",
              "    </tr>\n",
              "    <tr>\n",
              "      <th>6</th>\n",
              "      <td>size</td>\n",
              "      <td>int64</td>\n",
              "      <td>0.0</td>\n",
              "      <td>False</td>\n",
              "      <td>6</td>\n",
              "      <td>[2, 3, 4, 1, 6, 5]</td>\n",
              "    </tr>\n",
              "  </tbody>\n",
              "</table>\n",
              "</div>"
            ],
            "text/plain": [
              "      feature data_type  null  negative  n_unique  \\\n",
              "0  total_bill   float64   0.0     False       229   \n",
              "1         tip   float64   0.0     False       123   \n",
              "2         sex  category   0.0     False         2   \n",
              "3      smoker  category   0.0     False         2   \n",
              "4         day  category   0.0     False         4   \n",
              "5        time  category   0.0     False         2   \n",
              "6        size     int64   0.0     False         6   \n",
              "\n",
              "                                       sample_unique  \n",
              "0  [16.99, 10.34, 21.01, 23.68, 24.59, 25.29, 8.7...  \n",
              "1  [1.01, 1.66, 3.5, 3.31, 3.61, 4.71, 2.0, 3.12,...  \n",
              "2  ['Female', 'Male']\n",
              "Categories (2, object): ['M...  \n",
              "3  ['No', 'Yes']\n",
              "Categories (2, object): ['Yes', ...  \n",
              "4  ['Sun', 'Sat', 'Thur', 'Fri']\n",
              "Categories (4, o...  \n",
              "5  ['Dinner', 'Lunch']\n",
              "Categories (2, object): ['...  \n",
              "6                                 [2, 3, 4, 1, 6, 5]  "
            ]
          },
          "execution_count": 249,
          "metadata": {},
          "output_type": "execute_result"
        }
      ],
      "source": [
        "# Cek tipe data, nilai null, dan nilai unik dari setiap kolom\n",
        "pd.DataFrame({\n",
        "    'feature': data.columns.values,\n",
        "    'data_type': data.dtypes.values,\n",
        "    'null': data.isna().mean().values * 100,\n",
        "    'negative': [True if data[col].dtype == int and (data[col] < 0).any() else False for col in data.columns],\n",
        "    'n_unique': data.nunique().values,\n",
        "    'sample_unique': [data[col].unique() for col in data.columns]\n",
        "})"
      ]
    },
    {
      "cell_type": "markdown",
      "metadata": {
        "id": "7Ar4gcYbM8BA"
      },
      "source": [
        "**Insight**\n",
        "\n",
        "- Dataset terdiri dari 243 baris dan 7 kolom.\n",
        "- Variabel numerik: total_bill, tip, dan size\n",
        "- Variabel kategorikal: sex, smoker, day, dan time\n",
        "- Tidak ada missing values di dalam data"
      ]
    },
    {
      "cell_type": "markdown",
      "metadata": {
        "id": "G9qOiUI4M8BB"
      },
      "source": [
        "**Numerical variable**"
      ]
    },
    {
      "cell_type": "code",
      "execution_count": 250,
      "metadata": {
        "id": "BYowUtz5M8BB"
      },
      "outputs": [
        {
          "data": {
            "image/png": "[encoded data removed]",
            "text/plain": [
              "<Figure size 600x600 with 9 Axes>"
            ]
          },
          "metadata": {},
          "output_type": "display_data"
        }
      ],
      "source": [
        "numerical = [var for var in data.columns if data[var].dtypes!='category']\n",
        "graph = sns.pairplot(data[numerical],corner=True,kind='reg',height=2)\n",
        "graph.fig.suptitle('Plot Pairwise Relationship on Numerical Variable')\n",
        "plt.show()"
      ]
    },
    {
      "cell_type": "markdown",
      "metadata": {
        "id": "LT3Mank7M8BB"
      },
      "source": [
        "**Insight**\n",
        "\n",
        "- Variabel tip dan total_bill termasuk variabel kontinu, sedangkan size termasuk variabel diskrit.\n",
        "- Hubungan antara variabel tip dan total_bill membentuk pola linear.\n",
        "- Frekuensi pada size 2, 3, dan 4 lebih dominan dibandingkan pada size lainnya."
      ]
    },
    {
      "cell_type": "markdown",
      "metadata": {
        "id": "C6R7mN6YM8BB"
      },
      "source": [
        "**Categorical variable**"
      ]
    },
    {
      "cell_type": "code",
      "execution_count": 251,
      "metadata": {
        "id": "-Rxb0QV7M8BC"
      },
      "outputs": [
        {
          "data": {
            "image/png": "[encoded data removed]",
            "text/plain": [
              "<Figure size 1100.25x1000 with 4 Axes>"
            ]
          },
          "metadata": {},
          "output_type": "display_data"
        }
      ],
      "source": [
        "categorical = [var for var in data.columns if data[var].dtypes == 'category']\n",
        "sns.catplot(data[categorical],x='day',hue='sex',row='smoker',col='time',kind='count')\n",
        "plt.show()"
      ]
    },
    {
      "cell_type": "markdown",
      "metadata": {
        "id": "cZDLZNeXM8BC"
      },
      "source": [
        "**Insight**\n",
        "\n",
        "- Jumlah customer pria lebih banyak dibandingkan wanita\n",
        "- Customer lebih menyukai dinner di akhir pekan (hari sabtu dan minggu) dan lunch pada hari kerja (hari kamis dan jumat)\n",
        "- Penurunan customer secara signifikan terjadi pada hari jumat.\n",
        "- Kebanyakan customer adalah perokok aktif."
      ]
    },
    {
      "cell_type": "markdown",
      "metadata": {
        "id": "KihhDbrRM8BC"
      },
      "source": [
        "### `Data Preparation`"
      ]
    },
    {
      "cell_type": "markdown",
      "metadata": {
        "id": "XWz0R27_M8BC"
      },
      "source": [
        "**Data Wrangling**\n",
        "\n",
        "**Rare Label**, ditemukan rare label pada kolom `size`, beberapa kategori muncul dominan, sedangkan beberapa lainnya hanya muncul di sejumlah kecil data. Jika rare label digunakan, dapat menambah noise, menyebabkan overfititng pada model."
      ]
    },
    {
      "cell_type": "code",
      "execution_count": 252,
      "metadata": {
        "id": "n8x752h-M8BD"
      },
      "outputs": [
        {
          "data": {
            "image/png": "[encoded data removed]",
            "text/plain": [
              "<Figure size 600x300 with 1 Axes>"
            ]
          },
          "metadata": {},
          "output_type": "display_data"
        }
      ],
      "source": [
        "temp_df = data['size'].value_counts(normalize=True)\n",
        "\n",
        "plt.figure(figsize=(6,3))\n",
        "fig = temp_df.plot.bar(rot=0)\n",
        "fig.set_xlabel('size')\n",
        "fig.set_ylabel('percentage of size')\n",
        "fig.set_title('proportion of size')\n",
        "\n",
        "fig.axhline(y=0.05, color='red', linestyle='--')\n",
        "plt.show()"
      ]
    },
    {
      "cell_type": "markdown",
      "metadata": {
        "id": "0Djy65WFM8BE"
      },
      "source": [
        "**Insight**\n",
        "\n",
        "- Size 2, 3, dan 4 muncul lebih dari 10% sedangkan sisanya muncul kurang dari itu. Label 1, 5, dan 6 adalah nilai yang jarang muncul atau rare label.\n",
        "- Frekuensi size 2 mendominasi dibandingkan nilai size lainnya, yaitu sekitar 60%."
      ]
    },
    {
      "cell_type": "markdown",
      "metadata": {
        "id": "aJ2ImIDFM8BE"
      },
      "source": [
        "Kelompokkan kembali kategori `size` ke dalam **Single/couple** dan **Group**"
      ]
    },
    {
      "cell_type": "code",
      "execution_count": 253,
      "metadata": {
        "id": "Pn_q9cHeM8BE"
      },
      "outputs": [
        {
          "data": {
            "text/html": [
              "<div>\n",
              "<style scoped>\n",
              "    .dataframe tbody tr th:only-of-type {\n",
              "        vertical-align: middle;\n",
              "    }\n",
              "\n",
              "    .dataframe tbody tr th {\n",
              "        vertical-align: top;\n",
              "    }\n",
              "\n",
              "    .dataframe thead th {\n",
              "        text-align: right;\n",
              "    }\n",
              "</style>\n",
              "<table border=\"1\" class=\"dataframe\">\n",
              "  <thead>\n",
              "    <tr style=\"text-align: right;\">\n",
              "      <th></th>\n",
              "      <th>total_bill</th>\n",
              "      <th>tip</th>\n",
              "      <th>sex</th>\n",
              "      <th>smoker</th>\n",
              "      <th>day</th>\n",
              "      <th>time</th>\n",
              "      <th>size</th>\n",
              "    </tr>\n",
              "  </thead>\n",
              "  <tbody>\n",
              "    <tr>\n",
              "      <th>0</th>\n",
              "      <td>16.99</td>\n",
              "      <td>1.01</td>\n",
              "      <td>Female</td>\n",
              "      <td>No</td>\n",
              "      <td>Sun</td>\n",
              "      <td>Dinner</td>\n",
              "      <td>Single/Couple</td>\n",
              "    </tr>\n",
              "    <tr>\n",
              "      <th>1</th>\n",
              "      <td>10.34</td>\n",
              "      <td>1.66</td>\n",
              "      <td>Male</td>\n",
              "      <td>No</td>\n",
              "      <td>Sun</td>\n",
              "      <td>Dinner</td>\n",
              "      <td>Group</td>\n",
              "    </tr>\n",
              "    <tr>\n",
              "      <th>2</th>\n",
              "      <td>21.01</td>\n",
              "      <td>3.50</td>\n",
              "      <td>Male</td>\n",
              "      <td>No</td>\n",
              "      <td>Sun</td>\n",
              "      <td>Dinner</td>\n",
              "      <td>Group</td>\n",
              "    </tr>\n",
              "    <tr>\n",
              "      <th>3</th>\n",
              "      <td>23.68</td>\n",
              "      <td>3.31</td>\n",
              "      <td>Male</td>\n",
              "      <td>No</td>\n",
              "      <td>Sun</td>\n",
              "      <td>Dinner</td>\n",
              "      <td>Single/Couple</td>\n",
              "    </tr>\n",
              "    <tr>\n",
              "      <th>4</th>\n",
              "      <td>24.59</td>\n",
              "      <td>3.61</td>\n",
              "      <td>Female</td>\n",
              "      <td>No</td>\n",
              "      <td>Sun</td>\n",
              "      <td>Dinner</td>\n",
              "      <td>Group</td>\n",
              "    </tr>\n",
              "  </tbody>\n",
              "</table>\n",
              "</div>"
            ],
            "text/plain": [
              "   total_bill   tip     sex smoker  day    time           size\n",
              "0       16.99  1.01  Female     No  Sun  Dinner  Single/Couple\n",
              "1       10.34  1.66    Male     No  Sun  Dinner          Group\n",
              "2       21.01  3.50    Male     No  Sun  Dinner          Group\n",
              "3       23.68  3.31    Male     No  Sun  Dinner  Single/Couple\n",
              "4       24.59  3.61  Female     No  Sun  Dinner          Group"
            ]
          },
          "execution_count": 253,
          "metadata": {},
          "output_type": "execute_result"
        }
      ],
      "source": [
        "def group_size(x):\n",
        "    if x <= 2:\n",
        "        return 'Single/Couple'\n",
        "    else:\n",
        "        return 'Group'\n",
        "\n",
        "data['size'] = data['size'].apply(group_size)\n",
        "data.head()"
      ]
    },
    {
      "cell_type": "code",
      "execution_count": 254,
      "metadata": {},
      "outputs": [
        {
          "data": {
            "text/plain": [
              "size\n",
              "Single/Couple    0.655738\n",
              "Group            0.344262\n",
              "Name: proportion, dtype: float64"
            ]
          },
          "execution_count": 254,
          "metadata": {},
          "output_type": "execute_result"
        }
      ],
      "source": [
        "data['size'].value_counts(normalize=True)"
      ]
    },
    {
      "cell_type": "markdown",
      "metadata": {
        "id": "QgIa0WA1M8BE"
      },
      "source": [
        "Outlier, adalah titik data yang secara signifikan berbeda dari data lainnya. Model linier, khususnya regresi linier, sensitif terhadap outlier. Oleh karena itu, kita perlu mendeteksi dan menangani outlier.\n",
        "\n",
        "Pertama, coba deteksi dan kuantifikasi outlier secara univariate."
      ]
    },
    {
      "cell_type": "code",
      "execution_count": 255,
      "metadata": {
        "id": "vukyxnekM8BE"
      },
      "outputs": [
        {
          "data": {
            "image/png": "[encoded data removed]",
            "text/plain": [
              "<Figure size 1000x200 with 1 Axes>"
            ]
          },
          "metadata": {},
          "output_type": "display_data"
        }
      ],
      "source": [
        "fig,ax = plt.subplots(figsize=(10,2))\n",
        "sns.boxplot(x='total_bill',data=data, width=.2)\n",
        "plt.title('Distribution of Total Bill')\n",
        "plt.show()"
      ]
    },
    {
      "cell_type": "code",
      "execution_count": 256,
      "metadata": {
        "id": "65pt4m-cM8BE"
      },
      "outputs": [
        {
          "name": "stdout",
          "output_type": "stream",
          "text": [
            "Percentage: 3.69\n"
          ]
        }
      ],
      "source": [
        "def n_outlier(data):\n",
        "    q1, q3 = data.quantile([0.25, 0.75])\n",
        "    iqr = q3 - q1\n",
        "    lower = q1 - iqr * 1.5\n",
        "    upper = q3 + iqr * 1.5\n",
        "\n",
        "    n = len(data)\n",
        "    n_upper = len(np.where(data > upper)[0])/n\n",
        "    n_lower = len(np.where(data < lower)[0])/n\n",
        "    print(f'Percentage: {round((n_upper + n_lower)*100, 2)}')\n",
        "    return lower, upper\n",
        "\n",
        "lower, upper = n_outlier(data['total_bill'])"
      ]
    },
    {
      "cell_type": "markdown",
      "metadata": {
        "id": "NfbDhKloM8BE"
      },
      "source": [
        "Persentase outlier termasuk kecil (<5%) maka bisa diabaikan."
      ]
    },
    {
      "cell_type": "code",
      "execution_count": 257,
      "metadata": {
        "id": "3dVYVhHYM8BE"
      },
      "outputs": [
        {
          "data": {
            "text/html": [
              "<div>\n",
              "<style scoped>\n",
              "    .dataframe tbody tr th:only-of-type {\n",
              "        vertical-align: middle;\n",
              "    }\n",
              "\n",
              "    .dataframe tbody tr th {\n",
              "        vertical-align: top;\n",
              "    }\n",
              "\n",
              "    .dataframe thead th {\n",
              "        text-align: right;\n",
              "    }\n",
              "</style>\n",
              "<table border=\"1\" class=\"dataframe\">\n",
              "  <thead>\n",
              "    <tr style=\"text-align: right;\">\n",
              "      <th></th>\n",
              "      <th>total_bill</th>\n",
              "      <th>tip</th>\n",
              "      <th>sex</th>\n",
              "      <th>smoker</th>\n",
              "      <th>day</th>\n",
              "      <th>time</th>\n",
              "      <th>size</th>\n",
              "    </tr>\n",
              "  </thead>\n",
              "  <tbody>\n",
              "    <tr>\n",
              "      <th>0</th>\n",
              "      <td>16.99</td>\n",
              "      <td>1.01</td>\n",
              "      <td>Female</td>\n",
              "      <td>No</td>\n",
              "      <td>Sun</td>\n",
              "      <td>Dinner</td>\n",
              "      <td>Single/Couple</td>\n",
              "    </tr>\n",
              "    <tr>\n",
              "      <th>1</th>\n",
              "      <td>10.34</td>\n",
              "      <td>1.66</td>\n",
              "      <td>Male</td>\n",
              "      <td>No</td>\n",
              "      <td>Sun</td>\n",
              "      <td>Dinner</td>\n",
              "      <td>Group</td>\n",
              "    </tr>\n",
              "    <tr>\n",
              "      <th>2</th>\n",
              "      <td>21.01</td>\n",
              "      <td>3.50</td>\n",
              "      <td>Male</td>\n",
              "      <td>No</td>\n",
              "      <td>Sun</td>\n",
              "      <td>Dinner</td>\n",
              "      <td>Group</td>\n",
              "    </tr>\n",
              "    <tr>\n",
              "      <th>3</th>\n",
              "      <td>23.68</td>\n",
              "      <td>3.31</td>\n",
              "      <td>Male</td>\n",
              "      <td>No</td>\n",
              "      <td>Sun</td>\n",
              "      <td>Dinner</td>\n",
              "      <td>Single/Couple</td>\n",
              "    </tr>\n",
              "    <tr>\n",
              "      <th>4</th>\n",
              "      <td>24.59</td>\n",
              "      <td>3.61</td>\n",
              "      <td>Female</td>\n",
              "      <td>No</td>\n",
              "      <td>Sun</td>\n",
              "      <td>Dinner</td>\n",
              "      <td>Group</td>\n",
              "    </tr>\n",
              "    <tr>\n",
              "      <th>...</th>\n",
              "      <td>...</td>\n",
              "      <td>...</td>\n",
              "      <td>...</td>\n",
              "      <td>...</td>\n",
              "      <td>...</td>\n",
              "      <td>...</td>\n",
              "      <td>...</td>\n",
              "    </tr>\n",
              "    <tr>\n",
              "      <th>239</th>\n",
              "      <td>29.03</td>\n",
              "      <td>5.92</td>\n",
              "      <td>Male</td>\n",
              "      <td>No</td>\n",
              "      <td>Sat</td>\n",
              "      <td>Dinner</td>\n",
              "      <td>Group</td>\n",
              "    </tr>\n",
              "    <tr>\n",
              "      <th>240</th>\n",
              "      <td>27.18</td>\n",
              "      <td>2.00</td>\n",
              "      <td>Female</td>\n",
              "      <td>Yes</td>\n",
              "      <td>Sat</td>\n",
              "      <td>Dinner</td>\n",
              "      <td>Single/Couple</td>\n",
              "    </tr>\n",
              "    <tr>\n",
              "      <th>241</th>\n",
              "      <td>22.67</td>\n",
              "      <td>2.00</td>\n",
              "      <td>Male</td>\n",
              "      <td>Yes</td>\n",
              "      <td>Sat</td>\n",
              "      <td>Dinner</td>\n",
              "      <td>Single/Couple</td>\n",
              "    </tr>\n",
              "    <tr>\n",
              "      <th>242</th>\n",
              "      <td>17.82</td>\n",
              "      <td>1.75</td>\n",
              "      <td>Male</td>\n",
              "      <td>No</td>\n",
              "      <td>Sat</td>\n",
              "      <td>Dinner</td>\n",
              "      <td>Single/Couple</td>\n",
              "    </tr>\n",
              "    <tr>\n",
              "      <th>243</th>\n",
              "      <td>18.78</td>\n",
              "      <td>3.00</td>\n",
              "      <td>Female</td>\n",
              "      <td>No</td>\n",
              "      <td>Thur</td>\n",
              "      <td>Dinner</td>\n",
              "      <td>Single/Couple</td>\n",
              "    </tr>\n",
              "  </tbody>\n",
              "</table>\n",
              "<p>235 rows × 7 columns</p>\n",
              "</div>"
            ],
            "text/plain": [
              "     total_bill   tip     sex smoker   day    time           size\n",
              "0         16.99  1.01  Female     No   Sun  Dinner  Single/Couple\n",
              "1         10.34  1.66    Male     No   Sun  Dinner          Group\n",
              "2         21.01  3.50    Male     No   Sun  Dinner          Group\n",
              "3         23.68  3.31    Male     No   Sun  Dinner  Single/Couple\n",
              "4         24.59  3.61  Female     No   Sun  Dinner          Group\n",
              "..          ...   ...     ...    ...   ...     ...            ...\n",
              "239       29.03  5.92    Male     No   Sat  Dinner          Group\n",
              "240       27.18  2.00  Female    Yes   Sat  Dinner  Single/Couple\n",
              "241       22.67  2.00    Male    Yes   Sat  Dinner  Single/Couple\n",
              "242       17.82  1.75    Male     No   Sat  Dinner  Single/Couple\n",
              "243       18.78  3.00  Female     No  Thur  Dinner  Single/Couple\n",
              "\n",
              "[235 rows x 7 columns]"
            ]
          },
          "execution_count": 257,
          "metadata": {},
          "output_type": "execute_result"
        }
      ],
      "source": [
        "data[(data['total_bill']<upper) & (data['total_bill']>lower)]"
      ]
    },
    {
      "cell_type": "code",
      "execution_count": 258,
      "metadata": {},
      "outputs": [],
      "source": [
        "# atau pake query, hasilnya sama saja\n",
        "df = data.query(\"total_bill < @upper and total_bill > @lower\")"
      ]
    },
    {
      "cell_type": "markdown",
      "metadata": {
        "id": "9pFPyXySM8BE"
      },
      "source": [
        "**Insight**\n",
        "- Distribusi dari variabel total_bill tidak simetris, ada dugaan bukan distribusi normal\n",
        "- Skewness lebih condong ke kanan atau positive\n",
        "- Berdasarkan batas IQR, sekitar 3.69% diidentifikasi sebagai outlier."
      ]
    },
    {
      "cell_type": "markdown",
      "metadata": {
        "id": "Q-4vVq98M8BE"
      },
      "source": [
        "**Feature Engineering**\n",
        "\n",
        "Ubah variabel kategorikal menjadi numerikal dengan encoding"
      ]
    },
    {
      "cell_type": "code",
      "execution_count": 259,
      "metadata": {
        "id": "HFwqNUarM8BF"
      },
      "outputs": [
        {
          "data": {
            "text/html": [
              "<div>\n",
              "<style scoped>\n",
              "    .dataframe tbody tr th:only-of-type {\n",
              "        vertical-align: middle;\n",
              "    }\n",
              "\n",
              "    .dataframe tbody tr th {\n",
              "        vertical-align: top;\n",
              "    }\n",
              "\n",
              "    .dataframe thead th {\n",
              "        text-align: right;\n",
              "    }\n",
              "</style>\n",
              "<table border=\"1\" class=\"dataframe\">\n",
              "  <thead>\n",
              "    <tr style=\"text-align: right;\">\n",
              "      <th></th>\n",
              "      <th>total_bill</th>\n",
              "      <th>tip</th>\n",
              "      <th>sex</th>\n",
              "      <th>smoker</th>\n",
              "      <th>day</th>\n",
              "      <th>time</th>\n",
              "      <th>size</th>\n",
              "    </tr>\n",
              "  </thead>\n",
              "  <tbody>\n",
              "    <tr>\n",
              "      <th>0</th>\n",
              "      <td>16.99</td>\n",
              "      <td>1.01</td>\n",
              "      <td>Female</td>\n",
              "      <td>No</td>\n",
              "      <td>Sun</td>\n",
              "      <td>Dinner</td>\n",
              "      <td>Single/Couple</td>\n",
              "    </tr>\n",
              "    <tr>\n",
              "      <th>1</th>\n",
              "      <td>10.34</td>\n",
              "      <td>1.66</td>\n",
              "      <td>Male</td>\n",
              "      <td>No</td>\n",
              "      <td>Sun</td>\n",
              "      <td>Dinner</td>\n",
              "      <td>Group</td>\n",
              "    </tr>\n",
              "    <tr>\n",
              "      <th>2</th>\n",
              "      <td>21.01</td>\n",
              "      <td>3.50</td>\n",
              "      <td>Male</td>\n",
              "      <td>No</td>\n",
              "      <td>Sun</td>\n",
              "      <td>Dinner</td>\n",
              "      <td>Group</td>\n",
              "    </tr>\n",
              "    <tr>\n",
              "      <th>3</th>\n",
              "      <td>23.68</td>\n",
              "      <td>3.31</td>\n",
              "      <td>Male</td>\n",
              "      <td>No</td>\n",
              "      <td>Sun</td>\n",
              "      <td>Dinner</td>\n",
              "      <td>Single/Couple</td>\n",
              "    </tr>\n",
              "    <tr>\n",
              "      <th>4</th>\n",
              "      <td>24.59</td>\n",
              "      <td>3.61</td>\n",
              "      <td>Female</td>\n",
              "      <td>No</td>\n",
              "      <td>Sun</td>\n",
              "      <td>Dinner</td>\n",
              "      <td>Group</td>\n",
              "    </tr>\n",
              "  </tbody>\n",
              "</table>\n",
              "</div>"
            ],
            "text/plain": [
              "   total_bill   tip     sex smoker  day    time           size\n",
              "0       16.99  1.01  Female     No  Sun  Dinner  Single/Couple\n",
              "1       10.34  1.66    Male     No  Sun  Dinner          Group\n",
              "2       21.01  3.50    Male     No  Sun  Dinner          Group\n",
              "3       23.68  3.31    Male     No  Sun  Dinner  Single/Couple\n",
              "4       24.59  3.61  Female     No  Sun  Dinner          Group"
            ]
          },
          "execution_count": 259,
          "metadata": {},
          "output_type": "execute_result"
        }
      ],
      "source": [
        "df.head()"
      ]
    },
    {
      "cell_type": "code",
      "execution_count": 260,
      "metadata": {},
      "outputs": [],
      "source": [
        "y = df['tip']\n",
        "X = df.drop(columns='tip')\n",
        "\n",
        "# Encode untuk mengubah data kategorikal menjadi numerikal \n",
        "# dtype=int -> (jadi one hot encoding 0/1)\n",
        "# drop_first=True -> kita tidak perlu data yang ada multicolinearity seperti male dan female, jadi kita pilih salah satu saja karena dapat dibedakan dengan 0 dan 1\n",
        "\n",
        "X = pd.get_dummies(data=X, dtype=int, drop_first=True)\n",
        "\n"
      ]
    },
    {
      "cell_type": "code",
      "execution_count": 261,
      "metadata": {},
      "outputs": [
        {
          "data": {
            "text/html": [
              "<div>\n",
              "<style scoped>\n",
              "    .dataframe tbody tr th:only-of-type {\n",
              "        vertical-align: middle;\n",
              "    }\n",
              "\n",
              "    .dataframe tbody tr th {\n",
              "        vertical-align: top;\n",
              "    }\n",
              "\n",
              "    .dataframe thead th {\n",
              "        text-align: right;\n",
              "    }\n",
              "</style>\n",
              "<table border=\"1\" class=\"dataframe\">\n",
              "  <thead>\n",
              "    <tr style=\"text-align: right;\">\n",
              "      <th></th>\n",
              "      <th>total_bill</th>\n",
              "      <th>sex_Female</th>\n",
              "      <th>smoker_No</th>\n",
              "      <th>day_Fri</th>\n",
              "      <th>day_Sat</th>\n",
              "      <th>day_Sun</th>\n",
              "      <th>time_Dinner</th>\n",
              "      <th>size_Single/Couple</th>\n",
              "    </tr>\n",
              "  </thead>\n",
              "  <tbody>\n",
              "    <tr>\n",
              "      <th>0</th>\n",
              "      <td>16.99</td>\n",
              "      <td>1</td>\n",
              "      <td>1</td>\n",
              "      <td>0</td>\n",
              "      <td>0</td>\n",
              "      <td>1</td>\n",
              "      <td>1</td>\n",
              "      <td>1</td>\n",
              "    </tr>\n",
              "    <tr>\n",
              "      <th>1</th>\n",
              "      <td>10.34</td>\n",
              "      <td>0</td>\n",
              "      <td>1</td>\n",
              "      <td>0</td>\n",
              "      <td>0</td>\n",
              "      <td>1</td>\n",
              "      <td>1</td>\n",
              "      <td>0</td>\n",
              "    </tr>\n",
              "    <tr>\n",
              "      <th>2</th>\n",
              "      <td>21.01</td>\n",
              "      <td>0</td>\n",
              "      <td>1</td>\n",
              "      <td>0</td>\n",
              "      <td>0</td>\n",
              "      <td>1</td>\n",
              "      <td>1</td>\n",
              "      <td>0</td>\n",
              "    </tr>\n",
              "    <tr>\n",
              "      <th>3</th>\n",
              "      <td>23.68</td>\n",
              "      <td>0</td>\n",
              "      <td>1</td>\n",
              "      <td>0</td>\n",
              "      <td>0</td>\n",
              "      <td>1</td>\n",
              "      <td>1</td>\n",
              "      <td>1</td>\n",
              "    </tr>\n",
              "    <tr>\n",
              "      <th>4</th>\n",
              "      <td>24.59</td>\n",
              "      <td>1</td>\n",
              "      <td>1</td>\n",
              "      <td>0</td>\n",
              "      <td>0</td>\n",
              "      <td>1</td>\n",
              "      <td>1</td>\n",
              "      <td>0</td>\n",
              "    </tr>\n",
              "  </tbody>\n",
              "</table>\n",
              "</div>"
            ],
            "text/plain": [
              "   total_bill  sex_Female  smoker_No  day_Fri  day_Sat  day_Sun  time_Dinner  \\\n",
              "0       16.99           1          1        0        0        1            1   \n",
              "1       10.34           0          1        0        0        1            1   \n",
              "2       21.01           0          1        0        0        1            1   \n",
              "3       23.68           0          1        0        0        1            1   \n",
              "4       24.59           1          1        0        0        1            1   \n",
              "\n",
              "   size_Single/Couple  \n",
              "0                   1  \n",
              "1                   0  \n",
              "2                   0  \n",
              "3                   1  \n",
              "4                   0  "
            ]
          },
          "execution_count": 261,
          "metadata": {},
          "output_type": "execute_result"
        }
      ],
      "source": [
        "X.head()"
      ]
    },
    {
      "cell_type": "markdown",
      "metadata": {
        "id": "sgF8ThaqM8BF"
      },
      "source": [
        "**Check Multicollinearity**"
      ]
    },
    {
      "cell_type": "code",
      "execution_count": 262,
      "metadata": {
        "id": "9ZL-d13jM8BF"
      },
      "outputs": [],
      "source": [
        "def calculate_vif(X):\n",
        "    vif = pd.DataFrame()\n",
        "    vif ['feature'] = X.columns\n",
        "    vif['VIF'] = [variance_inflation_factor(X, i) for i in range(len(X.columns))]\n",
        "    return vif.sort_values('VIF', ascending=False)"
      ]
    },
    {
      "cell_type": "code",
      "execution_count": 263,
      "metadata": {},
      "outputs": [
        {
          "data": {
            "text/html": [
              "<div>\n",
              "<style scoped>\n",
              "    .dataframe tbody tr th:only-of-type {\n",
              "        vertical-align: middle;\n",
              "    }\n",
              "\n",
              "    .dataframe tbody tr th {\n",
              "        vertical-align: top;\n",
              "    }\n",
              "\n",
              "    .dataframe thead th {\n",
              "        text-align: right;\n",
              "    }\n",
              "</style>\n",
              "<table border=\"1\" class=\"dataframe\">\n",
              "  <thead>\n",
              "    <tr style=\"text-align: right;\">\n",
              "      <th></th>\n",
              "      <th>feature</th>\n",
              "      <th>VIF</th>\n",
              "    </tr>\n",
              "  </thead>\n",
              "  <tbody>\n",
              "    <tr>\n",
              "      <th>6</th>\n",
              "      <td>time_Dinner</td>\n",
              "      <td>31.710761</td>\n",
              "    </tr>\n",
              "    <tr>\n",
              "      <th>4</th>\n",
              "      <td>day_Sat</td>\n",
              "      <td>16.692208</td>\n",
              "    </tr>\n",
              "    <tr>\n",
              "      <th>5</th>\n",
              "      <td>day_Sun</td>\n",
              "      <td>14.860340</td>\n",
              "    </tr>\n",
              "    <tr>\n",
              "      <th>0</th>\n",
              "      <td>total_bill</td>\n",
              "      <td>4.264496</td>\n",
              "    </tr>\n",
              "    <tr>\n",
              "      <th>3</th>\n",
              "      <td>day_Fri</td>\n",
              "      <td>2.617839</td>\n",
              "    </tr>\n",
              "    <tr>\n",
              "      <th>2</th>\n",
              "      <td>smoker_No</td>\n",
              "      <td>2.508834</td>\n",
              "    </tr>\n",
              "    <tr>\n",
              "      <th>7</th>\n",
              "      <td>size_Single/Couple</td>\n",
              "      <td>2.246653</td>\n",
              "    </tr>\n",
              "    <tr>\n",
              "      <th>1</th>\n",
              "      <td>sex_Female</td>\n",
              "      <td>1.550483</td>\n",
              "    </tr>\n",
              "  </tbody>\n",
              "</table>\n",
              "</div>"
            ],
            "text/plain": [
              "              feature        VIF\n",
              "6         time_Dinner  31.710761\n",
              "4             day_Sat  16.692208\n",
              "5             day_Sun  14.860340\n",
              "0          total_bill   4.264496\n",
              "3             day_Fri   2.617839\n",
              "2           smoker_No   2.508834\n",
              "7  size_Single/Couple   2.246653\n",
              "1          sex_Female   1.550483"
            ]
          },
          "execution_count": 263,
          "metadata": {},
          "output_type": "execute_result"
        }
      ],
      "source": [
        "calculate_vif(X)"
      ]
    },
    {
      "cell_type": "markdown",
      "metadata": {
        "id": "r3PCEIowM8BF"
      },
      "source": [
        "Karena VIF untuk feature `time_Dinner` > 10, kita akan coba drop kolom `time_Dinner`."
      ]
    },
    {
      "cell_type": "code",
      "execution_count": 264,
      "metadata": {
        "id": "bk_w28stM8BG"
      },
      "outputs": [
        {
          "data": {
            "text/html": [
              "<div>\n",
              "<style scoped>\n",
              "    .dataframe tbody tr th:only-of-type {\n",
              "        vertical-align: middle;\n",
              "    }\n",
              "\n",
              "    .dataframe tbody tr th {\n",
              "        vertical-align: top;\n",
              "    }\n",
              "\n",
              "    .dataframe thead th {\n",
              "        text-align: right;\n",
              "    }\n",
              "</style>\n",
              "<table border=\"1\" class=\"dataframe\">\n",
              "  <thead>\n",
              "    <tr style=\"text-align: right;\">\n",
              "      <th></th>\n",
              "      <th>feature</th>\n",
              "      <th>VIF</th>\n",
              "    </tr>\n",
              "  </thead>\n",
              "  <tbody>\n",
              "    <tr>\n",
              "      <th>0</th>\n",
              "      <td>total_bill</td>\n",
              "      <td>4.219440</td>\n",
              "    </tr>\n",
              "    <tr>\n",
              "      <th>2</th>\n",
              "      <td>smoker_No</td>\n",
              "      <td>2.508087</td>\n",
              "    </tr>\n",
              "    <tr>\n",
              "      <th>6</th>\n",
              "      <td>size_Single/Couple</td>\n",
              "      <td>2.244806</td>\n",
              "    </tr>\n",
              "    <tr>\n",
              "      <th>4</th>\n",
              "      <td>day_Sat</td>\n",
              "      <td>2.180166</td>\n",
              "    </tr>\n",
              "    <tr>\n",
              "      <th>5</th>\n",
              "      <td>day_Sun</td>\n",
              "      <td>2.179305</td>\n",
              "    </tr>\n",
              "    <tr>\n",
              "      <th>1</th>\n",
              "      <td>sex_Female</td>\n",
              "      <td>1.548687</td>\n",
              "    </tr>\n",
              "    <tr>\n",
              "      <th>3</th>\n",
              "      <td>day_Fri</td>\n",
              "      <td>1.328647</td>\n",
              "    </tr>\n",
              "  </tbody>\n",
              "</table>\n",
              "</div>"
            ],
            "text/plain": [
              "              feature       VIF\n",
              "0          total_bill  4.219440\n",
              "2           smoker_No  2.508087\n",
              "6  size_Single/Couple  2.244806\n",
              "4             day_Sat  2.180166\n",
              "5             day_Sun  2.179305\n",
              "1          sex_Female  1.548687\n",
              "3             day_Fri  1.328647"
            ]
          },
          "execution_count": 264,
          "metadata": {},
          "output_type": "execute_result"
        }
      ],
      "source": [
        "calculate_vif(X.drop(columns='time_Dinner'))"
      ]
    },
    {
      "cell_type": "markdown",
      "metadata": {
        "id": "kjHeRrLpM8BG"
      },
      "source": [
        "Sekarang sudah tidak terdapat Multicolinearity"
      ]
    },
    {
      "cell_type": "code",
      "execution_count": 265,
      "metadata": {
        "id": "LqDBzGeKM8BG"
      },
      "outputs": [
        {
          "data": {
            "text/html": [
              "<div>\n",
              "<style scoped>\n",
              "    .dataframe tbody tr th:only-of-type {\n",
              "        vertical-align: middle;\n",
              "    }\n",
              "\n",
              "    .dataframe tbody tr th {\n",
              "        vertical-align: top;\n",
              "    }\n",
              "\n",
              "    .dataframe thead th {\n",
              "        text-align: right;\n",
              "    }\n",
              "</style>\n",
              "<table border=\"1\" class=\"dataframe\">\n",
              "  <thead>\n",
              "    <tr style=\"text-align: right;\">\n",
              "      <th></th>\n",
              "      <th>const</th>\n",
              "      <th>total_bill</th>\n",
              "      <th>sex_Female</th>\n",
              "      <th>smoker_No</th>\n",
              "      <th>day_Fri</th>\n",
              "      <th>day_Sat</th>\n",
              "      <th>day_Sun</th>\n",
              "      <th>size_Single/Couple</th>\n",
              "    </tr>\n",
              "  </thead>\n",
              "  <tbody>\n",
              "    <tr>\n",
              "      <th>0</th>\n",
              "      <td>1.0</td>\n",
              "      <td>16.99</td>\n",
              "      <td>1</td>\n",
              "      <td>1</td>\n",
              "      <td>0</td>\n",
              "      <td>0</td>\n",
              "      <td>1</td>\n",
              "      <td>1</td>\n",
              "    </tr>\n",
              "    <tr>\n",
              "      <th>1</th>\n",
              "      <td>1.0</td>\n",
              "      <td>10.34</td>\n",
              "      <td>0</td>\n",
              "      <td>1</td>\n",
              "      <td>0</td>\n",
              "      <td>0</td>\n",
              "      <td>1</td>\n",
              "      <td>0</td>\n",
              "    </tr>\n",
              "    <tr>\n",
              "      <th>2</th>\n",
              "      <td>1.0</td>\n",
              "      <td>21.01</td>\n",
              "      <td>0</td>\n",
              "      <td>1</td>\n",
              "      <td>0</td>\n",
              "      <td>0</td>\n",
              "      <td>1</td>\n",
              "      <td>0</td>\n",
              "    </tr>\n",
              "    <tr>\n",
              "      <th>3</th>\n",
              "      <td>1.0</td>\n",
              "      <td>23.68</td>\n",
              "      <td>0</td>\n",
              "      <td>1</td>\n",
              "      <td>0</td>\n",
              "      <td>0</td>\n",
              "      <td>1</td>\n",
              "      <td>1</td>\n",
              "    </tr>\n",
              "    <tr>\n",
              "      <th>4</th>\n",
              "      <td>1.0</td>\n",
              "      <td>24.59</td>\n",
              "      <td>1</td>\n",
              "      <td>1</td>\n",
              "      <td>0</td>\n",
              "      <td>0</td>\n",
              "      <td>1</td>\n",
              "      <td>0</td>\n",
              "    </tr>\n",
              "  </tbody>\n",
              "</table>\n",
              "</div>"
            ],
            "text/plain": [
              "   const  total_bill  sex_Female  smoker_No  day_Fri  day_Sat  day_Sun  \\\n",
              "0    1.0       16.99           1          1        0        0        1   \n",
              "1    1.0       10.34           0          1        0        0        1   \n",
              "2    1.0       21.01           0          1        0        0        1   \n",
              "3    1.0       23.68           0          1        0        0        1   \n",
              "4    1.0       24.59           1          1        0        0        1   \n",
              "\n",
              "   size_Single/Couple  \n",
              "0                   1  \n",
              "1                   0  \n",
              "2                   0  \n",
              "3                   1  \n",
              "4                   0  "
            ]
          },
          "execution_count": 265,
          "metadata": {},
          "output_type": "execute_result"
        }
      ],
      "source": [
        "# buang time_dinner\n",
        "# jika pakai linear regression perlu tambah konstanta\n",
        "X = sm.add_constant(X.drop(columns='time_Dinner'))\n",
        "X.head()"
      ]
    },
    {
      "cell_type": "markdown",
      "metadata": {
        "id": "uvsP_k1pM8BH"
      },
      "source": [
        "**Data Splitting**"
      ]
    },
    {
      "cell_type": "markdown",
      "metadata": {
        "id": "eol-6Ww8M8BH"
      },
      "source": [
        "Bagi dataset menjadi train dan test set dengan komposisi 80:20."
      ]
    },
    {
      "cell_type": "code",
      "execution_count": 269,
      "metadata": {
        "id": "QhHb6kkzM8BH"
      },
      "outputs": [
        {
          "data": {
            "text/plain": [
              "((188, 8), (47, 8))"
            ]
          },
          "execution_count": 269,
          "metadata": {},
          "output_type": "execute_result"
        }
      ],
      "source": [
        "# Kita perlu membagi data menjadi dua bagian, yaitu 80% untuk melatih model (train) dan 20% untuk menguji model (test). \n",
        "# Model dilatih menggunakan 80% data, dan kemudian diuji dengan 20% data yang belum pernah dilihat sebelumnya. \n",
        "# Tujuan dari pengujian ini adalah untuk melihat seberapa baik model bisa memprediksi data yang sebenarnya.\n",
        "\n",
        "from sklearn.model_selection import train_test_split\n",
        "\n",
        "X_train, X_test, y_train, y_test = train_test_split(X,y,test_size=.2,random_state=0)\n",
        "X_train.shape, X_test.shape\n",
        "\n",
        "# terlihat pada outpu fiturnya ada 8"
      ]
    },
    {
      "cell_type": "markdown",
      "metadata": {},
      "source": [
        "<h3>Komposisi Persentase X (Fitur) dan y (Label)</h3>\n",
        "\n",
        "Berikut adalah pembagian persentase `X` (fitur) dan `y` (label) untuk data train dan test:\n",
        "\n",
        "| Kategori     | X (Fitur) | y (Label) |\n",
        "|--------------|-----------|-----------|\n",
        "| **Train**    | 80%       | 80%       |\n",
        "| **Test**     | 20%       | 20%       |\n",
        "\n",
        "Penjelasan:\n",
        "- **Train (80%)**: Data yang digunakan untuk melatih model, baik fitur (`X`) maupun label (`y`).\n",
        "- **Test (20%)**: Data yang digunakan untuk menguji model, baik fitur (`X`) maupun label (`y`).\n",
        "\n",
        "- X aktual (fitur): Data input sebenarnya yang digunakan untuk melatih model.\n",
        "- y aktual (label): Hasil/output sebenarnya yang ingin diprediksi.\n",
        "- X prediksi (fitur): Data input baru yang digunakan untuk menguji model.\n",
        "- y prediksi (label): Hasil prediksi dari model yang dibandingkan dengan y aktual untuk evaluasi.\n"
      ]
    },
    {
      "cell_type": "markdown",
      "metadata": {},
      "source": [
        "| Kategori        | X (Fitur)                    | y (Label) / Aktual              | y (Prediksi)                   |\n",
        "|-----------------|------------------------------|---------------------------------|--------------------------------|\n",
        "| **Train Data**  | Data fitur untuk melatih model| Target sebenarnya (untuk melatih)| Tidak ada prediksi pada data train |\n",
        "| **Test Data**   | Data fitur untuk menguji model| Target sebenarnya (untuk evaluasi)| Hasil prediksi dari model setelah dilatih |\n",
        "\n",
        "**Penjelasan**:\n",
        "- **X (Fitur)**: Input yang digunakan untuk melatih dan menguji model.\n",
        "- **y Aktual (Label)**: Target sebenarnya yang ada dalam data, baik untuk melatih model (train) atau untuk menguji model (test).\n",
        "- **y Prediksi**: Hasil yang diprediksi oleh model, hanya untuk data test, yang dibandingkan dengan `y aktual` test untuk mengukur akurasi model.\n"
      ]
    },
    {
      "cell_type": "markdown",
      "metadata": {
        "id": "YYVWCROVM8BH"
      },
      "source": [
        "### `Modeling`"
      ]
    },
    {
      "cell_type": "markdown",
      "metadata": {
        "id": "1Lvd6OIvM8BH"
      },
      "source": [
        "**Simple Linear Regression**"
      ]
    },
    {
      "cell_type": "code",
      "execution_count": 275,
      "metadata": {
        "id": "vqqhO06nM8BH"
      },
      "outputs": [
        {
          "name": "stdout",
          "output_type": "stream",
          "text": [
            "                            OLS Regression Results                            \n",
            "==============================================================================\n",
            "Dep. Variable:                    tip   R-squared:                       0.409\n",
            "Model:                            OLS   Adj. R-squared:                  0.406\n",
            "Method:                 Least Squares   F-statistic:                     128.8\n",
            "Date:                Tue, 17 Sep 2024   Prob (F-statistic):           5.14e-23\n",
            "Time:                        16:13:08   Log-Likelihood:                -260.03\n",
            "No. Observations:                 188   AIC:                             524.1\n",
            "Df Residuals:                     186   BIC:                             530.5\n",
            "Df Model:                           1                                         \n",
            "Covariance Type:            nonrobust                                         \n",
            "==============================================================================\n",
            "                 coef    std err          t      P>|t|      [0.025      0.975]\n",
            "------------------------------------------------------------------------------\n",
            "const          0.9015      0.188      4.808      0.000       0.532       1.272\n",
            "total_bill     0.1047      0.009     11.347      0.000       0.087       0.123\n",
            "==============================================================================\n",
            "Omnibus:                       16.330   Durbin-Watson:                   1.995\n",
            "Prob(Omnibus):                  0.000   Jarque-Bera (JB):               27.904\n",
            "Skew:                           0.459   Prob(JB):                     8.72e-07\n",
            "Kurtosis:                       4.649   Cond. No.                         54.0\n",
            "==============================================================================\n",
            "\n",
            "Notes:\n",
            "[1] Standard Errors assume that the covariance matrix of the errors is correctly specified.\n"
          ]
        }
      ],
      "source": [
        "# y_train sebagai variabel dependen (endog) dan X_train sebagai variabel independen (exog)\n",
        "# Untuk regresi linear sederhana, kita akan menggunakan konstanta dan total_bill sebagai fitur\n",
        "\n",
        "# Menggunakan metode Ordinary Least Squares (OLS) dari statsmodels\n",
        "simpleLR = sm.OLS(y_train, X_train[['const', 'total_bill']])\n",
        "\n",
        "# Fit model untuk mendapatkan koefisien beta_0 (konstanta) dan beta_1 (koefisien untuk total_bill)\n",
        "simpleLR_result = simpleLR.fit()\n",
        "\n",
        "# Menampilkan ringkasan hasil regresi\n",
        "print(simpleLR_result.summary())"
      ]
    },
    {
      "cell_type": "markdown",
      "metadata": {},
      "source": [
        "- P-value:\n",
        "  - Kedua koefisien (const dan total_bill) memiliki p-value yang sangat kecil (0.000), menunjukkan bahwa mereka signifikan secara statistik.\n",
        "\n",
        "- Koefisien:\n",
        "  - const: 0.9015\n",
        "  - total_bill: 0.1047\n",
        "\n",
        "\n",
        "- F-statistic: 128.8, Prob (F-statistic): 5.14e-23\n",
        "  - Menunjukkan model secara keseluruhan signifikan."
      ]
    },
    {
      "cell_type": "markdown",
      "metadata": {
        "id": "IQI9r-LsM8BH"
      },
      "source": [
        "Prediksi pada test set dengan menggunakan linear regression"
      ]
    },
    {
      "cell_type": "code",
      "execution_count": 278,
      "metadata": {
        "id": "SUHDqIGSM8BH"
      },
      "outputs": [
        {
          "name": "stdout",
          "output_type": "stream",
          "text": [
            "MSE : 0.7285404889125503\n",
            "RMSE : 0.8535458329302242\n"
          ]
        }
      ],
      "source": [
        "# Memprediksi nilai menggunakan model regresi linear yang telah dilatih\n",
        "# X_test[['const', 'total_bill']] adalah fitur yang digunakan untuk memprediksi\n",
        "y_pred = simpleLR_result.predict(X_test[['const', 'total_bill']])\n",
        "\n",
        "# y_test adalah nilai sebenarnya dari variabel target (y aktual)\n",
        "# y_pred adalah nilai yang diprediksi oleh model (y prediksi)\n",
        "print(f'MSE : {mean_squared_error(y_test, y_pred)}')\n",
        "print(f'RMSE : {np.sqrt(mean_squared_error(y_test, y_pred))}')"
      ]
    },
    {
      "cell_type": "markdown",
      "metadata": {
        "id": "DEr3ma6IM8BI"
      },
      "source": [
        "**Multiple Linear Regression**"
      ]
    },
    {
      "cell_type": "code",
      "execution_count": 280,
      "metadata": {
        "id": "TyEiMYwoM8BI"
      },
      "outputs": [
        {
          "name": "stdout",
          "output_type": "stream",
          "text": [
            "                            OLS Regression Results                            \n",
            "==============================================================================\n",
            "Dep. Variable:                    tip   R-squared:                       0.430\n",
            "Model:                            OLS   Adj. R-squared:                  0.408\n",
            "Method:                 Least Squares   F-statistic:                     19.41\n",
            "Date:                Tue, 17 Sep 2024   Prob (F-statistic):           3.21e-19\n",
            "Time:                        16:23:42   Log-Likelihood:                -256.62\n",
            "No. Observations:                 188   AIC:                             529.2\n",
            "Df Residuals:                     180   BIC:                             555.1\n",
            "Df Model:                           7                                         \n",
            "Covariance Type:            nonrobust                                         \n",
            "======================================================================================\n",
            "                         coef    std err          t      P>|t|      [0.025      0.975]\n",
            "--------------------------------------------------------------------------------------\n",
            "const                  1.3868      0.388      3.575      0.000       0.621       2.152\n",
            "total_bill             0.0935      0.011      8.227      0.000       0.071       0.116\n",
            "sex_Female            -0.0103      0.152     -0.068      0.946      -0.310       0.289\n",
            "smoker_No              0.0260      0.159      0.163      0.870      -0.288       0.340\n",
            "day_Fri               -0.0083      0.334     -0.025      0.980      -0.668       0.652\n",
            "day_Sat               -0.2262      0.184     -1.230      0.220      -0.589       0.137\n",
            "day_Sun                0.0587      0.198      0.297      0.767      -0.332       0.449\n",
            "size_Single/Couple    -0.3161      0.188     -1.683      0.094      -0.687       0.055\n",
            "==============================================================================\n",
            "Omnibus:                       16.578   Durbin-Watson:                   2.036\n",
            "Prob(Omnibus):                  0.000   Jarque-Bera (JB):               23.927\n",
            "Skew:                           0.535   Prob(JB):                     6.37e-06\n",
            "Kurtosis:                       4.382   Cond. No.                         130.\n",
            "==============================================================================\n",
            "\n",
            "Notes:\n",
            "[1] Standard Errors assume that the covariance matrix of the errors is correctly specified.\n"
          ]
        }
      ],
      "source": [
        "# karena multiple linear, kita pakai semua fitur dari X_train(tidak hanya total_bill seperti di simpleLinearRegression)\n",
        "multiLR = sm.OLS(y_train, X_train)\n",
        "\n",
        "multiLR_result = multiLR.fit()\n",
        "\n",
        "print(multiLR_result.summary())"
      ]
    },
    {
      "cell_type": "markdown",
      "metadata": {},
      "source": [
        "Hanya fitur total_bill yang memiliki p-value < 0.05, yang menunjukkan bahwa fitur ini memiliki pengaruh yang signifikan secara statistik terhadap variabel target tip"
      ]
    },
    {
      "cell_type": "markdown",
      "metadata": {
        "id": "0JW5ueDzM8BI"
      },
      "source": [
        "Prediksi pada test set dengan menggunakan multiple linear regression"
      ]
    },
    {
      "cell_type": "code",
      "execution_count": 281,
      "metadata": {
        "id": "29G-ydT0M8BI"
      },
      "outputs": [
        {
          "name": "stdout",
          "output_type": "stream",
          "text": [
            "MSE : 0.7469842296270008\n",
            "RMSE : 0.8642824941111562\n"
          ]
        }
      ],
      "source": [
        "y_pred = multiLR_result.predict(X_test)\n",
        "\n",
        "print(f'MSE : {mean_squared_error(y_test, y_pred)}')\n",
        "print(f'RMSE : {np.sqrt(mean_squared_error(y_test, y_pred))}')"
      ]
    },
    {
      "cell_type": "markdown",
      "metadata": {},
      "source": [
        "- Bandingkan MSE dan RMSE antara model regresi linear sederhana dan model regresi linear berganda untuk menentukan model mana yang memberikan hasil yang lebih baik.\n",
        "- Jika MSE dan RMSE untuk model regresi berganda lebih baik (lebih rendah) dibandingkan dengan model regresi linear sederhana, ini dapat menunjukkan bahwa model berganda dengan fitur tambahan mungkin memberikan prediksi yang lebih akurat.\n",
        "- Jika MSE dan RMSE untuk model berganda tidak jauh berbeda atau lebih buruk, model sederhana mungkin cukup untuk tujuan analisis dan prediksi.\n",
        "- Angka MSE dan RMSE yang lebih besar tidak menunjukkan bahwa model lebih baik. Sebaliknya, angka-angka ini harus diperkecil untuk mencapai model yang lebih baik dan lebih akurat."
      ]
    },
    {
      "cell_type": "markdown",
      "metadata": {
        "id": "7KNjyaulM8BI"
      },
      "source": [
        "**Performance Comparison**\n",
        "\n",
        "Setelah dilakukan prediksi pada test set, performa simple linear regression secara akumulatif sedikit lebih baik dari linear regression. Selain itu kita dapat melihat pada tabel multiple linear regression bahwa fitur sex_Female hingga size_Single/couple memiliki nilai P>|t| lebih besar dari 0.05 sehingga fitur fitur tersebut tidak berpengaruh signifikan. Namun kita akan tetap coba melakukan interpretasi dari model multiple linear regression."
      ]
    },
    {
      "cell_type": "markdown",
      "metadata": {
        "id": "TH6In6hEM8BI"
      },
      "source": [
        "**Interpretation**"
      ]
    },
    {
      "cell_type": "code",
      "execution_count": 282,
      "metadata": {
        "id": "HufyeeAmM8BJ"
      },
      "outputs": [
        {
          "data": {
            "text/html": [
              "<div>\n",
              "<style scoped>\n",
              "    .dataframe tbody tr th:only-of-type {\n",
              "        vertical-align: middle;\n",
              "    }\n",
              "\n",
              "    .dataframe tbody tr th {\n",
              "        vertical-align: top;\n",
              "    }\n",
              "\n",
              "    .dataframe thead th {\n",
              "        text-align: right;\n",
              "    }\n",
              "</style>\n",
              "<table border=\"1\" class=\"dataframe\">\n",
              "  <thead>\n",
              "    <tr style=\"text-align: right;\">\n",
              "      <th></th>\n",
              "      <th>const</th>\n",
              "      <th>total_bill</th>\n",
              "      <th>sex_Female</th>\n",
              "      <th>smoker_No</th>\n",
              "      <th>day_Fri</th>\n",
              "      <th>day_Sat</th>\n",
              "      <th>day_Sun</th>\n",
              "      <th>size_Single/Couple</th>\n",
              "    </tr>\n",
              "  </thead>\n",
              "  <tbody>\n",
              "    <tr>\n",
              "      <th>count</th>\n",
              "      <td>235.0</td>\n",
              "      <td>235.000000</td>\n",
              "      <td>235.000000</td>\n",
              "      <td>235.000000</td>\n",
              "      <td>235.000000</td>\n",
              "      <td>235.000000</td>\n",
              "      <td>235.000000</td>\n",
              "      <td>235.000000</td>\n",
              "    </tr>\n",
              "    <tr>\n",
              "      <th>mean</th>\n",
              "      <td>1.0</td>\n",
              "      <td>18.798681</td>\n",
              "      <td>0.361702</td>\n",
              "      <td>0.625532</td>\n",
              "      <td>0.080851</td>\n",
              "      <td>0.353191</td>\n",
              "      <td>0.310638</td>\n",
              "      <td>0.676596</td>\n",
              "    </tr>\n",
              "    <tr>\n",
              "      <th>std</th>\n",
              "      <td>0.0</td>\n",
              "      <td>7.438468</td>\n",
              "      <td>0.481519</td>\n",
              "      <td>0.485018</td>\n",
              "      <td>0.273188</td>\n",
              "      <td>0.478982</td>\n",
              "      <td>0.463743</td>\n",
              "      <td>0.468774</td>\n",
              "    </tr>\n",
              "    <tr>\n",
              "      <th>min</th>\n",
              "      <td>1.0</td>\n",
              "      <td>3.070000</td>\n",
              "      <td>0.000000</td>\n",
              "      <td>0.000000</td>\n",
              "      <td>0.000000</td>\n",
              "      <td>0.000000</td>\n",
              "      <td>0.000000</td>\n",
              "      <td>0.000000</td>\n",
              "    </tr>\n",
              "    <tr>\n",
              "      <th>25%</th>\n",
              "      <td>1.0</td>\n",
              "      <td>13.215000</td>\n",
              "      <td>0.000000</td>\n",
              "      <td>0.000000</td>\n",
              "      <td>0.000000</td>\n",
              "      <td>0.000000</td>\n",
              "      <td>0.000000</td>\n",
              "      <td>0.000000</td>\n",
              "    </tr>\n",
              "    <tr>\n",
              "      <th>50%</th>\n",
              "      <td>1.0</td>\n",
              "      <td>17.460000</td>\n",
              "      <td>0.000000</td>\n",
              "      <td>1.000000</td>\n",
              "      <td>0.000000</td>\n",
              "      <td>0.000000</td>\n",
              "      <td>0.000000</td>\n",
              "      <td>1.000000</td>\n",
              "    </tr>\n",
              "    <tr>\n",
              "      <th>75%</th>\n",
              "      <td>1.0</td>\n",
              "      <td>23.135000</td>\n",
              "      <td>1.000000</td>\n",
              "      <td>1.000000</td>\n",
              "      <td>0.000000</td>\n",
              "      <td>1.000000</td>\n",
              "      <td>1.000000</td>\n",
              "      <td>1.000000</td>\n",
              "    </tr>\n",
              "    <tr>\n",
              "      <th>max</th>\n",
              "      <td>1.0</td>\n",
              "      <td>40.170000</td>\n",
              "      <td>1.000000</td>\n",
              "      <td>1.000000</td>\n",
              "      <td>1.000000</td>\n",
              "      <td>1.000000</td>\n",
              "      <td>1.000000</td>\n",
              "      <td>1.000000</td>\n",
              "    </tr>\n",
              "  </tbody>\n",
              "</table>\n",
              "</div>"
            ],
            "text/plain": [
              "       const  total_bill  sex_Female   smoker_No     day_Fri     day_Sat  \\\n",
              "count  235.0  235.000000  235.000000  235.000000  235.000000  235.000000   \n",
              "mean     1.0   18.798681    0.361702    0.625532    0.080851    0.353191   \n",
              "std      0.0    7.438468    0.481519    0.485018    0.273188    0.478982   \n",
              "min      1.0    3.070000    0.000000    0.000000    0.000000    0.000000   \n",
              "25%      1.0   13.215000    0.000000    0.000000    0.000000    0.000000   \n",
              "50%      1.0   17.460000    0.000000    1.000000    0.000000    0.000000   \n",
              "75%      1.0   23.135000    1.000000    1.000000    0.000000    1.000000   \n",
              "max      1.0   40.170000    1.000000    1.000000    1.000000    1.000000   \n",
              "\n",
              "          day_Sun  size_Single/Couple  \n",
              "count  235.000000          235.000000  \n",
              "mean     0.310638            0.676596  \n",
              "std      0.463743            0.468774  \n",
              "min      0.000000            0.000000  \n",
              "25%      0.000000            0.000000  \n",
              "50%      0.000000            1.000000  \n",
              "75%      1.000000            1.000000  \n",
              "max      1.000000            1.000000  "
            ]
          },
          "execution_count": 282,
          "metadata": {},
          "output_type": "execute_result"
        }
      ],
      "source": [
        "X.describe()"
      ]
    },
    {
      "cell_type": "code",
      "execution_count": 283,
      "metadata": {},
      "outputs": [
        {
          "name": "stdout",
          "output_type": "stream",
          "text": [
            "                            OLS Regression Results                            \n",
            "==============================================================================\n",
            "Dep. Variable:                    tip   R-squared:                       0.430\n",
            "Model:                            OLS   Adj. R-squared:                  0.408\n",
            "Method:                 Least Squares   F-statistic:                     19.41\n",
            "Date:                Tue, 17 Sep 2024   Prob (F-statistic):           3.21e-19\n",
            "Time:                        16:43:20   Log-Likelihood:                -256.62\n",
            "No. Observations:                 188   AIC:                             529.2\n",
            "Df Residuals:                     180   BIC:                             555.1\n",
            "Df Model:                           7                                         \n",
            "Covariance Type:            nonrobust                                         \n",
            "======================================================================================\n",
            "                         coef    std err          t      P>|t|      [0.025      0.975]\n",
            "--------------------------------------------------------------------------------------\n",
            "const                  1.3868      0.388      3.575      0.000       0.621       2.152\n",
            "total_bill             0.0935      0.011      8.227      0.000       0.071       0.116\n",
            "sex_Female            -0.0103      0.152     -0.068      0.946      -0.310       0.289\n",
            "smoker_No              0.0260      0.159      0.163      0.870      -0.288       0.340\n",
            "day_Fri               -0.0083      0.334     -0.025      0.980      -0.668       0.652\n",
            "day_Sat               -0.2262      0.184     -1.230      0.220      -0.589       0.137\n",
            "day_Sun                0.0587      0.198      0.297      0.767      -0.332       0.449\n",
            "size_Single/Couple    -0.3161      0.188     -1.683      0.094      -0.687       0.055\n",
            "==============================================================================\n",
            "Omnibus:                       16.578   Durbin-Watson:                   2.036\n",
            "Prob(Omnibus):                  0.000   Jarque-Bera (JB):               23.927\n",
            "Skew:                           0.535   Prob(JB):                     6.37e-06\n",
            "Kurtosis:                       4.382   Cond. No.                         130.\n",
            "==============================================================================\n",
            "\n",
            "Notes:\n",
            "[1] Standard Errors assume that the covariance matrix of the errors is correctly specified.\n"
          ]
        }
      ],
      "source": [
        "print(multiLR_result.summary())"
      ]
    },
    {
      "cell_type": "markdown",
      "metadata": {},
      "source": [
        "- sex_Female = -0.0103 -> sex_male lebih banyak sebesar 0.0103\n",
        "- smoker_No = 0.0260 -> smoker_No lebih banyak sebesar 0.0260\n",
        "- day_Fri = -0.0083 -> day_Thu lebih banyak sebesar -0.0083\n",
        "- day_Sat = -0.2262 -> day_thu lebih banyak sebesar -0.2262\n",
        "- day_Sun = 0.0587 -> day_Sun lebih banyak sebesar 0.0587 dari day_Thu"
      ]
    },
    {
      "cell_type": "markdown",
      "metadata": {
        "id": "UPhKTqFDM8BJ"
      },
      "source": [
        "Persamaan regresi linear:\n",
        " - y = 1.3868 + 0.0935*total_bill + -0.0103*sex_Female + 0.0260*smoker_No ...\n",
        "\n",
        "R-Squared:\n",
        "- 1\n",
        "\n",
        "F-test (Simultant test):\n",
        "- 1\n",
        "\n",
        "t-test (Partial test)\n",
        "- 1\n",
        "\n",
        "Parameter Estimate:\n",
        "- 1\n",
        "\n",
        "Limitasi model:\n",
        "- 1\n",
        "\n",
        "Residual:\n",
        "- 1"
      ]
    },
    {
      "cell_type": "markdown",
      "metadata": {
        "id": "C3KVYvqXM8BJ"
      },
      "source": [
        "### `Conclusion`\n",
        "\n",
        "Berdasarkan pemodelan yang sudah dilakukan, besarnya `tip` dipengaruhi oleh 'total_bill'.\n",
        "\n",
        "Metrik evaluasi yang digunakan pada model adalah nilai MSE dan RMSE. Jika ditinjau dari nilai RMSE yang dihasilkan oleh model yaitu sebesar $0.85, artinya jika model ini digunakan untuk memperkirakan tip, hasil prediksi akan meleset $0.85 dari tip seharusnya.\n",
        "Tetapi, tidak menutup kemungkinan juga prediksinya meleset lebih jauh karena bias. Bias yang dihasilkan oleh model ini dikarenakan oleh terbatasnya fitur pada dataset yang bisa merepresentasikan tip (selain total bill)"
      ]
    },
    {
      "cell_type": "markdown",
      "metadata": {
        "id": "94RXqNR2M8BJ"
      },
      "source": [
        "### `Recommendations`\n",
        "\n",
        "Hal yang dapat dilakukan utnuk mengembangkan model agar lebih baik lagi, seperti:\n",
        "\n",
        "1. Mengecek prediksi mana saja yang memiliki nilai error yang tinggi. Kita dapat mengelompokkan error tersebut ke dalam grup overestimation dan underestimation, lalu memilih 5% error paling ekstrim saja untuk tiap grup. nantinya pengelompokkan akan menjadi 3 grup, yaitu overestimation (5%), underestimation (5%), dan grup mayoritas yang error-nya mendekati nilai mean (90%). Setelahnya kita bisa mengecek hubungan antara error tersebut dengan variabel independen. pada akhirnya kita dapat mengetahui sebenarnya variabel mana saja dari aspek apa yang menyebabkan model menghasilkan error yang tinggi, sehingga kita bisa melakukan training ulang dengan penerapan feature engineering lainnya.\n",
        "\n",
        "2. Jika memungkinkan, penambahan fitur yang lebih korelatif dengan target ('tips')\n",
        "\n",
        "3. Jika ada penambahan banyak data, dapat dicoba dengan menggunakan model yang lebih komples, seperti recursive neural networks (RNN). Namun, kalau jumlah data dan fiturnya masih seperti dataset ini, kemungkinan besar tidak akan mengubah hasilnya secara signifikan.\n",
        "\n",
        "4. Model yang sudah dibangun ini bisa dimanfaatkan untuk pengembangan pembuatan model lainnya.\n"
      ]
    }
  ],
  "metadata": {
    "colab": {
      "provenance": []
    },
    "kernelspec": {
      "display_name": "Python 3",
      "language": "python",
      "name": "python3"
    },
    "language_info": {
      "codemirror_mode": {
        "name": "ipython",
        "version": 3
      },
      "file_extension": ".py",
      "mimetype": "text/x-python",
      "name": "python",
      "nbconvert_exporter": "python",
      "pygments_lexer": "ipython3",
      "version": "3.12.2"
    }
  },
  "nbformat": 4,
  "nbformat_minor": 0
}
