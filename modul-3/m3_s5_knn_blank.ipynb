{
 "cells": [
  {
   "cell_type": "markdown",
   "metadata": {},
   "source": [
    "### `K-Nearest Neighbor`\n",
    "\n",
    "A simple but powerful approach for making predictions is to use the most similar historical examples to the new data. This is the principle behind the k-Nearest Neighbors algorithm. Similarity between records can be measured many different ways. A problem or data-specific method can be used. Generally, with tabular data, a good starting point is the Euclidean distance.\n",
    "\n",
    "This k-Nearest Neighbors tutorial is broken down into 3 parts:\n",
    "\n",
    "- **Step 1**: Calculate Euclidean Distance.\n",
    "- **Step 2**: Get Nearest Neighbors.\n",
    "- **Step 3**: Make Predictions.\n",
    "\n",
    "These steps will teach you the fundamentals of implementing and applying the k-Nearest Neighbors algorithm for classification and regression predictive modeling problems."
   ]
  },
  {
   "cell_type": "markdown",
   "metadata": {},
   "source": [
    "#### **Calculate Distance**\n",
    "\n",
    "The first step is to calculate the distance between two rows in a dataset.\n",
    "\n",
    "Rows of data are mostly made up of numbers and an easy way to calculate the distance between two rows or vectors of numbers is to draw a straight line. \n",
    "\n",
    "We can calculate the straight line distance between two vectors using the Euclidean distance measure. It is calculated as the square root of the sum of the squared differences between the two vectors.\n",
    "\n",
    "$$ d = \\sqrt{\\sum_{j=1}^p (x1_j-x2_j)^2}$$\n",
    "\n",
    "Where: \n",
    "- x1 is the first row of data, \n",
    "- x2 is the second row of data and \n",
    "- j is the index to a specific column as we sum across all columns.\n",
    "\n",
    "With Euclidean distance, the smaller the value, the more similar two records will be. A value of 0 means that there is no difference between two records"
   ]
  },
  {
   "cell_type": "code",
   "execution_count": 39,
   "metadata": {},
   "outputs": [],
   "source": [
    "import numpy as np\n",
    "test = [12,15,16]\n",
    "train = [12,16,17]\n",
    "\n",
    "def euclidean_distance(train,test):\n",
    "    distance_square = 0\n",
    "    for i in range(len(test)):\n",
    "        distance_square += (test[i]-train[i])**2\n",
    "    distance = np.sqrt(distance_square)\n",
    "    return distance"
   ]
  },
  {
   "cell_type": "code",
   "execution_count": 40,
   "metadata": {},
   "outputs": [
    {
     "data": {
      "text/plain": [
       "np.float64(1.4142135623730951)"
      ]
     },
     "execution_count": 40,
     "metadata": {},
     "output_type": "execute_result"
    }
   ],
   "source": [
    "\n",
    "euclidean_distance(train,test)"
   ]
  },
  {
   "cell_type": "markdown",
   "metadata": {},
   "source": [
    "#### **Get Nearest Neighbor**\n",
    "\n",
    "To locate the neighbors for a new piece of data within a dataset we must first calculate the distance between each record in the dataset to the new piece of data. We can do this using our distance function prepared above. Once distances are calculated, we must sort all of the records in the training dataset by their distance to the new data. We can then select the top k to return as the most similar neighbors.\n"
   ]
  },
  {
   "cell_type": "code",
   "execution_count": 41,
   "metadata": {},
   "outputs": [],
   "source": [
    "train = [\n",
    "    [12,16,17,1],\n",
    "    [20,13,18,1],\n",
    "    [9,14,18,0],\n",
    "    [17,15,20,1],\n",
    "]\n",
    "\n",
    "test = [12,15,16]\n",
    "\n",
    "def get_neighbors(train,test,num_neighbors):\n",
    "    distances = []\n",
    "    for train_row in train:\n",
    "        dist = euclidean_distance(train_row, test)\n",
    "        distances.append((train_row,dist))\n",
    "        distances.sort(key=lambda x: x[1])\n",
    "\n",
    "    neighbors = []\n",
    "    for i in range(num_neighbors):\n",
    "        neighbors.append(distances[i][0])\n",
    "    \n",
    "    return neighbors"
   ]
  },
  {
   "cell_type": "code",
   "execution_count": 42,
   "metadata": {},
   "outputs": [
    {
     "data": {
      "text/plain": [
       "[[12, 16, 17, 1], [9, 14, 18, 0], [17, 15, 20, 1]]"
      ]
     },
     "execution_count": 42,
     "metadata": {},
     "output_type": "execute_result"
    }
   ],
   "source": [
    "get_neighbors(train,test,3)"
   ]
  },
  {
   "cell_type": "markdown",
   "metadata": {},
   "source": [
    "#### **Make Prediction**\n",
    "\n",
    "The most similar neighbors collected from the training dataset can be used to make predictions. In the case of classification, we can return the most represented class among the neighbors.\n"
   ]
  },
  {
   "cell_type": "code",
   "execution_count": 43,
   "metadata": {},
   "outputs": [],
   "source": [
    "def predict_classification(train,test,num_neighbors):\n",
    "    neighbors = get_neighbors(train,test,num_neighbors)\n",
    "    output_value = [row[-1] for row in neighbors]\n",
    "    # print(output_value)\n",
    "    prediction = max(set(output_value), key=output_value.count)\n",
    "    return prediction"
   ]
  },
  {
   "cell_type": "code",
   "execution_count": 44,
   "metadata": {},
   "outputs": [
    {
     "data": {
      "text/plain": [
       "1"
      ]
     },
     "execution_count": 44,
     "metadata": {},
     "output_type": "execute_result"
    }
   ],
   "source": [
    "predict_classification(train,[10,13,17],3)"
   ]
  },
  {
   "cell_type": "code",
   "execution_count": null,
   "metadata": {},
   "outputs": [],
   "source": []
  },
  {
   "cell_type": "markdown",
   "metadata": {},
   "source": [
    "#### **Scikit-learn Implementation**"
   ]
  },
  {
   "cell_type": "markdown",
   "metadata": {},
   "source": [
    "**Importing Libraries**"
   ]
  },
  {
   "cell_type": "code",
   "execution_count": 45,
   "metadata": {},
   "outputs": [],
   "source": [
    "import numpy as np \n",
    "import pandas as pd\n",
    "import seaborn as sns \n",
    "import matplotlib.pyplot as plt \n",
    "import statsmodels.api as sm"
   ]
  },
  {
   "cell_type": "markdown",
   "metadata": {},
   "source": [
    "### `Business Problem Understanding`\n",
    "\n",
    "**Problem Statement**\n",
    "Klasifikasi kualitas wine merupakan tugas yang sulit karena rasa adalah hal yang paling sedikit dipahami oleh indera manusia. Prediksi kualitas wine yang baik bisa sangat berguna dalam tahap sertifikasi, karena saat ini analisis sensorik dilakukan oleh manusia dengan cara pencicipan dimana hal ini merupakan pendekatan yang subjektif.\n",
    "\n",
    "**Goals**\n",
    "Menentukan kualitas dri wine berdasarkan fitur alcohol dan density.\n",
    "\n",
    "**Analytic Approach**\n",
    "Jadi yang perlu kita lakukan adalah menganalisis data untuk dapat menemukan pola dari fitur-fitur yang ada, yang membedakan satu wine dengan wine yang lain.\n",
    "\n",
    "Selanjutnya, kita akan membangun suatu model klasifikasi yang akan membantu perusahaan untuk dapat menyediakan tool prediksi kualitas dari wine baru, yang mana akan berguna untuk menentukan harga dari suatu wine.\n",
    "\n",
    "**Metric Evaluation**\n",
    "Evaluasi metrik yang akan digunakan adalah accuracy. Semakin tinggi nilainya, berarti model semakin akurat dalam melabeli kualitas wine sesuai dengan limitasi fitur yang digunakan."
   ]
  },
  {
   "cell_type": "markdown",
   "metadata": {},
   "source": [
    "### `Data Understanding`"
   ]
  },
  {
   "cell_type": "code",
   "execution_count": 46,
   "metadata": {},
   "outputs": [
    {
     "name": "stdout",
     "output_type": "stream",
     "text": [
      "jumlah baris dan kolom :(520, 3)\n"
     ]
    },
    {
     "data": {
      "text/html": [
       "<div>\n",
       "<style scoped>\n",
       "    .dataframe tbody tr th:only-of-type {\n",
       "        vertical-align: middle;\n",
       "    }\n",
       "\n",
       "    .dataframe tbody tr th {\n",
       "        vertical-align: top;\n",
       "    }\n",
       "\n",
       "    .dataframe thead th {\n",
       "        text-align: right;\n",
       "    }\n",
       "</style>\n",
       "<table border=\"1\" class=\"dataframe\">\n",
       "  <thead>\n",
       "    <tr style=\"text-align: right;\">\n",
       "      <th></th>\n",
       "      <th>alcohol</th>\n",
       "      <th>density</th>\n",
       "      <th>quality</th>\n",
       "    </tr>\n",
       "  </thead>\n",
       "  <tbody>\n",
       "    <tr>\n",
       "      <th>0</th>\n",
       "      <td>8.8</td>\n",
       "      <td>1.0010</td>\n",
       "      <td>6.0</td>\n",
       "    </tr>\n",
       "    <tr>\n",
       "      <th>1</th>\n",
       "      <td>9.5</td>\n",
       "      <td>0.9940</td>\n",
       "      <td>6.0</td>\n",
       "    </tr>\n",
       "    <tr>\n",
       "      <th>2</th>\n",
       "      <td>10.1</td>\n",
       "      <td>0.9951</td>\n",
       "      <td>6.0</td>\n",
       "    </tr>\n",
       "    <tr>\n",
       "      <th>3</th>\n",
       "      <td>9.9</td>\n",
       "      <td>0.9956</td>\n",
       "      <td>6.0</td>\n",
       "    </tr>\n",
       "    <tr>\n",
       "      <th>4</th>\n",
       "      <td>9.9</td>\n",
       "      <td>0.9956</td>\n",
       "      <td>6.0</td>\n",
       "    </tr>\n",
       "  </tbody>\n",
       "</table>\n",
       "</div>"
      ],
      "text/plain": [
       "   alcohol  density  quality\n",
       "0      8.8   1.0010      6.0\n",
       "1      9.5   0.9940      6.0\n",
       "2     10.1   0.9951      6.0\n",
       "3      9.9   0.9956      6.0\n",
       "4      9.9   0.9956      6.0"
      ]
     },
     "execution_count": 46,
     "metadata": {},
     "output_type": "execute_result"
    }
   ],
   "source": [
    "data = pd.read_csv('../csv/white_wine.csv')[['alcohol','density','quality']]\n",
    "\n",
    "print(f'jumlah baris dan kolom :{data.shape}')\n",
    "data.head()"
   ]
  },
  {
   "cell_type": "code",
   "execution_count": 47,
   "metadata": {},
   "outputs": [
    {
     "data": {
      "text/html": [
       "<div>\n",
       "<style scoped>\n",
       "    .dataframe tbody tr th:only-of-type {\n",
       "        vertical-align: middle;\n",
       "    }\n",
       "\n",
       "    .dataframe tbody tr th {\n",
       "        vertical-align: top;\n",
       "    }\n",
       "\n",
       "    .dataframe thead th {\n",
       "        text-align: right;\n",
       "    }\n",
       "</style>\n",
       "<table border=\"1\" class=\"dataframe\">\n",
       "  <thead>\n",
       "    <tr style=\"text-align: right;\">\n",
       "      <th></th>\n",
       "      <th>feature</th>\n",
       "      <th>data_type</th>\n",
       "      <th>null</th>\n",
       "      <th>negative</th>\n",
       "      <th>n_unique</th>\n",
       "      <th>min</th>\n",
       "      <th>max</th>\n",
       "      <th>sample_unique</th>\n",
       "    </tr>\n",
       "  </thead>\n",
       "  <tbody>\n",
       "    <tr>\n",
       "      <th>0</th>\n",
       "      <td>alcohol</td>\n",
       "      <td>float64</td>\n",
       "      <td>0.192308</td>\n",
       "      <td>False</td>\n",
       "      <td>45</td>\n",
       "      <td>8.5000</td>\n",
       "      <td>12.9000</td>\n",
       "      <td>[8.8, 9.5, 10.1, 9.9, 9.6, 11.0, 12.0, 9.7, 10...</td>\n",
       "    </tr>\n",
       "    <tr>\n",
       "      <th>1</th>\n",
       "      <td>density</td>\n",
       "      <td>float64</td>\n",
       "      <td>0.000000</td>\n",
       "      <td>False</td>\n",
       "      <td>100</td>\n",
       "      <td>0.9899</td>\n",
       "      <td>1.0033</td>\n",
       "      <td>[1.001, 0.994, 0.9951, 0.9956, 0.9949, 0.9938,...</td>\n",
       "    </tr>\n",
       "    <tr>\n",
       "      <th>2</th>\n",
       "      <td>quality</td>\n",
       "      <td>float64</td>\n",
       "      <td>0.192308</td>\n",
       "      <td>False</td>\n",
       "      <td>6</td>\n",
       "      <td>3.0000</td>\n",
       "      <td>8.0000</td>\n",
       "      <td>[6.0, 5.0, 7.0, 8.0, 4.0, 3.0, nan]</td>\n",
       "    </tr>\n",
       "  </tbody>\n",
       "</table>\n",
       "</div>"
      ],
      "text/plain": [
       "   feature data_type      null  negative  n_unique     min      max  \\\n",
       "0  alcohol   float64  0.192308     False        45  8.5000  12.9000   \n",
       "1  density   float64  0.000000     False       100  0.9899   1.0033   \n",
       "2  quality   float64  0.192308     False         6  3.0000   8.0000   \n",
       "\n",
       "                                       sample_unique  \n",
       "0  [8.8, 9.5, 10.1, 9.9, 9.6, 11.0, 12.0, 9.7, 10...  \n",
       "1  [1.001, 0.994, 0.9951, 0.9956, 0.9949, 0.9938,...  \n",
       "2                [6.0, 5.0, 7.0, 8.0, 4.0, 3.0, nan]  "
      ]
     },
     "execution_count": 47,
     "metadata": {},
     "output_type": "execute_result"
    }
   ],
   "source": [
    "pd.DataFrame({\n",
    "    'feature': data.columns.values,\n",
    "    'data_type': data.dtypes.values,\n",
    "    'null': data.isna().mean().values * 100,\n",
    "    'negative': [True if data[col].dtype == int and (data[col] < 0).any() else False for col in data.columns],\n",
    "    'n_unique': data.nunique().values,\n",
    "    'min': data.min().values,\n",
    "    'max': data.max().values,\n",
    "    'sample_unique': [data[col].unique() for col in data.columns]\n",
    "})"
   ]
  },
  {
   "cell_type": "markdown",
   "metadata": {},
   "source": [
    "**Insight**\n",
    "\n",
    "- Dataset terdiri dari 520 baris dan 12 kolom.\n",
    "- Semua variabel tergolong numerikal dan continous, kecuali quality yaitu diskrit\n",
    "- Format data dari variabel quality seharusnya integer\n",
    "- Skala dari variabel total sulfur dioxide dan free sulfur dioxide lebih besar dibanding yang lain."
   ]
  },
  {
   "cell_type": "markdown",
   "metadata": {},
   "source": [
    "### `Data Preparation`"
   ]
  },
  {
   "cell_type": "markdown",
   "metadata": {},
   "source": [
    "`Duplicates`"
   ]
  },
  {
   "cell_type": "markdown",
   "metadata": {},
   "source": [
    "**Duplicated Value**, Deteksi dan kuantifikasi duplikasi data"
   ]
  },
  {
   "cell_type": "code",
   "execution_count": 48,
   "metadata": {},
   "outputs": [
    {
     "name": "stdout",
     "output_type": "stream",
     "text": [
      "jumlah data duplikat adalah 115 baris\n",
      "persentase data duplikat 22.12%\n"
     ]
    }
   ],
   "source": [
    "print(f'jumlah data duplikat adalah {data.duplicated().sum()} baris')\n",
    "print(f'persentase data duplikat {data.duplicated().sum()/len(data)*100:.2f}%')"
   ]
  },
  {
   "cell_type": "markdown",
   "metadata": {},
   "source": [
    "Sebesar 22% data terindikasi duplikat, maka hilangkan salah satunya."
   ]
  },
  {
   "cell_type": "markdown",
   "metadata": {},
   "source": [
    "Handling duplikasi data:"
   ]
  },
  {
   "cell_type": "code",
   "execution_count": 49,
   "metadata": {},
   "outputs": [],
   "source": [
    "data.drop_duplicates(inplace=True, ignore_index=True)"
   ]
  },
  {
   "cell_type": "code",
   "execution_count": 50,
   "metadata": {},
   "outputs": [
    {
     "data": {
      "text/plain": [
       "(405, 3)"
      ]
     },
     "execution_count": 50,
     "metadata": {},
     "output_type": "execute_result"
    }
   ],
   "source": [
    "data.shape"
   ]
  },
  {
   "cell_type": "code",
   "execution_count": 51,
   "metadata": {},
   "outputs": [
    {
     "data": {
      "text/plain": [
       "np.int64(0)"
      ]
     },
     "execution_count": 51,
     "metadata": {},
     "output_type": "execute_result"
    }
   ],
   "source": [
    "data.duplicated().sum()"
   ]
  },
  {
   "cell_type": "markdown",
   "metadata": {},
   "source": [
    "`Missing Values`"
   ]
  },
  {
   "cell_type": "markdown",
   "metadata": {},
   "source": [
    "Deteksi dan kuantifikasi missing value"
   ]
  },
  {
   "cell_type": "code",
   "execution_count": 52,
   "metadata": {},
   "outputs": [
    {
     "data": {
      "text/plain": [
       "alcohol    1\n",
       "density    0\n",
       "quality    1\n",
       "dtype: int64"
      ]
     },
     "execution_count": 52,
     "metadata": {},
     "output_type": "execute_result"
    }
   ],
   "source": [
    "data.isna().sum()"
   ]
  },
  {
   "cell_type": "markdown",
   "metadata": {},
   "source": [
    "Dua variabel (alcohol, quality) berisi 1 point data atau 0.2% missing value."
   ]
  },
  {
   "cell_type": "markdown",
   "metadata": {},
   "source": [
    "Handling missing value:"
   ]
  },
  {
   "cell_type": "code",
   "execution_count": 53,
   "metadata": {},
   "outputs": [],
   "source": [
    "data.dropna(inplace=True)"
   ]
  },
  {
   "cell_type": "code",
   "execution_count": 54,
   "metadata": {},
   "outputs": [
    {
     "data": {
      "text/plain": [
       "alcohol    0\n",
       "density    0\n",
       "quality    0\n",
       "dtype: int64"
      ]
     },
     "execution_count": 54,
     "metadata": {},
     "output_type": "execute_result"
    }
   ],
   "source": [
    "data.isna().sum()"
   ]
  },
  {
   "cell_type": "markdown",
   "metadata": {},
   "source": [
    "`Rare Labels`"
   ]
  },
  {
   "cell_type": "markdown",
   "metadata": {},
   "source": [
    "Deteksi dan kuantifikasi rare value:"
   ]
  },
  {
   "cell_type": "code",
   "execution_count": 55,
   "metadata": {},
   "outputs": [
    {
     "data": {
      "text/plain": [
       "quality\n",
       "6.0    45.049505\n",
       "5.0    31.435644\n",
       "7.0    15.099010\n",
       "4.0     4.207921\n",
       "8.0     3.217822\n",
       "3.0     0.990099\n",
       "Name: proportion, dtype: float64"
      ]
     },
     "execution_count": 55,
     "metadata": {},
     "output_type": "execute_result"
    }
   ],
   "source": [
    "data['quality'].value_counts(normalize=True)*100"
   ]
  },
  {
   "cell_type": "markdown",
   "metadata": {},
   "source": [
    "Lebih dari 50% didominasi oleh anggur dengan kualitas lebih dari 6."
   ]
  },
  {
   "cell_type": "markdown",
   "metadata": {},
   "source": [
    "Handling rare value:"
   ]
  },
  {
   "cell_type": "code",
   "execution_count": 56,
   "metadata": {},
   "outputs": [],
   "source": [
    "data['quality'] = np.where(data['quality']>6,1,0)"
   ]
  },
  {
   "cell_type": "code",
   "execution_count": 57,
   "metadata": {},
   "outputs": [
    {
     "data": {
      "text/plain": [
       "quality\n",
       "0    330\n",
       "1     74\n",
       "Name: count, dtype: int64"
      ]
     },
     "execution_count": 57,
     "metadata": {},
     "output_type": "execute_result"
    }
   ],
   "source": [
    "data['quality'].value_counts()"
   ]
  },
  {
   "cell_type": "markdown",
   "metadata": {},
   "source": [
    "`Outliers`"
   ]
  },
  {
   "cell_type": "markdown",
   "metadata": {},
   "source": [
    "Deteksi dan kuantifikasi outlier:"
   ]
  },
  {
   "cell_type": "code",
   "execution_count": 58,
   "metadata": {},
   "outputs": [
    {
     "data": {
      "text/plain": [
       "Text(0.5, 1.2, 'Data Distribution')"
      ]
     },
     "execution_count": 58,
     "metadata": {},
     "output_type": "execute_result"
    },
    {
     "data": {
      "image/png": "[encoded data removed]",
      "text/plain": [
       "<Figure size 2000x400 with 2 Axes>"
      ]
     },
     "metadata": {},
     "output_type": "display_data"
    }
   ],
   "source": [
    "fig, ax = plt.subplots(2,1,figsize=(20,4))\n",
    "sns.boxplot(data=data,x='alcohol',ax=ax[0])\n",
    "sns.boxplot(data=data,x='density',ax=ax[1])\n",
    "ax[0].set_title('Data Distribution',y=1.2)"
   ]
  },
  {
   "cell_type": "markdown",
   "metadata": {},
   "source": [
    "Tidak terdapat outlier pada variabel density."
   ]
  },
  {
   "cell_type": "markdown",
   "metadata": {},
   "source": [
    "`Imbalance Data`"
   ]
  },
  {
   "cell_type": "markdown",
   "metadata": {},
   "source": [
    "Deteksi dan kuantifikasi proporsi label target"
   ]
  },
  {
   "cell_type": "code",
   "execution_count": 59,
   "metadata": {},
   "outputs": [
    {
     "data": {
      "text/plain": [
       "quality\n",
       "0    0.816832\n",
       "1    0.183168\n",
       "Name: proportion, dtype: float64"
      ]
     },
     "execution_count": 59,
     "metadata": {},
     "output_type": "execute_result"
    }
   ],
   "source": [
    "data['quality'].value_counts(normalize=True)"
   ]
  },
  {
   "cell_type": "markdown",
   "metadata": {},
   "source": [
    "Persentase jumlah label 0 (81.6%) lebih banyak dibandingkan label 1 (18.2%), ini termasuk imbalance."
   ]
  },
  {
   "cell_type": "markdown",
   "metadata": {},
   "source": [
    "`Check Multicollinearity`"
   ]
  },
  {
   "cell_type": "markdown",
   "metadata": {},
   "source": [
    "Deteksi multicollinearity antar fitur dengan VIF."
   ]
  },
  {
   "cell_type": "code",
   "execution_count": 60,
   "metadata": {},
   "outputs": [
    {
     "data": {
      "text/html": [
       "<div>\n",
       "<style scoped>\n",
       "    .dataframe tbody tr th:only-of-type {\n",
       "        vertical-align: middle;\n",
       "    }\n",
       "\n",
       "    .dataframe tbody tr th {\n",
       "        vertical-align: top;\n",
       "    }\n",
       "\n",
       "    .dataframe thead th {\n",
       "        text-align: right;\n",
       "    }\n",
       "</style>\n",
       "<table border=\"1\" class=\"dataframe\">\n",
       "  <thead>\n",
       "    <tr style=\"text-align: right;\">\n",
       "      <th></th>\n",
       "      <th>VIF Factor</th>\n",
       "      <th>Feature</th>\n",
       "    </tr>\n",
       "  </thead>\n",
       "  <tbody>\n",
       "    <tr>\n",
       "      <th>0</th>\n",
       "      <td>88.56</td>\n",
       "      <td>alcohol</td>\n",
       "    </tr>\n",
       "    <tr>\n",
       "      <th>1</th>\n",
       "      <td>88.56</td>\n",
       "      <td>density</td>\n",
       "    </tr>\n",
       "  </tbody>\n",
       "</table>\n",
       "</div>"
      ],
      "text/plain": [
       "   VIF Factor  Feature\n",
       "0       88.56  alcohol\n",
       "1       88.56  density"
      ]
     },
     "execution_count": 60,
     "metadata": {},
     "output_type": "execute_result"
    }
   ],
   "source": [
    "from statsmodels.stats.outliers_influence import variance_inflation_factor \n",
    "\n",
    "X = data.drop(columns='quality')\n",
    "y = data['quality']\n",
    "\n",
    "vif = pd.DataFrame()\n",
    "vif[\"VIF Factor\"] = [variance_inflation_factor(X.values, i) for i in range(X.shape[1])]\n",
    "vif[\"Feature\"] =  X.columns\n",
    "\n",
    "vif.round(2)"
   ]
  },
  {
   "cell_type": "markdown",
   "metadata": {},
   "source": [
    "Terdapat multicollinearity antara fitur alcohol dan density. Saat menggunakan model linear, multicollinearity seharusnya dihindari. Namun untuk studi kasus ini kita akan pertahankan dahulu."
   ]
  },
  {
   "cell_type": "markdown",
   "metadata": {},
   "source": [
    "**Feature Engineering**\n",
    "\n",
    "Bagi dataset menjadi train dan test set."
   ]
  },
  {
   "cell_type": "code",
   "execution_count": 61,
   "metadata": {},
   "outputs": [
    {
     "data": {
      "text/plain": [
       "((323, 2), (81, 2))"
      ]
     },
     "execution_count": 61,
     "metadata": {},
     "output_type": "execute_result"
    }
   ],
   "source": [
    "from sklearn.model_selection import train_test_split\n",
    "X_train, X_test, y_train, y_test = train_test_split(X,y,test_size=.2,random_state=0,stratify=y)\n",
    "X_train.shape, X_test.shape\n"
   ]
  },
  {
   "cell_type": "markdown",
   "metadata": {},
   "source": [
    "### `Model Experiment`"
   ]
  },
  {
   "cell_type": "markdown",
   "metadata": {},
   "source": [
    "Setting parameter dasar untuk menginisialisasi experiment dan membuat pipeline transformasi"
   ]
  },
  {
   "cell_type": "code",
   "execution_count": 62,
   "metadata": {},
   "outputs": [],
   "source": [
    "from sklearn.compose import ColumnTransformer\n",
    "from sklearn.preprocessing import RobustScaler #scaling\n",
    "\n",
    "#define Transformer\n",
    "transformer = ColumnTransformer([\n",
    "    ('scaler', RobustScaler(), ['alcohol', 'density'])\n",
    "], remainder='passthrough')\n",
    "\n",
    "#fit\n",
    "X_train_scale = transformer.fit_transform(X_train)\n",
    "X_test_scale = transformer.transform(X_test)"
   ]
  },
  {
   "cell_type": "code",
   "execution_count": 63,
   "metadata": {},
   "outputs": [
    {
     "data": {
      "text/plain": [
       "array([[ 0.25806452, -0.53012048],\n",
       "       [-0.58064516,  0.93975904],\n",
       "       [ 0.64516129, -0.28915663],\n",
       "       [ 0.38709677, -0.53012048],\n",
       "       [ 1.87096774, -0.07228916],\n",
       "       [-0.64516129,  0.57831325],\n",
       "       [ 1.67741935,  0.04819277],\n",
       "       [-0.70967742,  0.26506024],\n",
       "       [ 0.32258065, -0.74698795],\n",
       "       [ 1.5483871 ,  0.26506024],\n",
       "       [ 0.32258065, -0.12048193],\n",
       "       [ 0.51612903, -0.74698795],\n",
       "       [ 0.38709677, -0.77108434],\n",
       "       [-0.83870968,  0.57831325],\n",
       "       [ 0.32258065, -0.31325301],\n",
       "       [-0.64516129,  0.6746988 ],\n",
       "       [-0.25806452, -0.21686747],\n",
       "       [-0.64516129,  0.12048193],\n",
       "       [-0.38709677,  0.45783133],\n",
       "       [ 0.90322581, -0.5060241 ],\n",
       "       [-0.77419355,  0.6746988 ],\n",
       "       [-0.32258065,  0.93975904],\n",
       "       [-0.12903226,  0.07228916],\n",
       "       [ 1.03225806, -0.89156627],\n",
       "       [ 0.90322581, -1.13253012],\n",
       "       [ 0.64516129,  0.26506024],\n",
       "       [ 0.77419355,  0.40963855],\n",
       "       [-0.70967742, -0.24096386],\n",
       "       [-0.77419355,  0.69879518],\n",
       "       [ 1.5483871 , -0.19277108],\n",
       "       [-0.25806452, -0.55421687],\n",
       "       [ 0.64516129, -0.31325301],\n",
       "       [-0.77419355,  0.19277108],\n",
       "       [ 0.        ,  0.69879518],\n",
       "       [-0.25806452,  0.98795181],\n",
       "       [-0.58064516,  0.43373494],\n",
       "       [ 0.38709677, -0.93975904],\n",
       "       [ 0.96774194,  0.36144578],\n",
       "       [-0.25806452,  0.55421687],\n",
       "       [ 0.64516129, -0.31325301],\n",
       "       [ 0.25806452,  0.43373494],\n",
       "       [-0.06451613,  0.79518072],\n",
       "       [ 0.        ,  0.21686747],\n",
       "       [ 0.25806452, -0.74698795],\n",
       "       [ 0.32258065, -0.79518072],\n",
       "       [ 0.51612903, -0.74698795],\n",
       "       [-0.32258065,  0.09638554],\n",
       "       [ 0.64516129,  0.57831325],\n",
       "       [ 0.12903226, -0.31325301],\n",
       "       [ 1.61290323, -0.19277108],\n",
       "       [-0.51612903,  0.1686747 ],\n",
       "       [-0.70967742,  1.08433735],\n",
       "       [ 1.61290323, -1.22891566],\n",
       "       [-0.83870968,  0.55421687],\n",
       "       [ 1.35483871, -1.03614458],\n",
       "       [ 0.32258065,  0.24096386],\n",
       "       [ 0.83870968, -0.81927711],\n",
       "       [-0.70967742,  0.5060241 ],\n",
       "       [ 0.38709677, -0.81927711],\n",
       "       [ 1.74193548, -1.08433735],\n",
       "       [-0.58064516,  0.57831325],\n",
       "       [ 0.32258065, -0.57831325],\n",
       "       [ 1.35483871, -0.1686747 ],\n",
       "       [ 1.61290323, -0.91566265],\n",
       "       [ 0.25806452,  0.62650602],\n",
       "       [ 0.25806452, -0.1686747 ],\n",
       "       [-0.06451613,  0.40963855],\n",
       "       [ 0.58064516, -1.10843373],\n",
       "       [-0.83870968,  1.18072289],\n",
       "       [-0.25806452,  0.74698795],\n",
       "       [-0.64516129, -0.28915663],\n",
       "       [-0.06451613,  0.40963855],\n",
       "       [ 0.32258065, -0.98795181],\n",
       "       [-0.4516129 ,  0.74698795],\n",
       "       [-0.38709677, -0.45783133],\n",
       "       [ 0.38709677, -0.45783133],\n",
       "       [-0.51612903, -0.36144578],\n",
       "       [-0.12903226, -0.02409639],\n",
       "       [ 0.25806452, -0.26506024],\n",
       "       [-0.58064516,  0.40963855],\n",
       "       [-0.32258065,  0.60240964],\n",
       "       [ 0.51612903,  0.12048193],\n",
       "       [-0.58064516, -0.36144578],\n",
       "       [-0.19354839, -0.02409639],\n",
       "       [-0.06451613, -0.04819277],\n",
       "       [ 1.48387097,  0.12048193],\n",
       "       [ 1.35483871,  0.5060241 ],\n",
       "       [ 1.29032258, -0.04819277],\n",
       "       [ 0.12903226, -0.40963855],\n",
       "       [ 0.96774194,  0.38554217],\n",
       "       [ 1.80645161, -1.10843373],\n",
       "       [ 0.90322581,  0.04819277],\n",
       "       [-0.38709677,  0.26506024],\n",
       "       [-0.83870968,  0.55421687],\n",
       "       [-0.19354839, -0.09638554],\n",
       "       [-0.12903226, -0.74698795],\n",
       "       [-0.58064516,  1.18072289],\n",
       "       [ 0.12903226,  0.93975904],\n",
       "       [ 1.16129032, -0.96385542],\n",
       "       [-0.51612903,  0.81927711],\n",
       "       [-0.64516129,  1.15662651],\n",
       "       [ 1.16129032, -1.08433735],\n",
       "       [ 0.06451613, -0.72289157],\n",
       "       [ 1.87096774, -0.21686747],\n",
       "       [-0.19354839,  1.37349398],\n",
       "       [-0.12903226,  1.34939759],\n",
       "       [-0.51612903,  0.3373494 ],\n",
       "       [-0.32258065,  0.45783133],\n",
       "       [ 0.64516129, -0.48192771],\n",
       "       [-0.77419355,  0.79518072],\n",
       "       [ 0.        ,  0.60240964],\n",
       "       [-0.64516129,  1.18072289],\n",
       "       [-0.70967742,  0.26506024],\n",
       "       [-0.25806452,  0.65060241],\n",
       "       [-0.12903226, -0.65060241],\n",
       "       [-0.70967742,  0.26506024],\n",
       "       [ 0.12903226,  0.26506024],\n",
       "       [ 1.22580645,  0.45783133],\n",
       "       [-0.64516129,  0.19277108],\n",
       "       [-0.38709677, -0.45783133],\n",
       "       [-0.58064516, -0.21686747],\n",
       "       [ 0.        , -0.24096386],\n",
       "       [-0.58064516, -0.40963855],\n",
       "       [-0.51612903,  0.43373494],\n",
       "       [-0.4516129 ,  0.5060241 ],\n",
       "       [ 0.96774194, -0.3373494 ],\n",
       "       [ 1.80645161, -0.21686747],\n",
       "       [-0.70967742,  1.18072289],\n",
       "       [-0.12903226, -0.38554217],\n",
       "       [ 0.77419355, -0.86746988],\n",
       "       [ 0.32258065, -0.26506024],\n",
       "       [ 0.12903226,  0.40963855],\n",
       "       [-0.25806452,  0.5060241 ],\n",
       "       [-0.25806452, -0.65060241],\n",
       "       [-0.25806452, -0.3373494 ],\n",
       "       [-0.51612903, -0.26506024],\n",
       "       [-0.77419355,  0.5060241 ],\n",
       "       [ 0.        , -0.12048193],\n",
       "       [ 0.77419355, -0.72289157],\n",
       "       [ 0.83870968, -0.89156627],\n",
       "       [-0.25806452,  0.6746988 ],\n",
       "       [ 0.25806452,  0.07228916],\n",
       "       [-0.12903226, -0.57831325],\n",
       "       [ 1.16129032, -0.6746988 ],\n",
       "       [-0.70967742,  0.69879518],\n",
       "       [ 0.25806452, -0.74698795],\n",
       "       [ 1.5483871 ,  0.12048193],\n",
       "       [-0.64516129,  0.14457831],\n",
       "       [ 0.51612903,  0.38554217],\n",
       "       [-0.83870968,  0.57831325],\n",
       "       [-0.4516129 ,  0.57831325],\n",
       "       [ 0.64516129,  0.31325301],\n",
       "       [ 0.        , -0.74698795],\n",
       "       [-0.38709677, -0.26506024],\n",
       "       [ 0.        , -0.5060241 ],\n",
       "       [-0.4516129 ,  1.97590361],\n",
       "       [ 1.29032258, -1.03614458],\n",
       "       [ 0.4516129 , -0.74698795],\n",
       "       [ 0.51612903, -0.6746988 ],\n",
       "       [ 0.25806452, -0.14457831],\n",
       "       [-0.25806452, -0.21686747],\n",
       "       [ 0.90322581,  0.28915663],\n",
       "       [-0.32258065,  0.36144578],\n",
       "       [-0.64516129,  1.51807229],\n",
       "       [-0.4516129 , -0.3373494 ],\n",
       "       [ 0.90322581, -0.55421687],\n",
       "       [ 0.77419355, -1.08433735],\n",
       "       [ 0.70967742, -0.89156627],\n",
       "       [-0.77419355,  1.06024096],\n",
       "       [-0.64516129,  1.87951807],\n",
       "       [-0.12903226,  0.5060241 ],\n",
       "       [ 0.19354839,  1.22891566],\n",
       "       [ 1.09677419, -0.81927711],\n",
       "       [-0.58064516, -0.21686747],\n",
       "       [ 0.64516129, -1.03614458],\n",
       "       [-0.32258065, -0.26506024],\n",
       "       [-0.06451613, -0.60240964],\n",
       "       [ 0.90322581,  0.31325301],\n",
       "       [ 0.64516129,  0.62650602],\n",
       "       [ 1.09677419, -1.03614458],\n",
       "       [ 0.25806452, -0.60240964],\n",
       "       [ 0.06451613, -0.24096386],\n",
       "       [-0.19354839,  0.5060241 ],\n",
       "       [ 0.51612903, -0.79518072],\n",
       "       [ 0.38709677, -0.84337349],\n",
       "       [ 1.41935484,  0.45783133],\n",
       "       [-0.77419355,  0.89156627],\n",
       "       [ 0.32258065, -0.53012048],\n",
       "       [ 0.77419355,  0.12048193],\n",
       "       [-0.83870968,  1.42168675],\n",
       "       [ 0.        ,  0.07228916],\n",
       "       [ 0.19354839,  0.62650602],\n",
       "       [ 1.48387097,  0.26506024],\n",
       "       [ 1.29032258,  0.26506024],\n",
       "       [ 0.        ,  0.31325301],\n",
       "       [ 0.        ,  0.55421687],\n",
       "       [-0.32258065, -0.57831325],\n",
       "       [ 0.64516129, -0.93975904],\n",
       "       [ 0.12903226, -0.65060241],\n",
       "       [-0.70967742,  0.24096386],\n",
       "       [ 0.32258065, -0.14457831],\n",
       "       [ 1.09677419, -0.91566265],\n",
       "       [-0.4516129 ,  0.77108434],\n",
       "       [ 1.61290323,  0.26506024],\n",
       "       [-0.19354839, -0.26506024],\n",
       "       [ 0.        , -0.07228916],\n",
       "       [ 0.90322581, -0.81927711],\n",
       "       [-0.77419355,  1.42168675],\n",
       "       [-0.90322581,  1.15662651],\n",
       "       [-0.51612903,  0.74698795],\n",
       "       [ 0.        ,  0.        ],\n",
       "       [ 0.58064516,  0.21686747],\n",
       "       [-0.12903226,  0.74698795],\n",
       "       [ 0.4516129 ,  0.60240964],\n",
       "       [-0.19354839, -0.09638554],\n",
       "       [ 0.77419355,  0.74698795],\n",
       "       [ 0.        ,  0.31325301],\n",
       "       [ 0.12903226,  0.79518072],\n",
       "       [-0.06451613, -0.02409639],\n",
       "       [ 1.5483871 ,  0.36144578],\n",
       "       [-0.58064516, -0.24096386],\n",
       "       [-0.25806452, -0.04819277],\n",
       "       [-0.51612903, -0.31325301],\n",
       "       [ 0.96774194,  0.77108434],\n",
       "       [-0.58064516,  0.69879518],\n",
       "       [ 1.74193548, -0.07228916],\n",
       "       [-0.51612903, -0.40963855],\n",
       "       [ 0.12903226, -0.48192771],\n",
       "       [-0.06451613,  0.12048193],\n",
       "       [ 0.06451613,  0.12048193],\n",
       "       [ 1.35483871, -1.25301205],\n",
       "       [-0.19354839, -0.55421687],\n",
       "       [ 0.4516129 , -0.26506024],\n",
       "       [ 0.77419355, -0.98795181],\n",
       "       [ 0.12903226, -0.1686747 ],\n",
       "       [ 0.38709677, -0.57831325],\n",
       "       [-0.19354839, -0.31325301],\n",
       "       [ 0.90322581,  0.53012048],\n",
       "       [-0.06451613, -0.3373494 ],\n",
       "       [ 1.29032258, -1.06024096],\n",
       "       [-0.32258065, -0.5060241 ],\n",
       "       [ 0.90322581, -1.06024096],\n",
       "       [ 0.96774194,  0.79518072],\n",
       "       [ 0.12903226, -0.57831325],\n",
       "       [ 0.90322581, -0.81927711],\n",
       "       [-0.77419355,  0.60240964],\n",
       "       [-0.83870968, -0.48192771],\n",
       "       [-0.77419355, -0.1686747 ],\n",
       "       [-0.38709677,  0.60240964],\n",
       "       [-0.4516129 ,  0.        ],\n",
       "       [-0.25806452,  0.60240964],\n",
       "       [-0.77419355,  0.24096386],\n",
       "       [-0.64516129,  0.65060241],\n",
       "       [-0.58064516,  0.26506024],\n",
       "       [ 0.        ,  0.1686747 ],\n",
       "       [-0.58064516,  0.02409639],\n",
       "       [ 1.74193548,  0.12048193],\n",
       "       [-0.64516129,  0.6746988 ],\n",
       "       [ 0.19354839, -0.57831325],\n",
       "       [ 0.        , -0.48192771],\n",
       "       [ 0.64516129, -0.81927711],\n",
       "       [-0.58064516, -0.40963855],\n",
       "       [ 0.12903226, -0.40963855],\n",
       "       [ 0.        , -0.24096386],\n",
       "       [-0.51612903, -0.36144578],\n",
       "       [ 0.06451613,  0.        ],\n",
       "       [ 0.32258065,  0.6746988 ],\n",
       "       [-0.12903226,  0.69879518],\n",
       "       [-0.32258065,  0.3373494 ],\n",
       "       [ 1.41935484, -1.22891566],\n",
       "       [ 0.83870968, -0.6746988 ],\n",
       "       [ 0.64516129, -0.65060241],\n",
       "       [-0.19354839,  0.36144578],\n",
       "       [ 0.38709677, -0.38554217],\n",
       "       [-0.32258065,  0.1686747 ],\n",
       "       [-0.25806452,  0.53012048],\n",
       "       [ 0.32258065, -0.36144578],\n",
       "       [-0.83870968,  1.13253012],\n",
       "       [ 0.        ,  0.55421687],\n",
       "       [ 0.        , -0.57831325],\n",
       "       [-0.96774194,  0.48192771],\n",
       "       [ 0.        ,  0.45783133],\n",
       "       [ 0.51612903, -0.6746988 ],\n",
       "       [ 0.58064516, -0.96385542],\n",
       "       [-0.38709677,  0.91566265],\n",
       "       [-0.19354839, -0.14457831],\n",
       "       [-0.19354839, -0.21686747],\n",
       "       [ 1.67741935, -0.79518072],\n",
       "       [ 0.70967742,  0.40963855],\n",
       "       [-0.58064516, -0.36144578],\n",
       "       [ 0.25806452, -0.77108434],\n",
       "       [ 1.67741935, -0.12048193],\n",
       "       [-0.4516129 ,  0.24096386],\n",
       "       [ 0.19354839, -0.74698795],\n",
       "       [ 0.        ,  0.89156627],\n",
       "       [ 0.19354839, -0.6746988 ],\n",
       "       [-0.4516129 ,  0.79518072],\n",
       "       [ 0.58064516,  0.09638554],\n",
       "       [ 0.06451613, -0.40963855],\n",
       "       [ 0.        , -0.1686747 ],\n",
       "       [ 0.        ,  0.72289157],\n",
       "       [-0.4516129 ,  0.45783133],\n",
       "       [-0.19354839, -0.1686747 ],\n",
       "       [-0.06451613, -0.3373494 ],\n",
       "       [-0.06451613,  0.21686747],\n",
       "       [-0.32258065, -0.40963855],\n",
       "       [-0.4516129 ,  0.40963855],\n",
       "       [-0.38709677,  0.55421687],\n",
       "       [ 0.25806452,  0.09638554],\n",
       "       [ 0.38709677, -0.57831325],\n",
       "       [-0.25806452,  1.03614458],\n",
       "       [-0.4516129 , -0.45783133],\n",
       "       [-0.25806452,  0.07228916],\n",
       "       [ 0.32258065,  0.55421687],\n",
       "       [ 0.4516129 , -0.84337349],\n",
       "       [-0.64516129,  0.        ],\n",
       "       [-0.19354839,  0.65060241],\n",
       "       [ 0.32258065,  1.27710843],\n",
       "       [-0.12903226,  0.07228916],\n",
       "       [-0.19354839, -0.1686747 ],\n",
       "       [ 0.38709677,  0.72289157],\n",
       "       [ 1.67741935, -0.98795181],\n",
       "       [-0.58064516, -0.5060241 ]])"
      ]
     },
     "execution_count": 63,
     "metadata": {},
     "output_type": "execute_result"
    }
   ],
   "source": [
    "X_train_scale"
   ]
  },
  {
   "cell_type": "markdown",
   "metadata": {},
   "source": [
    "**Benchmark Model**"
   ]
  },
  {
   "cell_type": "markdown",
   "metadata": {},
   "source": [
    "`Without Scaling`"
   ]
  },
  {
   "cell_type": "code",
   "execution_count": 64,
   "metadata": {},
   "outputs": [
    {
     "name": "stdout",
     "output_type": "stream",
     "text": [
      "Model accuracy in the test set: 0.938\n"
     ]
    }
   ],
   "source": [
    "from sklearn.neighbors import KNeighborsClassifier\n",
    "from sklearn.metrics import accuracy_score\n",
    "\n",
    "#define model\n",
    "estimator = KNeighborsClassifier(metric='euclidean')\n",
    "\n",
    "# fitting\n",
    "estimator.fit(X_train, y_train)\n",
    "\n",
    "#predict\n",
    "y_pred_test = estimator.predict(X_test)\n",
    "\n",
    "#evaluate\n",
    "print(f'Model accuracy in the test set: {accuracy_score(y_test, y_pred_test):.3f}')\n"
   ]
  },
  {
   "cell_type": "markdown",
   "metadata": {},
   "source": [
    "`With Scaling`"
   ]
  },
  {
   "cell_type": "code",
   "execution_count": 65,
   "metadata": {},
   "outputs": [
    {
     "name": "stdout",
     "output_type": "stream",
     "text": [
      "Model accuracy in the test set: 0.975\n"
     ]
    }
   ],
   "source": [
    "#define model\n",
    "estimator = KNeighborsClassifier(metric='euclidean')\n",
    "\n",
    "# fitting\n",
    "estimator.fit(X_train_scale, y_train)\n",
    "\n",
    "#predict\n",
    "y_pred_test = estimator.predict(X_test_scale)\n",
    "\n",
    "#evaluate\n",
    "print(f'Model accuracy in the test set: {accuracy_score(y_test, y_pred_test):.3f}')\n"
   ]
  },
  {
   "cell_type": "markdown",
   "metadata": {},
   "source": [
    "- KNN membutuhkan scaling"
   ]
  },
  {
   "cell_type": "markdown",
   "metadata": {},
   "source": [
    "**Model Selection**"
   ]
  },
  {
   "cell_type": "code",
   "execution_count": 66,
   "metadata": {},
   "outputs": [
    {
     "data": {
      "text/html": [
       "<div>\n",
       "<style scoped>\n",
       "    .dataframe tbody tr th:only-of-type {\n",
       "        vertical-align: middle;\n",
       "    }\n",
       "\n",
       "    .dataframe tbody tr th {\n",
       "        vertical-align: top;\n",
       "    }\n",
       "\n",
       "    .dataframe thead th {\n",
       "        text-align: right;\n",
       "    }\n",
       "</style>\n",
       "<table border=\"1\" class=\"dataframe\">\n",
       "  <thead>\n",
       "    <tr style=\"text-align: right;\">\n",
       "      <th></th>\n",
       "      <th>K Nearest</th>\n",
       "      <th>Training Accuracy</th>\n",
       "      <th>Testing Accuracy</th>\n",
       "    </tr>\n",
       "  </thead>\n",
       "  <tbody>\n",
       "    <tr>\n",
       "      <th>6</th>\n",
       "      <td>13</td>\n",
       "      <td>0.962848</td>\n",
       "      <td>0.987654</td>\n",
       "    </tr>\n",
       "    <tr>\n",
       "      <th>7</th>\n",
       "      <td>15</td>\n",
       "      <td>0.962848</td>\n",
       "      <td>0.987654</td>\n",
       "    </tr>\n",
       "    <tr>\n",
       "      <th>8</th>\n",
       "      <td>17</td>\n",
       "      <td>0.959752</td>\n",
       "      <td>0.987654</td>\n",
       "    </tr>\n",
       "    <tr>\n",
       "      <th>9</th>\n",
       "      <td>19</td>\n",
       "      <td>0.956656</td>\n",
       "      <td>0.987654</td>\n",
       "    </tr>\n",
       "    <tr>\n",
       "      <th>10</th>\n",
       "      <td>21</td>\n",
       "      <td>0.956656</td>\n",
       "      <td>0.987654</td>\n",
       "    </tr>\n",
       "    <tr>\n",
       "      <th>11</th>\n",
       "      <td>23</td>\n",
       "      <td>0.956656</td>\n",
       "      <td>0.987654</td>\n",
       "    </tr>\n",
       "    <tr>\n",
       "      <th>12</th>\n",
       "      <td>25</td>\n",
       "      <td>0.950464</td>\n",
       "      <td>0.987654</td>\n",
       "    </tr>\n",
       "    <tr>\n",
       "      <th>13</th>\n",
       "      <td>27</td>\n",
       "      <td>0.947368</td>\n",
       "      <td>0.987654</td>\n",
       "    </tr>\n",
       "    <tr>\n",
       "      <th>14</th>\n",
       "      <td>29</td>\n",
       "      <td>0.944272</td>\n",
       "      <td>0.987654</td>\n",
       "    </tr>\n",
       "    <tr>\n",
       "      <th>15</th>\n",
       "      <td>31</td>\n",
       "      <td>0.944272</td>\n",
       "      <td>0.987654</td>\n",
       "    </tr>\n",
       "    <tr>\n",
       "      <th>16</th>\n",
       "      <td>33</td>\n",
       "      <td>0.944272</td>\n",
       "      <td>0.987654</td>\n",
       "    </tr>\n",
       "    <tr>\n",
       "      <th>17</th>\n",
       "      <td>35</td>\n",
       "      <td>0.944272</td>\n",
       "      <td>0.987654</td>\n",
       "    </tr>\n",
       "    <tr>\n",
       "      <th>18</th>\n",
       "      <td>37</td>\n",
       "      <td>0.941176</td>\n",
       "      <td>0.987654</td>\n",
       "    </tr>\n",
       "    <tr>\n",
       "      <th>19</th>\n",
       "      <td>39</td>\n",
       "      <td>0.941176</td>\n",
       "      <td>0.987654</td>\n",
       "    </tr>\n",
       "    <tr>\n",
       "      <th>20</th>\n",
       "      <td>41</td>\n",
       "      <td>0.941176</td>\n",
       "      <td>0.987654</td>\n",
       "    </tr>\n",
       "    <tr>\n",
       "      <th>21</th>\n",
       "      <td>43</td>\n",
       "      <td>0.934985</td>\n",
       "      <td>0.987654</td>\n",
       "    </tr>\n",
       "    <tr>\n",
       "      <th>1</th>\n",
       "      <td>3</td>\n",
       "      <td>0.981424</td>\n",
       "      <td>0.975309</td>\n",
       "    </tr>\n",
       "    <tr>\n",
       "      <th>3</th>\n",
       "      <td>7</td>\n",
       "      <td>0.978328</td>\n",
       "      <td>0.975309</td>\n",
       "    </tr>\n",
       "    <tr>\n",
       "      <th>2</th>\n",
       "      <td>5</td>\n",
       "      <td>0.975232</td>\n",
       "      <td>0.975309</td>\n",
       "    </tr>\n",
       "    <tr>\n",
       "      <th>4</th>\n",
       "      <td>9</td>\n",
       "      <td>0.969040</td>\n",
       "      <td>0.975309</td>\n",
       "    </tr>\n",
       "    <tr>\n",
       "      <th>5</th>\n",
       "      <td>11</td>\n",
       "      <td>0.962848</td>\n",
       "      <td>0.975309</td>\n",
       "    </tr>\n",
       "    <tr>\n",
       "      <th>22</th>\n",
       "      <td>45</td>\n",
       "      <td>0.931889</td>\n",
       "      <td>0.975309</td>\n",
       "    </tr>\n",
       "    <tr>\n",
       "      <th>23</th>\n",
       "      <td>47</td>\n",
       "      <td>0.931889</td>\n",
       "      <td>0.975309</td>\n",
       "    </tr>\n",
       "    <tr>\n",
       "      <th>24</th>\n",
       "      <td>49</td>\n",
       "      <td>0.928793</td>\n",
       "      <td>0.975309</td>\n",
       "    </tr>\n",
       "    <tr>\n",
       "      <th>0</th>\n",
       "      <td>1</td>\n",
       "      <td>0.996904</td>\n",
       "      <td>0.962963</td>\n",
       "    </tr>\n",
       "  </tbody>\n",
       "</table>\n",
       "</div>"
      ],
      "text/plain": [
       "    K Nearest  Training Accuracy  Testing Accuracy\n",
       "6          13           0.962848          0.987654\n",
       "7          15           0.962848          0.987654\n",
       "8          17           0.959752          0.987654\n",
       "9          19           0.956656          0.987654\n",
       "10         21           0.956656          0.987654\n",
       "11         23           0.956656          0.987654\n",
       "12         25           0.950464          0.987654\n",
       "13         27           0.947368          0.987654\n",
       "14         29           0.944272          0.987654\n",
       "15         31           0.944272          0.987654\n",
       "16         33           0.944272          0.987654\n",
       "17         35           0.944272          0.987654\n",
       "18         37           0.941176          0.987654\n",
       "19         39           0.941176          0.987654\n",
       "20         41           0.941176          0.987654\n",
       "21         43           0.934985          0.987654\n",
       "1           3           0.981424          0.975309\n",
       "3           7           0.978328          0.975309\n",
       "2           5           0.975232          0.975309\n",
       "4           9           0.969040          0.975309\n",
       "5          11           0.962848          0.975309\n",
       "22         45           0.931889          0.975309\n",
       "23         47           0.931889          0.975309\n",
       "24         49           0.928793          0.975309\n",
       "0           1           0.996904          0.962963"
      ]
     },
     "execution_count": 66,
     "metadata": {},
     "output_type": "execute_result"
    }
   ],
   "source": [
    "testing_accuracies = []\n",
    "training_accuracies = []\n",
    "\n",
    "k = range(1, 50, 2)\n",
    "\n",
    "for i in k:\n",
    "    # fitting\n",
    "    estimator = KNeighborsClassifier(metric='euclidean', n_neighbors=i)\n",
    "    estimator.fit(X_train_scale, y_train)\n",
    "\n",
    "    # predict\n",
    "    y_pred_test = estimator.predict(X_test_scale)\n",
    "    y_pred_train = estimator.predict(X_train_scale)\n",
    "\n",
    "    # accuracy_score\n",
    "    accuracy_test = accuracy_score(y_test, y_pred_test)\n",
    "    accuracy_train = accuracy_score(y_train, y_pred_train)\n",
    "\n",
    "    # append\n",
    "    training_accuracies.append(accuracy_train)\n",
    "    testing_accuracies.append(accuracy_test)\n",
    "\n",
    "pd.DataFrame({\n",
    "    'K Nearest' : [i for i in k],\n",
    "    'Training Accuracy' : training_accuracies,\n",
    "    'Testing Accuracy' : testing_accuracies,\n",
    "}).sort_values(['Testing Accuracy', 'Training Accuracy'],ascending=False)\n"
   ]
  },
  {
   "cell_type": "code",
   "execution_count": 67,
   "metadata": {},
   "outputs": [
    {
     "data": {
      "image/png": "[encoded data removed]",
      "text/plain": [
       "<Figure size 1600x400 with 1 Axes>"
      ]
     },
     "metadata": {},
     "output_type": "display_data"
    }
   ],
   "source": [
    "plt.figure(figsize=(16,4))\n",
    "plt.plot(k,training_accuracies,label='Training Accuracy', c = 'red')\n",
    "plt.plot(k,testing_accuracies,label='Testing Accuracy', c = 'green')\n",
    "plt.title('Training and Testing Accuracies Over Iteration')\n",
    "plt.xlabel('K-Neighbor')\n",
    "plt.ylabel('Accuracy Score')\n",
    "plt.legend()\n",
    "plt.show()"
   ]
  },
  {
   "cell_type": "markdown",
   "metadata": {},
   "source": [
    "**Insight**\n",
    "\n",
    "- Nilai K yang lebih besar dapat menghasilkan model yang lebih stabil dan lebih sedikit variabel karena model ini mengumpulkan informasi dari lebih banyak tetangga. Hal ini membuat model tidak terlalu rentan terhadap noise pada data.\n",
    "\n",
    "- Nilai K yang lebih besar dapat meningkatkan bias model atau menyebabkan kesalahan klasifikasi. Ini disebabkan karena menggeneralisasi terlalu banyak atau kehilangan kemampuannya untuk menangkap pola-pola halus dalam data. Model ini mungkin kesulitan membedakan antara kelas-kelas di wilayah dengan titik data yang beragam.\n",
    "\n",
    "- Ketika K meningkat, kompleksitas dan waktu komputasi untuk membuat prediksi juga meningkat, karena algoritma harus mencari dan mempertimbangkan lebih banyak neighbors."
   ]
  },
  {
   "cell_type": "markdown",
   "metadata": {},
   "source": [
    "**Model Interpretation**"
   ]
  },
  {
   "cell_type": "code",
   "execution_count": 68,
   "metadata": {},
   "outputs": [],
   "source": [
    "from mlxtend.plotting import plot_decision_regions"
   ]
  },
  {
   "cell_type": "code",
   "execution_count": 69,
   "metadata": {},
   "outputs": [
    {
     "data": {
      "image/png": "[encoded data removed]",
      "text/plain": [
       "<Figure size 2200x600 with 4 Axes>"
      ]
     },
     "metadata": {},
     "output_type": "display_data"
    }
   ],
   "source": [
    "fig, ax = plt.subplots(1, 4, figsize=(22, 6))\n",
    "\n",
    "k_values = [3, 7, 13, 21]\n",
    "\n",
    "for id, k in enumerate(k_values):\n",
    "    estimator = KNeighborsClassifier(metric='euclidean', n_neighbors=k)\n",
    "    estimator.fit(X_train_scale, y_train)\n",
    "    ax[id].set_title(f'K={k}')\n",
    "    plot_decision_regions(X_test_scale, y_test.to_numpy(), clf=estimator, legend=2, ax=ax[id])\n",
    "\n",
    "plt.tight_layout()\n",
    "plt.show()\n",
    "\n",
    "# running lama karena nilai K sangat besar"
   ]
  },
  {
   "cell_type": "markdown",
   "metadata": {},
   "source": [
    "**Insight**: Nilai K yang besar menyebabkan decision boundary cenderung lebih halus dan kurang sensitif terhadap variasi kecil dalam data."
   ]
  },
  {
   "cell_type": "markdown",
   "metadata": {},
   "source": [
    "**Final Model**"
   ]
  },
  {
   "cell_type": "code",
   "execution_count": 70,
   "metadata": {},
   "outputs": [
    {
     "name": "stdout",
     "output_type": "stream",
     "text": [
      "Model Accuracy in Training set: 0.963\n",
      "Model Accuracy in Test set: 0.975\n"
     ]
    }
   ],
   "source": [
    "# Mendefinisikan model\n",
    "best_estimator = KNeighborsClassifier(metric='euclidean', n_neighbors=11)\n",
    "best_estimator.fit(X_train_scale, y_train)\n",
    "\n",
    "# Memprediksi\n",
    "y_pred_train = best_estimator.predict(X_train_scale)\n",
    "y_pred_test = best_estimator.predict(X_test_scale)\n",
    "\n",
    "# Evaluasi\n",
    "print(f'Model Accuracy in Training set: {accuracy_score(y_train, y_pred_train):.3f}')\n",
    "print(f'Model Accuracy in Test set: {accuracy_score(y_test, y_pred_test):.3f}')"
   ]
  },
  {
   "cell_type": "markdown",
   "metadata": {},
   "source": [
    "- Akurasi pada test set : 98.36%\n",
    "- Model KNN mampu memprediksi 98.36% kualitas anggur dengan benar (baik yang berkualitas Good maupun Bad)\n",
    "- Dari 122 botol anggur, 120 botol dilabeli dengan benar."
   ]
  },
  {
   "cell_type": "markdown",
   "metadata": {},
   "source": [
    "**Predict to New Data**"
   ]
  },
  {
   "cell_type": "code",
   "execution_count": 71,
   "metadata": {},
   "outputs": [
    {
     "data": {
      "text/html": [
       "<div>\n",
       "<style scoped>\n",
       "    .dataframe tbody tr th:only-of-type {\n",
       "        vertical-align: middle;\n",
       "    }\n",
       "\n",
       "    .dataframe tbody tr th {\n",
       "        vertical-align: top;\n",
       "    }\n",
       "\n",
       "    .dataframe thead th {\n",
       "        text-align: right;\n",
       "    }\n",
       "</style>\n",
       "<table border=\"1\" class=\"dataframe\">\n",
       "  <thead>\n",
       "    <tr style=\"text-align: right;\">\n",
       "      <th></th>\n",
       "      <th>alcohol</th>\n",
       "      <th>density</th>\n",
       "    </tr>\n",
       "  </thead>\n",
       "  <tbody>\n",
       "    <tr>\n",
       "      <th>0</th>\n",
       "      <td>9</td>\n",
       "      <td>0.990</td>\n",
       "    </tr>\n",
       "    <tr>\n",
       "      <th>1</th>\n",
       "      <td>10</td>\n",
       "      <td>0.995</td>\n",
       "    </tr>\n",
       "    <tr>\n",
       "      <th>2</th>\n",
       "      <td>11</td>\n",
       "      <td>1.000</td>\n",
       "    </tr>\n",
       "  </tbody>\n",
       "</table>\n",
       "</div>"
      ],
      "text/plain": [
       "   alcohol  density\n",
       "0        9    0.990\n",
       "1       10    0.995\n",
       "2       11    1.000"
      ]
     },
     "execution_count": 71,
     "metadata": {},
     "output_type": "execute_result"
    }
   ],
   "source": [
    "new_data = pd.DataFrame({\n",
    "    'alcohol' : [9, 10, 11],\n",
    "    'density': [0.990, 0.995, 1],\n",
    "})\n",
    "\n",
    "new_data"
   ]
  },
  {
   "cell_type": "code",
   "execution_count": 72,
   "metadata": {},
   "outputs": [
    {
     "data": {
      "text/plain": [
       "array([0, 0, 1])"
      ]
     },
     "execution_count": 72,
     "metadata": {},
     "output_type": "execute_result"
    }
   ],
   "source": [
    "best_estimator.predict(transformer.transform(new_data))"
   ]
  },
  {
   "cell_type": "code",
   "execution_count": 73,
   "metadata": {},
   "outputs": [
    {
     "data": {
      "text/plain": [
       "array([[-0.64516129, -1.22891566],\n",
       "       [ 0.        , -0.02409639],\n",
       "       [ 0.64516129,  1.18072289]])"
      ]
     },
     "execution_count": 73,
     "metadata": {},
     "output_type": "execute_result"
    }
   ],
   "source": [
    "transformer.transform(new_data)"
   ]
  },
  {
   "cell_type": "code",
   "execution_count": 74,
   "metadata": {},
   "outputs": [
    {
     "data": {
      "image/png": "[encoded data removed]",
      "text/plain": [
       "<Figure size 600x600 with 1 Axes>"
      ]
     },
     "metadata": {},
     "output_type": "display_data"
    }
   ],
   "source": [
    "fig, ax = plt.subplots(figsize=(6,6))\n",
    "\n",
    "estimator = KNeighborsClassifier(metric='euclidean',n_neighbors=11)\n",
    "estimator.fit(X_train_scale,y_train)\n",
    "\n",
    "ax.set_title('K=11')\n",
    "plot_decision_regions(X_test_scale, y_test.to_numpy(),clf=estimator,legend=2)\n",
    "\n",
    "sns.scatterplot(x=transformer.transform(new_data)[:,0] ,y=transformer.transform(new_data)[:,1], color='green',s=40, label='new_data')\n",
    "\n",
    "plt.show()"
   ]
  }
 ],
 "metadata": {
  "kernelspec": {
   "display_name": "Python 3",
   "language": "python",
   "name": "python3"
  },
  "language_info": {
   "codemirror_mode": {
    "name": "ipython",
    "version": 3
   },
   "file_extension": ".py",
   "mimetype": "text/x-python",
   "name": "python",
   "nbconvert_exporter": "python",
   "pygments_lexer": "ipython3",
   "version": "3.12.2"
  }
 },
 "nbformat": 4,
 "nbformat_minor": 2
}
