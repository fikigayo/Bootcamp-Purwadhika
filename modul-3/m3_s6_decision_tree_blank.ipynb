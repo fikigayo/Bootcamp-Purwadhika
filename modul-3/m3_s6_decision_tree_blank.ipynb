{
 "cells": [
  {
   "cell_type": "markdown",
   "metadata": {},
   "source": [
    "### `Decision Tree`\n",
    "\n",
    "A decision tree is one of the popular and powerful machine learning algorithms that I have learned. It is a non-parametric supervised learning method that can be used for both classification and regression tasks. The goal is to create a model that predicts the value of a target variable by learning simple decision rules inferred from the data features.\n",
    "\n",
    "Decision tree algorithm uses Information Gain to decide the splitting points. In order to measure how much information we gain, we can use entropy to calculate the homogeneity of a sample. **Entropy** is a measure of the amount of uncertainty in a data set. Entropy controls how a Decision Tree decides to split the data. It actually affects how a Decision Tree draws its boundaries.\n",
    "\n",
    "We can summarize the ID3 algorithm as illustrated below:\n",
    "\n",
    "1. Compute the entropy for data-set **Entropy(D)**\n",
    "    - Calculate **Entropy** (Amount of uncertainity in dataset):\n",
    "$$Entropy(D) = \\frac{-p}{p+n}log_{2}(\\frac{p}{p+n}) - \\frac{n}{p+n}log_{2}(\\frac{n}{p+n})$$\n",
    "    \n",
    "2. For every attribute/feature:\n",
    "    - Calculate entropy for all other values **Entropy(A)**\n",
    "             \n",
    "    - Take **Average Information Entropy** for the current attribute\n",
    "        - Calculate **Average Information**:\n",
    "    $$Entropy(S) = \\sum\\frac{p_{i}+n_{i}}{p+n}Entropy(A)$$  \n",
    "    \n",
    "    - Calculate **Gain** for the current attribute\n",
    "        - Calculate **Information Gain**: (Difference in Entropy before and after splitting dataset on attribute A)        \n",
    "$$Gain = Entropy(D) - Entropy(S)$$\n",
    "\n",
    "3. Pick the **Highest Gain Attribute**.\n",
    "4. **Repeat** until we get the tree we desired."
   ]
  },
  {
   "cell_type": "markdown",
   "metadata": {},
   "source": [
    "#### **Compute Entropy**"
   ]
  },
  {
   "cell_type": "code",
   "execution_count": 28,
   "metadata": {},
   "outputs": [],
   "source": [
    "import math\n",
    "\n",
    "def entropy(value):\n",
    "    from collections import Counter\n",
    "\n",
    "    total_instances = len(value)\n",
    "    cnt = Counter(x for x in value)\n",
    "    probs = [x / total_instances for x in cnt.values()]\n",
    "    E = sum([-prob * math.log(prob, 2) for prob in probs])\n",
    "    return E"
   ]
  },
  {
   "cell_type": "markdown",
   "metadata": {},
   "source": [
    "#### **Compute Information Gain**"
   ]
  },
  {
   "cell_type": "code",
   "execution_count": 29,
   "metadata": {},
   "outputs": [],
   "source": [
    "def information_gain(df, feature, target):\n",
    "\tdf_split = df.groupby(feature)\n",
    "\tglist = []\n",
    "\tfor gname, group in df_split:\n",
    "\t\tglist.append(gname)\n",
    "\n",
    "\tglist.reverse()\n",
    "\tnobs = len(df.index) * 1.0\n",
    "\n",
    "\tdf_agg1 = df_split.agg({target: lambda x:entropy(x)})\n",
    "\tdf_agg1.columns = ['Entropy']\n",
    "\n",
    "\tdf_agg2 = df_split.agg({target: lambda x:len(x)/nobs})\n",
    "\tdf_agg2.columns = ['Proportion']\n",
    "\n",
    "\tEA = sum(df_agg1['Entropy'] * df_agg2['Proportion'])\n",
    "\tED = entropy(df[target])\n",
    "\n",
    "\treturn ED - EA"
   ]
  },
  {
   "cell_type": "markdown",
   "metadata": {},
   "source": [
    "#### **Building the Decision Tree**"
   ]
  },
  {
   "cell_type": "code",
   "execution_count": 30,
   "metadata": {},
   "outputs": [],
   "source": [
    "def DT(df, feature, target, default_class=None):\n",
    "\n",
    "    from collections import Counter\n",
    "    cnt = Counter(x for x in df[target])\n",
    "\n",
    "    if len(cnt) == 1:\n",
    "        return next(iter(cnt))\n",
    "    \n",
    "    elif df.empty or (not feature):\n",
    "        return default_class\n",
    "    \n",
    "    else:\n",
    "        default_class = max(cnt.keys())\n",
    "        gainz = []\n",
    "        for attr in feature:\n",
    "            ig = information_gain(df, attr, target)\n",
    "            gainz.append(ig)\n",
    "\n",
    "        index_of_max = gainz.index(max(gainz))\n",
    "        best_attr = feature[index_of_max]\n",
    "        tree = {best_attr:{}}\n",
    "        remaining_attribute_names = [i for i in feature if i != best_attr]\n",
    "\n",
    "        for attr_val, data_subset in df.groupby(best_attr):\n",
    "            subtree = DT(data_subset, remaining_attribute_names, target, default_class)\n",
    "            tree[best_attr][attr_val] = subtree\n",
    "        return tree"
   ]
  },
  {
   "cell_type": "markdown",
   "metadata": {},
   "source": [
    "#### **Classify New Data Point**"
   ]
  },
  {
   "cell_type": "code",
   "execution_count": 31,
   "metadata": {},
   "outputs": [],
   "source": [
    "def classify(instance, tree, default=None):\n",
    "\n",
    "    feature = next(iter(tree))\n",
    "    if instance[feature] in tree[feature].keys():\n",
    "        result = tree[feature][instance[feature]]\n",
    "        if isinstance(result, dict):\n",
    "            return classify(instance, result)\n",
    "        else:\n",
    "            return result\n",
    "    else:\n",
    "        return default"
   ]
  },
  {
   "cell_type": "code",
   "execution_count": 32,
   "metadata": {},
   "outputs": [
    {
     "name": "stdout",
     "output_type": "stream",
     "text": [
      "     survived  pclass     sex   age  sibsp  parch     fare embarked   class  \\\n",
      "0           0       3    male  22.0      1      0   7.2500        S   Third   \n",
      "1           1       1  female  38.0      1      0  71.2833        C   First   \n",
      "2           1       3  female  26.0      0      0   7.9250        S   Third   \n",
      "3           1       1  female  35.0      1      0  53.1000        S   First   \n",
      "4           0       3    male  35.0      0      0   8.0500        S   Third   \n",
      "..        ...     ...     ...   ...    ...    ...      ...      ...     ...   \n",
      "886         0       2    male  27.0      0      0  13.0000        S  Second   \n",
      "887         1       1  female  19.0      0      0  30.0000        S   First   \n",
      "888         0       3  female  28.0      1      2  23.4500        S   Third   \n",
      "889         1       1    male  26.0      0      0  30.0000        C   First   \n",
      "890         0       3    male  32.0      0      0   7.7500        Q   Third   \n",
      "\n",
      "       who  adult_male deck  embark_town alive  alone  Predicted  \n",
      "0      man        True  NaN  Southampton    no  False          0  \n",
      "1    woman       False    C    Cherbourg   yes  False          1  \n",
      "2    woman       False  NaN  Southampton   yes   True          1  \n",
      "3    woman       False    C  Southampton   yes  False          1  \n",
      "4      man        True  NaN  Southampton    no   True          0  \n",
      "..     ...         ...  ...          ...   ...    ...        ...  \n",
      "886    man        True  NaN  Southampton    no   True          0  \n",
      "887  woman       False    B  Southampton   yes   True          1  \n",
      "888  woman       False  NaN  Southampton    no  False          0  \n",
      "889    man        True    C    Cherbourg   yes   True          1  \n",
      "890    man        True  NaN   Queenstown    no   True          0  \n",
      "\n",
      "[891 rows x 16 columns]\n"
     ]
    }
   ],
   "source": [
    "import seaborn as sns\n",
    "import pandas as pd\n",
    "\n",
    "data = sns.load_dataset('titanic')\n",
    "data.loc[:, 'age'] =  data['age'].fillna(data['age'].median())\n",
    "\n",
    "tree = DT(data, feature=['pclass', 'sex', 'age', 'fare'], target='survived')\n",
    "data['Predicted'] = data.apply(classify, axis=1, args=(tree, '?'))\n",
    "print(data)"
   ]
  },
  {
   "cell_type": "markdown",
   "metadata": {},
   "source": [
    "#### **Building a Decision Tree using** `scikit-learn`"
   ]
  },
  {
   "cell_type": "markdown",
   "metadata": {},
   "source": [
    "**Importing Libraries**"
   ]
  },
  {
   "cell_type": "code",
   "execution_count": 33,
   "metadata": {},
   "outputs": [],
   "source": [
    "import numpy as np \n",
    "import pandas as pd\n",
    "import seaborn as sns \n",
    "import matplotlib.pyplot as plt \n",
    "import statsmodels.api as sm"
   ]
  },
  {
   "cell_type": "markdown",
   "metadata": {},
   "source": [
    "### `Business Problem Understanding`\n",
    "\n",
    "**Problem Statement**\n",
    "Karena jumlah tips bervariasi, maka menentukan harga yang sesuai sangatlah penting bagi kesejahteraan karyawan.\n",
    "\n",
    "**Goals**\n",
    "Menentukan jumlah tip yang tepat untuk tiap customer yang berkunjung.\n",
    "\n",
    "**Analytic Approach**\n",
    "Jadi yang perlu kita lakukan adalah menganalisis data untuk dapat menemukan pola dari fitur-fitur yang ada, yang membedakan satu customer dengan customer yang lain.\n",
    "\n",
    "Selanjutnya, kita akan membangun suatu model regresi yang akan membantu perusahaan untuk dapat menyediakan tool prediksi tip dari customer baru, yang mana akan berguna untuk meningkatkan kesejahteraan karyawan.\n",
    "\n",
    "**Metric Evaluation**\n",
    "Evaluasi metrik yang akan digunakan adalah MAE dan MSE. Semakin kecil nilai keduanya, berarti model semakin akurat dalam memprediksi harga tip sesuai dengan limitasi fitur yang digunakan.\n",
    "\n",
    "Selain itu, kita juga bisa menurunkan nilai R-squared atau adj. R-squared untuk mengetahui seberapa baik model dapat mempresentasilam varians keseluruhan data. Semakin mendekati 1, maka semakin fit pula modelnya terhadap data observasi. Namun, metrik ini tidak valid untuk model non-linear.\n",
    "\n"
   ]
  },
  {
   "cell_type": "markdown",
   "metadata": {},
   "source": [
    "### `Data Understanding`"
   ]
  },
  {
   "cell_type": "code",
   "execution_count": 34,
   "metadata": {},
   "outputs": [
    {
     "name": "stdout",
     "output_type": "stream",
     "text": [
      "Jumlah baris dan kolom: (520, 12)\n"
     ]
    },
    {
     "data": {
      "text/html": [
       "<div>\n",
       "<style scoped>\n",
       "    .dataframe tbody tr th:only-of-type {\n",
       "        vertical-align: middle;\n",
       "    }\n",
       "\n",
       "    .dataframe tbody tr th {\n",
       "        vertical-align: top;\n",
       "    }\n",
       "\n",
       "    .dataframe thead th {\n",
       "        text-align: right;\n",
       "    }\n",
       "</style>\n",
       "<table border=\"1\" class=\"dataframe\">\n",
       "  <thead>\n",
       "    <tr style=\"text-align: right;\">\n",
       "      <th></th>\n",
       "      <th>fixed acidity</th>\n",
       "      <th>volatile acidity</th>\n",
       "      <th>citric acid</th>\n",
       "      <th>residual sugar</th>\n",
       "      <th>chlorides</th>\n",
       "      <th>free sulfur dioxide</th>\n",
       "      <th>total sulfur dioxide</th>\n",
       "      <th>density</th>\n",
       "      <th>pH</th>\n",
       "      <th>sulphates</th>\n",
       "      <th>alcohol</th>\n",
       "      <th>quality</th>\n",
       "    </tr>\n",
       "  </thead>\n",
       "  <tbody>\n",
       "    <tr>\n",
       "      <th>0</th>\n",
       "      <td>7.0</td>\n",
       "      <td>0.27</td>\n",
       "      <td>0.36</td>\n",
       "      <td>20.7</td>\n",
       "      <td>0.045</td>\n",
       "      <td>45.0</td>\n",
       "      <td>170.0</td>\n",
       "      <td>1.0010</td>\n",
       "      <td>3.00</td>\n",
       "      <td>0.45</td>\n",
       "      <td>8.8</td>\n",
       "      <td>6.0</td>\n",
       "    </tr>\n",
       "    <tr>\n",
       "      <th>1</th>\n",
       "      <td>6.3</td>\n",
       "      <td>0.30</td>\n",
       "      <td>0.34</td>\n",
       "      <td>1.6</td>\n",
       "      <td>0.049</td>\n",
       "      <td>14.0</td>\n",
       "      <td>132.0</td>\n",
       "      <td>0.9940</td>\n",
       "      <td>3.30</td>\n",
       "      <td>0.49</td>\n",
       "      <td>9.5</td>\n",
       "      <td>6.0</td>\n",
       "    </tr>\n",
       "    <tr>\n",
       "      <th>2</th>\n",
       "      <td>8.1</td>\n",
       "      <td>0.28</td>\n",
       "      <td>0.40</td>\n",
       "      <td>6.9</td>\n",
       "      <td>0.050</td>\n",
       "      <td>30.0</td>\n",
       "      <td>97.0</td>\n",
       "      <td>0.9951</td>\n",
       "      <td>3.26</td>\n",
       "      <td>0.44</td>\n",
       "      <td>10.1</td>\n",
       "      <td>6.0</td>\n",
       "    </tr>\n",
       "    <tr>\n",
       "      <th>3</th>\n",
       "      <td>7.2</td>\n",
       "      <td>0.23</td>\n",
       "      <td>0.32</td>\n",
       "      <td>8.5</td>\n",
       "      <td>0.058</td>\n",
       "      <td>47.0</td>\n",
       "      <td>186.0</td>\n",
       "      <td>0.9956</td>\n",
       "      <td>3.19</td>\n",
       "      <td>0.40</td>\n",
       "      <td>9.9</td>\n",
       "      <td>6.0</td>\n",
       "    </tr>\n",
       "    <tr>\n",
       "      <th>4</th>\n",
       "      <td>7.2</td>\n",
       "      <td>0.23</td>\n",
       "      <td>0.32</td>\n",
       "      <td>8.5</td>\n",
       "      <td>0.058</td>\n",
       "      <td>47.0</td>\n",
       "      <td>186.0</td>\n",
       "      <td>0.9956</td>\n",
       "      <td>3.19</td>\n",
       "      <td>0.40</td>\n",
       "      <td>9.9</td>\n",
       "      <td>6.0</td>\n",
       "    </tr>\n",
       "  </tbody>\n",
       "</table>\n",
       "</div>"
      ],
      "text/plain": [
       "   fixed acidity  volatile acidity  citric acid  residual sugar  chlorides  \\\n",
       "0            7.0              0.27         0.36            20.7      0.045   \n",
       "1            6.3              0.30         0.34             1.6      0.049   \n",
       "2            8.1              0.28         0.40             6.9      0.050   \n",
       "3            7.2              0.23         0.32             8.5      0.058   \n",
       "4            7.2              0.23         0.32             8.5      0.058   \n",
       "\n",
       "   free sulfur dioxide  total sulfur dioxide  density    pH  sulphates  \\\n",
       "0                 45.0                 170.0   1.0010  3.00       0.45   \n",
       "1                 14.0                 132.0   0.9940  3.30       0.49   \n",
       "2                 30.0                  97.0   0.9951  3.26       0.44   \n",
       "3                 47.0                 186.0   0.9956  3.19       0.40   \n",
       "4                 47.0                 186.0   0.9956  3.19       0.40   \n",
       "\n",
       "   alcohol  quality  \n",
       "0      8.8      6.0  \n",
       "1      9.5      6.0  \n",
       "2     10.1      6.0  \n",
       "3      9.9      6.0  \n",
       "4      9.9      6.0  "
      ]
     },
     "execution_count": 34,
     "metadata": {},
     "output_type": "execute_result"
    }
   ],
   "source": [
    "import pandas as pd\n",
    "data = pd.read_csv('../csv/white_wine.csv')\n",
    "print(f'Jumlah baris dan kolom: {data.shape}')\n",
    "\n",
    "data.head()"
   ]
  },
  {
   "cell_type": "code",
   "execution_count": 35,
   "metadata": {},
   "outputs": [
    {
     "data": {
      "text/html": [
       "<div>\n",
       "<style scoped>\n",
       "    .dataframe tbody tr th:only-of-type {\n",
       "        vertical-align: middle;\n",
       "    }\n",
       "\n",
       "    .dataframe tbody tr th {\n",
       "        vertical-align: top;\n",
       "    }\n",
       "\n",
       "    .dataframe thead th {\n",
       "        text-align: right;\n",
       "    }\n",
       "</style>\n",
       "<table border=\"1\" class=\"dataframe\">\n",
       "  <thead>\n",
       "    <tr style=\"text-align: right;\">\n",
       "      <th></th>\n",
       "      <th>feature</th>\n",
       "      <th>data_type</th>\n",
       "      <th>null</th>\n",
       "      <th>negative</th>\n",
       "      <th>n_unique</th>\n",
       "      <th>min</th>\n",
       "      <th>max</th>\n",
       "      <th>sample_unique</th>\n",
       "    </tr>\n",
       "  </thead>\n",
       "  <tbody>\n",
       "    <tr>\n",
       "      <th>0</th>\n",
       "      <td>fixed acidity</td>\n",
       "      <td>float64</td>\n",
       "      <td>0.000000</td>\n",
       "      <td>False</td>\n",
       "      <td>41</td>\n",
       "      <td>5.0000</td>\n",
       "      <td>10.2000</td>\n",
       "      <td>[7.0, 6.3, 8.1, 7.2, 6.2, 8.6, 7.9, 6.6, 8.3, ...</td>\n",
       "    </tr>\n",
       "    <tr>\n",
       "      <th>1</th>\n",
       "      <td>volatile acidity</td>\n",
       "      <td>float64</td>\n",
       "      <td>0.000000</td>\n",
       "      <td>False</td>\n",
       "      <td>69</td>\n",
       "      <td>0.1000</td>\n",
       "      <td>0.9050</td>\n",
       "      <td>[0.27, 0.3, 0.28, 0.23, 0.32, 0.22, 0.18, 0.16...</td>\n",
       "    </tr>\n",
       "    <tr>\n",
       "      <th>2</th>\n",
       "      <td>citric acid</td>\n",
       "      <td>float64</td>\n",
       "      <td>0.000000</td>\n",
       "      <td>False</td>\n",
       "      <td>59</td>\n",
       "      <td>0.0000</td>\n",
       "      <td>0.8800</td>\n",
       "      <td>[0.36, 0.34, 0.4, 0.32, 0.16, 0.43, 0.41, 0.37...</td>\n",
       "    </tr>\n",
       "    <tr>\n",
       "      <th>3</th>\n",
       "      <td>residual sugar</td>\n",
       "      <td>float64</td>\n",
       "      <td>0.000000</td>\n",
       "      <td>False</td>\n",
       "      <td>160</td>\n",
       "      <td>0.8000</td>\n",
       "      <td>22.0000</td>\n",
       "      <td>[20.7, 1.6, 6.9, 8.5, 7.0, 1.5, 1.45, 4.2, 1.2...</td>\n",
       "    </tr>\n",
       "    <tr>\n",
       "      <th>4</th>\n",
       "      <td>chlorides</td>\n",
       "      <td>float64</td>\n",
       "      <td>0.000000</td>\n",
       "      <td>False</td>\n",
       "      <td>67</td>\n",
       "      <td>0.0200</td>\n",
       "      <td>0.3460</td>\n",
       "      <td>[0.045, 0.049, 0.05, 0.058, 0.044, 0.033, 0.03...</td>\n",
       "    </tr>\n",
       "    <tr>\n",
       "      <th>5</th>\n",
       "      <td>free sulfur dioxide</td>\n",
       "      <td>float64</td>\n",
       "      <td>0.000000</td>\n",
       "      <td>False</td>\n",
       "      <td>81</td>\n",
       "      <td>3.0000</td>\n",
       "      <td>131.0000</td>\n",
       "      <td>[45.0, 14.0, 30.0, 47.0, 28.0, 11.0, 17.0, 16....</td>\n",
       "    </tr>\n",
       "    <tr>\n",
       "      <th>6</th>\n",
       "      <td>total sulfur dioxide</td>\n",
       "      <td>float64</td>\n",
       "      <td>0.000000</td>\n",
       "      <td>False</td>\n",
       "      <td>168</td>\n",
       "      <td>41.0000</td>\n",
       "      <td>313.0000</td>\n",
       "      <td>[170.0, 132.0, 97.0, 186.0, 136.0, 129.0, 63.0...</td>\n",
       "    </tr>\n",
       "    <tr>\n",
       "      <th>7</th>\n",
       "      <td>density</td>\n",
       "      <td>float64</td>\n",
       "      <td>0.000000</td>\n",
       "      <td>False</td>\n",
       "      <td>100</td>\n",
       "      <td>0.9899</td>\n",
       "      <td>1.0033</td>\n",
       "      <td>[1.001, 0.994, 0.9951, 0.9956, 0.9949, 0.9938,...</td>\n",
       "    </tr>\n",
       "    <tr>\n",
       "      <th>8</th>\n",
       "      <td>pH</td>\n",
       "      <td>float64</td>\n",
       "      <td>0.192308</td>\n",
       "      <td>False</td>\n",
       "      <td>69</td>\n",
       "      <td>2.8700</td>\n",
       "      <td>3.7200</td>\n",
       "      <td>[3.0, 3.3, 3.26, 3.19, 3.18, 3.22, 2.99, 3.14,...</td>\n",
       "    </tr>\n",
       "    <tr>\n",
       "      <th>9</th>\n",
       "      <td>sulphates</td>\n",
       "      <td>float64</td>\n",
       "      <td>0.192308</td>\n",
       "      <td>False</td>\n",
       "      <td>54</td>\n",
       "      <td>0.2700</td>\n",
       "      <td>0.8500</td>\n",
       "      <td>[0.45, 0.49, 0.44, 0.4, 0.47, 0.56, 0.53, 0.63...</td>\n",
       "    </tr>\n",
       "    <tr>\n",
       "      <th>10</th>\n",
       "      <td>alcohol</td>\n",
       "      <td>float64</td>\n",
       "      <td>0.192308</td>\n",
       "      <td>False</td>\n",
       "      <td>45</td>\n",
       "      <td>8.5000</td>\n",
       "      <td>12.9000</td>\n",
       "      <td>[8.8, 9.5, 10.1, 9.9, 9.6, 11.0, 12.0, 9.7, 10...</td>\n",
       "    </tr>\n",
       "    <tr>\n",
       "      <th>11</th>\n",
       "      <td>quality</td>\n",
       "      <td>float64</td>\n",
       "      <td>0.192308</td>\n",
       "      <td>False</td>\n",
       "      <td>6</td>\n",
       "      <td>3.0000</td>\n",
       "      <td>8.0000</td>\n",
       "      <td>[6.0, 5.0, 7.0, 8.0, 4.0, 3.0, nan]</td>\n",
       "    </tr>\n",
       "  </tbody>\n",
       "</table>\n",
       "</div>"
      ],
      "text/plain": [
       "                 feature data_type      null  negative  n_unique      min  \\\n",
       "0          fixed acidity   float64  0.000000     False        41   5.0000   \n",
       "1       volatile acidity   float64  0.000000     False        69   0.1000   \n",
       "2            citric acid   float64  0.000000     False        59   0.0000   \n",
       "3         residual sugar   float64  0.000000     False       160   0.8000   \n",
       "4              chlorides   float64  0.000000     False        67   0.0200   \n",
       "5    free sulfur dioxide   float64  0.000000     False        81   3.0000   \n",
       "6   total sulfur dioxide   float64  0.000000     False       168  41.0000   \n",
       "7                density   float64  0.000000     False       100   0.9899   \n",
       "8                     pH   float64  0.192308     False        69   2.8700   \n",
       "9              sulphates   float64  0.192308     False        54   0.2700   \n",
       "10               alcohol   float64  0.192308     False        45   8.5000   \n",
       "11               quality   float64  0.192308     False         6   3.0000   \n",
       "\n",
       "         max                                      sample_unique  \n",
       "0    10.2000  [7.0, 6.3, 8.1, 7.2, 6.2, 8.6, 7.9, 6.6, 8.3, ...  \n",
       "1     0.9050  [0.27, 0.3, 0.28, 0.23, 0.32, 0.22, 0.18, 0.16...  \n",
       "2     0.8800  [0.36, 0.34, 0.4, 0.32, 0.16, 0.43, 0.41, 0.37...  \n",
       "3    22.0000  [20.7, 1.6, 6.9, 8.5, 7.0, 1.5, 1.45, 4.2, 1.2...  \n",
       "4     0.3460  [0.045, 0.049, 0.05, 0.058, 0.044, 0.033, 0.03...  \n",
       "5   131.0000  [45.0, 14.0, 30.0, 47.0, 28.0, 11.0, 17.0, 16....  \n",
       "6   313.0000  [170.0, 132.0, 97.0, 186.0, 136.0, 129.0, 63.0...  \n",
       "7     1.0033  [1.001, 0.994, 0.9951, 0.9956, 0.9949, 0.9938,...  \n",
       "8     3.7200  [3.0, 3.3, 3.26, 3.19, 3.18, 3.22, 2.99, 3.14,...  \n",
       "9     0.8500  [0.45, 0.49, 0.44, 0.4, 0.47, 0.56, 0.53, 0.63...  \n",
       "10   12.9000  [8.8, 9.5, 10.1, 9.9, 9.6, 11.0, 12.0, 9.7, 10...  \n",
       "11    8.0000                [6.0, 5.0, 7.0, 8.0, 4.0, 3.0, nan]  "
      ]
     },
     "execution_count": 35,
     "metadata": {},
     "output_type": "execute_result"
    }
   ],
   "source": [
    "pd.DataFrame({\n",
    "    'feature': data.columns.values,\n",
    "    'data_type': data.dtypes.values,\n",
    "    'null': data.isna().mean().values * 100,\n",
    "    'negative': [True if data[col].dtype == int and (data[col] < 0).any() else False for col in data.columns],\n",
    "    'n_unique': data.nunique().values,\n",
    "    'min': data.min().values,\n",
    "    'max': data.max().values,\n",
    "    'sample_unique': [data[col].unique() for col in data.columns]\n",
    "})"
   ]
  },
  {
   "cell_type": "markdown",
   "metadata": {},
   "source": [
    "**Insight**\n",
    "\n",
    "- Dataset terdiri dari 520 baris dan 12 kolom.\n",
    "- Semua variabel tergolong numerikal dan continous, kecuali quality yaitu diskrit\n",
    "- Format data dari variabel quality seharusnya integer\n",
    "- Skala dari variabel total sulfur dioxide dan free sulfur dioxide lebih besar dibanding yang lain."
   ]
  },
  {
   "cell_type": "markdown",
   "metadata": {},
   "source": [
    "### `Data Preparation`"
   ]
  },
  {
   "cell_type": "code",
   "execution_count": 36,
   "metadata": {},
   "outputs": [
    {
     "data": {
      "text/html": [
       "<div>\n",
       "<style scoped>\n",
       "    .dataframe tbody tr th:only-of-type {\n",
       "        vertical-align: middle;\n",
       "    }\n",
       "\n",
       "    .dataframe tbody tr th {\n",
       "        vertical-align: top;\n",
       "    }\n",
       "\n",
       "    .dataframe thead th {\n",
       "        text-align: right;\n",
       "    }\n",
       "</style>\n",
       "<table border=\"1\" class=\"dataframe\">\n",
       "  <thead>\n",
       "    <tr style=\"text-align: right;\">\n",
       "      <th></th>\n",
       "      <th>alcohol</th>\n",
       "      <th>density</th>\n",
       "      <th>quality</th>\n",
       "    </tr>\n",
       "  </thead>\n",
       "  <tbody>\n",
       "    <tr>\n",
       "      <th>296</th>\n",
       "      <td>9.4</td>\n",
       "      <td>0.9976</td>\n",
       "      <td>5.0</td>\n",
       "    </tr>\n",
       "    <tr>\n",
       "      <th>503</th>\n",
       "      <td>9.9</td>\n",
       "      <td>0.9937</td>\n",
       "      <td>5.0</td>\n",
       "    </tr>\n",
       "    <tr>\n",
       "      <th>504</th>\n",
       "      <td>8.9</td>\n",
       "      <td>0.9980</td>\n",
       "      <td>6.0</td>\n",
       "    </tr>\n",
       "    <tr>\n",
       "      <th>328</th>\n",
       "      <td>9.6</td>\n",
       "      <td>0.9978</td>\n",
       "      <td>6.0</td>\n",
       "    </tr>\n",
       "    <tr>\n",
       "      <th>383</th>\n",
       "      <td>9.2</td>\n",
       "      <td>0.9936</td>\n",
       "      <td>6.0</td>\n",
       "    </tr>\n",
       "  </tbody>\n",
       "</table>\n",
       "</div>"
      ],
      "text/plain": [
       "     alcohol  density  quality\n",
       "296      9.4   0.9976      5.0\n",
       "503      9.9   0.9937      5.0\n",
       "504      8.9   0.9980      6.0\n",
       "328      9.6   0.9978      6.0\n",
       "383      9.2   0.9936      6.0"
      ]
     },
     "execution_count": 36,
     "metadata": {},
     "output_type": "execute_result"
    }
   ],
   "source": [
    "df = data[['alcohol', 'density', 'quality']].copy()\n",
    "df.sample(5)"
   ]
  },
  {
   "cell_type": "markdown",
   "metadata": {},
   "source": [
    "`Duplicates`"
   ]
  },
  {
   "cell_type": "markdown",
   "metadata": {},
   "source": [
    "**Duplicated Value**, Deteksi dan kuantifikasi duplikasi data"
   ]
  },
  {
   "cell_type": "code",
   "execution_count": 37,
   "metadata": {},
   "outputs": [
    {
     "name": "stdout",
     "output_type": "stream",
     "text": [
      "Jumlah duplikasi data: (115, 3)\n"
     ]
    }
   ],
   "source": [
    "print(f\"Jumlah duplikasi data: {df[df.duplicated()].shape}\")"
   ]
  },
  {
   "cell_type": "markdown",
   "metadata": {},
   "source": [
    "Sebesar 22% data terindikasi duplikat, maka hilangkan salah satunya."
   ]
  },
  {
   "cell_type": "markdown",
   "metadata": {},
   "source": [
    "Handling duplikasi data:"
   ]
  },
  {
   "cell_type": "code",
   "execution_count": 38,
   "metadata": {},
   "outputs": [],
   "source": [
    "df.drop_duplicates(keep='last', inplace=True, ignore_index=True)"
   ]
  },
  {
   "cell_type": "markdown",
   "metadata": {},
   "source": [
    "`Missing Values`"
   ]
  },
  {
   "cell_type": "markdown",
   "metadata": {},
   "source": [
    "Deteksi dan kuantifikasi missing value"
   ]
  },
  {
   "cell_type": "code",
   "execution_count": 39,
   "metadata": {},
   "outputs": [
    {
     "data": {
      "text/plain": [
       "<Axes: >"
      ]
     },
     "execution_count": 39,
     "metadata": {},
     "output_type": "execute_result"
    },
    {
     "data": {
      "image/png": "[encoded data removed]",
      "text/plain": [
       "<Figure size 1000x300 with 2 Axes>"
      ]
     },
     "metadata": {},
     "output_type": "display_data"
    }
   ],
   "source": [
    "import missingno as msn  \n",
    "\n",
    "msn.matrix(df, figsize=(10,3))"
   ]
  },
  {
   "cell_type": "code",
   "execution_count": 40,
   "metadata": {},
   "outputs": [
    {
     "data": {
      "text/html": [
       "<div>\n",
       "<style scoped>\n",
       "    .dataframe tbody tr th:only-of-type {\n",
       "        vertical-align: middle;\n",
       "    }\n",
       "\n",
       "    .dataframe tbody tr th {\n",
       "        vertical-align: top;\n",
       "    }\n",
       "\n",
       "    .dataframe thead th {\n",
       "        text-align: right;\n",
       "    }\n",
       "</style>\n",
       "<table border=\"1\" class=\"dataframe\">\n",
       "  <thead>\n",
       "    <tr style=\"text-align: right;\">\n",
       "      <th></th>\n",
       "      <th>null</th>\n",
       "    </tr>\n",
       "  </thead>\n",
       "  <tbody>\n",
       "    <tr>\n",
       "      <th>alcohol</th>\n",
       "      <td>1</td>\n",
       "    </tr>\n",
       "    <tr>\n",
       "      <th>density</th>\n",
       "      <td>0</td>\n",
       "    </tr>\n",
       "    <tr>\n",
       "      <th>quality</th>\n",
       "      <td>1</td>\n",
       "    </tr>\n",
       "  </tbody>\n",
       "</table>\n",
       "</div>"
      ],
      "text/plain": [
       "         null\n",
       "alcohol     1\n",
       "density     0\n",
       "quality     1"
      ]
     },
     "execution_count": 40,
     "metadata": {},
     "output_type": "execute_result"
    }
   ],
   "source": [
    "pd.DataFrame({'null': [df[col].isna().sum() for col in df.columns]}, index=df.columns.values)"
   ]
  },
  {
   "cell_type": "markdown",
   "metadata": {},
   "source": [
    "Dua variabel (alcohol, quality) berisi 1 point data atau 0.2% missing value."
   ]
  },
  {
   "cell_type": "markdown",
   "metadata": {},
   "source": [
    "Handling missing value:"
   ]
  },
  {
   "cell_type": "code",
   "execution_count": 41,
   "metadata": {},
   "outputs": [],
   "source": [
    "df.dropna(inplace=True)"
   ]
  },
  {
   "cell_type": "markdown",
   "metadata": {},
   "source": [
    "`Rare Labels`"
   ]
  },
  {
   "cell_type": "markdown",
   "metadata": {},
   "source": [
    "Deteksi dan kuantifikasi rare value:"
   ]
  },
  {
   "cell_type": "code",
   "execution_count": 42,
   "metadata": {},
   "outputs": [
    {
     "data": {
      "text/html": [
       "<div>\n",
       "<style scoped>\n",
       "    .dataframe tbody tr th:only-of-type {\n",
       "        vertical-align: middle;\n",
       "    }\n",
       "\n",
       "    .dataframe tbody tr th {\n",
       "        vertical-align: top;\n",
       "    }\n",
       "\n",
       "    .dataframe thead th {\n",
       "        text-align: right;\n",
       "    }\n",
       "</style>\n",
       "<table border=\"1\" class=\"dataframe\">\n",
       "  <thead>\n",
       "    <tr style=\"text-align: right;\">\n",
       "      <th></th>\n",
       "      <th>proportion</th>\n",
       "    </tr>\n",
       "    <tr>\n",
       "      <th>quality</th>\n",
       "      <th></th>\n",
       "    </tr>\n",
       "  </thead>\n",
       "  <tbody>\n",
       "    <tr>\n",
       "      <th>6.0</th>\n",
       "      <td>45.05</td>\n",
       "    </tr>\n",
       "    <tr>\n",
       "      <th>5.0</th>\n",
       "      <td>31.44</td>\n",
       "    </tr>\n",
       "    <tr>\n",
       "      <th>7.0</th>\n",
       "      <td>15.10</td>\n",
       "    </tr>\n",
       "    <tr>\n",
       "      <th>4.0</th>\n",
       "      <td>4.21</td>\n",
       "    </tr>\n",
       "    <tr>\n",
       "      <th>8.0</th>\n",
       "      <td>3.22</td>\n",
       "    </tr>\n",
       "    <tr>\n",
       "      <th>3.0</th>\n",
       "      <td>0.99</td>\n",
       "    </tr>\n",
       "  </tbody>\n",
       "</table>\n",
       "</div>"
      ],
      "text/plain": [
       "         proportion\n",
       "quality            \n",
       "6.0           45.05\n",
       "5.0           31.44\n",
       "7.0           15.10\n",
       "4.0            4.21\n",
       "8.0            3.22\n",
       "3.0            0.99"
      ]
     },
     "execution_count": 42,
     "metadata": {},
     "output_type": "execute_result"
    }
   ],
   "source": [
    "pd.DataFrame(df['quality'].value_counts(normalize=True) * 100).round(2)"
   ]
  },
  {
   "cell_type": "markdown",
   "metadata": {},
   "source": [
    "Lebih dari 50% didominasi oleh anggur dengan kualitas lebih dari 6."
   ]
  },
  {
   "cell_type": "markdown",
   "metadata": {},
   "source": [
    "Handling rare value:"
   ]
  },
  {
   "cell_type": "code",
   "execution_count": 43,
   "metadata": {},
   "outputs": [],
   "source": [
    "import numpy as np  \n",
    "\n",
    "df['quality'] = df['quality'].apply(lambda x: np.where(x > 6, 1, 0))"
   ]
  },
  {
   "cell_type": "markdown",
   "metadata": {},
   "source": [
    "`Outliers`"
   ]
  },
  {
   "cell_type": "markdown",
   "metadata": {},
   "source": [
    "Deteksi dan kuantifikasi outlier:"
   ]
  },
  {
   "cell_type": "code",
   "execution_count": 44,
   "metadata": {},
   "outputs": [
    {
     "name": "stderr",
     "output_type": "stream",
     "text": [
      "C:\\Users\\Fiki\\AppData\\Local\\Temp\\ipykernel_19888\\2420736601.py:6: FutureWarning: \n",
      "\n",
      "Passing `palette` without assigning `hue` is deprecated and will be removed in v0.14.0. Assign the `y` variable to `hue` and set `legend=False` for the same effect.\n",
      "\n",
      "  sns.boxplot(x='alcohol', data=df, width=.2, palette=\"vlag\", ax=ax[0])\n",
      "C:\\Users\\Fiki\\AppData\\Local\\Temp\\ipykernel_19888\\2420736601.py:7: FutureWarning: \n",
      "\n",
      "Passing `palette` without assigning `hue` is deprecated and will be removed in v0.14.0. Assign the `y` variable to `hue` and set `legend=False` for the same effect.\n",
      "\n",
      "  sns.boxplot(x='density', data=df, width=.2, palette=\"vlag\", ax=ax[1])\n"
     ]
    },
    {
     "data": {
      "image/png": "[encoded data removed]",
      "text/plain": [
       "<Figure size 2000x400 with 2 Axes>"
      ]
     },
     "metadata": {},
     "output_type": "display_data"
    }
   ],
   "source": [
    "import seaborn as sns\n",
    "import matplotlib.pyplot as plt\n",
    "\n",
    "fig, ax = plt.subplots(2, 1, figsize=(20, 4))\n",
    "\n",
    "sns.boxplot(x='alcohol', data=df, width=.2, palette=\"vlag\", ax=ax[0])\n",
    "sns.boxplot(x='density', data=df, width=.2, palette=\"vlag\", ax=ax[1])\n",
    "\n",
    "ax[0].set_title(\"Data Distribution\", y=1.2)\n",
    "plt.subplots_adjust(left=0.1, bottom=0.1, right=0.9, wspace=0.1, hspace=0.9)\n",
    "plt.show()\n"
   ]
  },
  {
   "cell_type": "code",
   "execution_count": 45,
   "metadata": {},
   "outputs": [
    {
     "data": {
      "text/plain": [
       "(0, 3)"
      ]
     },
     "execution_count": 45,
     "metadata": {},
     "output_type": "execute_result"
    }
   ],
   "source": [
    "# Perform iqr for outlier detection\n",
    "\n",
    "Q1 = df['density'].quantile(0.25)\n",
    "Q3 = df['density'].quantile(0.75)\n",
    "IQR = Q3 - Q1 \n",
    "\n",
    "n_outlier = df['density'] >= (Q3 + 1.5*IQR)\n",
    "df[n_outlier].shape"
   ]
  },
  {
   "cell_type": "markdown",
   "metadata": {},
   "source": [
    "Tidak terdapat outlier pada variabel density."
   ]
  },
  {
   "cell_type": "markdown",
   "metadata": {},
   "source": [
    "`Imbalance Data`"
   ]
  },
  {
   "cell_type": "markdown",
   "metadata": {},
   "source": [
    "Deteksi dan kuantifikasi proporsi label target"
   ]
  },
  {
   "cell_type": "code",
   "execution_count": 46,
   "metadata": {},
   "outputs": [
    {
     "data": {
      "text/plain": [
       "quality\n",
       "0    81.683168\n",
       "1    18.316832\n",
       "Name: proportion, dtype: float64"
      ]
     },
     "execution_count": 46,
     "metadata": {},
     "output_type": "execute_result"
    }
   ],
   "source": [
    "df['quality'].value_counts(normalize=True) * 100"
   ]
  },
  {
   "cell_type": "markdown",
   "metadata": {},
   "source": [
    "Persentase jumlah label 0 (81.6%) lebih banyak dibandingkan label 1 (18.2%), ini termasuk imbalance."
   ]
  },
  {
   "cell_type": "markdown",
   "metadata": {},
   "source": [
    "`Check Multicollinearity`"
   ]
  },
  {
   "cell_type": "markdown",
   "metadata": {},
   "source": [
    "Deteksi multicollinearity antar fitur dengan VIF."
   ]
  },
  {
   "cell_type": "code",
   "execution_count": 47,
   "metadata": {},
   "outputs": [
    {
     "data": {
      "text/html": [
       "<div>\n",
       "<style scoped>\n",
       "    .dataframe tbody tr th:only-of-type {\n",
       "        vertical-align: middle;\n",
       "    }\n",
       "\n",
       "    .dataframe tbody tr th {\n",
       "        vertical-align: top;\n",
       "    }\n",
       "\n",
       "    .dataframe thead th {\n",
       "        text-align: right;\n",
       "    }\n",
       "</style>\n",
       "<table border=\"1\" class=\"dataframe\">\n",
       "  <thead>\n",
       "    <tr style=\"text-align: right;\">\n",
       "      <th></th>\n",
       "      <th>VIF Factor</th>\n",
       "      <th>Feature</th>\n",
       "    </tr>\n",
       "  </thead>\n",
       "  <tbody>\n",
       "    <tr>\n",
       "      <th>0</th>\n",
       "      <td>88.56</td>\n",
       "      <td>alcohol</td>\n",
       "    </tr>\n",
       "    <tr>\n",
       "      <th>1</th>\n",
       "      <td>88.56</td>\n",
       "      <td>density</td>\n",
       "    </tr>\n",
       "  </tbody>\n",
       "</table>\n",
       "</div>"
      ],
      "text/plain": [
       "   VIF Factor  Feature\n",
       "0       88.56  alcohol\n",
       "1       88.56  density"
      ]
     },
     "execution_count": 47,
     "metadata": {},
     "output_type": "execute_result"
    }
   ],
   "source": [
    "from statsmodels.stats.outliers_influence import variance_inflation_factor \n",
    "\n",
    "X = df.drop(columns='quality')\n",
    "y = df['quality']\n",
    "\n",
    "vif = pd.DataFrame()\n",
    "vif[\"VIF Factor\"] = [variance_inflation_factor(X.values, i) for i in range(X.shape[1])]\n",
    "vif[\"Feature\"] =  X.columns\n",
    "\n",
    "vif.round(2)"
   ]
  },
  {
   "cell_type": "markdown",
   "metadata": {},
   "source": [
    "Terdapat multicollinearity antara fitur alcohol dan density. Saat menggunakan model linear, multicollinearity seharusnya dihindari. Namun untuk studi kasus ini kita akan pertahankan dahulu."
   ]
  },
  {
   "cell_type": "markdown",
   "metadata": {},
   "source": [
    "**Feature Engineering**\n",
    "\n",
    "Bagi dataset menjadi train dan test set."
   ]
  },
  {
   "cell_type": "code",
   "execution_count": 48,
   "metadata": {},
   "outputs": [
    {
     "data": {
      "text/plain": [
       "((282, 2), (122, 2), (122,), (122,))"
      ]
     },
     "execution_count": 48,
     "metadata": {},
     "output_type": "execute_result"
    }
   ],
   "source": [
    "from sklearn.model_selection import train_test_split\n",
    "\n",
    "X_train, X_test, y_train, y_test = train_test_split(X,y, test_size=.3, random_state=0, stratify=y)\n",
    "\n",
    "X_train.shape, X_test.shape, y_test.shape, y_test.shape"
   ]
  },
  {
   "cell_type": "markdown",
   "metadata": {},
   "source": [
    "### `Model Experiment`"
   ]
  },
  {
   "cell_type": "markdown",
   "metadata": {},
   "source": [
    "Setting parameter dasar untuk menginisialisasi experiment dan membuat pipeline transformasi"
   ]
  },
  {
   "cell_type": "code",
   "execution_count": 49,
   "metadata": {},
   "outputs": [],
   "source": [
    "from sklearn.compose import ColumnTransformer\n",
    "from sklearn.preprocessing import RobustScaler\n",
    "\n",
    "transformer = ColumnTransformer([\n",
    "    ('scaling',RobustScaler(),['alcohol','density'])\n",
    "], remainder='passthrough')\n",
    "\n",
    "X_train_scale = transformer.fit_transform(X_train)\n",
    "X_test_scale = transformer.fit_transform(X_test)\n"
   ]
  },
  {
   "cell_type": "markdown",
   "metadata": {},
   "source": [
    "**Benchmark Model**"
   ]
  },
  {
   "cell_type": "markdown",
   "metadata": {},
   "source": [
    "`Without Scaling`"
   ]
  },
  {
   "cell_type": "code",
   "execution_count": 50,
   "metadata": {},
   "outputs": [
    {
     "data": {
      "text/plain": [
       "0.9426229508196722"
      ]
     },
     "execution_count": 50,
     "metadata": {},
     "output_type": "execute_result"
    }
   ],
   "source": [
    "from sklearn.tree import DecisionTreeClassifier\n",
    "from sklearn.metrics import accuracy_score\n",
    "\n",
    "# Define Model\n",
    "estimator = DecisionTreeClassifier(max_depth=2, criterion='entropy', random_state=42)\n",
    "\n",
    "#fitting\n",
    "estimator.fit(X_train,y_train)\n",
    "\n",
    "#predicion\n",
    "y_pred_test = estimator.predict(X_test)\n",
    "\n",
    "#calculate score\n",
    "accuracy_score(y_test,y_pred_test)\n"
   ]
  },
  {
   "cell_type": "markdown",
   "metadata": {},
   "source": [
    "`With Scaling`"
   ]
  },
  {
   "cell_type": "code",
   "execution_count": 51,
   "metadata": {},
   "outputs": [
    {
     "data": {
      "text/plain": [
       "0.9426229508196722"
      ]
     },
     "execution_count": 51,
     "metadata": {},
     "output_type": "execute_result"
    }
   ],
   "source": [
    "# Define Model\n",
    "estimator = DecisionTreeClassifier(max_depth=2, criterion='entropy', random_state=42)\n",
    "\n",
    "#fitting\n",
    "estimator.fit(X_train_scale,y_train)\n",
    "\n",
    "#predicion\n",
    "y_pred_test = estimator.predict(X_test_scale)\n",
    "\n",
    "#calculate score\n",
    "accuracy_score(y_test,y_pred_test)\n"
   ]
  },
  {
   "cell_type": "markdown",
   "metadata": {},
   "source": [
    "- Decision Tree tidak membutuhkan scaling"
   ]
  },
  {
   "cell_type": "markdown",
   "metadata": {},
   "source": [
    "**Model Selection**"
   ]
  },
  {
   "cell_type": "code",
   "execution_count": 52,
   "metadata": {},
   "outputs": [
    {
     "data": {
      "text/html": [
       "<div>\n",
       "<style scoped>\n",
       "    .dataframe tbody tr th:only-of-type {\n",
       "        vertical-align: middle;\n",
       "    }\n",
       "\n",
       "    .dataframe tbody tr th {\n",
       "        vertical-align: top;\n",
       "    }\n",
       "\n",
       "    .dataframe thead th {\n",
       "        text-align: right;\n",
       "    }\n",
       "</style>\n",
       "<table border=\"1\" class=\"dataframe\">\n",
       "  <thead>\n",
       "    <tr style=\"text-align: right;\">\n",
       "      <th></th>\n",
       "      <th>depth</th>\n",
       "      <th>Training</th>\n",
       "      <th>Testing</th>\n",
       "    </tr>\n",
       "  </thead>\n",
       "  <tbody>\n",
       "    <tr>\n",
       "      <th>8</th>\n",
       "      <td>9</td>\n",
       "      <td>0.992908</td>\n",
       "      <td>0.983607</td>\n",
       "    </tr>\n",
       "    <tr>\n",
       "      <th>7</th>\n",
       "      <td>8</td>\n",
       "      <td>0.989362</td>\n",
       "      <td>0.983607</td>\n",
       "    </tr>\n",
       "    <tr>\n",
       "      <th>6</th>\n",
       "      <td>7</td>\n",
       "      <td>0.982270</td>\n",
       "      <td>0.983607</td>\n",
       "    </tr>\n",
       "    <tr>\n",
       "      <th>9</th>\n",
       "      <td>10</td>\n",
       "      <td>0.996454</td>\n",
       "      <td>0.975410</td>\n",
       "    </tr>\n",
       "    <tr>\n",
       "      <th>10</th>\n",
       "      <td>11</td>\n",
       "      <td>0.996454</td>\n",
       "      <td>0.975410</td>\n",
       "    </tr>\n",
       "    <tr>\n",
       "      <th>11</th>\n",
       "      <td>12</td>\n",
       "      <td>0.996454</td>\n",
       "      <td>0.975410</td>\n",
       "    </tr>\n",
       "    <tr>\n",
       "      <th>12</th>\n",
       "      <td>13</td>\n",
       "      <td>0.996454</td>\n",
       "      <td>0.975410</td>\n",
       "    </tr>\n",
       "    <tr>\n",
       "      <th>13</th>\n",
       "      <td>14</td>\n",
       "      <td>0.996454</td>\n",
       "      <td>0.975410</td>\n",
       "    </tr>\n",
       "    <tr>\n",
       "      <th>14</th>\n",
       "      <td>15</td>\n",
       "      <td>0.996454</td>\n",
       "      <td>0.975410</td>\n",
       "    </tr>\n",
       "    <tr>\n",
       "      <th>15</th>\n",
       "      <td>16</td>\n",
       "      <td>0.996454</td>\n",
       "      <td>0.975410</td>\n",
       "    </tr>\n",
       "    <tr>\n",
       "      <th>16</th>\n",
       "      <td>17</td>\n",
       "      <td>0.996454</td>\n",
       "      <td>0.975410</td>\n",
       "    </tr>\n",
       "    <tr>\n",
       "      <th>17</th>\n",
       "      <td>18</td>\n",
       "      <td>0.996454</td>\n",
       "      <td>0.975410</td>\n",
       "    </tr>\n",
       "    <tr>\n",
       "      <th>18</th>\n",
       "      <td>19</td>\n",
       "      <td>0.996454</td>\n",
       "      <td>0.975410</td>\n",
       "    </tr>\n",
       "    <tr>\n",
       "      <th>5</th>\n",
       "      <td>6</td>\n",
       "      <td>0.971631</td>\n",
       "      <td>0.967213</td>\n",
       "    </tr>\n",
       "    <tr>\n",
       "      <th>3</th>\n",
       "      <td>4</td>\n",
       "      <td>0.968085</td>\n",
       "      <td>0.967213</td>\n",
       "    </tr>\n",
       "    <tr>\n",
       "      <th>4</th>\n",
       "      <td>5</td>\n",
       "      <td>0.968085</td>\n",
       "      <td>0.967213</td>\n",
       "    </tr>\n",
       "    <tr>\n",
       "      <th>1</th>\n",
       "      <td>2</td>\n",
       "      <td>0.946809</td>\n",
       "      <td>0.942623</td>\n",
       "    </tr>\n",
       "    <tr>\n",
       "      <th>2</th>\n",
       "      <td>3</td>\n",
       "      <td>0.946809</td>\n",
       "      <td>0.942623</td>\n",
       "    </tr>\n",
       "    <tr>\n",
       "      <th>0</th>\n",
       "      <td>1</td>\n",
       "      <td>0.815603</td>\n",
       "      <td>0.819672</td>\n",
       "    </tr>\n",
       "  </tbody>\n",
       "</table>\n",
       "</div>"
      ],
      "text/plain": [
       "    depth  Training   Testing\n",
       "8       9  0.992908  0.983607\n",
       "7       8  0.989362  0.983607\n",
       "6       7  0.982270  0.983607\n",
       "9      10  0.996454  0.975410\n",
       "10     11  0.996454  0.975410\n",
       "11     12  0.996454  0.975410\n",
       "12     13  0.996454  0.975410\n",
       "13     14  0.996454  0.975410\n",
       "14     15  0.996454  0.975410\n",
       "15     16  0.996454  0.975410\n",
       "16     17  0.996454  0.975410\n",
       "17     18  0.996454  0.975410\n",
       "18     19  0.996454  0.975410\n",
       "5       6  0.971631  0.967213\n",
       "3       4  0.968085  0.967213\n",
       "4       5  0.968085  0.967213\n",
       "1       2  0.946809  0.942623\n",
       "2       3  0.946809  0.942623\n",
       "0       1  0.815603  0.819672"
      ]
     },
     "execution_count": 52,
     "metadata": {},
     "output_type": "execute_result"
    }
   ],
   "source": [
    "training_accuracies = []\n",
    "testing_accuracies = []\n",
    "\n",
    "depth = range(1,20)\n",
    "for i in depth:\n",
    "    estimator = DecisionTreeClassifier(max_depth=i, criterion='entropy',random_state=42)\n",
    "    estimator.fit(X_train, y_train)\n",
    "\n",
    "    y_pred_train = estimator.predict(X_train)\n",
    "    y_pred_test = estimator.predict(X_test)\n",
    "\n",
    "    accuracy_train = accuracy_score(y_train, y_pred_train)\n",
    "    accuracy_test = accuracy_score(y_test, y_pred_test)\n",
    "\n",
    "    training_accuracies.append(accuracy_train)\n",
    "    testing_accuracies.append(accuracy_test)\n",
    "\n",
    "pd.DataFrame({\n",
    "    'depth' : [i for i in depth],\n",
    "    'Training' : training_accuracies,\n",
    "    'Testing' : testing_accuracies\n",
    "}).sort_values(['Testing','Training'],ascending=False)\n"
   ]
  },
  {
   "cell_type": "code",
   "execution_count": 53,
   "metadata": {},
   "outputs": [
    {
     "data": {
      "image/png": "[encoded data removed]",
      "text/plain": [
       "<Figure size 1800x600 with 1 Axes>"
      ]
     },
     "metadata": {},
     "output_type": "display_data"
    }
   ],
   "source": [
    "plt.figure(figsize=(18,6))\n",
    "\n",
    "plt.plot(depth,training_accuracies, label = 'Training accuracy', c='red')\n",
    "plt.plot(depth,testing_accuracies, label = 'Testing accuracy', c='green')\n",
    "plt.xlabel('Max Depth')\n",
    "plt.ylabel('Accuracy Score')\n",
    "plt.title('Training and Testing accuracy over Iteration')\n",
    "plt.legend()\n",
    "plt.show()"
   ]
  },
  {
   "cell_type": "markdown",
   "metadata": {},
   "source": [
    "**Insight**\n",
    "\n",
    "- Nilai max_depth yang lebih besar menghasilkan model yang lebih stabil. Hal ini membuat model tidak terlalu rentan terhadap noise pada data.\n",
    "\n",
    "- Nilai max_depth yang lebih besar dapat menurunkan bias model, namun meningkatkan variansi hasil klasifikasi. Ini disebabkan karena model makin mudah membedakan antara kelas-kelas di wilayah dengan tiitik data yang beragam.\n",
    "\n",
    "- Ketika max_depth meningkat, kompleksitas dan waktu komputasi untuk membuat prediksi juga meningkat, karena algoritma harus mempertimbangkan lebih untuk membuat aturan keputusan."
   ]
  },
  {
   "cell_type": "markdown",
   "metadata": {},
   "source": [
    "**Final Model**"
   ]
  },
  {
   "cell_type": "code",
   "execution_count": 55,
   "metadata": {},
   "outputs": [
    {
     "name": "stdout",
     "output_type": "stream",
     "text": [
      "Model training accuracy 0.9964539007092199\n",
      "Model testing accuracy 0.9754098360655737\n"
     ]
    }
   ],
   "source": [
    "best_estimator = DecisionTreeClassifier(max_depth=9,criterion='entropy', random_state=42)\n",
    "best_estimator.fit(X_train,y_train)\n",
    "\n",
    "y_pred_train = estimator.predict(X_train)\n",
    "y_pred_test = estimator.predict(X_test)\n",
    "\n",
    "print(f'Model training accuracy {accuracy_score(y_train,y_pred_train)}')\n",
    "print(f'Model testing accuracy {accuracy_score(y_test,y_pred_test)}')"
   ]
  },
  {
   "cell_type": "markdown",
   "metadata": {},
   "source": [
    "**Model Interpretation**\n",
    "\n",
    "- Akurasi pada test set : 98.36%\n",
    "- Model Decision Tree mampu memprediksi 98.36% kualitas anggur dengan benar (baik yang berkualitas Good maupun Bad)\n",
    "- Dari 122 botol anggur, 120 botol dilabeli dengan benar."
   ]
  },
  {
   "cell_type": "code",
   "execution_count": 58,
   "metadata": {},
   "outputs": [
    {
     "data": {
      "image/png": "[encoded data removed]",
      "text/plain": [
       "<Figure size 2000x600 with 3 Axes>"
      ]
     },
     "metadata": {},
     "output_type": "display_data"
    }
   ],
   "source": [
    "from mlxtend.plotting import plot_decision_regions\n",
    "\n",
    "# Assuming X has only two features\n",
    "fig, axes = plt.subplots(1, 3, figsize=(20, 6))\n",
    "\n",
    "for id, depth in enumerate([3, 11, 21]):\n",
    "\n",
    "    # define model\n",
    "    estimator = DecisionTreeClassifier(max_depth=depth, criterion='entropy', random_state=42)\n",
    "\n",
    "    # fitting model\n",
    "    estimator.fit(X_train_scale, y_train)\n",
    "\n",
    "    # Set title\n",
    "    axes[id].set_title(f'Max Depth= {depth}')\n",
    "\n",
    "    # Plot the decision boundaries\n",
    "    plot_decision_regions(X_test_scale, y_test.to_numpy(), clf=estimator, legend=2, ax=axes[id])\n",
    "\n",
    "# Show the plot\n",
    "plt.show()"
   ]
  },
  {
   "cell_type": "markdown",
   "metadata": {},
   "source": [
    "**Insight**: Nilai max_depth yang besar menyebabkan decision boundary cenderung lebih sensitif terhadap variasi kecil dalam data. Hal ini meningkatkan akurasi dari klasifikasi namun berpotensi cenderung overfitting karena pengaruh titik data yang noise meningkat."
   ]
  },
  {
   "cell_type": "markdown",
   "metadata": {},
   "source": [
    "`Plot Tree`"
   ]
  },
  {
   "cell_type": "code",
   "execution_count": 59,
   "metadata": {},
   "outputs": [
    {
     "data": {
      "image/png": "[encoded data removed]",
      "text/plain": [
       "<Figure size 2000x600 with 1 Axes>"
      ]
     },
     "metadata": {},
     "output_type": "display_data"
    }
   ],
   "source": [
    "from sklearn. tree import plot_tree\n",
    "\n",
    "fig = plt.figure(figsize=(20, 6))\n",
    "\n",
    "_ = plot_tree(\n",
    "    decision_tree=best_estimator,\n",
    "    feature_names=['alcohol', 'density'],\n",
    "    filled=True,\n",
    "    class_names=['Bad', 'Good']\n",
    ")"
   ]
  },
  {
   "cell_type": "markdown",
   "metadata": {},
   "source": [
    "**Insight**\n",
    "\n",
    "- Fitur alcohol disebut simpul akar (root node). Simpul ini merepresentasikan keseluruhan dataset, karena berisi aturan yang paling baik dalam membagi data menjadi dua atau lebih subset. Fitur ini dipilih untuk memaksimalkan perolehan informasi atau meminimalkan impuritas.\n",
    "\n",
    "- Simpul internal dalam pohon mewakili titik-titik keputusan. Setiap node internal berisi aturan IF-THEN berdasarkan fitur dan ambang batas tertentu. Simpul internal akan bercabang dan berakhir di simpul daun. Setiap simpul daun diasosiasikan dengan label kelas dalam tugas klasifikasi. \n",
    "\n",
    "- Ukuran kedalaman pohon adalah 7 level, dihitung dari lapisan akar ke daun terdalam. Pohon yang lebih dalam dapat menangkap hubungan yang lebih kompleks dalam data tetapi juga rentan terhadap overfitting."
   ]
  },
  {
   "cell_type": "markdown",
   "metadata": {},
   "source": [
    "`Feature Importances`"
   ]
  },
  {
   "cell_type": "code",
   "execution_count": 60,
   "metadata": {},
   "outputs": [
    {
     "name": "stdout",
     "output_type": "stream",
     "text": [
      "alcohol: 0.579\n",
      "density: 0.421\n"
     ]
    },
    {
     "data": {
      "image/png": "[encoded data removed]",
      "text/plain": [
       "<Figure size 1000x200 with 1 Axes>"
      ]
     },
     "metadata": {},
     "output_type": "display_data"
    }
   ],
   "source": [
    "\n",
    "importances = np.round(best_estimator.feature_importances_, 3)\n",
    "\n",
    "# Get feature names\n",
    "feature_names = ['alcohol', 'density']\n",
    "\n",
    "# Print feature importances\n",
    "for feature, importance in zip(feature_names, importances):\n",
    "    print(f'{feature}: {importance}')\n",
    "\n",
    "# Set figure size\n",
    "fig, ax = plt.subplots(figsize=(10, 2))\n",
    "\n",
    "# Plot feature importances\n",
    "sns.barplot(y=feature_names, x=importances)\n",
    "plt.xlabel('Score')\n",
    "plt.ylabel('Feature')\n",
    "plt.title('Feature Importance')\n",
    "\n",
    "# Show the plot\n",
    "plt.show()"
   ]
  },
  {
   "cell_type": "markdown",
   "metadata": {},
   "source": [
    "**Insight**: Decision tree menentukan splitter dengan memaksimalkan information gain (penurunan impurity), dengan menghitung rerata penurunan impuritas untuk setiap fitur terhadap keseluruhan pohon akan memperoleh skor feature importance. Jadi, berdasarkan grafik di atas, fitur alcohol menjadi yang terpenting dengan rerata penurunan impuritas 0.571, diikuti dengan fitur kandungan density yaitu 0.429."
   ]
  },
  {
   "cell_type": "markdown",
   "metadata": {},
   "source": [
    "**Predict to New Data**"
   ]
  },
  {
   "cell_type": "code",
   "execution_count": null,
   "metadata": {},
   "outputs": [],
   "source": []
  }
 ],
 "metadata": {
  "kernelspec": {
   "display_name": "Python 3",
   "language": "python",
   "name": "python3"
  },
  "language_info": {
   "codemirror_mode": {
    "name": "ipython",
    "version": 3
   },
   "file_extension": ".py",
   "mimetype": "text/x-python",
   "name": "python",
   "nbconvert_exporter": "python",
   "pygments_lexer": "ipython3",
   "version": "3.12.2"
  }
 },
 "nbformat": 4,
 "nbformat_minor": 2
}
