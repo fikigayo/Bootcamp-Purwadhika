{
 "cells": [
  {
   "cell_type": "markdown",
   "metadata": {},
   "source": [
    "### `Logistic Regression`\n",
    "\n",
    "A logistic regression model applies the sigmoid to the familiar linear regression model as shown below:\n",
    "\n",
    "$f(x) = \\frac{1}{1 + e^{\\beta_0 + \\sum _{j=1}^{p} X_j\\beta_j}}$\n",
    "\n",
    "**where**\n",
    "- $f(x)$: response/dependent variable\n",
    "- $X_j$: explanatory/independent variable\n",
    "- $\\beta_j$: slope coefficient\n",
    "- $\\beta_0$: intercept terms\n",
    "\n",
    "We interpret the output of the model $f(x)$ as the probability that $y = 1$ given $x$ and parameterized by $\\beta_0$ and $\\beta_j$. Therefore, to get a final prediction ($y = 0$ or $y = 1$) from the logistic regression model, we can use the following heuristic:\n",
    "\n",
    "- if $f(x) >= 0.5$, predict $y = 1$\n",
    "- if $f(x) < 0.5$, predict $y = 0$"
   ]
  },
  {
   "cell_type": "markdown",
   "metadata": {},
   "source": [
    "**Importing Libraries**"
   ]
  },
  {
   "cell_type": "code",
   "execution_count": 3,
   "metadata": {},
   "outputs": [],
   "source": [
    "import numpy as np \n",
    "import pandas as pd\n",
    "import seaborn as sns \n",
    "import matplotlib.pyplot as plt \n",
    "import statsmodels.api as sm"
   ]
  },
  {
   "cell_type": "markdown",
   "metadata": {},
   "source": [
    "### `Business Problem Understanding`\n",
    "\n",
    "**Problem Statement**\n",
    "Klasifikasi kualitas wine merupakan tugas yang sulit karena rasa adalah hal yang paling sedikit dipahami oleh indera manusia. Prediksi kualitas wine yang baik bisa sangat berguna dalam tahap sertifikasi, karena saat ini analisis sensorik dilakukan oleh manusia dengan cara pencicipan dimana hal ini merupakan pendekatan yang subjektif.\n",
    "\n",
    "**Goals**\n",
    "Menentukan kualitas dri wine berdasarkan fitur alcohol dan density.\n",
    "\n",
    "**Analytic Approach**\n",
    "Jadi yang perlu kita lakukan adalah menganalisis data untuk dapat menemukan pola dari fitur-fitur yang ada, yang membedakan satu wine dengan wine yang lain.\n",
    "\n",
    "Selanjutnya, kita akan membangun suatu model klasifikasi yang akan membantu perusahaan untuk dapat menyediakan tool prediksi kualitas dari wine baru, yang mana akan berguna untuk menentukan harga dari suatu wine.\n",
    "\n",
    "**Metric Evaluation**\n",
    "Evaluasi metrik yang akan digunakan adalah accuracy. Semakin tinggi nilainya, berarti model semakin akurat dalam melabeli kualitas wine sesuai dengan limitasi fitur yang digunakan."
   ]
  },
  {
   "cell_type": "markdown",
   "metadata": {},
   "source": [
    "### `Data Understanding`"
   ]
  },
  {
   "cell_type": "code",
   "execution_count": 4,
   "metadata": {},
   "outputs": [
    {
     "name": "stdout",
     "output_type": "stream",
     "text": [
      "jumlah baris dan kolom (520, 3)\n"
     ]
    },
    {
     "data": {
      "text/html": [
       "<div>\n",
       "<style scoped>\n",
       "    .dataframe tbody tr th:only-of-type {\n",
       "        vertical-align: middle;\n",
       "    }\n",
       "\n",
       "    .dataframe tbody tr th {\n",
       "        vertical-align: top;\n",
       "    }\n",
       "\n",
       "    .dataframe thead th {\n",
       "        text-align: right;\n",
       "    }\n",
       "</style>\n",
       "<table border=\"1\" class=\"dataframe\">\n",
       "  <thead>\n",
       "    <tr style=\"text-align: right;\">\n",
       "      <th></th>\n",
       "      <th>alcohol</th>\n",
       "      <th>density</th>\n",
       "      <th>quality</th>\n",
       "    </tr>\n",
       "  </thead>\n",
       "  <tbody>\n",
       "    <tr>\n",
       "      <th>0</th>\n",
       "      <td>8.8</td>\n",
       "      <td>1.0010</td>\n",
       "      <td>6.0</td>\n",
       "    </tr>\n",
       "    <tr>\n",
       "      <th>1</th>\n",
       "      <td>9.5</td>\n",
       "      <td>0.9940</td>\n",
       "      <td>6.0</td>\n",
       "    </tr>\n",
       "    <tr>\n",
       "      <th>2</th>\n",
       "      <td>10.1</td>\n",
       "      <td>0.9951</td>\n",
       "      <td>6.0</td>\n",
       "    </tr>\n",
       "    <tr>\n",
       "      <th>3</th>\n",
       "      <td>9.9</td>\n",
       "      <td>0.9956</td>\n",
       "      <td>6.0</td>\n",
       "    </tr>\n",
       "    <tr>\n",
       "      <th>4</th>\n",
       "      <td>9.9</td>\n",
       "      <td>0.9956</td>\n",
       "      <td>6.0</td>\n",
       "    </tr>\n",
       "  </tbody>\n",
       "</table>\n",
       "</div>"
      ],
      "text/plain": [
       "   alcohol  density  quality\n",
       "0      8.8   1.0010      6.0\n",
       "1      9.5   0.9940      6.0\n",
       "2     10.1   0.9951      6.0\n",
       "3      9.9   0.9956      6.0\n",
       "4      9.9   0.9956      6.0"
      ]
     },
     "execution_count": 4,
     "metadata": {},
     "output_type": "execute_result"
    }
   ],
   "source": [
    "data = pd.read_csv('../csv/white_wine.csv')[['alcohol','density','quality']]\n",
    "print(f'jumlah baris dan kolom {data.shape}')\n",
    "data.head()"
   ]
  },
  {
   "cell_type": "code",
   "execution_count": 5,
   "metadata": {},
   "outputs": [
    {
     "data": {
      "text/html": [
       "<div>\n",
       "<style scoped>\n",
       "    .dataframe tbody tr th:only-of-type {\n",
       "        vertical-align: middle;\n",
       "    }\n",
       "\n",
       "    .dataframe tbody tr th {\n",
       "        vertical-align: top;\n",
       "    }\n",
       "\n",
       "    .dataframe thead th {\n",
       "        text-align: right;\n",
       "    }\n",
       "</style>\n",
       "<table border=\"1\" class=\"dataframe\">\n",
       "  <thead>\n",
       "    <tr style=\"text-align: right;\">\n",
       "      <th></th>\n",
       "      <th>feature</th>\n",
       "      <th>data_type</th>\n",
       "      <th>null</th>\n",
       "      <th>negative</th>\n",
       "      <th>n_unique</th>\n",
       "      <th>min</th>\n",
       "      <th>max</th>\n",
       "      <th>sample_unique</th>\n",
       "    </tr>\n",
       "  </thead>\n",
       "  <tbody>\n",
       "    <tr>\n",
       "      <th>0</th>\n",
       "      <td>alcohol</td>\n",
       "      <td>float64</td>\n",
       "      <td>0.192308</td>\n",
       "      <td>False</td>\n",
       "      <td>45</td>\n",
       "      <td>8.5000</td>\n",
       "      <td>12.9000</td>\n",
       "      <td>[8.8, 9.5, 10.1, 9.9, 9.6, 11.0, 12.0, 9.7, 10...</td>\n",
       "    </tr>\n",
       "    <tr>\n",
       "      <th>1</th>\n",
       "      <td>density</td>\n",
       "      <td>float64</td>\n",
       "      <td>0.000000</td>\n",
       "      <td>False</td>\n",
       "      <td>100</td>\n",
       "      <td>0.9899</td>\n",
       "      <td>1.0033</td>\n",
       "      <td>[1.001, 0.994, 0.9951, 0.9956, 0.9949, 0.9938,...</td>\n",
       "    </tr>\n",
       "    <tr>\n",
       "      <th>2</th>\n",
       "      <td>quality</td>\n",
       "      <td>float64</td>\n",
       "      <td>0.192308</td>\n",
       "      <td>False</td>\n",
       "      <td>6</td>\n",
       "      <td>3.0000</td>\n",
       "      <td>8.0000</td>\n",
       "      <td>[6.0, 5.0, 7.0, 8.0, 4.0, 3.0, nan]</td>\n",
       "    </tr>\n",
       "  </tbody>\n",
       "</table>\n",
       "</div>"
      ],
      "text/plain": [
       "   feature data_type      null  negative  n_unique     min      max  \\\n",
       "0  alcohol   float64  0.192308     False        45  8.5000  12.9000   \n",
       "1  density   float64  0.000000     False       100  0.9899   1.0033   \n",
       "2  quality   float64  0.192308     False         6  3.0000   8.0000   \n",
       "\n",
       "                                       sample_unique  \n",
       "0  [8.8, 9.5, 10.1, 9.9, 9.6, 11.0, 12.0, 9.7, 10...  \n",
       "1  [1.001, 0.994, 0.9951, 0.9956, 0.9949, 0.9938,...  \n",
       "2                [6.0, 5.0, 7.0, 8.0, 4.0, 3.0, nan]  "
      ]
     },
     "execution_count": 5,
     "metadata": {},
     "output_type": "execute_result"
    }
   ],
   "source": [
    "pd.DataFrame({\n",
    "    'feature': data.columns.values,\n",
    "    'data_type': data.dtypes.values,\n",
    "    'null': data.isna().mean().values * 100,\n",
    "    'negative': [True if data[col].dtype == int and (data[col] < 0).any() else False for col in data.columns],\n",
    "    'n_unique': data.nunique().values,\n",
    "    'min': data.min().values,\n",
    "    'max': data.max().values,\n",
    "    'sample_unique': [data[col].unique() for col in data.columns]\n",
    "})"
   ]
  },
  {
   "cell_type": "markdown",
   "metadata": {},
   "source": [
    "**Insight**\n",
    "\n",
    "- Dataset terdiri dari 520 baris dan 12 kolom.\n",
    "- Semua variabel tergolong numerikal dan continous, kecuali quality yaitu diskrit\n",
    "- Format data dari variabel quality seharusnya integer\n",
    "- Skala dari variabel total sulfur dioxide dan free sulfur dioxide lebih besar dibanding yang lain."
   ]
  },
  {
   "cell_type": "markdown",
   "metadata": {},
   "source": [
    "### `Data Preparation`"
   ]
  },
  {
   "cell_type": "markdown",
   "metadata": {},
   "source": [
    "`Duplicates`"
   ]
  },
  {
   "cell_type": "markdown",
   "metadata": {},
   "source": [
    "**Duplicated Value**, Deteksi dan kuantifikasi duplikasi data"
   ]
  },
  {
   "cell_type": "code",
   "execution_count": 6,
   "metadata": {},
   "outputs": [
    {
     "name": "stdout",
     "output_type": "stream",
     "text": [
      "jumlah data duplikat : 115\n",
      "persentase jumlah data duplikat : 22.12%\n"
     ]
    }
   ],
   "source": [
    "print(f'jumlah data duplikat : {data.duplicated().sum()}')\n",
    "print(f'persentase jumlah data duplikat : {data.duplicated().sum()/len(data)*100:.2f}%')"
   ]
  },
  {
   "cell_type": "markdown",
   "metadata": {},
   "source": [
    "Sebesar 22% data terindikasi duplikat, maka hilangkan salah satunya."
   ]
  },
  {
   "cell_type": "markdown",
   "metadata": {},
   "source": [
    "Handling duplikasi data:"
   ]
  },
  {
   "cell_type": "code",
   "execution_count": 7,
   "metadata": {},
   "outputs": [],
   "source": [
    "data.drop_duplicates(inplace=True,ignore_index=True)"
   ]
  },
  {
   "cell_type": "code",
   "execution_count": 8,
   "metadata": {},
   "outputs": [
    {
     "data": {
      "text/plain": [
       "(405, 3)"
      ]
     },
     "execution_count": 8,
     "metadata": {},
     "output_type": "execute_result"
    }
   ],
   "source": [
    "data.shape"
   ]
  },
  {
   "cell_type": "code",
   "execution_count": 9,
   "metadata": {},
   "outputs": [
    {
     "data": {
      "text/plain": [
       "np.int64(0)"
      ]
     },
     "execution_count": 9,
     "metadata": {},
     "output_type": "execute_result"
    }
   ],
   "source": [
    "data.duplicated().sum()"
   ]
  },
  {
   "cell_type": "markdown",
   "metadata": {},
   "source": [
    "`Missing Values`"
   ]
  },
  {
   "cell_type": "markdown",
   "metadata": {},
   "source": [
    "Deteksi dan kuantifikasi missing value"
   ]
  },
  {
   "cell_type": "code",
   "execution_count": 10,
   "metadata": {},
   "outputs": [
    {
     "data": {
      "text/plain": [
       "alcohol    1\n",
       "density    0\n",
       "quality    1\n",
       "dtype: int64"
      ]
     },
     "execution_count": 10,
     "metadata": {},
     "output_type": "execute_result"
    }
   ],
   "source": [
    "data.isna().sum()"
   ]
  },
  {
   "cell_type": "markdown",
   "metadata": {},
   "source": [
    "Dua variabel (alcohol, quality) berisi 1 point data atau 0.2% missing value."
   ]
  },
  {
   "cell_type": "markdown",
   "metadata": {},
   "source": [
    "Handling missing value:"
   ]
  },
  {
   "cell_type": "code",
   "execution_count": 11,
   "metadata": {},
   "outputs": [],
   "source": [
    "data.dropna(inplace=True)"
   ]
  },
  {
   "cell_type": "code",
   "execution_count": 12,
   "metadata": {},
   "outputs": [
    {
     "data": {
      "text/plain": [
       "(404, 3)"
      ]
     },
     "execution_count": 12,
     "metadata": {},
     "output_type": "execute_result"
    }
   ],
   "source": [
    "data.shape"
   ]
  },
  {
   "cell_type": "code",
   "execution_count": 13,
   "metadata": {},
   "outputs": [
    {
     "data": {
      "text/plain": [
       "alcohol    0\n",
       "density    0\n",
       "quality    0\n",
       "dtype: int64"
      ]
     },
     "execution_count": 13,
     "metadata": {},
     "output_type": "execute_result"
    }
   ],
   "source": [
    "data.isna().sum()"
   ]
  },
  {
   "cell_type": "markdown",
   "metadata": {},
   "source": [
    "`Rare Labels`"
   ]
  },
  {
   "cell_type": "markdown",
   "metadata": {},
   "source": [
    "Deteksi dan kuantifikasi rare value:"
   ]
  },
  {
   "cell_type": "code",
   "execution_count": 14,
   "metadata": {},
   "outputs": [
    {
     "data": {
      "text/html": [
       "<div>\n",
       "<style scoped>\n",
       "    .dataframe tbody tr th:only-of-type {\n",
       "        vertical-align: middle;\n",
       "    }\n",
       "\n",
       "    .dataframe tbody tr th {\n",
       "        vertical-align: top;\n",
       "    }\n",
       "\n",
       "    .dataframe thead th {\n",
       "        text-align: right;\n",
       "    }\n",
       "</style>\n",
       "<table border=\"1\" class=\"dataframe\">\n",
       "  <thead>\n",
       "    <tr style=\"text-align: right;\">\n",
       "      <th></th>\n",
       "      <th>alcohol</th>\n",
       "      <th>density</th>\n",
       "      <th>quality</th>\n",
       "    </tr>\n",
       "  </thead>\n",
       "  <tbody>\n",
       "    <tr>\n",
       "      <th>0</th>\n",
       "      <td>8.8</td>\n",
       "      <td>1.0010</td>\n",
       "      <td>6.0</td>\n",
       "    </tr>\n",
       "    <tr>\n",
       "      <th>1</th>\n",
       "      <td>9.5</td>\n",
       "      <td>0.9940</td>\n",
       "      <td>6.0</td>\n",
       "    </tr>\n",
       "    <tr>\n",
       "      <th>2</th>\n",
       "      <td>10.1</td>\n",
       "      <td>0.9951</td>\n",
       "      <td>6.0</td>\n",
       "    </tr>\n",
       "    <tr>\n",
       "      <th>3</th>\n",
       "      <td>9.9</td>\n",
       "      <td>0.9956</td>\n",
       "      <td>6.0</td>\n",
       "    </tr>\n",
       "    <tr>\n",
       "      <th>4</th>\n",
       "      <td>9.6</td>\n",
       "      <td>0.9949</td>\n",
       "      <td>6.0</td>\n",
       "    </tr>\n",
       "    <tr>\n",
       "      <th>...</th>\n",
       "      <td>...</td>\n",
       "      <td>...</td>\n",
       "      <td>...</td>\n",
       "    </tr>\n",
       "    <tr>\n",
       "      <th>399</th>\n",
       "      <td>11.2</td>\n",
       "      <td>0.9915</td>\n",
       "      <td>6.0</td>\n",
       "    </tr>\n",
       "    <tr>\n",
       "      <th>400</th>\n",
       "      <td>10.3</td>\n",
       "      <td>1.0002</td>\n",
       "      <td>7.0</td>\n",
       "    </tr>\n",
       "    <tr>\n",
       "      <th>401</th>\n",
       "      <td>10.4</td>\n",
       "      <td>0.9926</td>\n",
       "      <td>6.0</td>\n",
       "    </tr>\n",
       "    <tr>\n",
       "      <th>402</th>\n",
       "      <td>10.4</td>\n",
       "      <td>0.9920</td>\n",
       "      <td>6.0</td>\n",
       "    </tr>\n",
       "    <tr>\n",
       "      <th>403</th>\n",
       "      <td>10.8</td>\n",
       "      <td>0.9918</td>\n",
       "      <td>6.0</td>\n",
       "    </tr>\n",
       "  </tbody>\n",
       "</table>\n",
       "<p>404 rows × 3 columns</p>\n",
       "</div>"
      ],
      "text/plain": [
       "     alcohol  density  quality\n",
       "0        8.8   1.0010      6.0\n",
       "1        9.5   0.9940      6.0\n",
       "2       10.1   0.9951      6.0\n",
       "3        9.9   0.9956      6.0\n",
       "4        9.6   0.9949      6.0\n",
       "..       ...      ...      ...\n",
       "399     11.2   0.9915      6.0\n",
       "400     10.3   1.0002      7.0\n",
       "401     10.4   0.9926      6.0\n",
       "402     10.4   0.9920      6.0\n",
       "403     10.8   0.9918      6.0\n",
       "\n",
       "[404 rows x 3 columns]"
      ]
     },
     "execution_count": 14,
     "metadata": {},
     "output_type": "execute_result"
    }
   ],
   "source": [
    "data['quality'].value_counts(normalize=True) #normalize cek persen\n",
    "data"
   ]
  },
  {
   "cell_type": "markdown",
   "metadata": {},
   "source": [
    "Lebih dari 50% didominasi oleh anggur dengan kualitas lebih dari 6."
   ]
  },
  {
   "cell_type": "markdown",
   "metadata": {},
   "source": [
    "Handling rare value:"
   ]
  },
  {
   "cell_type": "code",
   "execution_count": 15,
   "metadata": {},
   "outputs": [
    {
     "data": {
      "text/html": [
       "<div>\n",
       "<style scoped>\n",
       "    .dataframe tbody tr th:only-of-type {\n",
       "        vertical-align: middle;\n",
       "    }\n",
       "\n",
       "    .dataframe tbody tr th {\n",
       "        vertical-align: top;\n",
       "    }\n",
       "\n",
       "    .dataframe thead th {\n",
       "        text-align: right;\n",
       "    }\n",
       "</style>\n",
       "<table border=\"1\" class=\"dataframe\">\n",
       "  <thead>\n",
       "    <tr style=\"text-align: right;\">\n",
       "      <th></th>\n",
       "      <th>alcohol</th>\n",
       "      <th>density</th>\n",
       "      <th>quality</th>\n",
       "    </tr>\n",
       "  </thead>\n",
       "  <tbody>\n",
       "    <tr>\n",
       "      <th>0</th>\n",
       "      <td>8.8</td>\n",
       "      <td>1.0010</td>\n",
       "      <td>0</td>\n",
       "    </tr>\n",
       "    <tr>\n",
       "      <th>1</th>\n",
       "      <td>9.5</td>\n",
       "      <td>0.9940</td>\n",
       "      <td>0</td>\n",
       "    </tr>\n",
       "    <tr>\n",
       "      <th>2</th>\n",
       "      <td>10.1</td>\n",
       "      <td>0.9951</td>\n",
       "      <td>0</td>\n",
       "    </tr>\n",
       "    <tr>\n",
       "      <th>3</th>\n",
       "      <td>9.9</td>\n",
       "      <td>0.9956</td>\n",
       "      <td>0</td>\n",
       "    </tr>\n",
       "    <tr>\n",
       "      <th>4</th>\n",
       "      <td>9.6</td>\n",
       "      <td>0.9949</td>\n",
       "      <td>0</td>\n",
       "    </tr>\n",
       "    <tr>\n",
       "      <th>...</th>\n",
       "      <td>...</td>\n",
       "      <td>...</td>\n",
       "      <td>...</td>\n",
       "    </tr>\n",
       "    <tr>\n",
       "      <th>399</th>\n",
       "      <td>11.2</td>\n",
       "      <td>0.9915</td>\n",
       "      <td>0</td>\n",
       "    </tr>\n",
       "    <tr>\n",
       "      <th>400</th>\n",
       "      <td>10.3</td>\n",
       "      <td>1.0002</td>\n",
       "      <td>1</td>\n",
       "    </tr>\n",
       "    <tr>\n",
       "      <th>401</th>\n",
       "      <td>10.4</td>\n",
       "      <td>0.9926</td>\n",
       "      <td>0</td>\n",
       "    </tr>\n",
       "    <tr>\n",
       "      <th>402</th>\n",
       "      <td>10.4</td>\n",
       "      <td>0.9920</td>\n",
       "      <td>0</td>\n",
       "    </tr>\n",
       "    <tr>\n",
       "      <th>403</th>\n",
       "      <td>10.8</td>\n",
       "      <td>0.9918</td>\n",
       "      <td>0</td>\n",
       "    </tr>\n",
       "  </tbody>\n",
       "</table>\n",
       "<p>404 rows × 3 columns</p>\n",
       "</div>"
      ],
      "text/plain": [
       "     alcohol  density  quality\n",
       "0        8.8   1.0010        0\n",
       "1        9.5   0.9940        0\n",
       "2       10.1   0.9951        0\n",
       "3        9.9   0.9956        0\n",
       "4        9.6   0.9949        0\n",
       "..       ...      ...      ...\n",
       "399     11.2   0.9915        0\n",
       "400     10.3   1.0002        1\n",
       "401     10.4   0.9926        0\n",
       "402     10.4   0.9920        0\n",
       "403     10.8   0.9918        0\n",
       "\n",
       "[404 rows x 3 columns]"
      ]
     },
     "execution_count": 15,
     "metadata": {},
     "output_type": "execute_result"
    }
   ],
   "source": [
    "data['quality'] = np.where(data['quality']>6,1,0)\n",
    "data\n"
   ]
  },
  {
   "cell_type": "code",
   "execution_count": 16,
   "metadata": {},
   "outputs": [
    {
     "data": {
      "text/plain": [
       "quality\n",
       "0    330\n",
       "1     74\n",
       "Name: count, dtype: int64"
      ]
     },
     "execution_count": 16,
     "metadata": {},
     "output_type": "execute_result"
    }
   ],
   "source": [
    "data['quality'].value_counts()"
   ]
  },
  {
   "cell_type": "markdown",
   "metadata": {},
   "source": [
    "`Outliers`"
   ]
  },
  {
   "cell_type": "markdown",
   "metadata": {},
   "source": [
    "Deteksi dan kuantifikasi outlier:"
   ]
  },
  {
   "cell_type": "code",
   "execution_count": 17,
   "metadata": {},
   "outputs": [
    {
     "data": {
      "image/png": "[encoded data removed]",
      "text/plain": [
       "<Figure size 1500x400 with 2 Axes>"
      ]
     },
     "metadata": {},
     "output_type": "display_data"
    }
   ],
   "source": [
    "fig,ax = plt.subplots(2,1,figsize=(15,4))\n",
    "\n",
    "sns.boxplot(data=data,x='alcohol',ax=ax[0])\n",
    "sns.boxplot(data=data,x='density',ax=ax[1])\n",
    "\n",
    "plt.show()\n"
   ]
  },
  {
   "cell_type": "markdown",
   "metadata": {},
   "source": [
    "Tidak terdapat outlier pada variabel density."
   ]
  },
  {
   "cell_type": "markdown",
   "metadata": {},
   "source": [
    "`Imbalance Data`"
   ]
  },
  {
   "cell_type": "markdown",
   "metadata": {},
   "source": [
    "Deteksi dan kuantifikasi proporsi label target"
   ]
  },
  {
   "cell_type": "code",
   "execution_count": 18,
   "metadata": {},
   "outputs": [
    {
     "data": {
      "text/plain": [
       "quality\n",
       "0    81.683168\n",
       "1    18.316832\n",
       "Name: proportion, dtype: float64"
      ]
     },
     "execution_count": 18,
     "metadata": {},
     "output_type": "execute_result"
    }
   ],
   "source": [
    "data['quality'].value_counts(normalize=True)*100"
   ]
  },
  {
   "cell_type": "code",
   "execution_count": 19,
   "metadata": {},
   "outputs": [
    {
     "data": {
      "image/png": "[encoded data removed]",
      "text/plain": [
       "<Figure size 640x480 with 1 Axes>"
      ]
     },
     "metadata": {},
     "output_type": "display_data"
    }
   ],
   "source": [
    "sns.scatterplot(data=data,x='alcohol',y='density',hue='quality')\n",
    "plt.show()"
   ]
  },
  {
   "cell_type": "markdown",
   "metadata": {},
   "source": [
    "Persentase jumlah label 0 (81.6%) lebih banyak dibandingkan label 1 (18.2%), ini termasuk imbalance."
   ]
  },
  {
   "cell_type": "markdown",
   "metadata": {},
   "source": [
    "`Check Multicollinearity`"
   ]
  },
  {
   "cell_type": "markdown",
   "metadata": {},
   "source": [
    "Deteksi multicollinearity antar fitur dengan VIF."
   ]
  },
  {
   "cell_type": "code",
   "execution_count": 20,
   "metadata": {},
   "outputs": [
    {
     "data": {
      "text/html": [
       "<div>\n",
       "<style scoped>\n",
       "    .dataframe tbody tr th:only-of-type {\n",
       "        vertical-align: middle;\n",
       "    }\n",
       "\n",
       "    .dataframe tbody tr th {\n",
       "        vertical-align: top;\n",
       "    }\n",
       "\n",
       "    .dataframe thead th {\n",
       "        text-align: right;\n",
       "    }\n",
       "</style>\n",
       "<table border=\"1\" class=\"dataframe\">\n",
       "  <thead>\n",
       "    <tr style=\"text-align: right;\">\n",
       "      <th></th>\n",
       "      <th>VIF Factor</th>\n",
       "      <th>Feature</th>\n",
       "    </tr>\n",
       "  </thead>\n",
       "  <tbody>\n",
       "    <tr>\n",
       "      <th>0</th>\n",
       "      <td>88.56</td>\n",
       "      <td>alcohol</td>\n",
       "    </tr>\n",
       "    <tr>\n",
       "      <th>1</th>\n",
       "      <td>88.56</td>\n",
       "      <td>density</td>\n",
       "    </tr>\n",
       "  </tbody>\n",
       "</table>\n",
       "</div>"
      ],
      "text/plain": [
       "   VIF Factor  Feature\n",
       "0       88.56  alcohol\n",
       "1       88.56  density"
      ]
     },
     "execution_count": 20,
     "metadata": {},
     "output_type": "execute_result"
    }
   ],
   "source": [
    "from statsmodels.stats.outliers_influence import variance_inflation_factor\n",
    "\n",
    "X = data.drop(columns = 'quality')\n",
    "y = data['quality']\n",
    "\n",
    "vif = pd.DataFrame()\n",
    "vif['VIF Factor'] = [variance_inflation_factor(X.values,i) for i in range (X.shape[1])]\n",
    "vif['Feature'] = X.columns\n",
    "\n",
    "vif.round(2)"
   ]
  },
  {
   "cell_type": "markdown",
   "metadata": {},
   "source": [
    "Terdapat multicollinearity antara fitur alcohol dan density. Saat menggunakan model linear, multicollinearity seharusnya dihindari. Namun untuk studi kasus ini kita akan pertahankan dahulu."
   ]
  },
  {
   "cell_type": "markdown",
   "metadata": {},
   "source": [
    "**Feature Engineering**\n",
    "\n",
    "Bagi dataset menjadi train dan test set."
   ]
  },
  {
   "cell_type": "code",
   "execution_count": 21,
   "metadata": {},
   "outputs": [],
   "source": [
    "from sklearn.model_selection import train_test_split\n",
    "\n",
    "X_train, X_test, y_train, y_test = train_test_split(X,y, test_size = .2, random_state =0, stratify=y)"
   ]
  },
  {
   "cell_type": "code",
   "execution_count": 22,
   "metadata": {},
   "outputs": [
    {
     "name": "stdout",
     "output_type": "stream",
     "text": [
      "y_train :\n",
      "quality\n",
      "0    0.817337\n",
      "1    0.182663\n",
      "Name: proportion, dtype: float64\n"
     ]
    }
   ],
   "source": [
    "print(f'y_train :\\n{y_train.value_counts(normalize=True)}')"
   ]
  },
  {
   "cell_type": "code",
   "execution_count": 23,
   "metadata": {},
   "outputs": [
    {
     "data": {
      "text/plain": [
       "quality\n",
       "0    0.816832\n",
       "1    0.183168\n",
       "Name: proportion, dtype: float64"
      ]
     },
     "execution_count": 23,
     "metadata": {},
     "output_type": "execute_result"
    }
   ],
   "source": [
    "y.value_counts(normalize=True)"
   ]
  },
  {
   "cell_type": "markdown",
   "metadata": {},
   "source": [
    "### `Model Experiment`"
   ]
  },
  {
   "cell_type": "markdown",
   "metadata": {},
   "source": [
    "**Estimating Coefficients**"
   ]
  },
  {
   "cell_type": "code",
   "execution_count": 24,
   "metadata": {},
   "outputs": [
    {
     "name": "stdout",
     "output_type": "stream",
     "text": [
      "Optimization terminated successfully.\n",
      "         Current function value: 0.093277\n",
      "         Iterations 13\n",
      "                           Logit Regression Results                           \n",
      "==============================================================================\n",
      "Dep. Variable:                quality   No. Observations:                  323\n",
      "Model:                          Logit   Df Residuals:                      320\n",
      "Method:                           MLE   Df Model:                            2\n",
      "Date:                Tue, 17 Sep 2024   Pseudo R-squ.:                  0.8038\n",
      "Time:                        14:39:18   Log-Likelihood:                -30.128\n",
      "converged:                       True   LL-Null:                       -153.56\n",
      "Covariance Type:            nonrobust   LLR p-value:                 2.488e-54\n",
      "==============================================================================\n",
      "                 coef    std err          z      P>|z|      [0.025      0.975]\n",
      "------------------------------------------------------------------------------\n",
      "const      -2239.0362    405.881     -5.516      0.000   -3034.549   -1443.524\n",
      "alcohol        5.4321      0.973      5.581      0.000       3.524       7.340\n",
      "density     2188.5305    397.511      5.506      0.000    1409.423    2967.638\n",
      "==============================================================================\n",
      "\n",
      "Possibly complete quasi-separation: A fraction 0.32 of observations can be\n",
      "perfectly predicted. This might indicate that there is complete\n",
      "quasi-separation. In this case some parameters will not be identified.\n"
     ]
    }
   ],
   "source": [
    "logreg = sm.Logit(y_train, sm.add_constant(X_train))\n",
    "result = logreg.fit()\n",
    "\n",
    "print(result.summary())"
   ]
  },
  {
   "cell_type": "markdown",
   "metadata": {},
   "source": [
    "**P>|z| (Wald Test)**\n",
    "\n",
    "- **const** = 0.000. pvalue < 0.05, reject Ho. That is, the model requires an intercept value.\n",
    "- **alcohol** = 0.000. pvalue < 0.05, reject Ho. This means that alcohol has a significant negative effect on quality (the larger the alcohol, the larger the quality)\n",
    "- **density** = 0.000. pvalue < 0.05, reject Ho. This means that density has a significant negative effect on quality (the larger the density, the larger the quality)\n"
   ]
  },
  {
   "cell_type": "markdown",
   "metadata": {},
   "source": [
    "**Odd Ratio (OR)**"
   ]
  },
  {
   "cell_type": "code",
   "execution_count": 25,
   "metadata": {},
   "outputs": [
    {
     "data": {
      "text/html": [
       "<div>\n",
       "<style scoped>\n",
       "    .dataframe tbody tr th:only-of-type {\n",
       "        vertical-align: middle;\n",
       "    }\n",
       "\n",
       "    .dataframe tbody tr th {\n",
       "        vertical-align: top;\n",
       "    }\n",
       "\n",
       "    .dataframe thead th {\n",
       "        text-align: right;\n",
       "    }\n",
       "</style>\n",
       "<table border=\"1\" class=\"dataframe\">\n",
       "  <thead>\n",
       "    <tr style=\"text-align: right;\">\n",
       "      <th></th>\n",
       "      <th>alcohol</th>\n",
       "      <th>density</th>\n",
       "    </tr>\n",
       "  </thead>\n",
       "  <tbody>\n",
       "    <tr>\n",
       "      <th>min</th>\n",
       "      <td>8.5</td>\n",
       "      <td>0.9899</td>\n",
       "    </tr>\n",
       "    <tr>\n",
       "      <th>max</th>\n",
       "      <td>12.9</td>\n",
       "      <td>1.0033</td>\n",
       "    </tr>\n",
       "  </tbody>\n",
       "</table>\n",
       "</div>"
      ],
      "text/plain": [
       "     alcohol  density\n",
       "min      8.5   0.9899\n",
       "max     12.9   1.0033"
      ]
     },
     "execution_count": 25,
     "metadata": {},
     "output_type": "execute_result"
    }
   ],
   "source": [
    "X_train.describe().loc[['min','max']]"
   ]
  },
  {
   "cell_type": "markdown",
   "metadata": {},
   "source": [
    "`Alcohol`"
   ]
  },
  {
   "cell_type": "code",
   "execution_count": 26,
   "metadata": {},
   "outputs": [
    {
     "data": {
      "text/plain": [
       "np.float64(228.62886226081392)"
      ]
     },
     "execution_count": 26,
     "metadata": {},
     "output_type": "execute_result"
    }
   ],
   "source": [
    "beta = 5.4321\n",
    "c = 10\n",
    "d = 9\n",
    "\n",
    "OR_alcohol = np.exp(beta*(c-d))\n",
    "OR_alcohol"
   ]
  },
  {
   "cell_type": "markdown",
   "metadata": {},
   "source": [
    "- Probability to good quality increases when alcohol increase\n",
    "- Wine with alcohol 10 have about 228.62 times more likely to be good quality than wine with alcohol 9."
   ]
  },
  {
   "cell_type": "markdown",
   "metadata": {},
   "source": [
    "`Density`"
   ]
  },
  {
   "cell_type": "code",
   "execution_count": 27,
   "metadata": {},
   "outputs": [
    {
     "data": {
      "text/plain": [
       "np.float64(8.922092461787537)"
      ]
     },
     "execution_count": 27,
     "metadata": {},
     "output_type": "execute_result"
    }
   ],
   "source": [
    "beta = 2188.5305\n",
    "c = 0.992\n",
    "d = 0.991\n",
    "\n",
    "OR_density = np.exp(beta*(c-d))\n",
    "OR_density"
   ]
  },
  {
   "cell_type": "markdown",
   "metadata": {},
   "source": [
    "- Probability to good quality increases when density increase\n",
    "- Wine with density 0.992 have about 8.92 times more likely to be good quality than wine with density 0.991."
   ]
  },
  {
   "cell_type": "markdown",
   "metadata": {},
   "source": [
    "**Evaluating the Model**"
   ]
  },
  {
   "cell_type": "code",
   "execution_count": 28,
   "metadata": {},
   "outputs": [
    {
     "name": "stdout",
     "output_type": "stream",
     "text": [
      "                           Logit Regression Results                           \n",
      "==============================================================================\n",
      "Dep. Variable:                quality   No. Observations:                  323\n",
      "Model:                          Logit   Df Residuals:                      320\n",
      "Method:                           MLE   Df Model:                            2\n",
      "Date:                Tue, 17 Sep 2024   Pseudo R-squ.:                  0.8038\n",
      "Time:                        14:39:18   Log-Likelihood:                -30.128\n",
      "converged:                       True   LL-Null:                       -153.56\n",
      "Covariance Type:            nonrobust   LLR p-value:                 2.488e-54\n",
      "==============================================================================\n",
      "                 coef    std err          z      P>|z|      [0.025      0.975]\n",
      "------------------------------------------------------------------------------\n",
      "const      -2239.0362    405.881     -5.516      0.000   -3034.549   -1443.524\n",
      "alcohol        5.4321      0.973      5.581      0.000       3.524       7.340\n",
      "density     2188.5305    397.511      5.506      0.000    1409.423    2967.638\n",
      "==============================================================================\n",
      "\n",
      "Possibly complete quasi-separation: A fraction 0.32 of observations can be\n",
      "perfectly predicted. This might indicate that there is complete\n",
      "quasi-separation. In this case some parameters will not be identified.\n"
     ]
    }
   ],
   "source": [
    "print(result.summary())"
   ]
  },
  {
   "cell_type": "markdown",
   "metadata": {},
   "source": [
    "**Log Likelihood Ratio (LLR) Test**\n",
    "\n",
    "- `Ho`: $\\beta_1$ = $\\beta_2$ = $\\beta_3$ = $\\beta_4$ = ..... = 0\n",
    "- `Ha` : Not all coefficient ($\\beta_i$) are 0 (there is at least 1 feature whose value ($\\beta_i$) is not 0)\n",
    "- $\\alpha$: 0.05\n",
    "- `LLR p-value` = 1.834e-47 < 0.05, reject Ho. We have enough evidence that density or alcohol affects the wine quality.\n"
   ]
  },
  {
   "cell_type": "markdown",
   "metadata": {},
   "source": [
    "**Accuracy**"
   ]
  },
  {
   "cell_type": "code",
   "execution_count": 29,
   "metadata": {},
   "outputs": [
    {
     "data": {
      "text/plain": [
       "396    1.407489e-06\n",
       "206    3.451388e-03\n",
       "89     2.669679e-05\n",
       "140    4.419259e-05\n",
       "235    6.009217e-02\n",
       "           ...     \n",
       "180    5.988035e-04\n",
       "176    3.425105e-04\n",
       "365    4.668444e-05\n",
       "51     4.977782e-07\n",
       "220    9.990859e-01\n",
       "Length: 81, dtype: float64"
      ]
     },
     "execution_count": 29,
     "metadata": {},
     "output_type": "execute_result"
    }
   ],
   "source": [
    "y_pred_proba = result.predict(sm.add_constant(X_test))\n",
    "y_pred_proba"
   ]
  },
  {
   "cell_type": "code",
   "execution_count": 30,
   "metadata": {},
   "outputs": [
    {
     "data": {
      "text/plain": [
       "const     -2239.036223\n",
       "alcohol       5.432143\n",
       "density    2188.530480\n",
       "dtype: float64"
      ]
     },
     "execution_count": 30,
     "metadata": {},
     "output_type": "execute_result"
    }
   ],
   "source": [
    "result.params"
   ]
  },
  {
   "cell_type": "code",
   "execution_count": 31,
   "metadata": {},
   "outputs": [
    {
     "data": {
      "text/plain": [
       "alcohol    10.0000\n",
       "density     0.9921\n",
       "Name: 396, dtype: float64"
      ]
     },
     "execution_count": 31,
     "metadata": {},
     "output_type": "execute_result"
    }
   ],
   "source": [
    "X_test.loc[396]"
   ]
  },
  {
   "cell_type": "code",
   "execution_count": 32,
   "metadata": {},
   "outputs": [
    {
     "data": {
      "text/plain": [
       "np.float64(1.4074882965907108e-06)"
      ]
     },
     "execution_count": 32,
     "metadata": {},
     "output_type": "execute_result"
    }
   ],
   "source": [
    "np.exp(-2239.036223 + 5.432143 * 10.0000 + 2188.530480 * 0.9921)"
   ]
  },
  {
   "cell_type": "code",
   "execution_count": 33,
   "metadata": {},
   "outputs": [
    {
     "data": {
      "text/plain": [
       "array([0, 0, 0, 0, 0, 0, 0, 0, 0, 0, 0, 1, 0, 0, 0, 0, 0, 0, 0, 1, 0, 0,\n",
       "       0, 0, 0, 0, 0, 0, 0, 0, 1, 1, 0, 0, 0, 0, 0, 0, 0, 0, 0, 1, 1, 0,\n",
       "       0, 0, 0, 0, 0, 0, 0, 1, 0, 1, 1, 0, 1, 0, 0, 0, 0, 0, 1, 0, 0, 0,\n",
       "       0, 0, 1, 1, 0, 0, 0, 0, 0, 1, 0, 0, 0, 0, 1])"
      ]
     },
     "execution_count": 33,
     "metadata": {},
     "output_type": "execute_result"
    }
   ],
   "source": [
    "# prob > 0.5 --> 1\n",
    "y_pred_class = np.where(y_pred_proba > 0.5,1,0)\n",
    "y_pred_class"
   ]
  },
  {
   "cell_type": "code",
   "execution_count": 34,
   "metadata": {},
   "outputs": [
    {
     "data": {
      "text/plain": [
       "396    0\n",
       "206    0\n",
       "89     0\n",
       "140    0\n",
       "235    0\n",
       "      ..\n",
       "180    0\n",
       "176    0\n",
       "365    0\n",
       "51     0\n",
       "220    1\n",
       "Name: quality, Length: 81, dtype: int64"
      ]
     },
     "execution_count": 34,
     "metadata": {},
     "output_type": "execute_result"
    }
   ],
   "source": [
    "y_test"
   ]
  },
  {
   "cell_type": "code",
   "execution_count": 35,
   "metadata": {},
   "outputs": [
    {
     "name": "stdout",
     "output_type": "stream",
     "text": [
      "Akurasi model pada data set test : 0.9753086419753086\n",
      "Dari 81 botol wine maka 79.0 botol diprediksi dengan benar\n"
     ]
    }
   ],
   "source": [
    "from sklearn.metrics import accuracy_score\n",
    "\n",
    "print(f'Akurasi model pada data set test : {accuracy_score(y_test,y_pred_class)}')\n",
    "print(f'Dari {len(y_test)} botol wine maka {accuracy_score(y_test,y_pred_class)*len(y_test)} botol diprediksi dengan benar')"
   ]
  },
  {
   "cell_type": "markdown",
   "metadata": {},
   "source": [
    "**Predict to New Data**"
   ]
  },
  {
   "cell_type": "code",
   "execution_count": 36,
   "metadata": {},
   "outputs": [
    {
     "data": {
      "text/html": [
       "<div>\n",
       "<style scoped>\n",
       "    .dataframe tbody tr th:only-of-type {\n",
       "        vertical-align: middle;\n",
       "    }\n",
       "\n",
       "    .dataframe tbody tr th {\n",
       "        vertical-align: top;\n",
       "    }\n",
       "\n",
       "    .dataframe thead th {\n",
       "        text-align: right;\n",
       "    }\n",
       "</style>\n",
       "<table border=\"1\" class=\"dataframe\">\n",
       "  <thead>\n",
       "    <tr style=\"text-align: right;\">\n",
       "      <th></th>\n",
       "      <th>alcohol</th>\n",
       "      <th>density</th>\n",
       "    </tr>\n",
       "  </thead>\n",
       "  <tbody>\n",
       "    <tr>\n",
       "      <th>min</th>\n",
       "      <td>8.5</td>\n",
       "      <td>0.9899</td>\n",
       "    </tr>\n",
       "    <tr>\n",
       "      <th>max</th>\n",
       "      <td>12.9</td>\n",
       "      <td>1.0033</td>\n",
       "    </tr>\n",
       "  </tbody>\n",
       "</table>\n",
       "</div>"
      ],
      "text/plain": [
       "     alcohol  density\n",
       "min      8.5   0.9899\n",
       "max     12.9   1.0033"
      ]
     },
     "execution_count": 36,
     "metadata": {},
     "output_type": "execute_result"
    }
   ],
   "source": [
    "X.describe().loc[['min','max']]"
   ]
  },
  {
   "cell_type": "code",
   "execution_count": 37,
   "metadata": {},
   "outputs": [
    {
     "data": {
      "text/html": [
       "<div>\n",
       "<style scoped>\n",
       "    .dataframe tbody tr th:only-of-type {\n",
       "        vertical-align: middle;\n",
       "    }\n",
       "\n",
       "    .dataframe tbody tr th {\n",
       "        vertical-align: top;\n",
       "    }\n",
       "\n",
       "    .dataframe thead th {\n",
       "        text-align: right;\n",
       "    }\n",
       "</style>\n",
       "<table border=\"1\" class=\"dataframe\">\n",
       "  <thead>\n",
       "    <tr style=\"text-align: right;\">\n",
       "      <th></th>\n",
       "      <th>alcohol</th>\n",
       "      <th>density</th>\n",
       "    </tr>\n",
       "  </thead>\n",
       "  <tbody>\n",
       "    <tr>\n",
       "      <th>0</th>\n",
       "      <td>9</td>\n",
       "      <td>0.98990</td>\n",
       "    </tr>\n",
       "    <tr>\n",
       "      <th>1</th>\n",
       "      <td>10</td>\n",
       "      <td>0.99990</td>\n",
       "    </tr>\n",
       "    <tr>\n",
       "      <th>2</th>\n",
       "      <td>11</td>\n",
       "      <td>1.00090</td>\n",
       "    </tr>\n",
       "    <tr>\n",
       "      <th>3</th>\n",
       "      <td>12</td>\n",
       "      <td>1.00023</td>\n",
       "    </tr>\n",
       "  </tbody>\n",
       "</table>\n",
       "</div>"
      ],
      "text/plain": [
       "   alcohol  density\n",
       "0        9  0.98990\n",
       "1       10  0.99990\n",
       "2       11  1.00090\n",
       "3       12  1.00023"
      ]
     },
     "execution_count": 37,
     "metadata": {},
     "output_type": "execute_result"
    }
   ],
   "source": [
    "new_data = pd.DataFrame({\n",
    "    'alcohol' :[9,10,11,12],\n",
    "    'density' :[.9899,.9999,1.0009,1.00023]\n",
    "})\n",
    "new_data"
   ]
  },
  {
   "cell_type": "code",
   "execution_count": 38,
   "metadata": {},
   "outputs": [
    {
     "data": {
      "text/plain": [
       "0    0.000\n",
       "1    0.973\n",
       "2    1.000\n",
       "3    1.000\n",
       "dtype: float64"
      ]
     },
     "execution_count": 38,
     "metadata": {},
     "output_type": "execute_result"
    }
   ],
   "source": [
    "result.predict(sm.add_constant(new_data)).round(3)"
   ]
  }
 ],
 "metadata": {
  "kernelspec": {
   "display_name": "Python 3",
   "language": "python",
   "name": "python3"
  },
  "language_info": {
   "codemirror_mode": {
    "name": "ipython",
    "version": 3
   },
   "file_extension": ".py",
   "mimetype": "text/x-python",
   "name": "python",
   "nbconvert_exporter": "python",
   "pygments_lexer": "ipython3",
   "version": "3.12.2"
  }
 },
 "nbformat": 4,
 "nbformat_minor": 2
}
