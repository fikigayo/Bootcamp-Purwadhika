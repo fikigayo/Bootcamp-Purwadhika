{
 "cells": [
  {
   "cell_type": "markdown",
   "metadata": {},
   "source": [
    "### **Recommendation System**: `Content Based`\n",
    "\n",
    "A content-based recommendation system is a type of recommendation system that makes recommendations based on the characteristics or attributes of the items being recommended. It uses the **content of the items** being recommended to determine what other items a user might be interested in based on **their preferences and their past behaviors**.\n",
    "\n",
    "For example, a content-based recommender system for movies might recommend movies to a user based on the genres of movies that the user has previously watched. If a user has watched a lot of action movies, the system might recommend other action movies to the user.\n",
    "\n",
    "Content-based recommendation systems work by **analyzing the content and attributes of items (such as movies, books, products, etc.) and matching them with a user's preferences or profile**. Here's a step-by-step explanation of how content-based recommendation systems work:\n",
    "\n",
    "- **Item Profile Creation**:\n",
    "\n",
    "    Each item in the recommendation system is associated with a set of attributes or content features. These attributes can vary depending on the type of items being recommended. For example, in a movie recommendation system, attributes might include genres, actors, directors, and plot keywords.\n",
    "\n",
    "- **User Profile Creation**:\n",
    "\n",
    "    The system also maintains a user profile for each user, which contains information about their preferences and past interactions. This profile is built over time as the user interacts with the system, providing feedback or indicating their likes and dislikes.\n",
    "\n",
    "\n",
    "- **Calculating Item Scores**:\n",
    "\n",
    "    To recommend items to a user, the system calculates a score for each item by comparing its features to the user's profile. This is often done using mathematical techniques like cosine similarity or Euclidean distance.\n",
    "\n",
    "- **Ranking and Filtering**:\n",
    "\n",
    "    The items are ranked based on their scores, with higher-scoring items being recommended first. The system may also apply filtering to remove items that the user has already interacted with or items that don't meet certain criteria.\n",
    "\n",
    "- **Recommendation Generation**:\n",
    "\n",
    "    Finally, the system generates a list of recommended items for the user based on the ranked scores. These recommendations are presented to the user through an interface, such as a website or app."
   ]
  },
  {
   "cell_type": "markdown",
   "metadata": {},
   "source": [
    "### **1. Similarity Measure**\n",
    "\n",
    "It utilizes **an item** that we already used before to recommend next items.\n",
    "\n",
    "We measure similarity between two items based on certain content using cosine similarity, pearson correlation, spearman correlation or jaccard distance.\n",
    "\n",
    "Cosine similarity is a metric used to measure the similarity between two non-zero vectors in a multi-dimensional space.\n",
    "\n",
    "​$$ \\text{Cosine}(x, y) = \\frac{\\sum_{i=1}^n x_iy_i}{\\sqrt{\\sum\\limits_{i=1}^n x_i^2} \\sqrt{\\sum\\limits_{i=1}^n y_i^2}} $$\n",
    "\n",
    "The cosine similarity ranges from 0 to 1, with the following interpretation:\n",
    "- if the vectors are perfectly aligned, the cosine similarity is 1, indicating maximum similarity\n",
    "- if the vectors are orthogonal (perpendicular), the cosine similarity is 0, indicating no similarity"
   ]
  },
  {
   "cell_type": "code",
   "execution_count": 68,
   "metadata": {},
   "outputs": [
    {
     "data": {
      "text/html": [
       "<div>\n",
       "<style scoped>\n",
       "    .dataframe tbody tr th:only-of-type {\n",
       "        vertical-align: middle;\n",
       "    }\n",
       "\n",
       "    .dataframe tbody tr th {\n",
       "        vertical-align: top;\n",
       "    }\n",
       "\n",
       "    .dataframe thead th {\n",
       "        text-align: right;\n",
       "    }\n",
       "</style>\n",
       "<table border=\"1\" class=\"dataframe\">\n",
       "  <thead>\n",
       "    <tr style=\"text-align: right;\">\n",
       "      <th></th>\n",
       "      <th>movie</th>\n",
       "      <th>Action</th>\n",
       "      <th>Sci-Fi</th>\n",
       "      <th>Adventure</th>\n",
       "      <th>Comedy</th>\n",
       "      <th>Drama</th>\n",
       "      <th>Romance</th>\n",
       "    </tr>\n",
       "  </thead>\n",
       "  <tbody>\n",
       "    <tr>\n",
       "      <th>0</th>\n",
       "      <td>Terminator 2</td>\n",
       "      <td>1</td>\n",
       "      <td>1</td>\n",
       "      <td>0</td>\n",
       "      <td>0</td>\n",
       "      <td>0</td>\n",
       "      <td>0</td>\n",
       "    </tr>\n",
       "    <tr>\n",
       "      <th>1</th>\n",
       "      <td>Interstellar</td>\n",
       "      <td>0</td>\n",
       "      <td>1</td>\n",
       "      <td>1</td>\n",
       "      <td>0</td>\n",
       "      <td>1</td>\n",
       "      <td>1</td>\n",
       "    </tr>\n",
       "    <tr>\n",
       "      <th>2</th>\n",
       "      <td>Ant Man</td>\n",
       "      <td>1</td>\n",
       "      <td>1</td>\n",
       "      <td>1</td>\n",
       "      <td>1</td>\n",
       "      <td>0</td>\n",
       "      <td>1</td>\n",
       "    </tr>\n",
       "    <tr>\n",
       "      <th>3</th>\n",
       "      <td>3 Idiots</td>\n",
       "      <td>0</td>\n",
       "      <td>0</td>\n",
       "      <td>0</td>\n",
       "      <td>1</td>\n",
       "      <td>1</td>\n",
       "      <td>1</td>\n",
       "    </tr>\n",
       "    <tr>\n",
       "      <th>4</th>\n",
       "      <td>End Game</td>\n",
       "      <td>1</td>\n",
       "      <td>1</td>\n",
       "      <td>1</td>\n",
       "      <td>1</td>\n",
       "      <td>1</td>\n",
       "      <td>1</td>\n",
       "    </tr>\n",
       "  </tbody>\n",
       "</table>\n",
       "</div>"
      ],
      "text/plain": [
       "          movie  Action  Sci-Fi  Adventure  Comedy  Drama  Romance\n",
       "0  Terminator 2       1       1          0       0      0        0\n",
       "1  Interstellar       0       1          1       0      1        1\n",
       "2       Ant Man       1       1          1       1      0        1\n",
       "3      3 Idiots       0       0          0       1      1        1\n",
       "4      End Game       1       1          1       1      1        1"
      ]
     },
     "execution_count": 68,
     "metadata": {},
     "output_type": "execute_result"
    }
   ],
   "source": [
    "import numpy as np\n",
    "import pandas as pd\n",
    "\n",
    "df_movies = pd.DataFrame({\n",
    "    'movie' : ['Terminator 2', 'Interstellar', 'Ant Man', '3 Idiots', 'End Game'],\n",
    "    'Action' : [1, 0, 1, 0, 1],\n",
    "    'Sci-Fi' : [1, 1, 1, 0, 1],\n",
    "    'Adventure' : [0, 1, 1, 0, 1],\n",
    "    'Comedy' : [0, 0, 1, 1, 1],\n",
    "    'Drama' : [0, 1, 0, 1, 1],\n",
    "    'Romance' : [0, 1, 1, 1, 1]\n",
    "})\n",
    "\n",
    "df_movies"
   ]
  },
  {
   "cell_type": "code",
   "execution_count": 69,
   "metadata": {},
   "outputs": [],
   "source": [
    "# 1 film yang ditonton user1\n",
    "antman = df_movies.loc[df_movies['movie']=='Ant Man','Action':]\n",
    "\n",
    "# film yang belum ditonton user1\n",
    "terminator = df_movies.loc[df_movies['movie']=='Terminator 2','Action':]\n",
    "interstellar = df_movies.loc[df_movies['movie']=='Interstellar','Action':]\n",
    "idiots = df_movies.loc[df_movies['movie']=='3 Idiots','Action':]\n",
    "endgame = df_movies.loc[df_movies['movie']=='End Game','Action':]\n"
   ]
  },
  {
   "cell_type": "code",
   "execution_count": 70,
   "metadata": {},
   "outputs": [],
   "source": [
    "def cosine(movie1,movie2):\n",
    "    A = antman.values[0]\n",
    "    B = terminator.values[0]\n",
    "\n",
    "    # np.dot(A,B.T)[0][0] -> jika tidak pakai .values[0]\n",
    "    dot_product = np.dot(A,B)\n",
    "\n",
    "    norm_A = np.linalg.norm(A)\n",
    "    norm_B = np.linalg.norm(B)\n",
    "\n",
    "    return dot_product/(norm_A*norm_B)"
   ]
  },
  {
   "cell_type": "code",
   "execution_count": 71,
   "metadata": {},
   "outputs": [
    {
     "name": "stdout",
     "output_type": "stream",
     "text": [
      "Cosine Similarity between Antman and Interstellar : 0.63\n",
      "Cosine Similarity between Antman and Terminator : 0.63\n",
      "Cosine Similarity between Antman and 3 Idiots : 0.63\n",
      "Cosine Similarity between Antman and End Game : 0.63\n"
     ]
    }
   ],
   "source": [
    "print(f'Cosine Similarity between Antman and Interstellar : {cosine(antman,interstellar):.2f}')\n",
    "print(f'Cosine Similarity between Antman and Terminator : {cosine(antman,terminator):.2f}')\n",
    "print(f'Cosine Similarity between Antman and 3 Idiots : {cosine(antman,idiots):.2f}')\n",
    "print(f'Cosine Similarity between Antman and End Game : {cosine(antman,endgame):.2f}')"
   ]
  },
  {
   "cell_type": "code",
   "execution_count": 72,
   "metadata": {},
   "outputs": [
    {
     "name": "stdout",
     "output_type": "stream",
     "text": [
      "Cosine Similarity between Antman and Interstellar : 0.67\n",
      "Cosine Similarity between Antman and Terminator : 0.63\n",
      "Cosine Similarity between Antman and 3 Idiots : 0.52\n",
      "Cosine Similarity between Antman and End Game : 0.91\n"
     ]
    }
   ],
   "source": [
    "from sklearn.metrics.pairwise import cosine_similarity\n",
    "\n",
    "print(f'Cosine Similarity between Antman and Interstellar : {cosine_similarity(antman,interstellar)[0][0]:.2f}')\n",
    "print(f'Cosine Similarity between Antman and Terminator : {cosine_similarity(antman,terminator)[0][0]:.2f}')\n",
    "print(f'Cosine Similarity between Antman and 3 Idiots : {cosine_similarity(antman,idiots)[0][0]:.2f}')\n",
    "print(f'Cosine Similarity between Antman and End Game : {cosine_similarity(antman,endgame)[0][0]:.2f}')"
   ]
  },
  {
   "cell_type": "code",
   "execution_count": 73,
   "metadata": {},
   "outputs": [
    {
     "data": {
      "text/plain": [
       "array([[0.63245553, 0.67082039, 0.51639778, 0.91287093]])"
      ]
     },
     "execution_count": 73,
     "metadata": {},
     "output_type": "execute_result"
    }
   ],
   "source": [
    "df_unwatched = df_movies.loc[df_movies['movie'] != 'Ant Man', 'Action':]\n",
    "\n",
    "cosine_similarity(antman, df_unwatched)"
   ]
  },
  {
   "cell_type": "markdown",
   "metadata": {},
   "source": [
    "### **2. Content Based Filtering**\n",
    "\n",
    "It utilizes **several items** that we already used before to recommend next items.\n"
   ]
  },
  {
   "cell_type": "markdown",
   "metadata": {},
   "source": [
    "**a. Single User**"
   ]
  },
  {
   "cell_type": "markdown",
   "metadata": {},
   "source": [
    "Now we will see how content based filtering works for one user. Let's say user 1, this user has given ratings to a number of movies and there are a number of movies that have not been watched before. We want to know what movie he wants to see next."
   ]
  },
  {
   "cell_type": "code",
   "execution_count": 74,
   "metadata": {},
   "outputs": [
    {
     "data": {
      "text/html": [
       "<div>\n",
       "<style scoped>\n",
       "    .dataframe tbody tr th:only-of-type {\n",
       "        vertical-align: middle;\n",
       "    }\n",
       "\n",
       "    .dataframe tbody tr th {\n",
       "        vertical-align: top;\n",
       "    }\n",
       "\n",
       "    .dataframe thead th {\n",
       "        text-align: right;\n",
       "    }\n",
       "</style>\n",
       "<table border=\"1\" class=\"dataframe\">\n",
       "  <thead>\n",
       "    <tr style=\"text-align: right;\">\n",
       "      <th></th>\n",
       "      <th>movie</th>\n",
       "      <th>score</th>\n",
       "      <th>Action</th>\n",
       "      <th>Sci-Fi</th>\n",
       "      <th>Adventure</th>\n",
       "      <th>Comedy</th>\n",
       "      <th>Drama</th>\n",
       "    </tr>\n",
       "  </thead>\n",
       "  <tbody>\n",
       "    <tr>\n",
       "      <th>0</th>\n",
       "      <td>Terminator 2</td>\n",
       "      <td>7</td>\n",
       "      <td>1</td>\n",
       "      <td>1</td>\n",
       "      <td>0</td>\n",
       "      <td>0</td>\n",
       "      <td>0</td>\n",
       "    </tr>\n",
       "    <tr>\n",
       "      <th>1</th>\n",
       "      <td>Interstellar</td>\n",
       "      <td>9</td>\n",
       "      <td>0</td>\n",
       "      <td>1</td>\n",
       "      <td>1</td>\n",
       "      <td>0</td>\n",
       "      <td>1</td>\n",
       "    </tr>\n",
       "    <tr>\n",
       "      <th>2</th>\n",
       "      <td>Ant Man</td>\n",
       "      <td>8</td>\n",
       "      <td>1</td>\n",
       "      <td>1</td>\n",
       "      <td>1</td>\n",
       "      <td>1</td>\n",
       "      <td>0</td>\n",
       "    </tr>\n",
       "    <tr>\n",
       "      <th>3</th>\n",
       "      <td>3 Idiots</td>\n",
       "      <td>9</td>\n",
       "      <td>0</td>\n",
       "      <td>0</td>\n",
       "      <td>0</td>\n",
       "      <td>1</td>\n",
       "      <td>1</td>\n",
       "    </tr>\n",
       "    <tr>\n",
       "      <th>4</th>\n",
       "      <td>End Game</td>\n",
       "      <td>10</td>\n",
       "      <td>1</td>\n",
       "      <td>1</td>\n",
       "      <td>1</td>\n",
       "      <td>1</td>\n",
       "      <td>1</td>\n",
       "    </tr>\n",
       "  </tbody>\n",
       "</table>\n",
       "</div>"
      ],
      "text/plain": [
       "          movie  score  Action  Sci-Fi  Adventure  Comedy  Drama\n",
       "0  Terminator 2      7       1       1          0       0      0\n",
       "1  Interstellar      9       0       1          1       0      1\n",
       "2       Ant Man      8       1       1          1       1      0\n",
       "3      3 Idiots      9       0       0          0       1      1\n",
       "4      End Game     10       1       1          1       1      1"
      ]
     },
     "execution_count": 74,
     "metadata": {},
     "output_type": "execute_result"
    }
   ],
   "source": [
    "df_movies = pd.DataFrame({\n",
    "    'movie' : ['Terminator 2', 'Interstellar', 'Ant Man', '3 Idiots', 'End Game'],\n",
    "    'score' : [7, 9, 8, 9, 10],\n",
    "    'Action' : [1, 0, 1, 0, 1],\n",
    "    'Sci-Fi' : [1, 1, 1, 0, 1],\n",
    "    'Adventure' : [0, 1, 1, 0, 1],\n",
    "    'Comedy' : [0, 0, 1, 1, 1],\n",
    "    'Drama' : [0, 1, 0, 1, 1]\n",
    "})\n",
    "\n",
    "df_movies"
   ]
  },
  {
   "cell_type": "markdown",
   "metadata": {},
   "source": [
    "First we create an item-feature matrix. This matrix is ​​a combination of the items and genres as features."
   ]
  },
  {
   "cell_type": "code",
   "execution_count": 75,
   "metadata": {},
   "outputs": [
    {
     "data": {
      "text/html": [
       "<div>\n",
       "<style scoped>\n",
       "    .dataframe tbody tr th:only-of-type {\n",
       "        vertical-align: middle;\n",
       "    }\n",
       "\n",
       "    .dataframe tbody tr th {\n",
       "        vertical-align: top;\n",
       "    }\n",
       "\n",
       "    .dataframe thead th {\n",
       "        text-align: right;\n",
       "    }\n",
       "</style>\n",
       "<table border=\"1\" class=\"dataframe\">\n",
       "  <thead>\n",
       "    <tr style=\"text-align: right;\">\n",
       "      <th></th>\n",
       "      <th>Action</th>\n",
       "      <th>Sci-Fi</th>\n",
       "      <th>Adventure</th>\n",
       "      <th>Comedy</th>\n",
       "      <th>Drama</th>\n",
       "    </tr>\n",
       "  </thead>\n",
       "  <tbody>\n",
       "    <tr>\n",
       "      <th>0</th>\n",
       "      <td>1</td>\n",
       "      <td>1</td>\n",
       "      <td>0</td>\n",
       "      <td>0</td>\n",
       "      <td>0</td>\n",
       "    </tr>\n",
       "    <tr>\n",
       "      <th>1</th>\n",
       "      <td>0</td>\n",
       "      <td>1</td>\n",
       "      <td>1</td>\n",
       "      <td>0</td>\n",
       "      <td>1</td>\n",
       "    </tr>\n",
       "    <tr>\n",
       "      <th>2</th>\n",
       "      <td>1</td>\n",
       "      <td>1</td>\n",
       "      <td>1</td>\n",
       "      <td>1</td>\n",
       "      <td>0</td>\n",
       "    </tr>\n",
       "    <tr>\n",
       "      <th>3</th>\n",
       "      <td>0</td>\n",
       "      <td>0</td>\n",
       "      <td>0</td>\n",
       "      <td>1</td>\n",
       "      <td>1</td>\n",
       "    </tr>\n",
       "    <tr>\n",
       "      <th>4</th>\n",
       "      <td>1</td>\n",
       "      <td>1</td>\n",
       "      <td>1</td>\n",
       "      <td>1</td>\n",
       "      <td>1</td>\n",
       "    </tr>\n",
       "  </tbody>\n",
       "</table>\n",
       "</div>"
      ],
      "text/plain": [
       "   Action  Sci-Fi  Adventure  Comedy  Drama\n",
       "0       1       1          0       0      0\n",
       "1       0       1          1       0      1\n",
       "2       1       1          1       1      0\n",
       "3       0       0          0       1      1\n",
       "4       1       1          1       1      1"
      ]
     },
     "execution_count": 75,
     "metadata": {},
     "output_type": "execute_result"
    }
   ],
   "source": [
    "item_feature_matrix = df_movies. loc[:, 'Action' : ]\n",
    "item_feature_matrix"
   ]
  },
  {
   "cell_type": "markdown",
   "metadata": {},
   "source": [
    "Then we have to create an item-feature matrix by its rating"
   ]
  },
  {
   "cell_type": "code",
   "execution_count": 76,
   "metadata": {},
   "outputs": [
    {
     "data": {
      "text/plain": [
       "0     7\n",
       "1     9\n",
       "2     8\n",
       "3     9\n",
       "4    10\n",
       "Name: score, dtype: int64"
      ]
     },
     "execution_count": 76,
     "metadata": {},
     "output_type": "execute_result"
    }
   ],
   "source": [
    "rating = df_movies['score']\n",
    "rating"
   ]
  },
  {
   "cell_type": "code",
   "execution_count": 77,
   "metadata": {},
   "outputs": [
    {
     "data": {
      "text/html": [
       "<div>\n",
       "<style scoped>\n",
       "    .dataframe tbody tr th:only-of-type {\n",
       "        vertical-align: middle;\n",
       "    }\n",
       "\n",
       "    .dataframe tbody tr th {\n",
       "        vertical-align: top;\n",
       "    }\n",
       "\n",
       "    .dataframe thead th {\n",
       "        text-align: right;\n",
       "    }\n",
       "</style>\n",
       "<table border=\"1\" class=\"dataframe\">\n",
       "  <thead>\n",
       "    <tr style=\"text-align: right;\">\n",
       "      <th></th>\n",
       "      <th>Action</th>\n",
       "      <th>Sci-Fi</th>\n",
       "      <th>Adventure</th>\n",
       "      <th>Comedy</th>\n",
       "      <th>Drama</th>\n",
       "    </tr>\n",
       "  </thead>\n",
       "  <tbody>\n",
       "    <tr>\n",
       "      <th>0</th>\n",
       "      <td>7</td>\n",
       "      <td>7</td>\n",
       "      <td>0</td>\n",
       "      <td>0</td>\n",
       "      <td>0</td>\n",
       "    </tr>\n",
       "    <tr>\n",
       "      <th>1</th>\n",
       "      <td>0</td>\n",
       "      <td>9</td>\n",
       "      <td>9</td>\n",
       "      <td>0</td>\n",
       "      <td>9</td>\n",
       "    </tr>\n",
       "    <tr>\n",
       "      <th>2</th>\n",
       "      <td>8</td>\n",
       "      <td>8</td>\n",
       "      <td>8</td>\n",
       "      <td>8</td>\n",
       "      <td>0</td>\n",
       "    </tr>\n",
       "    <tr>\n",
       "      <th>3</th>\n",
       "      <td>0</td>\n",
       "      <td>0</td>\n",
       "      <td>0</td>\n",
       "      <td>9</td>\n",
       "      <td>9</td>\n",
       "    </tr>\n",
       "    <tr>\n",
       "      <th>4</th>\n",
       "      <td>10</td>\n",
       "      <td>10</td>\n",
       "      <td>10</td>\n",
       "      <td>10</td>\n",
       "      <td>10</td>\n",
       "    </tr>\n",
       "  </tbody>\n",
       "</table>\n",
       "</div>"
      ],
      "text/plain": [
       "   Action  Sci-Fi  Adventure  Comedy  Drama\n",
       "0       7       7          0       0      0\n",
       "1       0       9          9       0      9\n",
       "2       8       8          8       8      0\n",
       "3       0       0          0       9      9\n",
       "4      10      10         10      10     10"
      ]
     },
     "execution_count": 77,
     "metadata": {},
     "output_type": "execute_result"
    }
   ],
   "source": [
    "item_feature_matrix_with_rating = item_feature_matrix.mul(rating, axis=0)\n",
    "item_feature_matrix_with_rating"
   ]
  },
  {
   "cell_type": "markdown",
   "metadata": {},
   "source": [
    "We summarize the matrix so that we get user 1's overall preferences. The preference we use in this case is a preference for genre. To obtain user preferences for genres, we add up the ratings given by users for each genre."
   ]
  },
  {
   "cell_type": "code",
   "execution_count": 78,
   "metadata": {},
   "outputs": [
    {
     "data": {
      "text/plain": [
       "Action       25\n",
       "Sci-Fi       34\n",
       "Adventure    27\n",
       "Comedy       27\n",
       "Drama        28\n",
       "dtype: int64"
      ]
     },
     "execution_count": 78,
     "metadata": {},
     "output_type": "execute_result"
    }
   ],
   "source": [
    "score_per_genre = item_feature_matrix_with_rating.sum()\n",
    "score_per_genre"
   ]
  },
  {
   "cell_type": "markdown",
   "metadata": {},
   "source": [
    "After that, we make preferences in the form of percentages or proportions. User preferences for the content used are called User Feature Vector."
   ]
  },
  {
   "cell_type": "code",
   "execution_count": 79,
   "metadata": {},
   "outputs": [
    {
     "data": {
      "text/plain": [
       "Action       0.177305\n",
       "Sci-Fi       0.241135\n",
       "Adventure    0.191489\n",
       "Comedy       0.191489\n",
       "Drama        0.198582\n",
       "dtype: float64"
      ]
     },
     "execution_count": 79,
     "metadata": {},
     "output_type": "execute_result"
    }
   ],
   "source": [
    "user_feature_vector = score_per_genre/score_per_genre.sum() # masing2 score dibagi 91\n",
    "user_feature_vector"
   ]
  },
  {
   "cell_type": "markdown",
   "metadata": {},
   "source": [
    "Here we know that the user likes the 'Science Fiction' genre the most because it has the biggest score.\n",
    "\n",
    "Then the user feature vector that has been obtained will be used to measure interest in other items that have not been used. "
   ]
  },
  {
   "cell_type": "code",
   "execution_count": 86,
   "metadata": {},
   "outputs": [
    {
     "data": {
      "text/html": [
       "<div>\n",
       "<style scoped>\n",
       "    .dataframe tbody tr th:only-of-type {\n",
       "        vertical-align: middle;\n",
       "    }\n",
       "\n",
       "    .dataframe tbody tr th {\n",
       "        vertical-align: top;\n",
       "    }\n",
       "\n",
       "    .dataframe thead th {\n",
       "        text-align: right;\n",
       "    }\n",
       "</style>\n",
       "<table border=\"1\" class=\"dataframe\">\n",
       "  <thead>\n",
       "    <tr style=\"text-align: right;\">\n",
       "      <th></th>\n",
       "      <th>movie</th>\n",
       "      <th>Action</th>\n",
       "      <th>Sci-Fi</th>\n",
       "      <th>Adventure</th>\n",
       "      <th>Comedy</th>\n",
       "      <th>Drama</th>\n",
       "    </tr>\n",
       "  </thead>\n",
       "  <tbody>\n",
       "    <tr>\n",
       "      <th>0</th>\n",
       "      <td>Transformers</td>\n",
       "      <td>1</td>\n",
       "      <td>1</td>\n",
       "      <td>0</td>\n",
       "      <td>0</td>\n",
       "      <td>0</td>\n",
       "    </tr>\n",
       "    <tr>\n",
       "      <th>1</th>\n",
       "      <td>Martian</td>\n",
       "      <td>0</td>\n",
       "      <td>1</td>\n",
       "      <td>1</td>\n",
       "      <td>0</td>\n",
       "      <td>1</td>\n",
       "    </tr>\n",
       "    <tr>\n",
       "      <th>2</th>\n",
       "      <td>GOTG Vol 2</td>\n",
       "      <td>1</td>\n",
       "      <td>1</td>\n",
       "      <td>1</td>\n",
       "      <td>1</td>\n",
       "      <td>0</td>\n",
       "    </tr>\n",
       "    <tr>\n",
       "      <th>3</th>\n",
       "      <td>Avenger</td>\n",
       "      <td>1</td>\n",
       "      <td>1</td>\n",
       "      <td>1</td>\n",
       "      <td>1</td>\n",
       "      <td>1</td>\n",
       "    </tr>\n",
       "  </tbody>\n",
       "</table>\n",
       "</div>"
      ],
      "text/plain": [
       "          movie  Action  Sci-Fi  Adventure  Comedy  Drama\n",
       "0  Transformers       1       1          0       0      0\n",
       "1       Martian       0       1          1       0      1\n",
       "2    GOTG Vol 2       1       1          1       1      0\n",
       "3       Avenger       1       1          1       1      1"
      ]
     },
     "execution_count": 86,
     "metadata": {},
     "output_type": "execute_result"
    }
   ],
   "source": [
    "df_unwatched_movies = pd.DataFrame({\n",
    "    'movie' : ['Transformers', 'Martian', 'GOTG Vol 2', 'Avenger'],\n",
    "    'Action' : [1, 0, 1, 1],\n",
    "    'Sci-Fi' : [1, 1, 1, 1],\n",
    "    'Adventure' : [0, 1, 1, 1],\n",
    "    'Comedy' : [0, 0, 1, 1],\n",
    "    'Drama' : [0, 1, 0, 1]\n",
    "})\n",
    "\n",
    "df_unwatched_movies"
   ]
  },
  {
   "cell_type": "markdown",
   "metadata": {},
   "source": [
    "We combine the user feature vector with the item-feature matrix."
   ]
  },
  {
   "cell_type": "code",
   "execution_count": 87,
   "metadata": {},
   "outputs": [
    {
     "data": {
      "text/html": [
       "<div>\n",
       "<style scoped>\n",
       "    .dataframe tbody tr th:only-of-type {\n",
       "        vertical-align: middle;\n",
       "    }\n",
       "\n",
       "    .dataframe tbody tr th {\n",
       "        vertical-align: top;\n",
       "    }\n",
       "\n",
       "    .dataframe thead th {\n",
       "        text-align: right;\n",
       "    }\n",
       "</style>\n",
       "<table border=\"1\" class=\"dataframe\">\n",
       "  <thead>\n",
       "    <tr style=\"text-align: right;\">\n",
       "      <th></th>\n",
       "      <th>Action</th>\n",
       "      <th>Sci-Fi</th>\n",
       "      <th>Adventure</th>\n",
       "      <th>Comedy</th>\n",
       "      <th>Drama</th>\n",
       "    </tr>\n",
       "  </thead>\n",
       "  <tbody>\n",
       "    <tr>\n",
       "      <th>0</th>\n",
       "      <td>1</td>\n",
       "      <td>1</td>\n",
       "      <td>0</td>\n",
       "      <td>0</td>\n",
       "      <td>0</td>\n",
       "    </tr>\n",
       "    <tr>\n",
       "      <th>1</th>\n",
       "      <td>0</td>\n",
       "      <td>1</td>\n",
       "      <td>1</td>\n",
       "      <td>0</td>\n",
       "      <td>1</td>\n",
       "    </tr>\n",
       "    <tr>\n",
       "      <th>2</th>\n",
       "      <td>1</td>\n",
       "      <td>1</td>\n",
       "      <td>1</td>\n",
       "      <td>1</td>\n",
       "      <td>0</td>\n",
       "    </tr>\n",
       "    <tr>\n",
       "      <th>3</th>\n",
       "      <td>1</td>\n",
       "      <td>1</td>\n",
       "      <td>1</td>\n",
       "      <td>1</td>\n",
       "      <td>1</td>\n",
       "    </tr>\n",
       "  </tbody>\n",
       "</table>\n",
       "</div>"
      ],
      "text/plain": [
       "   Action  Sci-Fi  Adventure  Comedy  Drama\n",
       "0       1       1          0       0      0\n",
       "1       0       1          1       0      1\n",
       "2       1       1          1       1      0\n",
       "3       1       1          1       1      1"
      ]
     },
     "execution_count": 87,
     "metadata": {},
     "output_type": "execute_result"
    }
   ],
   "source": [
    "item_feature_matrix_unwatched = df_unwatched_movies.loc[:,'Action':]\n",
    "item_feature_matrix_unwatched"
   ]
  },
  {
   "cell_type": "code",
   "execution_count": 88,
   "metadata": {},
   "outputs": [
    {
     "data": {
      "text/html": [
       "<div>\n",
       "<style scoped>\n",
       "    .dataframe tbody tr th:only-of-type {\n",
       "        vertical-align: middle;\n",
       "    }\n",
       "\n",
       "    .dataframe tbody tr th {\n",
       "        vertical-align: top;\n",
       "    }\n",
       "\n",
       "    .dataframe thead th {\n",
       "        text-align: right;\n",
       "    }\n",
       "</style>\n",
       "<table border=\"1\" class=\"dataframe\">\n",
       "  <thead>\n",
       "    <tr style=\"text-align: right;\">\n",
       "      <th></th>\n",
       "      <th>Action</th>\n",
       "      <th>Sci-Fi</th>\n",
       "      <th>Adventure</th>\n",
       "      <th>Comedy</th>\n",
       "      <th>Drama</th>\n",
       "    </tr>\n",
       "  </thead>\n",
       "  <tbody>\n",
       "    <tr>\n",
       "      <th>0</th>\n",
       "      <td>0.177305</td>\n",
       "      <td>0.241135</td>\n",
       "      <td>0.000000</td>\n",
       "      <td>0.000000</td>\n",
       "      <td>0.000000</td>\n",
       "    </tr>\n",
       "    <tr>\n",
       "      <th>1</th>\n",
       "      <td>0.000000</td>\n",
       "      <td>0.241135</td>\n",
       "      <td>0.191489</td>\n",
       "      <td>0.000000</td>\n",
       "      <td>0.198582</td>\n",
       "    </tr>\n",
       "    <tr>\n",
       "      <th>2</th>\n",
       "      <td>0.177305</td>\n",
       "      <td>0.241135</td>\n",
       "      <td>0.191489</td>\n",
       "      <td>0.191489</td>\n",
       "      <td>0.000000</td>\n",
       "    </tr>\n",
       "    <tr>\n",
       "      <th>3</th>\n",
       "      <td>0.177305</td>\n",
       "      <td>0.241135</td>\n",
       "      <td>0.191489</td>\n",
       "      <td>0.191489</td>\n",
       "      <td>0.198582</td>\n",
       "    </tr>\n",
       "  </tbody>\n",
       "</table>\n",
       "</div>"
      ],
      "text/plain": [
       "     Action    Sci-Fi  Adventure    Comedy     Drama\n",
       "0  0.177305  0.241135   0.000000  0.000000  0.000000\n",
       "1  0.000000  0.241135   0.191489  0.000000  0.198582\n",
       "2  0.177305  0.241135   0.191489  0.191489  0.000000\n",
       "3  0.177305  0.241135   0.191489  0.191489  0.198582"
      ]
     },
     "execution_count": 88,
     "metadata": {},
     "output_type": "execute_result"
    }
   ],
   "source": [
    "df_recommendation =item_feature_matrix_unwatched.mul(user_feature_vector,axis=1)\n",
    "df_recommendation "
   ]
  },
  {
   "cell_type": "markdown",
   "metadata": {},
   "source": [
    "Then we calculate the total score for each item by adding up the scores from each genre."
   ]
  },
  {
   "cell_type": "code",
   "execution_count": 89,
   "metadata": {},
   "outputs": [
    {
     "data": {
      "text/plain": [
       "0    0.418440\n",
       "1    0.631206\n",
       "2    0.801418\n",
       "3    1.000000\n",
       "dtype: float64"
      ]
     },
     "execution_count": 89,
     "metadata": {},
     "output_type": "execute_result"
    }
   ],
   "source": [
    "scoring = df_recommendation.sum(axis=1)\n",
    "scoring"
   ]
  },
  {
   "cell_type": "code",
   "execution_count": 90,
   "metadata": {},
   "outputs": [
    {
     "data": {
      "text/html": [
       "<div>\n",
       "<style scoped>\n",
       "    .dataframe tbody tr th:only-of-type {\n",
       "        vertical-align: middle;\n",
       "    }\n",
       "\n",
       "    .dataframe tbody tr th {\n",
       "        vertical-align: top;\n",
       "    }\n",
       "\n",
       "    .dataframe thead th {\n",
       "        text-align: right;\n",
       "    }\n",
       "</style>\n",
       "<table border=\"1\" class=\"dataframe\">\n",
       "  <thead>\n",
       "    <tr style=\"text-align: right;\">\n",
       "      <th></th>\n",
       "      <th>movie</th>\n",
       "      <th>Action</th>\n",
       "      <th>Sci-Fi</th>\n",
       "      <th>Adventure</th>\n",
       "      <th>Comedy</th>\n",
       "      <th>Drama</th>\n",
       "      <th>score</th>\n",
       "    </tr>\n",
       "  </thead>\n",
       "  <tbody>\n",
       "    <tr>\n",
       "      <th>3</th>\n",
       "      <td>Avenger</td>\n",
       "      <td>1</td>\n",
       "      <td>1</td>\n",
       "      <td>1</td>\n",
       "      <td>1</td>\n",
       "      <td>1</td>\n",
       "      <td>1.000000</td>\n",
       "    </tr>\n",
       "    <tr>\n",
       "      <th>2</th>\n",
       "      <td>GOTG Vol 2</td>\n",
       "      <td>1</td>\n",
       "      <td>1</td>\n",
       "      <td>1</td>\n",
       "      <td>1</td>\n",
       "      <td>0</td>\n",
       "      <td>0.801418</td>\n",
       "    </tr>\n",
       "    <tr>\n",
       "      <th>1</th>\n",
       "      <td>Martian</td>\n",
       "      <td>0</td>\n",
       "      <td>1</td>\n",
       "      <td>1</td>\n",
       "      <td>0</td>\n",
       "      <td>1</td>\n",
       "      <td>0.631206</td>\n",
       "    </tr>\n",
       "  </tbody>\n",
       "</table>\n",
       "</div>"
      ],
      "text/plain": [
       "        movie  Action  Sci-Fi  Adventure  Comedy  Drama     score\n",
       "3     Avenger       1       1          1       1      1  1.000000\n",
       "2  GOTG Vol 2       1       1          1       1      0  0.801418\n",
       "1     Martian       0       1          1       0      1  0.631206"
      ]
     },
     "execution_count": 90,
     "metadata": {},
     "output_type": "execute_result"
    }
   ],
   "source": [
    "df_unwatched_movies['score'] = scoring\n",
    "df_unwatched_movies.sort_values('score',ascending=False)[:3]"
   ]
  },
  {
   "cell_type": "markdown",
   "metadata": {},
   "source": [
    "**Summary**\n",
    "\n",
    "- The content is Genre\n",
    "- User has watched 4 movies: `Terminator 2`, `Interstellar`, `Ant Man`, and `3 Idiots`\n",
    "- We use Content Based Filtering to determine what movies to recommend next\n",
    "- Based on the highest Movie Score, the recommended film is `GOTG Vol 2`, then `Martian`, and `Transformers`. "
   ]
  },
  {
   "cell_type": "markdown",
   "metadata": {},
   "source": [
    "**b. Multiple User**\n",
    "\n",
    "- In practice, we need to make recommendations for many users not just one.\n",
    "- How it works still only looks at the history of a user (user1 has nothing to do with user2 and so on)"
   ]
  },
  {
   "cell_type": "code",
   "execution_count": 49,
   "metadata": {},
   "outputs": [
    {
     "data": {
      "text/html": [
       "<div>\n",
       "<style scoped>\n",
       "    .dataframe tbody tr th:only-of-type {\n",
       "        vertical-align: middle;\n",
       "    }\n",
       "\n",
       "    .dataframe tbody tr th {\n",
       "        vertical-align: top;\n",
       "    }\n",
       "\n",
       "    .dataframe thead th {\n",
       "        text-align: right;\n",
       "    }\n",
       "</style>\n",
       "<table border=\"1\" class=\"dataframe\">\n",
       "  <thead>\n",
       "    <tr style=\"text-align: right;\">\n",
       "      <th></th>\n",
       "      <th>movie</th>\n",
       "      <th>score</th>\n",
       "      <th>Action</th>\n",
       "      <th>Sci-Fi</th>\n",
       "      <th>Adventure</th>\n",
       "      <th>Comedy</th>\n",
       "      <th>Drama</th>\n",
       "    </tr>\n",
       "  </thead>\n",
       "  <tbody>\n",
       "    <tr>\n",
       "      <th>0</th>\n",
       "      <td>Terminator 2</td>\n",
       "      <td>7</td>\n",
       "      <td>1</td>\n",
       "      <td>1</td>\n",
       "      <td>0</td>\n",
       "      <td>0</td>\n",
       "      <td>0</td>\n",
       "    </tr>\n",
       "    <tr>\n",
       "      <th>1</th>\n",
       "      <td>Interstellar</td>\n",
       "      <td>9</td>\n",
       "      <td>0</td>\n",
       "      <td>1</td>\n",
       "      <td>1</td>\n",
       "      <td>0</td>\n",
       "      <td>1</td>\n",
       "    </tr>\n",
       "    <tr>\n",
       "      <th>2</th>\n",
       "      <td>Ant Man</td>\n",
       "      <td>8</td>\n",
       "      <td>1</td>\n",
       "      <td>1</td>\n",
       "      <td>1</td>\n",
       "      <td>1</td>\n",
       "      <td>0</td>\n",
       "    </tr>\n",
       "    <tr>\n",
       "      <th>3</th>\n",
       "      <td>3 Idiots</td>\n",
       "      <td>9</td>\n",
       "      <td>0</td>\n",
       "      <td>0</td>\n",
       "      <td>0</td>\n",
       "      <td>1</td>\n",
       "      <td>1</td>\n",
       "    </tr>\n",
       "  </tbody>\n",
       "</table>\n",
       "</div>"
      ],
      "text/plain": [
       "          movie  score  Action  Sci-Fi  Adventure  Comedy  Drama\n",
       "0  Terminator 2      7       1       1          0       0      0\n",
       "1  Interstellar      9       0       1          1       0      1\n",
       "2       Ant Man      8       1       1          1       1      0\n",
       "3      3 Idiots      9       0       0          0       1      1"
      ]
     },
     "execution_count": 49,
     "metadata": {},
     "output_type": "execute_result"
    }
   ],
   "source": [
    "df_movies = pd.DataFrame({\n",
    "    'movie' : ['Terminator 2', 'Interstellar', 'Ant Man', '3 Idiots'],\n",
    "    'score' : [7, 9, 8, 9],\n",
    "    'Action' : [1, 0, 1, 0],\n",
    "    'Sci-Fi' : [1, 1, 1, 0],\n",
    "    'Adventure' : [0, 1, 1, 0],\n",
    "    'Comedy' : [0, 0, 1, 1],\n",
    "    'Drama' : [0, 1, 0, 1]\n",
    "})\n",
    "\n",
    "df_movies\n"
   ]
  },
  {
   "cell_type": "code",
   "execution_count": 50,
   "metadata": {},
   "outputs": [
    {
     "data": {
      "text/html": [
       "<div>\n",
       "<style scoped>\n",
       "    .dataframe tbody tr th:only-of-type {\n",
       "        vertical-align: middle;\n",
       "    }\n",
       "\n",
       "    .dataframe tbody tr th {\n",
       "        vertical-align: top;\n",
       "    }\n",
       "\n",
       "    .dataframe thead th {\n",
       "        text-align: right;\n",
       "    }\n",
       "</style>\n",
       "<table border=\"1\" class=\"dataframe\">\n",
       "  <thead>\n",
       "    <tr style=\"text-align: right;\">\n",
       "      <th></th>\n",
       "      <th>user</th>\n",
       "      <th>Terminator</th>\n",
       "      <th>Interstellar</th>\n",
       "      <th>Ant man</th>\n",
       "      <th>3 Idiots</th>\n",
       "    </tr>\n",
       "  </thead>\n",
       "  <tbody>\n",
       "    <tr>\n",
       "      <th>0</th>\n",
       "      <td>user1</td>\n",
       "      <td>7</td>\n",
       "      <td>9</td>\n",
       "      <td>8</td>\n",
       "      <td>9</td>\n",
       "    </tr>\n",
       "    <tr>\n",
       "      <th>1</th>\n",
       "      <td>user2</td>\n",
       "      <td>8</td>\n",
       "      <td>0</td>\n",
       "      <td>6</td>\n",
       "      <td>5</td>\n",
       "    </tr>\n",
       "    <tr>\n",
       "      <th>2</th>\n",
       "      <td>user3</td>\n",
       "      <td>9</td>\n",
       "      <td>0</td>\n",
       "      <td>0</td>\n",
       "      <td>10</td>\n",
       "    </tr>\n",
       "    <tr>\n",
       "      <th>3</th>\n",
       "      <td>user4</td>\n",
       "      <td>0</td>\n",
       "      <td>7</td>\n",
       "      <td>0</td>\n",
       "      <td>9</td>\n",
       "    </tr>\n",
       "  </tbody>\n",
       "</table>\n",
       "</div>"
      ],
      "text/plain": [
       "    user  Terminator  Interstellar  Ant man  3 Idiots\n",
       "0  user1           7             9        8         9\n",
       "1  user2           8             0        6         5\n",
       "2  user3           9             0        0        10\n",
       "3  user4           0             7        0         9"
      ]
     },
     "execution_count": 50,
     "metadata": {},
     "output_type": "execute_result"
    }
   ],
   "source": [
    "df_user = pd.DataFrame({\n",
    "    'user' : ['user1', 'user2', 'user3', 'user4'],\n",
    "    'Terminator' : [7, 8, 9, 0],\n",
    "    'Interstellar' : [9, 0, 0, 7],\n",
    "    'Ant man' : [8, 6, 0, 0],\n",
    "    '3 Idiots' : [9, 5, 10, 9]\n",
    "})\n",
    "\n",
    "df_user"
   ]
  },
  {
   "cell_type": "markdown",
   "metadata": {},
   "source": [
    "We need two things: the user-item rating matrix and the item-feature matrix."
   ]
  },
  {
   "cell_type": "code",
   "execution_count": null,
   "metadata": {},
   "outputs": [],
   "source": []
  },
  {
   "cell_type": "markdown",
   "metadata": {},
   "source": [
    "Basically we do the same thing, calculate the user feature vector but this time we calculate it for each existing user. Then we combine the user feature vector for each user and create a user feature matrix."
   ]
  },
  {
   "cell_type": "code",
   "execution_count": null,
   "metadata": {},
   "outputs": [],
   "source": []
  },
  {
   "cell_type": "markdown",
   "metadata": {},
   "source": [
    "Next, we combine the user feature matrix with the item feature matrix so that we can get scores from movies that have not been watched by each user."
   ]
  },
  {
   "cell_type": "code",
   "execution_count": null,
   "metadata": {},
   "outputs": [],
   "source": []
  },
  {
   "cell_type": "markdown",
   "metadata": {},
   "source": [
    "We can see that from a number of movies that have not been seen by user 3 and user 4, it turns out that the most recommended movie to watch next is Ant Man."
   ]
  }
 ],
 "metadata": {
  "kernelspec": {
   "display_name": "Python 3",
   "language": "python",
   "name": "python3"
  },
  "language_info": {
   "codemirror_mode": {
    "name": "ipython",
    "version": 3
   },
   "file_extension": ".py",
   "mimetype": "text/x-python",
   "name": "python",
   "nbconvert_exporter": "python",
   "pygments_lexer": "ipython3",
   "version": "3.12.2"
  }
 },
 "nbformat": 4,
 "nbformat_minor": 2
}
