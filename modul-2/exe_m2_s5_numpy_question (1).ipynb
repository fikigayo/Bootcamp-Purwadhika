{
 "cells": [
  {
   "cell_type": "markdown",
   "metadata": {},
   "source": [
    "# Exercise Numpy"
   ]
  },
  {
   "attachments": {},
   "cell_type": "markdown",
   "metadata": {},
   "source": [
    "Jangan di-run all!. Lakukan run satu per satu pada tiap cell."
   ]
  },
  {
   "cell_type": "code",
   "execution_count": 1,
   "metadata": {},
   "outputs": [],
   "source": [
    "import numpy as np"
   ]
  },
  {
   "attachments": {},
   "cell_type": "markdown",
   "metadata": {},
   "source": [
    "<hr>\n",
    "\n",
    "### **Nomor 1**\n",
    "\n",
    "Buatlah sebuah array 1D dengan nama variable myArray yang terdiri dari 36 angka bilangan bulat acak antara 1 dan 100! (Gunakan seed=0)"
   ]
  },
  {
   "cell_type": "code",
   "execution_count": 33,
   "metadata": {},
   "outputs": [
    {
     "data": {
      "text/plain": [
       "array([ 45,  48,  65,  68,  68,  10,  84,  22,  37,  88,  71,  89,  89,\n",
       "        13,  59,  66,  40,  88,  47,  89,  82,  38,  26,  78,  73,  10,\n",
       "        21,  81,  70,  80,  48,  65,  83, 100,  89,  50])"
      ]
     },
     "execution_count": 33,
     "metadata": {},
     "output_type": "execute_result"
    }
   ],
   "source": []
  },
  {
   "attachments": {},
   "cell_type": "markdown",
   "metadata": {},
   "source": [
    "<hr>\n",
    "\n",
    "### **Nomor 2**\n",
    "\n",
    "Ubahlah array tersebut (myArray) menjadi\n",
    "\n",
    "* array 2D dengan ukuran 2 x 18\n",
    "* array 2D dengan ukuran 9 x 4\n",
    "* array 3D dengan ukuran 2 x 6 X 3"
   ]
  },
  {
   "cell_type": "code",
   "execution_count": 10,
   "metadata": {},
   "outputs": [
    {
     "data": {
      "text/plain": [
       "array([[ 45,  48,  65,  68,  68,  10,  84,  22,  37,  88,  71,  89,  89,\n",
       "         13,  59,  66,  40,  88],\n",
       "       [ 47,  89,  82,  38,  26,  78,  73,  10,  21,  81,  70,  80,  48,\n",
       "         65,  83, 100,  89,  50]])"
      ]
     },
     "execution_count": 10,
     "metadata": {},
     "output_type": "execute_result"
    }
   ],
   "source": []
  },
  {
   "cell_type": "code",
   "execution_count": 20,
   "metadata": {},
   "outputs": [
    {
     "data": {
      "text/plain": [
       "array([[ 45,  48,  65,  68],\n",
       "       [ 68,  10,  84,  22],\n",
       "       [ 37,  88,  71,  89],\n",
       "       [ 89,  13,  59,  66],\n",
       "       [ 40,  88,  47,  89],\n",
       "       [ 82,  38,  26,  78],\n",
       "       [ 73,  10,  21,  81],\n",
       "       [ 70,  80,  48,  65],\n",
       "       [ 83, 100,  89,  50]])"
      ]
     },
     "execution_count": 20,
     "metadata": {},
     "output_type": "execute_result"
    }
   ],
   "source": []
  },
  {
   "cell_type": "code",
   "execution_count": 21,
   "metadata": {},
   "outputs": [
    {
     "data": {
      "text/plain": [
       "array([[[ 45,  48,  65],\n",
       "        [ 68,  68,  10],\n",
       "        [ 84,  22,  37],\n",
       "        [ 88,  71,  89],\n",
       "        [ 89,  13,  59],\n",
       "        [ 66,  40,  88]],\n",
       "\n",
       "       [[ 47,  89,  82],\n",
       "        [ 38,  26,  78],\n",
       "        [ 73,  10,  21],\n",
       "        [ 81,  70,  80],\n",
       "        [ 48,  65,  83],\n",
       "        [100,  89,  50]]])"
      ]
     },
     "execution_count": 21,
     "metadata": {},
     "output_type": "execute_result"
    }
   ],
   "source": []
  },
  {
   "attachments": {},
   "cell_type": "markdown",
   "metadata": {},
   "source": [
    "<hr>\n",
    "\n",
    "### **Nomor 3**\n",
    "\n",
    "Tentukan\n",
    "\n",
    "* nilai minimum dari array tersebut (myArray)\n",
    "* nilai maximum dari array tersebut (myArray)\n",
    "* posisi dari nilai minimum tersebut\n",
    "* posisi dari nilai maximum tersebut"
   ]
  },
  {
   "cell_type": "code",
   "execution_count": null,
   "metadata": {},
   "outputs": [],
   "source": []
  },
  {
   "attachments": {},
   "cell_type": "markdown",
   "metadata": {},
   "source": [
    "<hr>\n",
    "\n",
    "### **Nomor 4**\n",
    "\n",
    "Buatlah array baru dengan nama variable new_array yang berisi 9 angka yang diambil dari data ke-3, 5, 30, 12, 15, 8, 24, 14, dan 22 dari myArray! \n",
    "\n",
    "Ubahlah array tersebut menjadi array 2D dengan ukuran 3 x 3 secara permanen!\n"
   ]
  },
  {
   "cell_type": "code",
   "execution_count": 22,
   "metadata": {},
   "outputs": [
    {
     "data": {
      "text/plain": [
       "array([[68, 10, 48],\n",
       "       [89, 66, 37],\n",
       "       [73, 59, 26]])"
      ]
     },
     "execution_count": 22,
     "metadata": {},
     "output_type": "execute_result"
    }
   ],
   "source": []
  },
  {
   "attachments": {},
   "cell_type": "markdown",
   "metadata": {},
   "source": [
    "<hr>\n",
    "\n",
    "### **Nomor 5**\n",
    "\n",
    "Tampilkan item pada new_array yang nilainya lebih besar dari 50!"
   ]
  },
  {
   "cell_type": "code",
   "execution_count": 26,
   "metadata": {},
   "outputs": [
    {
     "data": {
      "text/plain": [
       "array([68, 89, 66, 73, 59])"
      ]
     },
     "execution_count": 26,
     "metadata": {},
     "output_type": "execute_result"
    }
   ],
   "source": []
  },
  {
   "attachments": {},
   "cell_type": "markdown",
   "metadata": {},
   "source": [
    "<hr>\n",
    "\n",
    "### **Nomor 6**\n",
    "\n",
    "Buatlah sebuah array 1D yang berisi angka 0, 25, 50, 75, dan 100 menggunakan fungsi:\n",
    "\n",
    "* arange\n",
    "* linspace"
   ]
  },
  {
   "cell_type": "code",
   "execution_count": null,
   "metadata": {},
   "outputs": [],
   "source": []
  },
  {
   "attachments": {},
   "cell_type": "markdown",
   "metadata": {},
   "source": [
    "<hr>\n",
    "\n",
    "### **Nomor 7**\n",
    "\n",
    "Buatlah sebuah array 2D berukuran N X N yang semuanya berisi angka 8, dimana n merupakan bilangan asli yang besarnya dimintakan input kepada user!\n",
    "\n",
    "contoh :\\\n",
    "N yang diinput adalah: 2\n",
    "\n",
    "hasil :\\\n",
    "array([[8., 8.],\\\n",
    "&emsp;&emsp;&nbsp;&nbsp;&nbsp;[8., 8.]])"
   ]
  },
  {
   "cell_type": "code",
   "execution_count": null,
   "metadata": {},
   "outputs": [],
   "source": []
  },
  {
   "attachments": {},
   "cell_type": "markdown",
   "metadata": {},
   "source": [
    "<hr>\n",
    "\n",
    "### **Nomor 8**\n",
    "\n",
    "Buatlah array 2D dengan nama arrayA berukuran 3 x 4 dengan hasil sebagai berikut :"
   ]
  },
  {
   "cell_type": "code",
   "execution_count": 30,
   "metadata": {},
   "outputs": [
    {
     "data": {
      "text/plain": [
       "array([[ 1,  2,  3,  4],\n",
       "       [ 5,  6,  7,  8],\n",
       "       [ 9, 10, 11, 12]])"
      ]
     },
     "execution_count": 30,
     "metadata": {},
     "output_type": "execute_result"
    }
   ],
   "source": []
  },
  {
   "attachments": {},
   "cell_type": "markdown",
   "metadata": {},
   "source": [
    "Buatlah array 2D dengan nama arrayB berukuran 4 x 1 dengan hasil sebagai berikut :"
   ]
  },
  {
   "cell_type": "code",
   "execution_count": 31,
   "metadata": {},
   "outputs": [
    {
     "data": {
      "text/plain": [
       "array([[100],\n",
       "       [200],\n",
       "       [300],\n",
       "       [400]])"
      ]
     },
     "execution_count": 31,
     "metadata": {},
     "output_type": "execute_result"
    }
   ],
   "source": []
  },
  {
   "attachments": {},
   "cell_type": "markdown",
   "metadata": {},
   "source": [
    "Gabungkanlah arrayA dan arrayB menjadi arrayC dengan hasil sebagai berikut:"
   ]
  },
  {
   "cell_type": "code",
   "execution_count": 39,
   "metadata": {},
   "outputs": [
    {
     "data": {
      "text/plain": [
       "array([[  1,   2,   3,   4],\n",
       "       [  5,   6,   7,   8],\n",
       "       [  9,  10,  11,  12],\n",
       "       [100, 200, 300, 400]])"
      ]
     },
     "execution_count": 39,
     "metadata": {},
     "output_type": "execute_result"
    }
   ],
   "source": []
  },
  {
   "attachments": {},
   "cell_type": "markdown",
   "metadata": {},
   "source": [
    "<hr>\n",
    "\n",
    "### **Nomor 9**\n",
    "\n",
    "Tampilkan hasil sebagai berikut dengan cara melakukan slicing pada arrayC!"
   ]
  },
  {
   "cell_type": "code",
   "execution_count": 45,
   "metadata": {},
   "outputs": [
    {
     "data": {
      "text/plain": [
       "array([[ 7,  8],\n",
       "       [11, 12]])"
      ]
     },
     "execution_count": 45,
     "metadata": {},
     "output_type": "execute_result"
    }
   ],
   "source": []
  },
  {
   "attachments": {},
   "cell_type": "markdown",
   "metadata": {},
   "source": [
    "<hr>\n",
    "\n",
    "### **Nomor 10**\n",
    "\n",
    "Tampilkan hasil sebagai berikut dengan cara melakukan slicing pada arrayC!"
   ]
  },
  {
   "cell_type": "code",
   "execution_count": 54,
   "metadata": {},
   "outputs": [
    {
     "data": {
      "text/plain": [
       "200"
      ]
     },
     "execution_count": 54,
     "metadata": {},
     "output_type": "execute_result"
    }
   ],
   "source": []
  }
 ],
 "metadata": {
  "interpreter": {
   "hash": "7679c2132d3f6ce38c9df14d554b39c06862b36a4e6689c81f9ae15bd0911d7d"
  },
  "kernelspec": {
   "display_name": "Python 3.7.11 ('base')",
   "language": "python",
   "name": "python3"
  },
  "language_info": {
   "codemirror_mode": {
    "name": "ipython",
    "version": 3
   },
   "file_extension": ".py",
   "mimetype": "text/x-python",
   "name": "python",
   "nbconvert_exporter": "python",
   "pygments_lexer": "ipython3",
   "version": "3.11.7"
  },
  "orig_nbformat": 4
 },
 "nbformat": 4,
 "nbformat_minor": 2
}
