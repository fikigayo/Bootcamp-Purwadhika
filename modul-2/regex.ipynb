{
 "cells": [
  {
   "cell_type": "code",
   "execution_count": 3,
   "metadata": {},
   "outputs": [],
   "source": [
    "import re"
   ]
  },
  {
   "cell_type": "code",
   "execution_count": null,
   "metadata": {},
   "outputs": [],
   "source": [
    "# \\w: Mencocokkan karakter alphanumeric (huruf, angka, dan garis bawah/underscore).\n",
    "# \\s: Mencocokkan karakter whitespace (spasi, tab, newline, dan sejenisnya).\n",
    "# \\d: Mencocokkan karakter digit (angka 0 hingga 9).\n",
    "# \\W: Mencocokkan non-alphanumeric (karakter selain huruf, angka, dan garis bawah).\n",
    "# \\S: Mencocokkan non-whitespace (karakter selain spasi, tab, dan sejenisnya).\n",
    "# \\D: Mencocokkan non-digit (karakter selain angka)."
   ]
  },
  {
   "cell_type": "code",
   "execution_count": 3,
   "metadata": {},
   "outputs": [
    {
     "data": {
      "text/plain": [
       "['my']"
      ]
     },
     "execution_count": 3,
     "metadata": {},
     "output_type": "execute_result"
    }
   ],
   "source": [
    "#re.findal(pattern,string)\n",
    "string1 = 'my car is grey'\n",
    "pattern1 = 'my'\n",
    "\n",
    "re.findall(pattern=pattern1, string=string1)"
   ]
  },
  {
   "cell_type": "code",
   "execution_count": 10,
   "metadata": {},
   "outputs": [
    {
     "data": {
      "text/plain": [
       "['grey', 'gray']"
      ]
     },
     "execution_count": 10,
     "metadata": {},
     "output_type": "execute_result"
    }
   ],
   "source": [
    "string1 = 'grey gray grAy graAy graay greay graey groy gruy'\n",
    "pattern1 = 'gr[ae]y'\n",
    "\n",
    "re.findall(pattern=pattern1, string=string1)"
   ]
  },
  {
   "cell_type": "code",
   "execution_count": 11,
   "metadata": {},
   "outputs": [
    {
     "data": {
      "text/plain": [
       "['grey', 'gray']"
      ]
     },
     "execution_count": 11,
     "metadata": {},
     "output_type": "execute_result"
    }
   ],
   "source": [
    "string1 = 'grey gray grAy graAy graay greay graey groy gruy'\n",
    "pattern1 = 'gray|grey'\n",
    "\n",
    "re.findall(pattern=pattern1, string=string1)"
   ]
  },
  {
   "cell_type": "code",
   "execution_count": 13,
   "metadata": {},
   "outputs": [
    {
     "data": {
      "text/plain": [
       "['grey', 'gray', 'groy', 'gruy', 'grpy']"
      ]
     },
     "execution_count": 13,
     "metadata": {},
     "output_type": "execute_result"
    }
   ],
   "source": [
    "string1 = 'grey gray grAy graAy graay greay graey groy gruy grpy'\n",
    "pattern1 = 'gr[a-z]y'\n",
    "\n",
    "re.findall(pattern=pattern1, string=string1)"
   ]
  },
  {
   "cell_type": "code",
   "execution_count": 14,
   "metadata": {},
   "outputs": [
    {
     "data": {
      "text/plain": [
       "['grAy']"
      ]
     },
     "execution_count": 14,
     "metadata": {},
     "output_type": "execute_result"
    }
   ],
   "source": [
    "string1 = 'grey gray grAy graAy graay greay graey groy gruy grpy'\n",
    "pattern1 = 'gr[A-Z]y'\n",
    "\n",
    "re.findall(pattern=pattern1, string=string1)"
   ]
  },
  {
   "cell_type": "code",
   "execution_count": 15,
   "metadata": {},
   "outputs": [
    {
     "data": {
      "text/plain": [
       "['grey', 'gray', 'grAy', 'groy', 'gruy', 'grpy']"
      ]
     },
     "execution_count": 15,
     "metadata": {},
     "output_type": "execute_result"
    }
   ],
   "source": [
    "string1 = 'grey gray grAy graAy graay greay graey groy gruy grpy'\n",
    "pattern1 = 'gr[A-Za-z]y'\n",
    "\n",
    "re.findall(pattern=pattern1, string=string1)"
   ]
  },
  {
   "cell_type": "code",
   "execution_count": 17,
   "metadata": {},
   "outputs": [
    {
     "data": {
      "text/plain": [
       "['grey', 'gr_y', 'gray', 'groy', 'gruy', 'grpy']"
      ]
     },
     "execution_count": 17,
     "metadata": {},
     "output_type": "execute_result"
    }
   ],
   "source": [
    "string1 = 'grey gr_y gray grAy graAy graay greay graey groy gruy grpy'\n",
    "pattern1 = 'gr[a-z_]y'\n",
    "\n",
    "re.findall(pattern=pattern1, string=string1)"
   ]
  },
  {
   "cell_type": "code",
   "execution_count": 18,
   "metadata": {},
   "outputs": [
    {
     "data": {
      "text/plain": [
       "['grey', 'gr_y', 'gray', 'grAy', 'groy', 'gruy', 'grpy']"
      ]
     },
     "execution_count": 18,
     "metadata": {},
     "output_type": "execute_result"
    }
   ],
   "source": [
    "string1 = 'grey gr_y gray grAy graAy graay greay graey groy gruy grpy'\n",
    "pattern1 = 'gr[\\w]y'\n",
    "\n",
    "re.findall(pattern=pattern1, string=string1)"
   ]
  },
  {
   "cell_type": "code",
   "execution_count": 20,
   "metadata": {},
   "outputs": [
    {
     "data": {
      "text/plain": [
       "['grey', 'gr,y', 'gr_y', 'gray', 'grAy', 'groy', 'gruy', 'grpy']"
      ]
     },
     "execution_count": 20,
     "metadata": {},
     "output_type": "execute_result"
    }
   ],
   "source": [
    "string1 = 'grey gr,y gr_y gray grAy graAy graay greay graey groy gruy grpy'\n",
    "pattern1 = 'gr.y'\n",
    "\n",
    "re.findall(pattern=pattern1, string=string1)"
   ]
  },
  {
   "cell_type": "code",
   "execution_count": 23,
   "metadata": {},
   "outputs": [
    {
     "data": {
      "text/plain": [
       "['XRA 000', '1AA 1AA', '2BI 19_']"
      ]
     },
     "execution_count": 23,
     "metadata": {},
     "output_type": "execute_result"
    }
   ],
   "source": [
    "string1 = 'XRA 000, 1AA 1AA 2BI 19_'\n",
    "pattern1 = '[\\w][A-Z][A-Z]\\s[0-9][\\w][\\w]'\n",
    "\n",
    "re.findall(pattern=pattern1, string=string1)"
   ]
  },
  {
   "cell_type": "code",
   "execution_count": 28,
   "metadata": {},
   "outputs": [
    {
     "data": {
      "text/plain": [
       "['XRA 0_0', '1AA 1AA', '2BI 19_']"
      ]
     },
     "execution_count": 28,
     "metadata": {},
     "output_type": "execute_result"
    }
   ],
   "source": [
    "string1 = 'XRA 0_0, 1AA 1AA 2BI 19_'\n",
    "pattern1 = '[A-Z0-9][A-Z]{2}\\s[\\d][\\w]{2}'\n",
    "\n",
    "re.findall(pattern=pattern1, string=string1)"
   ]
  },
  {
   "cell_type": "code",
   "execution_count": 34,
   "metadata": {},
   "outputs": [
    {
     "data": {
      "text/plain": [
       "['XRA 0_0', '1AA 1AA', '2BI 19_']"
      ]
     },
     "execution_count": 34,
     "metadata": {},
     "output_type": "execute_result"
    }
   ],
   "source": [
    "string1 = 'XRA 0_0, 1AA 1AA 2BI 19_'\n",
    "pattern1 = '\\w{3}\\s\\w{3}'\n",
    "\n",
    "re.findall(pattern=pattern1, string=string1)"
   ]
  },
  {
   "cell_type": "code",
   "execution_count": 29,
   "metadata": {},
   "outputs": [
    {
     "data": {
      "text/plain": [
       "['1', '2', '3', '4', '5', '6', '7', '8', '9']"
      ]
     },
     "execution_count": 29,
     "metadata": {},
     "output_type": "execute_result"
    }
   ],
   "source": [
    "string1 = '123456789'\n",
    "pattern1 = '\\d'\n",
    "\n",
    "re.findall(pattern=pattern1, string=string1)"
   ]
  },
  {
   "cell_type": "code",
   "execution_count": 30,
   "metadata": {},
   "outputs": [
    {
     "data": {
      "text/plain": [
       "['123456789']"
      ]
     },
     "execution_count": 30,
     "metadata": {},
     "output_type": "execute_result"
    }
   ],
   "source": [
    "string1 = '123456789'\n",
    "pattern1 = '\\d+'\n",
    "\n",
    "re.findall(pattern=pattern1, string=string1)"
   ]
  },
  {
   "cell_type": "code",
   "execution_count": 31,
   "metadata": {},
   "outputs": [
    {
     "data": {
      "text/plain": [
       "['12', '34', '56', '78']"
      ]
     },
     "execution_count": 31,
     "metadata": {},
     "output_type": "execute_result"
    }
   ],
   "source": [
    "string1 = '123456789'\n",
    "pattern1 = '\\d{2}'\n",
    "\n",
    "re.findall(pattern=pattern1, string=string1)"
   ]
  },
  {
   "cell_type": "code",
   "execution_count": 33,
   "metadata": {},
   "outputs": [
    {
     "data": {
      "text/plain": [
       "['123456789']"
      ]
     },
     "execution_count": 33,
     "metadata": {},
     "output_type": "execute_result"
    }
   ],
   "source": [
    "string1 = '123456789'\n",
    "pattern1 = '\\d{9}'\n",
    "\n",
    "re.findall(pattern=pattern1, string=string1)"
   ]
  },
  {
   "cell_type": "code",
   "execution_count": 36,
   "metadata": {},
   "outputs": [
    {
     "data": {
      "text/plain": [
       "['bog', 'dog']"
      ]
     },
     "execution_count": 36,
     "metadata": {},
     "output_type": "execute_result"
    }
   ],
   "source": [
    "string1 = 'hog bog dog thog'\n",
    "pattern1 = '[^h]og' #yang bukan h\n",
    "\n",
    "re.findall(pattern=pattern1, string=string1)"
   ]
  },
  {
   "cell_type": "code",
   "execution_count": 4,
   "metadata": {},
   "outputs": [
    {
     "data": {
      "text/plain": [
       "['@og']"
      ]
     },
     "execution_count": 4,
     "metadata": {},
     "output_type": "execute_result"
    }
   ],
   "source": [
    "string1 = '@og bog dog thog'\n",
    "pattern1 = '[^\\w]og' #yang bukan alphanumeric\n",
    "\n",
    "re.findall(pattern=pattern1, string=string1)"
   ]
  },
  {
   "cell_type": "code",
   "execution_count": 7,
   "metadata": {},
   "outputs": [
    {
     "data": {
      "text/plain": [
       "['ooops', 'ooooops', 'oooooops']"
      ]
     },
     "execution_count": 7,
     "metadata": {},
     "output_type": "execute_result"
    }
   ],
   "source": [
    "string1 = 'oops ooops ooooops oooooops'\n",
    "pattern1 = 'oooo*ps'\n",
    "re.findall(pattern=pattern1, string=string1)"
   ]
  },
  {
   "cell_type": "code",
   "execution_count": 10,
   "metadata": {},
   "outputs": [
    {
     "data": {
      "text/plain": [
       "['ooops', 'ooooops', 'oooooops']"
      ]
     },
     "execution_count": 10,
     "metadata": {},
     "output_type": "execute_result"
    }
   ],
   "source": [
    "string1 = 'oops ooops ooooops oooooops'\n",
    "pattern1 = 'ooo+ps'\n",
    "re.findall(pattern=pattern1, string=string1)"
   ]
  },
  {
   "cell_type": "code",
   "execution_count": 11,
   "metadata": {},
   "outputs": [
    {
     "data": {
      "text/plain": [
       "['2018', '09', '18', '2018', '09', '39', '9000']"
      ]
     },
     "execution_count": 11,
     "metadata": {},
     "output_type": "execute_result"
    }
   ],
   "source": [
    "string1 = '2018_09 18_8 201809_39 8_9000'\n",
    "pattern1 = '\\d{2,4}'\n",
    "re.findall(pattern=pattern1, string=string1)"
   ]
  },
  {
   "cell_type": "code",
   "execution_count": 12,
   "metadata": {},
   "outputs": [
    {
     "data": {
      "text/plain": [
       "['2018_09', '18_8', '201809_39', '8_9000']"
      ]
     },
     "execution_count": 12,
     "metadata": {},
     "output_type": "execute_result"
    }
   ],
   "source": [
    "string1 = '2018_09 18_8 201809_39 8_9000'\n",
    "pattern1 = '\\d{1,6}_\\d{1,4}'\n",
    "re.findall(pattern=pattern1, string=string1)"
   ]
  },
  {
   "cell_type": "code",
   "execution_count": null,
   "metadata": {},
   "outputs": [],
   "source": [
    "string1 = '2018_09 18_8 201809_39 8_9000'\n",
    "pattern1 = '\\d{1,6}_\\d{1,4}'\n",
    "re.findall(pattern=pattern1, string=string1)"
   ]
  },
  {
   "cell_type": "code",
   "execution_count": 15,
   "metadata": {},
   "outputs": [
    {
     "data": {
      "text/plain": [
       "['abc', 'abc', 'abc', 'abc', 'abc']"
      ]
     },
     "execution_count": 15,
     "metadata": {},
     "output_type": "execute_result"
    }
   ],
   "source": [
    "string1 = 'abc abcc abccc abcabc'\n",
    "pattern1 = '(abc)' #grouping\n",
    "re.findall(pattern=pattern1, string=string1)"
   ]
  },
  {
   "cell_type": "code",
   "execution_count": 16,
   "metadata": {},
   "outputs": [
    {
     "data": {
      "text/plain": [
       "['abc', 'abc', 'abc', 'abc']"
      ]
     },
     "execution_count": 16,
     "metadata": {},
     "output_type": "execute_result"
    }
   ],
   "source": [
    "string1 = 'abc abcc abccc abcabc'\n",
    "pattern1 = '(abc)+' #grouping\n",
    "re.findall(pattern=pattern1, string=string1)"
   ]
  },
  {
   "cell_type": "code",
   "execution_count": 17,
   "metadata": {},
   "outputs": [
    {
     "data": {
      "text/plain": [
       "['abc', 'abc', 'abc', 'abcabc']"
      ]
     },
     "execution_count": 17,
     "metadata": {},
     "output_type": "execute_result"
    }
   ],
   "source": [
    "string1 = 'abc abcc abccc abcabc'\n",
    "pattern1 = '(?:abc)+' #match everithing in string\n",
    "re.findall(pattern=pattern1, string=string1)"
   ]
  },
  {
   "cell_type": "code",
   "execution_count": 18,
   "metadata": {},
   "outputs": [
    {
     "data": {
      "text/plain": [
       "['jati', 'jati', 'jati']"
      ]
     },
     "execution_count": 18,
     "metadata": {},
     "output_type": "execute_result"
    }
   ],
   "source": [
    "string1 = 'jatiawam jatinasgor jatijati'\n",
    "pattern1 = '(jati)+' #match everithing in string\n",
    "re.findall(pattern=pattern1, string=string1)"
   ]
  },
  {
   "cell_type": "code",
   "execution_count": 20,
   "metadata": {},
   "outputs": [
    {
     "data": {
      "text/plain": [
       "['jati', 'jati', 'jati', 'jati']"
      ]
     },
     "execution_count": 20,
     "metadata": {},
     "output_type": "execute_result"
    }
   ],
   "source": [
    "string1 = 'jatiawam jatinasgor jatijati'\n",
    "pattern1 = 'jati+' #match everithing in string\n",
    "re.findall(pattern=pattern1, string=string1)"
   ]
  },
  {
   "cell_type": "code",
   "execution_count": 19,
   "metadata": {},
   "outputs": [
    {
     "data": {
      "text/plain": [
       "['jati', 'jati', 'jati', 'jati']"
      ]
     },
     "execution_count": 19,
     "metadata": {},
     "output_type": "execute_result"
    }
   ],
   "source": [
    "string1 = 'jatiawam jatinasgor jatijati'\n",
    "pattern1 = '(jati)' #match everithing in string\n",
    "re.findall(pattern=pattern1, string=string1)"
   ]
  },
  {
   "cell_type": "code",
   "execution_count": 21,
   "metadata": {},
   "outputs": [
    {
     "data": {
      "text/plain": [
       "['jati', 'jati', 'jatijati']"
      ]
     },
     "execution_count": 21,
     "metadata": {},
     "output_type": "execute_result"
    }
   ],
   "source": [
    "string1 = 'jatiawam jatinasgor jatijati'\n",
    "pattern1 = '(?:jati)+' #match everithing in string\n",
    "re.findall(pattern=pattern1, string=string1)"
   ]
  },
  {
   "cell_type": "code",
   "execution_count": 22,
   "metadata": {},
   "outputs": [
    {
     "data": {
      "text/plain": [
       "['jatiawam jatinasgor jatijati']"
      ]
     },
     "execution_count": 22,
     "metadata": {},
     "output_type": "execute_result"
    }
   ],
   "source": [
    "string1 = 'jatiawam jatinasgor jatijati'\n",
    "pattern1 = '(?:jati).+' #match everithing in string\n",
    "re.findall(pattern=pattern1, string=string1)"
   ]
  }
 ],
 "metadata": {
  "kernelspec": {
   "display_name": "base",
   "language": "python",
   "name": "python3"
  },
  "language_info": {
   "codemirror_mode": {
    "name": "ipython",
    "version": 3
   },
   "file_extension": ".py",
   "mimetype": "text/x-python",
   "name": "python",
   "nbconvert_exporter": "python",
   "pygments_lexer": "ipython3",
   "version": "3.11.7"
  }
 },
 "nbformat": 4,
 "nbformat_minor": 2
}
